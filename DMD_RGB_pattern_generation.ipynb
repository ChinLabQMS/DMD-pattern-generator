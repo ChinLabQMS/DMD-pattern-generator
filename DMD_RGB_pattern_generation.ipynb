{
 "cells": [
  {
   "cell_type": "markdown",
   "metadata": {},
   "source": [
    "## Generate patterns on an RGB frame\n",
    "### Setup"
   ]
  },
  {
   "cell_type": "code",
   "execution_count": 1,
   "metadata": {},
   "outputs": [
    {
     "data": {
      "text/plain": [
       "(1140, 912, 1482, 1481)"
      ]
     },
     "execution_count": 1,
     "metadata": {},
     "output_type": "execute_result"
    }
   ],
   "source": [
    "from utils import ColorFrame, Painter\n",
    "from itertools import product\n",
    "\n",
    "save_dir = 'resources/'\n",
    "\n",
    "dmd = ColorFrame()\n",
    "painter = Painter()\n",
    "dmd.dmd_nrows, dmd.dmd_ncols, dmd.real_nrows, dmd.real_ncols"
   ]
  },
  {
   "cell_type": "markdown",
   "metadata": {},
   "source": [
    "### Generate and save solid color template image in real space\n",
    "#### Solid color test pattern"
   ]
  },
  {
   "cell_type": "code",
   "execution_count": 2,
   "metadata": {},
   "outputs": [
    {
     "name": "stdout",
     "output_type": "stream",
     "text": [
      "DMD pattern saved as: .\\resources\\solid\\white.bmp\n",
      "Template image saved as: .\\resources\\solid\\template\\white.bmp\n",
      "DMD pattern saved as: .\\resources\\solid\\black.bmp\n",
      "Template image saved as: .\\resources\\solid\\template\\black.bmp\n",
      "DMD pattern saved as: .\\resources\\solid\\red.bmp\n",
      "Template image saved as: .\\resources\\solid\\template\\red.bmp\n",
      "DMD pattern saved as: .\\resources\\solid\\green.bmp\n",
      "Template image saved as: .\\resources\\solid\\template\\green.bmp\n",
      "DMD pattern saved as: .\\resources\\solid\\blue.bmp\n",
      "Template image saved as: .\\resources\\solid\\template\\blue.bmp\n",
      "DMD pattern saved as: .\\resources\\solid\\gray_10101010.bmp\n",
      "Template image saved as: .\\resources\\solid\\template\\gray_10101010.bmp\n",
      "DMD pattern saved as: .\\resources\\solid\\gray_01010101.bmp\n",
      "Template image saved as: .\\resources\\solid\\template\\gray_01010101.bmp\n",
      "DMD pattern saved as: .\\resources\\solid\\gray_00110011.bmp\n",
      "Template image saved as: .\\resources\\solid\\template\\gray_00110011.bmp\n",
      "DMD pattern saved as: .\\resources\\solid\\gray_00010001.bmp\n",
      "Template image saved as: .\\resources\\solid\\template\\gray_00010001.bmp\n"
     ]
    }
   ],
   "source": [
    "filename = f'white.bmp'\n",
    "dmd.setRealArray(color=1)\n",
    "dmd.saveFrameToFile(save_dir + 'solid/', filename)\n",
    "\n",
    "filename = f'black.bmp'\n",
    "dmd.setRealArray(color=0)\n",
    "dmd.saveFrameToFile(save_dir + 'solid/', filename)\n",
    "\n",
    "filename = f'red.bmp'\n",
    "dmd.setRealArray(color=[255, 0, 0])\n",
    "dmd.saveFrameToFile(save_dir + 'solid/', filename)\n",
    "\n",
    "filename = f'green.bmp'\n",
    "dmd.setRealArray(color=[0, 255, 0])\n",
    "dmd.saveFrameToFile(save_dir + 'solid/', filename)\n",
    "\n",
    "filename = f'blue.bmp'\n",
    "dmd.setRealArray(color=[0, 0, 255])\n",
    "dmd.saveFrameToFile(save_dir + 'solid/', filename)\n",
    "\n",
    "filename = f'gray_10101010.bmp'\n",
    "dmd.setRealArray(color=[0b10101010] * 3)\n",
    "dmd.saveFrameToFile(save_dir + 'solid/', filename)\n",
    "\n",
    "filename = f'gray_01010101.bmp'\n",
    "dmd.setRealArray(color=[0b01010101] * 3)\n",
    "dmd.saveFrameToFile(save_dir + 'solid/', filename)\n",
    "\n",
    "filename = f'gray_00110011.bmp'\n",
    "dmd.setRealArray(color=[0b00110011] * 3)\n",
    "dmd.saveFrameToFile(save_dir + 'solid/', filename)\n",
    "\n",
    "filename = f'gray_00010001.bmp'\n",
    "dmd.setRealArray(color=[0b00010001] * 3)\n",
    "dmd.saveFrameToFile(save_dir + 'solid/', filename)"
   ]
  },
  {
   "cell_type": "markdown",
   "metadata": {},
   "source": [
    "#### RGB color pattern"
   ]
  },
  {
   "cell_type": "code",
   "execution_count": 3,
   "metadata": {},
   "outputs": [
    {
     "name": "stdout",
     "output_type": "stream",
     "text": [
      "DMD pattern saved as: .\\resources\\solid\\RGB_r-10000000_g-11000000_b-11100000.bmp\n",
      "Template image saved as: .\\resources\\solid\\template\\RGB_r-10000000_g-11000000_b-11100000.bmp\n"
     ]
    }
   ],
   "source": [
    "r = '10000000'\n",
    "g = '11000000'\n",
    "b = '11100000'\n",
    "\n",
    "filename = f'RGB_r-{r}_g-{g}_b-{b}.bmp'\n",
    "dmd.setRealArray(color=[int(r, 2), int(g, 2), int(b, 2)])\n",
    "dmd.saveFrameToFile(save_dir + 'solid/', filename)"
   ]
  },
  {
   "cell_type": "markdown",
   "metadata": {},
   "source": [
    "### Generate RGB Text pattern\n"
   ]
  },
  {
   "cell_type": "code",
   "execution_count": 4,
   "metadata": {},
   "outputs": [
    {
     "name": "stdout",
     "output_type": "stream",
     "text": [
      "DMD pattern saved as: .\\resources\\text\\RGB.bmp\n",
      "Template image saved as: .\\resources\\text\\template\\RGB.bmp\n"
     ]
    }
   ],
   "source": [
    "dmd.drawPattern(painter.drawText('R', offset=(-200, 0), font_size=200), color=(255, 0, 0), template_color=0)\n",
    "dmd.drawPattern(painter.drawText('G', font_size=200), color=(0, 255, 0), template_color=0, reset=False)\n",
    "dmd.drawPattern(painter.drawText('B', offset=(200, 0), font_size=200), color=(0, 0, 255), template_color=0, reset=False)\n",
    "dmd.saveFrameToFile(save_dir + 'text/', 'RGB.bmp')"
   ]
  },
  {
   "cell_type": "markdown",
   "metadata": {},
   "source": [
    "### Generate shaped patterns"
   ]
  },
  {
   "cell_type": "markdown",
   "metadata": {},
   "source": [
    "#### Generate bright circle patterns on a dark background"
   ]
  },
  {
   "cell_type": "code",
   "execution_count": 5,
   "metadata": {},
   "outputs": [
    {
     "name": "stdout",
     "output_type": "stream",
     "text": [
      "DMD pattern saved as: .\\resources\\pattern\\bright_circle\\bright_circle_r-0.5_offset-0x0.bmp\n",
      "Template image saved as: .\\resources\\pattern\\bright_circle\\template\\bright_circle_r-0.5_offset-0x0.bmp\n",
      "DMD pattern saved as: .\\resources\\pattern\\bright_circle\\bright_circle_r-2_offset-0x0.bmp\n",
      "Template image saved as: .\\resources\\pattern\\bright_circle\\template\\bright_circle_r-2_offset-0x0.bmp\n",
      "DMD pattern saved as: .\\resources\\pattern\\bright_circle\\bright_circle_r-5_offset-0x0.bmp\n",
      "Template image saved as: .\\resources\\pattern\\bright_circle\\template\\bright_circle_r-5_offset-0x0.bmp\n",
      "DMD pattern saved as: .\\resources\\pattern\\bright_circle\\bright_circle_r-10_offset-0x0.bmp\n",
      "Template image saved as: .\\resources\\pattern\\bright_circle\\template\\bright_circle_r-10_offset-0x0.bmp\n",
      "DMD pattern saved as: .\\resources\\pattern\\bright_circle\\bright_circle_r-20_offset-0x0.bmp\n",
      "Template image saved as: .\\resources\\pattern\\bright_circle\\template\\bright_circle_r-20_offset-0x0.bmp\n",
      "DMD pattern saved as: .\\resources\\pattern\\bright_circle\\bright_circle_r-50_offset-0x0.bmp\n",
      "Template image saved as: .\\resources\\pattern\\bright_circle\\template\\bright_circle_r-50_offset-0x0.bmp\n",
      "DMD pattern saved as: .\\resources\\pattern\\bright_circle\\bright_circle_r-100_offset-0x0.bmp\n",
      "Template image saved as: .\\resources\\pattern\\bright_circle\\template\\bright_circle_r-100_offset-0x0.bmp\n",
      "DMD pattern saved as: .\\resources\\pattern\\bright_circle\\bright_circle_r-200_offset-0x0.bmp\n",
      "Template image saved as: .\\resources\\pattern\\bright_circle\\template\\bright_circle_r-200_offset-0x0.bmp\n",
      "DMD pattern saved as: .\\resources\\pattern\\bright_circle\\bright_circle_r-400_offset-0x0.bmp\n",
      "Template image saved as: .\\resources\\pattern\\bright_circle\\template\\bright_circle_r-400_offset-0x0.bmp\n"
     ]
    }
   ],
   "source": [
    "radius = [0.5, 2, 5, 10, 20, 50, 100, 200, 400]\n",
    "\n",
    "for r in radius:\n",
    "    filename = f'bright_circle_r-{r}_offset-0x0.bmp'\n",
    "\n",
    "    dmd.drawPattern(painter.drawCircle(radius=r), color=1)\n",
    "    dmd.saveFrameToFile(save_dir + f'pattern/bright_circle/', filename)"
   ]
  },
  {
   "cell_type": "markdown",
   "metadata": {},
   "source": [
    "#### Generate dark circle patterns on a bright background"
   ]
  },
  {
   "cell_type": "code",
   "execution_count": 6,
   "metadata": {},
   "outputs": [
    {
     "name": "stdout",
     "output_type": "stream",
     "text": [
      "DMD pattern saved as: .\\resources\\pattern\\dark_circle\\dark_circle_r-0.5_offset-0x0.bmp\n",
      "Template image saved as: .\\resources\\pattern\\dark_circle\\template\\dark_circle_r-0.5_offset-0x0.bmp\n",
      "DMD pattern saved as: .\\resources\\pattern\\dark_circle\\dark_circle_r-2_offset-0x0.bmp\n",
      "Template image saved as: .\\resources\\pattern\\dark_circle\\template\\dark_circle_r-2_offset-0x0.bmp\n",
      "DMD pattern saved as: .\\resources\\pattern\\dark_circle\\dark_circle_r-5_offset-0x0.bmp\n",
      "Template image saved as: .\\resources\\pattern\\dark_circle\\template\\dark_circle_r-5_offset-0x0.bmp\n",
      "DMD pattern saved as: .\\resources\\pattern\\dark_circle\\dark_circle_r-10_offset-0x0.bmp\n",
      "Template image saved as: .\\resources\\pattern\\dark_circle\\template\\dark_circle_r-10_offset-0x0.bmp\n",
      "DMD pattern saved as: .\\resources\\pattern\\dark_circle\\dark_circle_r-20_offset-0x0.bmp\n",
      "Template image saved as: .\\resources\\pattern\\dark_circle\\template\\dark_circle_r-20_offset-0x0.bmp\n",
      "DMD pattern saved as: .\\resources\\pattern\\dark_circle\\dark_circle_r-50_offset-0x0.bmp\n",
      "Template image saved as: .\\resources\\pattern\\dark_circle\\template\\dark_circle_r-50_offset-0x0.bmp\n",
      "DMD pattern saved as: .\\resources\\pattern\\dark_circle\\dark_circle_r-100_offset-0x0.bmp\n",
      "Template image saved as: .\\resources\\pattern\\dark_circle\\template\\dark_circle_r-100_offset-0x0.bmp\n",
      "DMD pattern saved as: .\\resources\\pattern\\dark_circle\\dark_circle_r-200_offset-0x0.bmp\n",
      "Template image saved as: .\\resources\\pattern\\dark_circle\\template\\dark_circle_r-200_offset-0x0.bmp\n",
      "DMD pattern saved as: .\\resources\\pattern\\dark_circle\\dark_circle_r-400_offset-0x0.bmp\n",
      "Template image saved as: .\\resources\\pattern\\dark_circle\\template\\dark_circle_r-400_offset-0x0.bmp\n"
     ]
    }
   ],
   "source": [
    "radius = [0.5, 2, 5, 10, 20, 50, 100, 200, 400]\n",
    "\n",
    "for r in radius:\n",
    "    filename = f'dark_circle_r-{r}_offset-0x0.bmp'\n",
    "\n",
    "    dmd.drawPattern(painter.drawCircle(radius=r), color=0)\n",
    "    dmd.saveFrameToFile(save_dir + f'pattern/dark_circle/', filename)"
   ]
  },
  {
   "cell_type": "markdown",
   "metadata": {},
   "source": [
    "#### Generate gray circle patterns on a dark background"
   ]
  },
  {
   "cell_type": "code",
   "execution_count": 7,
   "metadata": {},
   "outputs": [
    {
     "name": "stdout",
     "output_type": "stream",
     "text": [
      "DMD pattern saved as: .\\resources\\pattern\\gray_circle_dark_background\\gray_circle_r-0.5.bmp\n",
      "Template image saved as: .\\resources\\pattern\\gray_circle_dark_background\\template\\gray_circle_r-0.5.bmp\n",
      "DMD pattern saved as: .\\resources\\pattern\\gray_circle_dark_background\\gray_circle_r-2.bmp\n",
      "Template image saved as: .\\resources\\pattern\\gray_circle_dark_background\\template\\gray_circle_r-2.bmp\n",
      "DMD pattern saved as: .\\resources\\pattern\\gray_circle_dark_background\\gray_circle_r-5.bmp\n",
      "Template image saved as: .\\resources\\pattern\\gray_circle_dark_background\\template\\gray_circle_r-5.bmp\n",
      "DMD pattern saved as: .\\resources\\pattern\\gray_circle_dark_background\\gray_circle_r-10.bmp\n",
      "Template image saved as: .\\resources\\pattern\\gray_circle_dark_background\\template\\gray_circle_r-10.bmp\n",
      "DMD pattern saved as: .\\resources\\pattern\\gray_circle_dark_background\\gray_circle_r-20.bmp\n",
      "Template image saved as: .\\resources\\pattern\\gray_circle_dark_background\\template\\gray_circle_r-20.bmp\n",
      "DMD pattern saved as: .\\resources\\pattern\\gray_circle_dark_background\\gray_circle_r-50.bmp\n",
      "Template image saved as: .\\resources\\pattern\\gray_circle_dark_background\\template\\gray_circle_r-50.bmp\n",
      "DMD pattern saved as: .\\resources\\pattern\\gray_circle_dark_background\\gray_circle_r-100.bmp\n",
      "Template image saved as: .\\resources\\pattern\\gray_circle_dark_background\\template\\gray_circle_r-100.bmp\n",
      "DMD pattern saved as: .\\resources\\pattern\\gray_circle_dark_background\\gray_circle_r-200.bmp\n",
      "Template image saved as: .\\resources\\pattern\\gray_circle_dark_background\\template\\gray_circle_r-200.bmp\n",
      "DMD pattern saved as: .\\resources\\pattern\\gray_circle_dark_background\\gray_circle_r-400.bmp\n",
      "Template image saved as: .\\resources\\pattern\\gray_circle_dark_background\\template\\gray_circle_r-400.bmp\n"
     ]
    }
   ],
   "source": [
    "radius = [0.5, 2, 5, 10, 20, 50, 100, 200, 400]\n",
    "\n",
    "for r in radius:\n",
    "    filename = f'gray_circle_r-{r}.bmp'\n",
    "\n",
    "    dmd.drawPattern(painter.drawCircle(radius=r), color=0b10101010, template_color=0)\n",
    "    dmd.saveFrameToFile(save_dir + f'pattern/gray_circle_dark_background/', filename)"
   ]
  },
  {
   "cell_type": "markdown",
   "metadata": {},
   "source": [
    "#### Generate dark circle patterns on a gray background"
   ]
  },
  {
   "cell_type": "code",
   "execution_count": 8,
   "metadata": {},
   "outputs": [
    {
     "name": "stdout",
     "output_type": "stream",
     "text": [
      "DMD pattern saved as: .\\resources\\pattern\\dark_circle_gray_background\\dark_circle_r-0.5.bmp\n",
      "Template image saved as: .\\resources\\pattern\\dark_circle_gray_background\\template\\dark_circle_r-0.5.bmp\n",
      "DMD pattern saved as: .\\resources\\pattern\\dark_circle_gray_background\\dark_circle_r-2.bmp\n",
      "Template image saved as: .\\resources\\pattern\\dark_circle_gray_background\\template\\dark_circle_r-2.bmp\n",
      "DMD pattern saved as: .\\resources\\pattern\\dark_circle_gray_background\\dark_circle_r-5.bmp\n",
      "Template image saved as: .\\resources\\pattern\\dark_circle_gray_background\\template\\dark_circle_r-5.bmp\n",
      "DMD pattern saved as: .\\resources\\pattern\\dark_circle_gray_background\\dark_circle_r-10.bmp\n",
      "Template image saved as: .\\resources\\pattern\\dark_circle_gray_background\\template\\dark_circle_r-10.bmp\n",
      "DMD pattern saved as: .\\resources\\pattern\\dark_circle_gray_background\\dark_circle_r-20.bmp\n",
      "Template image saved as: .\\resources\\pattern\\dark_circle_gray_background\\template\\dark_circle_r-20.bmp\n",
      "DMD pattern saved as: .\\resources\\pattern\\dark_circle_gray_background\\dark_circle_r-50.bmp\n",
      "Template image saved as: .\\resources\\pattern\\dark_circle_gray_background\\template\\dark_circle_r-50.bmp\n",
      "DMD pattern saved as: .\\resources\\pattern\\dark_circle_gray_background\\dark_circle_r-100.bmp\n",
      "Template image saved as: .\\resources\\pattern\\dark_circle_gray_background\\template\\dark_circle_r-100.bmp\n",
      "DMD pattern saved as: .\\resources\\pattern\\dark_circle_gray_background\\dark_circle_r-200.bmp\n",
      "Template image saved as: .\\resources\\pattern\\dark_circle_gray_background\\template\\dark_circle_r-200.bmp\n",
      "DMD pattern saved as: .\\resources\\pattern\\dark_circle_gray_background\\dark_circle_r-400.bmp\n",
      "Template image saved as: .\\resources\\pattern\\dark_circle_gray_background\\template\\dark_circle_r-400.bmp\n"
     ]
    }
   ],
   "source": [
    "radius = [0.5, 2, 5, 10, 20, 50, 100, 200, 400]\n",
    "\n",
    "for r in radius:\n",
    "    filename = f'dark_circle_r-{r}.bmp'\n",
    "\n",
    "    dmd.drawPattern(painter.drawCircle(radius=r), color=0, template_color=0b10101010)\n",
    "    dmd.saveFrameToFile(save_dir + f'pattern/dark_circle_gray_background/', filename)"
   ]
  },
  {
   "cell_type": "markdown",
   "metadata": {},
   "source": [
    "#### Generate buffered dark circle patterns on a gray background"
   ]
  },
  {
   "cell_type": "code",
   "execution_count": 9,
   "metadata": {},
   "outputs": [
    {
     "name": "stdout",
     "output_type": "stream",
     "text": [
      "DMD pattern saved as: .\\resources\\pattern\\dark_circle_gray_background\\white_buffer-5\\dark_circle_r-0.5.bmp\n",
      "Template image saved as: .\\resources\\pattern\\dark_circle_gray_background\\white_buffer-5\\template\\dark_circle_r-0.5.bmp\n",
      "DMD pattern saved as: .\\resources\\pattern\\dark_circle_gray_background\\white_buffer-5\\dark_circle_r-2.bmp\n",
      "Template image saved as: .\\resources\\pattern\\dark_circle_gray_background\\white_buffer-5\\template\\dark_circle_r-2.bmp\n",
      "DMD pattern saved as: .\\resources\\pattern\\dark_circle_gray_background\\white_buffer-5\\dark_circle_r-5.bmp\n",
      "Template image saved as: .\\resources\\pattern\\dark_circle_gray_background\\white_buffer-5\\template\\dark_circle_r-5.bmp\n",
      "DMD pattern saved as: .\\resources\\pattern\\dark_circle_gray_background\\white_buffer-5\\dark_circle_r-10.bmp\n",
      "Template image saved as: .\\resources\\pattern\\dark_circle_gray_background\\white_buffer-5\\template\\dark_circle_r-10.bmp\n",
      "DMD pattern saved as: .\\resources\\pattern\\dark_circle_gray_background\\white_buffer-5\\dark_circle_r-20.bmp\n",
      "Template image saved as: .\\resources\\pattern\\dark_circle_gray_background\\white_buffer-5\\template\\dark_circle_r-20.bmp\n",
      "DMD pattern saved as: .\\resources\\pattern\\dark_circle_gray_background\\white_buffer-5\\dark_circle_r-50.bmp\n",
      "Template image saved as: .\\resources\\pattern\\dark_circle_gray_background\\white_buffer-5\\template\\dark_circle_r-50.bmp\n",
      "DMD pattern saved as: .\\resources\\pattern\\dark_circle_gray_background\\white_buffer-5\\dark_circle_r-100.bmp\n",
      "Template image saved as: .\\resources\\pattern\\dark_circle_gray_background\\white_buffer-5\\template\\dark_circle_r-100.bmp\n",
      "DMD pattern saved as: .\\resources\\pattern\\dark_circle_gray_background\\white_buffer-5\\dark_circle_r-200.bmp\n",
      "Template image saved as: .\\resources\\pattern\\dark_circle_gray_background\\white_buffer-5\\template\\dark_circle_r-200.bmp\n",
      "DMD pattern saved as: .\\resources\\pattern\\dark_circle_gray_background\\white_buffer-5\\dark_circle_r-400.bmp\n",
      "Template image saved as: .\\resources\\pattern\\dark_circle_gray_background\\white_buffer-5\\template\\dark_circle_r-400.bmp\n",
      "DMD pattern saved as: .\\resources\\pattern\\dark_circle_gray_background\\white_buffer-10\\dark_circle_r-0.5.bmp\n",
      "Template image saved as: .\\resources\\pattern\\dark_circle_gray_background\\white_buffer-10\\template\\dark_circle_r-0.5.bmp\n",
      "DMD pattern saved as: .\\resources\\pattern\\dark_circle_gray_background\\white_buffer-10\\dark_circle_r-2.bmp\n",
      "Template image saved as: .\\resources\\pattern\\dark_circle_gray_background\\white_buffer-10\\template\\dark_circle_r-2.bmp\n",
      "DMD pattern saved as: .\\resources\\pattern\\dark_circle_gray_background\\white_buffer-10\\dark_circle_r-5.bmp\n",
      "Template image saved as: .\\resources\\pattern\\dark_circle_gray_background\\white_buffer-10\\template\\dark_circle_r-5.bmp\n",
      "DMD pattern saved as: .\\resources\\pattern\\dark_circle_gray_background\\white_buffer-10\\dark_circle_r-10.bmp\n",
      "Template image saved as: .\\resources\\pattern\\dark_circle_gray_background\\white_buffer-10\\template\\dark_circle_r-10.bmp\n",
      "DMD pattern saved as: .\\resources\\pattern\\dark_circle_gray_background\\white_buffer-10\\dark_circle_r-20.bmp\n",
      "Template image saved as: .\\resources\\pattern\\dark_circle_gray_background\\white_buffer-10\\template\\dark_circle_r-20.bmp\n",
      "DMD pattern saved as: .\\resources\\pattern\\dark_circle_gray_background\\white_buffer-10\\dark_circle_r-50.bmp\n",
      "Template image saved as: .\\resources\\pattern\\dark_circle_gray_background\\white_buffer-10\\template\\dark_circle_r-50.bmp\n",
      "DMD pattern saved as: .\\resources\\pattern\\dark_circle_gray_background\\white_buffer-10\\dark_circle_r-100.bmp\n",
      "Template image saved as: .\\resources\\pattern\\dark_circle_gray_background\\white_buffer-10\\template\\dark_circle_r-100.bmp\n",
      "DMD pattern saved as: .\\resources\\pattern\\dark_circle_gray_background\\white_buffer-10\\dark_circle_r-200.bmp\n",
      "Template image saved as: .\\resources\\pattern\\dark_circle_gray_background\\white_buffer-10\\template\\dark_circle_r-200.bmp\n",
      "DMD pattern saved as: .\\resources\\pattern\\dark_circle_gray_background\\white_buffer-10\\dark_circle_r-400.bmp\n",
      "Template image saved as: .\\resources\\pattern\\dark_circle_gray_background\\white_buffer-10\\template\\dark_circle_r-400.bmp\n",
      "DMD pattern saved as: .\\resources\\pattern\\dark_circle_gray_background\\white_buffer-20\\dark_circle_r-0.5.bmp\n",
      "Template image saved as: .\\resources\\pattern\\dark_circle_gray_background\\white_buffer-20\\template\\dark_circle_r-0.5.bmp\n",
      "DMD pattern saved as: .\\resources\\pattern\\dark_circle_gray_background\\white_buffer-20\\dark_circle_r-2.bmp\n",
      "Template image saved as: .\\resources\\pattern\\dark_circle_gray_background\\white_buffer-20\\template\\dark_circle_r-2.bmp\n",
      "DMD pattern saved as: .\\resources\\pattern\\dark_circle_gray_background\\white_buffer-20\\dark_circle_r-5.bmp\n",
      "Template image saved as: .\\resources\\pattern\\dark_circle_gray_background\\white_buffer-20\\template\\dark_circle_r-5.bmp\n",
      "DMD pattern saved as: .\\resources\\pattern\\dark_circle_gray_background\\white_buffer-20\\dark_circle_r-10.bmp\n",
      "Template image saved as: .\\resources\\pattern\\dark_circle_gray_background\\white_buffer-20\\template\\dark_circle_r-10.bmp\n",
      "DMD pattern saved as: .\\resources\\pattern\\dark_circle_gray_background\\white_buffer-20\\dark_circle_r-20.bmp\n",
      "Template image saved as: .\\resources\\pattern\\dark_circle_gray_background\\white_buffer-20\\template\\dark_circle_r-20.bmp\n",
      "DMD pattern saved as: .\\resources\\pattern\\dark_circle_gray_background\\white_buffer-20\\dark_circle_r-50.bmp\n",
      "Template image saved as: .\\resources\\pattern\\dark_circle_gray_background\\white_buffer-20\\template\\dark_circle_r-50.bmp\n",
      "DMD pattern saved as: .\\resources\\pattern\\dark_circle_gray_background\\white_buffer-20\\dark_circle_r-100.bmp\n",
      "Template image saved as: .\\resources\\pattern\\dark_circle_gray_background\\white_buffer-20\\template\\dark_circle_r-100.bmp\n",
      "DMD pattern saved as: .\\resources\\pattern\\dark_circle_gray_background\\white_buffer-20\\dark_circle_r-200.bmp\n",
      "Template image saved as: .\\resources\\pattern\\dark_circle_gray_background\\white_buffer-20\\template\\dark_circle_r-200.bmp\n",
      "DMD pattern saved as: .\\resources\\pattern\\dark_circle_gray_background\\white_buffer-20\\dark_circle_r-400.bmp\n",
      "Template image saved as: .\\resources\\pattern\\dark_circle_gray_background\\white_buffer-20\\template\\dark_circle_r-400.bmp\n"
     ]
    }
   ],
   "source": [
    "radius = [0.5, 2, 5, 10, 20, 50, 100, 200, 400]\n",
    "buffer = [5, 10, 20]\n",
    "\n",
    "for b, r in product(buffer, radius):\n",
    "    filename = f'dark_circle_r-{r}.bmp'\n",
    "\n",
    "    dmd.drawPattern(painter.drawCircle(radius=r + b), color=1, template_color=0b10101010)\n",
    "    dmd.drawPattern(painter.drawCircle(radius=r), color=0, reset=False)\n",
    "    dmd.saveFrameToFile(save_dir + f'pattern/dark_circle_gray_background/white_buffer-{b}/', filename)"
   ]
  },
  {
   "cell_type": "markdown",
   "metadata": {},
   "source": [
    "#### Generate bright arrays of circles on a dark background"
   ]
  },
  {
   "cell_type": "code",
   "execution_count": 10,
   "metadata": {},
   "outputs": [
    {
     "name": "stdout",
     "output_type": "stream",
     "text": [
      "DMD pattern saved as: .\\resources\\pattern\\bright_array_full\\spacing-10\\bright_arrayOfCircle_r-0.5.bmp\n",
      "Template image saved as: .\\resources\\pattern\\bright_array_full\\spacing-10\\template\\bright_arrayOfCircle_r-0.5.bmp\n",
      "DMD pattern saved as: .\\resources\\pattern\\bright_array_full\\spacing-10\\bright_arrayOfCircle_r-1.bmp\n",
      "Template image saved as: .\\resources\\pattern\\bright_array_full\\spacing-10\\template\\bright_arrayOfCircle_r-1.bmp\n",
      "DMD pattern saved as: .\\resources\\pattern\\bright_array_full\\spacing-10\\bright_arrayOfCircle_r-2.bmp\n",
      "Template image saved as: .\\resources\\pattern\\bright_array_full\\spacing-10\\template\\bright_arrayOfCircle_r-2.bmp\n",
      "DMD pattern saved as: .\\resources\\pattern\\bright_array_full\\spacing-10\\bright_arrayOfCircle_r-3.bmp\n",
      "Template image saved as: .\\resources\\pattern\\bright_array_full\\spacing-10\\template\\bright_arrayOfCircle_r-3.bmp\n",
      "DMD pattern saved as: .\\resources\\pattern\\bright_array_full\\spacing-10\\bright_arrayOfCircle_r-4.bmp\n",
      "Template image saved as: .\\resources\\pattern\\bright_array_full\\spacing-10\\template\\bright_arrayOfCircle_r-4.bmp\n",
      "DMD pattern saved as: .\\resources\\pattern\\bright_array_full\\spacing-20\\bright_arrayOfCircle_r-0.5.bmp\n",
      "Template image saved as: .\\resources\\pattern\\bright_array_full\\spacing-20\\template\\bright_arrayOfCircle_r-0.5.bmp\n",
      "DMD pattern saved as: .\\resources\\pattern\\bright_array_full\\spacing-20\\bright_arrayOfCircle_r-1.bmp\n",
      "Template image saved as: .\\resources\\pattern\\bright_array_full\\spacing-20\\template\\bright_arrayOfCircle_r-1.bmp\n",
      "DMD pattern saved as: .\\resources\\pattern\\bright_array_full\\spacing-20\\bright_arrayOfCircle_r-2.bmp\n",
      "Template image saved as: .\\resources\\pattern\\bright_array_full\\spacing-20\\template\\bright_arrayOfCircle_r-2.bmp\n",
      "DMD pattern saved as: .\\resources\\pattern\\bright_array_full\\spacing-20\\bright_arrayOfCircle_r-3.bmp\n",
      "Template image saved as: .\\resources\\pattern\\bright_array_full\\spacing-20\\template\\bright_arrayOfCircle_r-3.bmp\n",
      "DMD pattern saved as: .\\resources\\pattern\\bright_array_full\\spacing-20\\bright_arrayOfCircle_r-4.bmp\n",
      "Template image saved as: .\\resources\\pattern\\bright_array_full\\spacing-20\\template\\bright_arrayOfCircle_r-4.bmp\n",
      "DMD pattern saved as: .\\resources\\pattern\\bright_array_full\\spacing-20\\bright_arrayOfCircle_r-5.bmp\n",
      "Template image saved as: .\\resources\\pattern\\bright_array_full\\spacing-20\\template\\bright_arrayOfCircle_r-5.bmp\n",
      "DMD pattern saved as: .\\resources\\pattern\\bright_array_full\\spacing-50\\bright_arrayOfCircle_r-0.5.bmp\n",
      "Template image saved as: .\\resources\\pattern\\bright_array_full\\spacing-50\\template\\bright_arrayOfCircle_r-0.5.bmp\n",
      "DMD pattern saved as: .\\resources\\pattern\\bright_array_full\\spacing-50\\bright_arrayOfCircle_r-1.bmp\n",
      "Template image saved as: .\\resources\\pattern\\bright_array_full\\spacing-50\\template\\bright_arrayOfCircle_r-1.bmp\n",
      "DMD pattern saved as: .\\resources\\pattern\\bright_array_full\\spacing-50\\bright_arrayOfCircle_r-2.bmp\n",
      "Template image saved as: .\\resources\\pattern\\bright_array_full\\spacing-50\\template\\bright_arrayOfCircle_r-2.bmp\n",
      "DMD pattern saved as: .\\resources\\pattern\\bright_array_full\\spacing-50\\bright_arrayOfCircle_r-3.bmp\n",
      "Template image saved as: .\\resources\\pattern\\bright_array_full\\spacing-50\\template\\bright_arrayOfCircle_r-3.bmp\n",
      "DMD pattern saved as: .\\resources\\pattern\\bright_array_full\\spacing-50\\bright_arrayOfCircle_r-4.bmp\n",
      "Template image saved as: .\\resources\\pattern\\bright_array_full\\spacing-50\\template\\bright_arrayOfCircle_r-4.bmp\n",
      "DMD pattern saved as: .\\resources\\pattern\\bright_array_full\\spacing-50\\bright_arrayOfCircle_r-5.bmp\n",
      "Template image saved as: .\\resources\\pattern\\bright_array_full\\spacing-50\\template\\bright_arrayOfCircle_r-5.bmp\n",
      "DMD pattern saved as: .\\resources\\pattern\\bright_array_full\\spacing-50\\bright_arrayOfCircle_r-10.bmp\n",
      "Template image saved as: .\\resources\\pattern\\bright_array_full\\spacing-50\\template\\bright_arrayOfCircle_r-10.bmp\n",
      "DMD pattern saved as: .\\resources\\pattern\\bright_array_full\\spacing-50\\bright_arrayOfCircle_r-20.bmp\n",
      "Template image saved as: .\\resources\\pattern\\bright_array_full\\spacing-50\\template\\bright_arrayOfCircle_r-20.bmp\n",
      "DMD pattern saved as: .\\resources\\pattern\\bright_array_full\\spacing-100\\bright_arrayOfCircle_r-0.5.bmp\n",
      "Template image saved as: .\\resources\\pattern\\bright_array_full\\spacing-100\\template\\bright_arrayOfCircle_r-0.5.bmp\n",
      "DMD pattern saved as: .\\resources\\pattern\\bright_array_full\\spacing-100\\bright_arrayOfCircle_r-1.bmp\n",
      "Template image saved as: .\\resources\\pattern\\bright_array_full\\spacing-100\\template\\bright_arrayOfCircle_r-1.bmp\n",
      "DMD pattern saved as: .\\resources\\pattern\\bright_array_full\\spacing-100\\bright_arrayOfCircle_r-2.bmp\n",
      "Template image saved as: .\\resources\\pattern\\bright_array_full\\spacing-100\\template\\bright_arrayOfCircle_r-2.bmp\n",
      "DMD pattern saved as: .\\resources\\pattern\\bright_array_full\\spacing-100\\bright_arrayOfCircle_r-3.bmp\n",
      "Template image saved as: .\\resources\\pattern\\bright_array_full\\spacing-100\\template\\bright_arrayOfCircle_r-3.bmp\n",
      "DMD pattern saved as: .\\resources\\pattern\\bright_array_full\\spacing-100\\bright_arrayOfCircle_r-4.bmp\n",
      "Template image saved as: .\\resources\\pattern\\bright_array_full\\spacing-100\\template\\bright_arrayOfCircle_r-4.bmp\n",
      "DMD pattern saved as: .\\resources\\pattern\\bright_array_full\\spacing-100\\bright_arrayOfCircle_r-5.bmp\n",
      "Template image saved as: .\\resources\\pattern\\bright_array_full\\spacing-100\\template\\bright_arrayOfCircle_r-5.bmp\n",
      "DMD pattern saved as: .\\resources\\pattern\\bright_array_full\\spacing-100\\bright_arrayOfCircle_r-10.bmp\n",
      "Template image saved as: .\\resources\\pattern\\bright_array_full\\spacing-100\\template\\bright_arrayOfCircle_r-10.bmp\n",
      "DMD pattern saved as: .\\resources\\pattern\\bright_array_full\\spacing-100\\bright_arrayOfCircle_r-20.bmp\n",
      "Template image saved as: .\\resources\\pattern\\bright_array_full\\spacing-100\\template\\bright_arrayOfCircle_r-20.bmp\n"
     ]
    }
   ],
   "source": [
    "radius = [0.5, 1, 2, 3, 4, 5, 10, 20]\n",
    "spacing = [10, 20, 50, 100]\n",
    "nx = range(-100, 100)\n",
    "ny = range(-100, 100)\n",
    "\n",
    "for s, r in product(spacing, radius):\n",
    "    if 2 * r < s:\n",
    "        filename = f'bright_arrayOfCircle_r-{r}.bmp'\n",
    "\n",
    "        dmd.drawPattern(painter.drawArrayOfCircles(row_spacing=s, \n",
    "                                                    col_spacing=s, \n",
    "                                                    nx=nx,\n",
    "                                                    ny=ny,\n",
    "                                                    radius=r,), color=1)\n",
    "        dmd.saveFrameToFile(save_dir + f'pattern/bright_array_full/spacing-{s}/', filename)"
   ]
  },
  {
   "cell_type": "markdown",
   "metadata": {},
   "source": [
    "#### Generate dark arrays of circles on a bright background"
   ]
  },
  {
   "cell_type": "code",
   "execution_count": 11,
   "metadata": {},
   "outputs": [
    {
     "name": "stdout",
     "output_type": "stream",
     "text": [
      "DMD pattern saved as: .\\resources\\pattern\\dark_array_full\\spacing-10\\dark_arrayOfCircle_r-0.5.bmp\n",
      "Template image saved as: .\\resources\\pattern\\dark_array_full\\spacing-10\\template\\dark_arrayOfCircle_r-0.5.bmp\n",
      "DMD pattern saved as: .\\resources\\pattern\\dark_array_full\\spacing-10\\dark_arrayOfCircle_r-1.bmp\n",
      "Template image saved as: .\\resources\\pattern\\dark_array_full\\spacing-10\\template\\dark_arrayOfCircle_r-1.bmp\n",
      "DMD pattern saved as: .\\resources\\pattern\\dark_array_full\\spacing-10\\dark_arrayOfCircle_r-2.bmp\n",
      "Template image saved as: .\\resources\\pattern\\dark_array_full\\spacing-10\\template\\dark_arrayOfCircle_r-2.bmp\n",
      "DMD pattern saved as: .\\resources\\pattern\\dark_array_full\\spacing-10\\dark_arrayOfCircle_r-3.bmp\n",
      "Template image saved as: .\\resources\\pattern\\dark_array_full\\spacing-10\\template\\dark_arrayOfCircle_r-3.bmp\n",
      "DMD pattern saved as: .\\resources\\pattern\\dark_array_full\\spacing-10\\dark_arrayOfCircle_r-4.bmp\n",
      "Template image saved as: .\\resources\\pattern\\dark_array_full\\spacing-10\\template\\dark_arrayOfCircle_r-4.bmp\n",
      "DMD pattern saved as: .\\resources\\pattern\\dark_array_full\\spacing-20\\dark_arrayOfCircle_r-0.5.bmp\n",
      "Template image saved as: .\\resources\\pattern\\dark_array_full\\spacing-20\\template\\dark_arrayOfCircle_r-0.5.bmp\n",
      "DMD pattern saved as: .\\resources\\pattern\\dark_array_full\\spacing-20\\dark_arrayOfCircle_r-1.bmp\n",
      "Template image saved as: .\\resources\\pattern\\dark_array_full\\spacing-20\\template\\dark_arrayOfCircle_r-1.bmp\n",
      "DMD pattern saved as: .\\resources\\pattern\\dark_array_full\\spacing-20\\dark_arrayOfCircle_r-2.bmp\n",
      "Template image saved as: .\\resources\\pattern\\dark_array_full\\spacing-20\\template\\dark_arrayOfCircle_r-2.bmp\n",
      "DMD pattern saved as: .\\resources\\pattern\\dark_array_full\\spacing-20\\dark_arrayOfCircle_r-3.bmp\n",
      "Template image saved as: .\\resources\\pattern\\dark_array_full\\spacing-20\\template\\dark_arrayOfCircle_r-3.bmp\n",
      "DMD pattern saved as: .\\resources\\pattern\\dark_array_full\\spacing-20\\dark_arrayOfCircle_r-4.bmp\n",
      "Template image saved as: .\\resources\\pattern\\dark_array_full\\spacing-20\\template\\dark_arrayOfCircle_r-4.bmp\n",
      "DMD pattern saved as: .\\resources\\pattern\\dark_array_full\\spacing-20\\dark_arrayOfCircle_r-5.bmp\n",
      "Template image saved as: .\\resources\\pattern\\dark_array_full\\spacing-20\\template\\dark_arrayOfCircle_r-5.bmp\n",
      "DMD pattern saved as: .\\resources\\pattern\\dark_array_full\\spacing-50\\dark_arrayOfCircle_r-0.5.bmp\n",
      "Template image saved as: .\\resources\\pattern\\dark_array_full\\spacing-50\\template\\dark_arrayOfCircle_r-0.5.bmp\n",
      "DMD pattern saved as: .\\resources\\pattern\\dark_array_full\\spacing-50\\dark_arrayOfCircle_r-1.bmp\n",
      "Template image saved as: .\\resources\\pattern\\dark_array_full\\spacing-50\\template\\dark_arrayOfCircle_r-1.bmp\n",
      "DMD pattern saved as: .\\resources\\pattern\\dark_array_full\\spacing-50\\dark_arrayOfCircle_r-2.bmp\n",
      "Template image saved as: .\\resources\\pattern\\dark_array_full\\spacing-50\\template\\dark_arrayOfCircle_r-2.bmp\n",
      "DMD pattern saved as: .\\resources\\pattern\\dark_array_full\\spacing-50\\dark_arrayOfCircle_r-3.bmp\n",
      "Template image saved as: .\\resources\\pattern\\dark_array_full\\spacing-50\\template\\dark_arrayOfCircle_r-3.bmp\n",
      "DMD pattern saved as: .\\resources\\pattern\\dark_array_full\\spacing-50\\dark_arrayOfCircle_r-4.bmp\n",
      "Template image saved as: .\\resources\\pattern\\dark_array_full\\spacing-50\\template\\dark_arrayOfCircle_r-4.bmp\n",
      "DMD pattern saved as: .\\resources\\pattern\\dark_array_full\\spacing-50\\dark_arrayOfCircle_r-5.bmp\n",
      "Template image saved as: .\\resources\\pattern\\dark_array_full\\spacing-50\\template\\dark_arrayOfCircle_r-5.bmp\n",
      "DMD pattern saved as: .\\resources\\pattern\\dark_array_full\\spacing-50\\dark_arrayOfCircle_r-10.bmp\n",
      "Template image saved as: .\\resources\\pattern\\dark_array_full\\spacing-50\\template\\dark_arrayOfCircle_r-10.bmp\n",
      "DMD pattern saved as: .\\resources\\pattern\\dark_array_full\\spacing-50\\dark_arrayOfCircle_r-20.bmp\n",
      "Template image saved as: .\\resources\\pattern\\dark_array_full\\spacing-50\\template\\dark_arrayOfCircle_r-20.bmp\n",
      "DMD pattern saved as: .\\resources\\pattern\\dark_array_full\\spacing-100\\dark_arrayOfCircle_r-0.5.bmp\n",
      "Template image saved as: .\\resources\\pattern\\dark_array_full\\spacing-100\\template\\dark_arrayOfCircle_r-0.5.bmp\n",
      "DMD pattern saved as: .\\resources\\pattern\\dark_array_full\\spacing-100\\dark_arrayOfCircle_r-1.bmp\n",
      "Template image saved as: .\\resources\\pattern\\dark_array_full\\spacing-100\\template\\dark_arrayOfCircle_r-1.bmp\n",
      "DMD pattern saved as: .\\resources\\pattern\\dark_array_full\\spacing-100\\dark_arrayOfCircle_r-2.bmp\n",
      "Template image saved as: .\\resources\\pattern\\dark_array_full\\spacing-100\\template\\dark_arrayOfCircle_r-2.bmp\n",
      "DMD pattern saved as: .\\resources\\pattern\\dark_array_full\\spacing-100\\dark_arrayOfCircle_r-3.bmp\n",
      "Template image saved as: .\\resources\\pattern\\dark_array_full\\spacing-100\\template\\dark_arrayOfCircle_r-3.bmp\n",
      "DMD pattern saved as: .\\resources\\pattern\\dark_array_full\\spacing-100\\dark_arrayOfCircle_r-4.bmp\n",
      "Template image saved as: .\\resources\\pattern\\dark_array_full\\spacing-100\\template\\dark_arrayOfCircle_r-4.bmp\n",
      "DMD pattern saved as: .\\resources\\pattern\\dark_array_full\\spacing-100\\dark_arrayOfCircle_r-5.bmp\n",
      "Template image saved as: .\\resources\\pattern\\dark_array_full\\spacing-100\\template\\dark_arrayOfCircle_r-5.bmp\n",
      "DMD pattern saved as: .\\resources\\pattern\\dark_array_full\\spacing-100\\dark_arrayOfCircle_r-10.bmp\n",
      "Template image saved as: .\\resources\\pattern\\dark_array_full\\spacing-100\\template\\dark_arrayOfCircle_r-10.bmp\n",
      "DMD pattern saved as: .\\resources\\pattern\\dark_array_full\\spacing-100\\dark_arrayOfCircle_r-20.bmp\n",
      "Template image saved as: .\\resources\\pattern\\dark_array_full\\spacing-100\\template\\dark_arrayOfCircle_r-20.bmp\n"
     ]
    }
   ],
   "source": [
    "radius = [0.5, 1, 2, 3, 4, 5, 10, 20]\n",
    "spacing = [10, 20, 50, 100]\n",
    "nx = range(-100, 100)\n",
    "ny = range(-100, 100)\n",
    "\n",
    "for s, r in product(spacing, radius):\n",
    "    if 2 * r < s:\n",
    "        filename = f'dark_arrayOfCircle_r-{r}.bmp'\n",
    "\n",
    "        dmd.drawPattern(painter.drawArrayOfCircles(row_spacing=s, \n",
    "                                                    col_spacing=s, \n",
    "                                                    nx=nx,\n",
    "                                                    ny=ny,\n",
    "                                                    radius=r,), color=0)\n",
    "        dmd.saveFrameToFile(save_dir + f'pattern/dark_array_full/spacing-{s}/', filename)"
   ]
  },
  {
   "cell_type": "markdown",
   "metadata": {},
   "source": [
    "#### Generate cross on a dark background"
   ]
  },
  {
   "cell_type": "code",
   "execution_count": 12,
   "metadata": {},
   "outputs": [
    {
     "name": "stdout",
     "output_type": "stream",
     "text": [
      "DMD pattern saved as: .\\resources\\pattern\\bright_cross_line\\bright_cross_halfwidth-0.bmp\n",
      "Template image saved as: .\\resources\\pattern\\bright_cross_line\\template\\bright_cross_halfwidth-0.bmp\n",
      "DMD pattern saved as: .\\resources\\pattern\\bright_cross_line\\bright_cross_halfwidth-1.bmp\n",
      "Template image saved as: .\\resources\\pattern\\bright_cross_line\\template\\bright_cross_halfwidth-1.bmp\n",
      "DMD pattern saved as: .\\resources\\pattern\\bright_cross_line\\bright_cross_halfwidth-2.bmp\n",
      "Template image saved as: .\\resources\\pattern\\bright_cross_line\\template\\bright_cross_halfwidth-2.bmp\n",
      "DMD pattern saved as: .\\resources\\pattern\\bright_cross_line\\bright_cross_halfwidth-5.bmp\n",
      "Template image saved as: .\\resources\\pattern\\bright_cross_line\\template\\bright_cross_halfwidth-5.bmp\n",
      "DMD pattern saved as: .\\resources\\pattern\\bright_cross_line\\bright_cross_halfwidth-10.bmp\n",
      "Template image saved as: .\\resources\\pattern\\bright_cross_line\\template\\bright_cross_halfwidth-10.bmp\n",
      "DMD pattern saved as: .\\resources\\pattern\\bright_cross_line\\bright_cross_halfwidth-20.bmp\n",
      "Template image saved as: .\\resources\\pattern\\bright_cross_line\\template\\bright_cross_halfwidth-20.bmp\n"
     ]
    }
   ],
   "source": [
    "half_width = [0, 1, 2, 5, 10, 20]\n",
    "\n",
    "for width in half_width:\n",
    "    filename = f'bright_cross_halfwidth-{width}.bmp'\n",
    "\n",
    "    dmd.drawPattern(painter.drawCross(half_width=width), color=1)\n",
    "    dmd.saveFrameToFile(save_dir + f'pattern/bright_cross_line/', filename)"
   ]
  },
  {
   "cell_type": "markdown",
   "metadata": {},
   "source": [
    "#### Generate crosses on a dark background"
   ]
  },
  {
   "cell_type": "code",
   "execution_count": 13,
   "metadata": {},
   "outputs": [
    {
     "name": "stdout",
     "output_type": "stream",
     "text": [
      "DMD pattern saved as: .\\resources\\pattern\\bright_crosses_full_spacing-50\\bright_crosses_halfwidth-0.bmp\n",
      "Template image saved as: .\\resources\\pattern\\bright_crosses_full_spacing-50\\template\\bright_crosses_halfwidth-0.bmp\n",
      "DMD pattern saved as: .\\resources\\pattern\\bright_crosses_full_spacing-50\\bright_crosses_halfwidth-1.bmp\n",
      "Template image saved as: .\\resources\\pattern\\bright_crosses_full_spacing-50\\template\\bright_crosses_halfwidth-1.bmp\n",
      "DMD pattern saved as: .\\resources\\pattern\\bright_crosses_full_spacing-50\\bright_crosses_halfwidth-2.bmp\n",
      "Template image saved as: .\\resources\\pattern\\bright_crosses_full_spacing-50\\template\\bright_crosses_halfwidth-2.bmp\n",
      "DMD pattern saved as: .\\resources\\pattern\\bright_crosses_full_spacing-50\\bright_crosses_halfwidth-5.bmp\n",
      "Template image saved as: .\\resources\\pattern\\bright_crosses_full_spacing-50\\template\\bright_crosses_halfwidth-5.bmp\n",
      "DMD pattern saved as: .\\resources\\pattern\\bright_crosses_full_spacing-50\\bright_crosses_halfwidth-10.bmp\n",
      "Template image saved as: .\\resources\\pattern\\bright_crosses_full_spacing-50\\template\\bright_crosses_halfwidth-10.bmp\n"
     ]
    }
   ],
   "source": [
    "half_width = [0, 1, 2, 5, 10]\n",
    "nx = range(-100, 100)\n",
    "ny = range(-100, 100)\n",
    "\n",
    "for width in half_width:\n",
    "    filename = f'bright_crosses_halfwidth-{width}.bmp'\n",
    "\n",
    "    dmd.drawPattern(painter.drawCrosses(nx=nx,\n",
    "                                        ny=ny,\n",
    "                                        half_width=width), color=1)\n",
    "    dmd.saveFrameToFile(save_dir + f'pattern/bright_crosses_full_spacing-50/', filename)"
   ]
  },
  {
   "cell_type": "markdown",
   "metadata": {},
   "source": [
    "#### Generate star pattern for MTF measurement"
   ]
  },
  {
   "cell_type": "code",
   "execution_count": 14,
   "metadata": {},
   "outputs": [
    {
     "name": "stdout",
     "output_type": "stream",
     "text": [
      "DMD pattern saved as: .\\resources\\pattern\\star\\star_n-4.bmp\n",
      "Template image saved as: .\\resources\\pattern\\star\\template\\star_n-4.bmp\n",
      "DMD pattern saved as: .\\resources\\pattern\\star\\star_n-10.bmp\n",
      "Template image saved as: .\\resources\\pattern\\star\\template\\star_n-10.bmp\n",
      "DMD pattern saved as: .\\resources\\pattern\\star\\star_n-20.bmp\n",
      "Template image saved as: .\\resources\\pattern\\star\\template\\star_n-20.bmp\n",
      "DMD pattern saved as: .\\resources\\pattern\\star\\star_n-40.bmp\n",
      "Template image saved as: .\\resources\\pattern\\star\\template\\star_n-40.bmp\n",
      "DMD pattern saved as: .\\resources\\pattern\\star\\star_n-60.bmp\n",
      "Template image saved as: .\\resources\\pattern\\star\\template\\star_n-60.bmp\n",
      "DMD pattern saved as: .\\resources\\pattern\\star\\star_n-90.bmp\n",
      "Template image saved as: .\\resources\\pattern\\star\\template\\star_n-90.bmp\n",
      "DMD pattern saved as: .\\resources\\pattern\\star\\star_n-120.bmp\n",
      "Template image saved as: .\\resources\\pattern\\star\\template\\star_n-120.bmp\n"
     ]
    }
   ],
   "source": [
    "nums = [4, 10, 20, 40, 60, 90, 120]\n",
    "\n",
    "for n in nums:\n",
    "    filename = f'star_n-{n}.bmp'\n",
    "\n",
    "    dmd.drawPattern(painter.drawStar(num=n), color=1)\n",
    "    dmd.saveFrameToFile(save_dir + f'pattern/star/', filename)"
   ]
  },
  {
   "cell_type": "markdown",
   "metadata": {},
   "source": [
    "#### Generate checkerboard pattern"
   ]
  },
  {
   "cell_type": "code",
   "execution_count": 15,
   "metadata": {},
   "outputs": [
    {
     "name": "stdout",
     "output_type": "stream",
     "text": [
      "DMD pattern saved as: .\\resources\\pattern\\checkerboard\\checkerboard_size-5.bmp\n",
      "Template image saved as: .\\resources\\pattern\\checkerboard\\template\\checkerboard_size-5.bmp\n",
      "DMD pattern saved as: .\\resources\\pattern\\checkerboard\\checkerboard_size-10.bmp\n",
      "Template image saved as: .\\resources\\pattern\\checkerboard\\template\\checkerboard_size-10.bmp\n",
      "DMD pattern saved as: .\\resources\\pattern\\checkerboard\\checkerboard_size-20.bmp\n",
      "Template image saved as: .\\resources\\pattern\\checkerboard\\template\\checkerboard_size-20.bmp\n",
      "DMD pattern saved as: .\\resources\\pattern\\checkerboard\\checkerboard_size-50.bmp\n",
      "Template image saved as: .\\resources\\pattern\\checkerboard\\template\\checkerboard_size-50.bmp\n",
      "DMD pattern saved as: .\\resources\\pattern\\checkerboard\\checkerboard_size-100.bmp\n",
      "Template image saved as: .\\resources\\pattern\\checkerboard\\template\\checkerboard_size-100.bmp\n",
      "DMD pattern saved as: .\\resources\\pattern\\checkerboard\\checkerboard_size-200.bmp\n",
      "Template image saved as: .\\resources\\pattern\\checkerboard\\template\\checkerboard_size-200.bmp\n"
     ]
    }
   ],
   "source": [
    "size = [5, 10, 20, 50, 100, 200]\n",
    "\n",
    "for s in size:\n",
    "    filename = f'checkerboard_size-{s}.bmp'\n",
    "\n",
    "    dmd.drawPattern(painter.drawCheckerBoard(size=s), color=1)\n",
    "    dmd.saveFrameToFile(save_dir + f'pattern/checkerboard/', filename)"
   ]
  },
  {
   "cell_type": "code",
   "execution_count": 16,
   "metadata": {},
   "outputs": [
    {
     "name": "stdout",
     "output_type": "stream",
     "text": [
      "DMD pattern saved as: .\\resources\\pattern\\checkerboard_gray_white\\checkerboard_size-5.bmp\n",
      "Template image saved as: .\\resources\\pattern\\checkerboard_gray_white\\template\\checkerboard_size-5.bmp\n",
      "DMD pattern saved as: .\\resources\\pattern\\checkerboard_gray_white\\checkerboard_size-10.bmp\n",
      "Template image saved as: .\\resources\\pattern\\checkerboard_gray_white\\template\\checkerboard_size-10.bmp\n",
      "DMD pattern saved as: .\\resources\\pattern\\checkerboard_gray_white\\checkerboard_size-20.bmp\n",
      "Template image saved as: .\\resources\\pattern\\checkerboard_gray_white\\template\\checkerboard_size-20.bmp\n",
      "DMD pattern saved as: .\\resources\\pattern\\checkerboard_gray_white\\checkerboard_size-50.bmp\n",
      "Template image saved as: .\\resources\\pattern\\checkerboard_gray_white\\template\\checkerboard_size-50.bmp\n",
      "DMD pattern saved as: .\\resources\\pattern\\checkerboard_gray_white\\checkerboard_size-100.bmp\n",
      "Template image saved as: .\\resources\\pattern\\checkerboard_gray_white\\template\\checkerboard_size-100.bmp\n",
      "DMD pattern saved as: .\\resources\\pattern\\checkerboard_gray_white\\checkerboard_size-200.bmp\n",
      "Template image saved as: .\\resources\\pattern\\checkerboard_gray_white\\template\\checkerboard_size-200.bmp\n"
     ]
    }
   ],
   "source": [
    "size = [5, 10, 20, 50, 100, 200]\n",
    "\n",
    "for s in size:\n",
    "    filename = f'checkerboard_size-{s}.bmp'\n",
    "\n",
    "    dmd.drawPattern(painter.drawCheckerBoard(size=s), color=0b10101010, template_color=0)\n",
    "    dmd.saveFrameToFile(save_dir + f'pattern/checkerboard_gray_white/', filename)"
   ]
  },
  {
   "cell_type": "markdown",
   "metadata": {},
   "source": [
    "#### Generate arrays of squares"
   ]
  },
  {
   "cell_type": "code",
   "execution_count": 17,
   "metadata": {},
   "outputs": [
    {
     "name": "stdout",
     "output_type": "stream",
     "text": [
      "DMD pattern saved as: .\\resources\\pattern\\bright_array_square_full\\spacing-10\\arrayOfSquares_radius-0.bmp\n",
      "Template image saved as: .\\resources\\pattern\\bright_array_square_full\\spacing-10\\template\\arrayOfSquares_radius-0.bmp\n",
      "DMD pattern saved as: .\\resources\\pattern\\bright_array_square_full\\spacing-10\\arrayOfSquares_radius-1.bmp\n",
      "Template image saved as: .\\resources\\pattern\\bright_array_square_full\\spacing-10\\template\\arrayOfSquares_radius-1.bmp\n",
      "DMD pattern saved as: .\\resources\\pattern\\bright_array_square_full\\spacing-10\\arrayOfSquares_radius-2.bmp\n",
      "Template image saved as: .\\resources\\pattern\\bright_array_square_full\\spacing-10\\template\\arrayOfSquares_radius-2.bmp\n",
      "DMD pattern saved as: .\\resources\\pattern\\bright_array_square_full\\spacing-20\\arrayOfSquares_radius-0.bmp\n",
      "Template image saved as: .\\resources\\pattern\\bright_array_square_full\\spacing-20\\template\\arrayOfSquares_radius-0.bmp\n",
      "DMD pattern saved as: .\\resources\\pattern\\bright_array_square_full\\spacing-20\\arrayOfSquares_radius-1.bmp\n",
      "Template image saved as: .\\resources\\pattern\\bright_array_square_full\\spacing-20\\template\\arrayOfSquares_radius-1.bmp\n",
      "DMD pattern saved as: .\\resources\\pattern\\bright_array_square_full\\spacing-20\\arrayOfSquares_radius-2.bmp\n",
      "Template image saved as: .\\resources\\pattern\\bright_array_square_full\\spacing-20\\template\\arrayOfSquares_radius-2.bmp\n",
      "DMD pattern saved as: .\\resources\\pattern\\bright_array_square_full\\spacing-20\\arrayOfSquares_radius-5.bmp\n",
      "Template image saved as: .\\resources\\pattern\\bright_array_square_full\\spacing-20\\template\\arrayOfSquares_radius-5.bmp\n",
      "DMD pattern saved as: .\\resources\\pattern\\bright_array_square_full\\spacing-50\\arrayOfSquares_radius-0.bmp\n",
      "Template image saved as: .\\resources\\pattern\\bright_array_square_full\\spacing-50\\template\\arrayOfSquares_radius-0.bmp\n",
      "DMD pattern saved as: .\\resources\\pattern\\bright_array_square_full\\spacing-50\\arrayOfSquares_radius-1.bmp\n",
      "Template image saved as: .\\resources\\pattern\\bright_array_square_full\\spacing-50\\template\\arrayOfSquares_radius-1.bmp\n",
      "DMD pattern saved as: .\\resources\\pattern\\bright_array_square_full\\spacing-50\\arrayOfSquares_radius-2.bmp\n",
      "Template image saved as: .\\resources\\pattern\\bright_array_square_full\\spacing-50\\template\\arrayOfSquares_radius-2.bmp\n",
      "DMD pattern saved as: .\\resources\\pattern\\bright_array_square_full\\spacing-50\\arrayOfSquares_radius-5.bmp\n",
      "Template image saved as: .\\resources\\pattern\\bright_array_square_full\\spacing-50\\template\\arrayOfSquares_radius-5.bmp\n",
      "DMD pattern saved as: .\\resources\\pattern\\bright_array_square_full\\spacing-50\\arrayOfSquares_radius-10.bmp\n",
      "Template image saved as: .\\resources\\pattern\\bright_array_square_full\\spacing-50\\template\\arrayOfSquares_radius-10.bmp\n",
      "DMD pattern saved as: .\\resources\\pattern\\bright_array_square_full\\spacing-50\\arrayOfSquares_radius-20.bmp\n",
      "Template image saved as: .\\resources\\pattern\\bright_array_square_full\\spacing-50\\template\\arrayOfSquares_radius-20.bmp\n",
      "DMD pattern saved as: .\\resources\\pattern\\bright_array_square_full\\spacing-100\\arrayOfSquares_radius-0.bmp\n",
      "Template image saved as: .\\resources\\pattern\\bright_array_square_full\\spacing-100\\template\\arrayOfSquares_radius-0.bmp\n",
      "DMD pattern saved as: .\\resources\\pattern\\bright_array_square_full\\spacing-100\\arrayOfSquares_radius-1.bmp\n",
      "Template image saved as: .\\resources\\pattern\\bright_array_square_full\\spacing-100\\template\\arrayOfSquares_radius-1.bmp\n",
      "DMD pattern saved as: .\\resources\\pattern\\bright_array_square_full\\spacing-100\\arrayOfSquares_radius-2.bmp\n",
      "Template image saved as: .\\resources\\pattern\\bright_array_square_full\\spacing-100\\template\\arrayOfSquares_radius-2.bmp\n",
      "DMD pattern saved as: .\\resources\\pattern\\bright_array_square_full\\spacing-100\\arrayOfSquares_radius-5.bmp\n",
      "Template image saved as: .\\resources\\pattern\\bright_array_square_full\\spacing-100\\template\\arrayOfSquares_radius-5.bmp\n",
      "DMD pattern saved as: .\\resources\\pattern\\bright_array_square_full\\spacing-100\\arrayOfSquares_radius-10.bmp\n",
      "Template image saved as: .\\resources\\pattern\\bright_array_square_full\\spacing-100\\template\\arrayOfSquares_radius-10.bmp\n",
      "DMD pattern saved as: .\\resources\\pattern\\bright_array_square_full\\spacing-100\\arrayOfSquares_radius-20.bmp\n",
      "Template image saved as: .\\resources\\pattern\\bright_array_square_full\\spacing-100\\template\\arrayOfSquares_radius-20.bmp\n"
     ]
    }
   ],
   "source": [
    "spacing = [10, 20, 50, 100]\n",
    "radius = [0, 1, 2, 5, 10, 20, 50, 100]\n",
    "nx = range(-100, 100)\n",
    "ny = range(-100, 100)\n",
    "\n",
    "for s, r in product(spacing, radius):\n",
    "    if 2 * r < s:\n",
    "        filename = f'arrayOfSquares_radius-{r}.bmp'\n",
    "\n",
    "        dmd.drawPattern(painter.drawArrayOfSquares(radius=r,\n",
    "                                                    row_spacing=s,\n",
    "                                                    col_spacing=s,\n",
    "                                                    nx=nx,\n",
    "                                                    ny=ny), color=1)\n",
    "        dmd.saveFrameToFile(save_dir + f'pattern/bright_array_square_full/spacing-{s}/', filename)"
   ]
  },
  {
   "cell_type": "markdown",
   "metadata": {},
   "source": [
    "#### Generate horizontal strips"
   ]
  },
  {
   "cell_type": "code",
   "execution_count": 18,
   "metadata": {},
   "outputs": [
    {
     "name": "stdout",
     "output_type": "stream",
     "text": [
      "DMD pattern saved as: .\\resources\\pattern\\horizontal_strips\\horizontal_strips_width-3.bmp\n",
      "Template image saved as: .\\resources\\pattern\\horizontal_strips\\template\\horizontal_strips_width-3.bmp\n",
      "DMD pattern saved as: .\\resources\\pattern\\horizontal_strips\\horizontal_strips_width-4.bmp\n",
      "Template image saved as: .\\resources\\pattern\\horizontal_strips\\template\\horizontal_strips_width-4.bmp\n",
      "DMD pattern saved as: .\\resources\\pattern\\horizontal_strips\\horizontal_strips_width-5.bmp\n",
      "Template image saved as: .\\resources\\pattern\\horizontal_strips\\template\\horizontal_strips_width-5.bmp\n",
      "DMD pattern saved as: .\\resources\\pattern\\horizontal_strips\\horizontal_strips_width-10.bmp\n",
      "Template image saved as: .\\resources\\pattern\\horizontal_strips\\template\\horizontal_strips_width-10.bmp\n",
      "DMD pattern saved as: .\\resources\\pattern\\horizontal_strips\\horizontal_strips_width-20.bmp\n",
      "Template image saved as: .\\resources\\pattern\\horizontal_strips\\template\\horizontal_strips_width-20.bmp\n",
      "DMD pattern saved as: .\\resources\\pattern\\horizontal_strips\\horizontal_strips_width-50.bmp\n",
      "Template image saved as: .\\resources\\pattern\\horizontal_strips\\template\\horizontal_strips_width-50.bmp\n",
      "DMD pattern saved as: .\\resources\\pattern\\horizontal_strips\\horizontal_strips_width-100.bmp\n",
      "Template image saved as: .\\resources\\pattern\\horizontal_strips\\template\\horizontal_strips_width-100.bmp\n",
      "DMD pattern saved as: .\\resources\\pattern\\horizontal_strips\\horizontal_strips_width-200.bmp\n",
      "Template image saved as: .\\resources\\pattern\\horizontal_strips\\template\\horizontal_strips_width-200.bmp\n"
     ]
    }
   ],
   "source": [
    "width = [3, 4, 5, 10, 20, 50, 100, 200]\n",
    "\n",
    "for w in width:\n",
    "    filename = f'horizontal_strips_width-{w}.bmp'\n",
    "\n",
    "    dmd.drawPattern(painter.drawHorizontalStrips(width=w), color=1)\n",
    "    dmd.saveFrameToFile(save_dir + f'pattern/horizontal_strips/', filename)"
   ]
  },
  {
   "cell_type": "code",
   "execution_count": 19,
   "metadata": {},
   "outputs": [
    {
     "name": "stdout",
     "output_type": "stream",
     "text": [
      "DMD pattern saved as: .\\resources\\pattern\\horizontal_strips_gray_black\\horizontal_strips_gray_width-3.bmp\n",
      "Template image saved as: .\\resources\\pattern\\horizontal_strips_gray_black\\template\\horizontal_strips_gray_width-3.bmp\n",
      "DMD pattern saved as: .\\resources\\pattern\\horizontal_strips_gray_black\\horizontal_strips_gray_width-4.bmp\n",
      "Template image saved as: .\\resources\\pattern\\horizontal_strips_gray_black\\template\\horizontal_strips_gray_width-4.bmp\n",
      "DMD pattern saved as: .\\resources\\pattern\\horizontal_strips_gray_black\\horizontal_strips_gray_width-5.bmp\n",
      "Template image saved as: .\\resources\\pattern\\horizontal_strips_gray_black\\template\\horizontal_strips_gray_width-5.bmp\n",
      "DMD pattern saved as: .\\resources\\pattern\\horizontal_strips_gray_black\\horizontal_strips_gray_width-10.bmp\n",
      "Template image saved as: .\\resources\\pattern\\horizontal_strips_gray_black\\template\\horizontal_strips_gray_width-10.bmp\n",
      "DMD pattern saved as: .\\resources\\pattern\\horizontal_strips_gray_black\\horizontal_strips_gray_width-20.bmp\n",
      "Template image saved as: .\\resources\\pattern\\horizontal_strips_gray_black\\template\\horizontal_strips_gray_width-20.bmp\n",
      "DMD pattern saved as: .\\resources\\pattern\\horizontal_strips_gray_black\\horizontal_strips_gray_width-50.bmp\n",
      "Template image saved as: .\\resources\\pattern\\horizontal_strips_gray_black\\template\\horizontal_strips_gray_width-50.bmp\n",
      "DMD pattern saved as: .\\resources\\pattern\\horizontal_strips_gray_black\\horizontal_strips_gray_width-100.bmp\n",
      "Template image saved as: .\\resources\\pattern\\horizontal_strips_gray_black\\template\\horizontal_strips_gray_width-100.bmp\n",
      "DMD pattern saved as: .\\resources\\pattern\\horizontal_strips_gray_black\\horizontal_strips_gray_width-200.bmp\n",
      "Template image saved as: .\\resources\\pattern\\horizontal_strips_gray_black\\template\\horizontal_strips_gray_width-200.bmp\n"
     ]
    }
   ],
   "source": [
    "width = [3, 4, 5, 10, 20, 50, 100, 200]\n",
    "\n",
    "for w in width:\n",
    "    filename = f'horizontal_strips_gray_width-{w}.bmp'\n",
    "\n",
    "    dmd.drawPattern(painter.drawHorizontalStrips(width=w), color=0b10101010, template_color=0)\n",
    "    dmd.saveFrameToFile(save_dir + f'pattern/horizontal_strips_gray_black/', filename)"
   ]
  },
  {
   "cell_type": "markdown",
   "metadata": {},
   "source": [
    "#### Generate vertical strips"
   ]
  },
  {
   "cell_type": "code",
   "execution_count": 20,
   "metadata": {},
   "outputs": [
    {
     "name": "stdout",
     "output_type": "stream",
     "text": [
      "DMD pattern saved as: .\\resources\\pattern\\vertical_strips\\vertical_strips_width-5.bmp\n",
      "Template image saved as: .\\resources\\pattern\\vertical_strips\\template\\vertical_strips_width-5.bmp\n",
      "DMD pattern saved as: .\\resources\\pattern\\vertical_strips\\vertical_strips_width-10.bmp\n",
      "Template image saved as: .\\resources\\pattern\\vertical_strips\\template\\vertical_strips_width-10.bmp\n",
      "DMD pattern saved as: .\\resources\\pattern\\vertical_strips\\vertical_strips_width-20.bmp\n",
      "Template image saved as: .\\resources\\pattern\\vertical_strips\\template\\vertical_strips_width-20.bmp\n",
      "DMD pattern saved as: .\\resources\\pattern\\vertical_strips\\vertical_strips_width-50.bmp\n",
      "Template image saved as: .\\resources\\pattern\\vertical_strips\\template\\vertical_strips_width-50.bmp\n",
      "DMD pattern saved as: .\\resources\\pattern\\vertical_strips\\vertical_strips_width-100.bmp\n",
      "Template image saved as: .\\resources\\pattern\\vertical_strips\\template\\vertical_strips_width-100.bmp\n"
     ]
    }
   ],
   "source": [
    "width = [5, 10, 20, 50, 100]\n",
    "\n",
    "for w in width:\n",
    "    filename = f'vertical_strips_width-{w}.bmp'\n",
    "\n",
    "    dmd.drawPattern(painter.drawVerticalStrips(width=w), color=1)\n",
    "    dmd.saveFrameToFile(save_dir + f'pattern/vertical_strips/', filename)"
   ]
  },
  {
   "cell_type": "code",
   "execution_count": 21,
   "metadata": {},
   "outputs": [
    {
     "name": "stdout",
     "output_type": "stream",
     "text": [
      "DMD pattern saved as: .\\resources\\pattern\\vertical_strips_gray\\pattern_vertical_strips_gray_width-5.bmp\n",
      "Template image saved as: .\\resources\\pattern\\vertical_strips_gray\\template\\pattern_vertical_strips_gray_width-5.bmp\n",
      "DMD pattern saved as: .\\resources\\pattern\\vertical_strips_gray\\pattern_vertical_strips_gray_width-10.bmp\n",
      "Template image saved as: .\\resources\\pattern\\vertical_strips_gray\\template\\pattern_vertical_strips_gray_width-10.bmp\n",
      "DMD pattern saved as: .\\resources\\pattern\\vertical_strips_gray\\pattern_vertical_strips_gray_width-20.bmp\n",
      "Template image saved as: .\\resources\\pattern\\vertical_strips_gray\\template\\pattern_vertical_strips_gray_width-20.bmp\n",
      "DMD pattern saved as: .\\resources\\pattern\\vertical_strips_gray\\pattern_vertical_strips_gray_width-50.bmp\n",
      "Template image saved as: .\\resources\\pattern\\vertical_strips_gray\\template\\pattern_vertical_strips_gray_width-50.bmp\n",
      "DMD pattern saved as: .\\resources\\pattern\\vertical_strips_gray\\pattern_vertical_strips_gray_width-100.bmp\n",
      "Template image saved as: .\\resources\\pattern\\vertical_strips_gray\\template\\pattern_vertical_strips_gray_width-100.bmp\n"
     ]
    }
   ],
   "source": [
    "width = [5, 10, 20, 50, 100]\n",
    "\n",
    "for w in width:\n",
    "    filename = f'pattern_vertical_strips_gray_width-{w}.bmp'\n",
    "\n",
    "    dmd.drawPattern(painter.drawVerticalStrips(width=w), color=0b10101010, template_color=0)\n",
    "    dmd.saveFrameToFile(save_dir + f'pattern/vertical_strips_gray/', filename)"
   ]
  },
  {
   "cell_type": "markdown",
   "metadata": {},
   "source": [
    "#### Generate angled strips"
   ]
  },
  {
   "cell_type": "code",
   "execution_count": 22,
   "metadata": {},
   "outputs": [
    {
     "name": "stdout",
     "output_type": "stream",
     "text": [
      "DMD pattern saved as: .\\resources\\pattern\\angled_strips\\angle-0\\angled_strips_width-5.bmp\n",
      "Template image saved as: .\\resources\\pattern\\angled_strips\\angle-0\\template\\angled_strips_width-5.bmp\n",
      "DMD pattern saved as: .\\resources\\pattern\\angled_strips\\angle-0\\angled_strips_width-10.bmp\n",
      "Template image saved as: .\\resources\\pattern\\angled_strips\\angle-0\\template\\angled_strips_width-10.bmp\n",
      "DMD pattern saved as: .\\resources\\pattern\\angled_strips\\angle-0\\angled_strips_width-20.bmp\n",
      "Template image saved as: .\\resources\\pattern\\angled_strips\\angle-0\\template\\angled_strips_width-20.bmp\n",
      "DMD pattern saved as: .\\resources\\pattern\\angled_strips\\angle-0\\angled_strips_width-50.bmp\n",
      "Template image saved as: .\\resources\\pattern\\angled_strips\\angle-0\\template\\angled_strips_width-50.bmp\n",
      "DMD pattern saved as: .\\resources\\pattern\\angled_strips\\angle-0\\angled_strips_width-100.bmp\n",
      "Template image saved as: .\\resources\\pattern\\angled_strips\\angle-0\\template\\angled_strips_width-100.bmp\n",
      "DMD pattern saved as: .\\resources\\pattern\\angled_strips\\angle-15\\angled_strips_width-5.bmp\n",
      "Template image saved as: .\\resources\\pattern\\angled_strips\\angle-15\\template\\angled_strips_width-5.bmp\n",
      "DMD pattern saved as: .\\resources\\pattern\\angled_strips\\angle-15\\angled_strips_width-10.bmp\n",
      "Template image saved as: .\\resources\\pattern\\angled_strips\\angle-15\\template\\angled_strips_width-10.bmp\n",
      "DMD pattern saved as: .\\resources\\pattern\\angled_strips\\angle-15\\angled_strips_width-20.bmp\n",
      "Template image saved as: .\\resources\\pattern\\angled_strips\\angle-15\\template\\angled_strips_width-20.bmp\n",
      "DMD pattern saved as: .\\resources\\pattern\\angled_strips\\angle-15\\angled_strips_width-50.bmp\n",
      "Template image saved as: .\\resources\\pattern\\angled_strips\\angle-15\\template\\angled_strips_width-50.bmp\n",
      "DMD pattern saved as: .\\resources\\pattern\\angled_strips\\angle-15\\angled_strips_width-100.bmp\n",
      "Template image saved as: .\\resources\\pattern\\angled_strips\\angle-15\\template\\angled_strips_width-100.bmp\n",
      "DMD pattern saved as: .\\resources\\pattern\\angled_strips\\angle-30\\angled_strips_width-5.bmp\n",
      "Template image saved as: .\\resources\\pattern\\angled_strips\\angle-30\\template\\angled_strips_width-5.bmp\n",
      "DMD pattern saved as: .\\resources\\pattern\\angled_strips\\angle-30\\angled_strips_width-10.bmp\n",
      "Template image saved as: .\\resources\\pattern\\angled_strips\\angle-30\\template\\angled_strips_width-10.bmp\n",
      "DMD pattern saved as: .\\resources\\pattern\\angled_strips\\angle-30\\angled_strips_width-20.bmp\n",
      "Template image saved as: .\\resources\\pattern\\angled_strips\\angle-30\\template\\angled_strips_width-20.bmp\n",
      "DMD pattern saved as: .\\resources\\pattern\\angled_strips\\angle-30\\angled_strips_width-50.bmp\n",
      "Template image saved as: .\\resources\\pattern\\angled_strips\\angle-30\\template\\angled_strips_width-50.bmp\n",
      "DMD pattern saved as: .\\resources\\pattern\\angled_strips\\angle-30\\angled_strips_width-100.bmp\n",
      "Template image saved as: .\\resources\\pattern\\angled_strips\\angle-30\\template\\angled_strips_width-100.bmp\n",
      "DMD pattern saved as: .\\resources\\pattern\\angled_strips\\angle-45\\angled_strips_width-5.bmp\n",
      "Template image saved as: .\\resources\\pattern\\angled_strips\\angle-45\\template\\angled_strips_width-5.bmp\n",
      "DMD pattern saved as: .\\resources\\pattern\\angled_strips\\angle-45\\angled_strips_width-10.bmp\n",
      "Template image saved as: .\\resources\\pattern\\angled_strips\\angle-45\\template\\angled_strips_width-10.bmp\n",
      "DMD pattern saved as: .\\resources\\pattern\\angled_strips\\angle-45\\angled_strips_width-20.bmp\n",
      "Template image saved as: .\\resources\\pattern\\angled_strips\\angle-45\\template\\angled_strips_width-20.bmp\n",
      "DMD pattern saved as: .\\resources\\pattern\\angled_strips\\angle-45\\angled_strips_width-50.bmp\n",
      "Template image saved as: .\\resources\\pattern\\angled_strips\\angle-45\\template\\angled_strips_width-50.bmp\n",
      "DMD pattern saved as: .\\resources\\pattern\\angled_strips\\angle-45\\angled_strips_width-100.bmp\n",
      "Template image saved as: .\\resources\\pattern\\angled_strips\\angle-45\\template\\angled_strips_width-100.bmp\n",
      "DMD pattern saved as: .\\resources\\pattern\\angled_strips\\angle-60\\angled_strips_width-5.bmp\n",
      "Template image saved as: .\\resources\\pattern\\angled_strips\\angle-60\\template\\angled_strips_width-5.bmp\n",
      "DMD pattern saved as: .\\resources\\pattern\\angled_strips\\angle-60\\angled_strips_width-10.bmp\n",
      "Template image saved as: .\\resources\\pattern\\angled_strips\\angle-60\\template\\angled_strips_width-10.bmp\n",
      "DMD pattern saved as: .\\resources\\pattern\\angled_strips\\angle-60\\angled_strips_width-20.bmp\n",
      "Template image saved as: .\\resources\\pattern\\angled_strips\\angle-60\\template\\angled_strips_width-20.bmp\n",
      "DMD pattern saved as: .\\resources\\pattern\\angled_strips\\angle-60\\angled_strips_width-50.bmp\n",
      "Template image saved as: .\\resources\\pattern\\angled_strips\\angle-60\\template\\angled_strips_width-50.bmp\n",
      "DMD pattern saved as: .\\resources\\pattern\\angled_strips\\angle-60\\angled_strips_width-100.bmp\n",
      "Template image saved as: .\\resources\\pattern\\angled_strips\\angle-60\\template\\angled_strips_width-100.bmp\n",
      "DMD pattern saved as: .\\resources\\pattern\\angled_strips\\angle-75\\angled_strips_width-5.bmp\n",
      "Template image saved as: .\\resources\\pattern\\angled_strips\\angle-75\\template\\angled_strips_width-5.bmp\n",
      "DMD pattern saved as: .\\resources\\pattern\\angled_strips\\angle-75\\angled_strips_width-10.bmp\n",
      "Template image saved as: .\\resources\\pattern\\angled_strips\\angle-75\\template\\angled_strips_width-10.bmp\n",
      "DMD pattern saved as: .\\resources\\pattern\\angled_strips\\angle-75\\angled_strips_width-20.bmp\n",
      "Template image saved as: .\\resources\\pattern\\angled_strips\\angle-75\\template\\angled_strips_width-20.bmp\n",
      "DMD pattern saved as: .\\resources\\pattern\\angled_strips\\angle-75\\angled_strips_width-50.bmp\n",
      "Template image saved as: .\\resources\\pattern\\angled_strips\\angle-75\\template\\angled_strips_width-50.bmp\n",
      "DMD pattern saved as: .\\resources\\pattern\\angled_strips\\angle-75\\angled_strips_width-100.bmp\n",
      "Template image saved as: .\\resources\\pattern\\angled_strips\\angle-75\\template\\angled_strips_width-100.bmp\n",
      "DMD pattern saved as: .\\resources\\pattern\\angled_strips\\angle-90\\angled_strips_width-5.bmp\n",
      "Template image saved as: .\\resources\\pattern\\angled_strips\\angle-90\\template\\angled_strips_width-5.bmp\n",
      "DMD pattern saved as: .\\resources\\pattern\\angled_strips\\angle-90\\angled_strips_width-10.bmp\n",
      "Template image saved as: .\\resources\\pattern\\angled_strips\\angle-90\\template\\angled_strips_width-10.bmp\n",
      "DMD pattern saved as: .\\resources\\pattern\\angled_strips\\angle-90\\angled_strips_width-20.bmp\n",
      "Template image saved as: .\\resources\\pattern\\angled_strips\\angle-90\\template\\angled_strips_width-20.bmp\n",
      "DMD pattern saved as: .\\resources\\pattern\\angled_strips\\angle-90\\angled_strips_width-50.bmp\n",
      "Template image saved as: .\\resources\\pattern\\angled_strips\\angle-90\\template\\angled_strips_width-50.bmp\n",
      "DMD pattern saved as: .\\resources\\pattern\\angled_strips\\angle-90\\angled_strips_width-100.bmp\n",
      "Template image saved as: .\\resources\\pattern\\angled_strips\\angle-90\\template\\angled_strips_width-100.bmp\n",
      "DMD pattern saved as: .\\resources\\pattern\\angled_strips\\angle-105\\angled_strips_width-5.bmp\n",
      "Template image saved as: .\\resources\\pattern\\angled_strips\\angle-105\\template\\angled_strips_width-5.bmp\n",
      "DMD pattern saved as: .\\resources\\pattern\\angled_strips\\angle-105\\angled_strips_width-10.bmp\n",
      "Template image saved as: .\\resources\\pattern\\angled_strips\\angle-105\\template\\angled_strips_width-10.bmp\n",
      "DMD pattern saved as: .\\resources\\pattern\\angled_strips\\angle-105\\angled_strips_width-20.bmp\n",
      "Template image saved as: .\\resources\\pattern\\angled_strips\\angle-105\\template\\angled_strips_width-20.bmp\n",
      "DMD pattern saved as: .\\resources\\pattern\\angled_strips\\angle-105\\angled_strips_width-50.bmp\n",
      "Template image saved as: .\\resources\\pattern\\angled_strips\\angle-105\\template\\angled_strips_width-50.bmp\n",
      "DMD pattern saved as: .\\resources\\pattern\\angled_strips\\angle-105\\angled_strips_width-100.bmp\n",
      "Template image saved as: .\\resources\\pattern\\angled_strips\\angle-105\\template\\angled_strips_width-100.bmp\n",
      "DMD pattern saved as: .\\resources\\pattern\\angled_strips\\angle-120\\angled_strips_width-5.bmp\n",
      "Template image saved as: .\\resources\\pattern\\angled_strips\\angle-120\\template\\angled_strips_width-5.bmp\n",
      "DMD pattern saved as: .\\resources\\pattern\\angled_strips\\angle-120\\angled_strips_width-10.bmp\n",
      "Template image saved as: .\\resources\\pattern\\angled_strips\\angle-120\\template\\angled_strips_width-10.bmp\n",
      "DMD pattern saved as: .\\resources\\pattern\\angled_strips\\angle-120\\angled_strips_width-20.bmp\n",
      "Template image saved as: .\\resources\\pattern\\angled_strips\\angle-120\\template\\angled_strips_width-20.bmp\n",
      "DMD pattern saved as: .\\resources\\pattern\\angled_strips\\angle-120\\angled_strips_width-50.bmp\n",
      "Template image saved as: .\\resources\\pattern\\angled_strips\\angle-120\\template\\angled_strips_width-50.bmp\n",
      "DMD pattern saved as: .\\resources\\pattern\\angled_strips\\angle-120\\angled_strips_width-100.bmp\n",
      "Template image saved as: .\\resources\\pattern\\angled_strips\\angle-120\\template\\angled_strips_width-100.bmp\n",
      "DMD pattern saved as: .\\resources\\pattern\\angled_strips\\angle-135\\angled_strips_width-5.bmp\n",
      "Template image saved as: .\\resources\\pattern\\angled_strips\\angle-135\\template\\angled_strips_width-5.bmp\n",
      "DMD pattern saved as: .\\resources\\pattern\\angled_strips\\angle-135\\angled_strips_width-10.bmp\n",
      "Template image saved as: .\\resources\\pattern\\angled_strips\\angle-135\\template\\angled_strips_width-10.bmp\n",
      "DMD pattern saved as: .\\resources\\pattern\\angled_strips\\angle-135\\angled_strips_width-20.bmp\n",
      "Template image saved as: .\\resources\\pattern\\angled_strips\\angle-135\\template\\angled_strips_width-20.bmp\n",
      "DMD pattern saved as: .\\resources\\pattern\\angled_strips\\angle-135\\angled_strips_width-50.bmp\n",
      "Template image saved as: .\\resources\\pattern\\angled_strips\\angle-135\\template\\angled_strips_width-50.bmp\n",
      "DMD pattern saved as: .\\resources\\pattern\\angled_strips\\angle-135\\angled_strips_width-100.bmp\n",
      "Template image saved as: .\\resources\\pattern\\angled_strips\\angle-135\\template\\angled_strips_width-100.bmp\n",
      "DMD pattern saved as: .\\resources\\pattern\\angled_strips\\angle-150\\angled_strips_width-5.bmp\n",
      "Template image saved as: .\\resources\\pattern\\angled_strips\\angle-150\\template\\angled_strips_width-5.bmp\n",
      "DMD pattern saved as: .\\resources\\pattern\\angled_strips\\angle-150\\angled_strips_width-10.bmp\n",
      "Template image saved as: .\\resources\\pattern\\angled_strips\\angle-150\\template\\angled_strips_width-10.bmp\n",
      "DMD pattern saved as: .\\resources\\pattern\\angled_strips\\angle-150\\angled_strips_width-20.bmp\n",
      "Template image saved as: .\\resources\\pattern\\angled_strips\\angle-150\\template\\angled_strips_width-20.bmp\n",
      "DMD pattern saved as: .\\resources\\pattern\\angled_strips\\angle-150\\angled_strips_width-50.bmp\n",
      "Template image saved as: .\\resources\\pattern\\angled_strips\\angle-150\\template\\angled_strips_width-50.bmp\n",
      "DMD pattern saved as: .\\resources\\pattern\\angled_strips\\angle-150\\angled_strips_width-100.bmp\n",
      "Template image saved as: .\\resources\\pattern\\angled_strips\\angle-150\\template\\angled_strips_width-100.bmp\n",
      "DMD pattern saved as: .\\resources\\pattern\\angled_strips\\angle-165\\angled_strips_width-5.bmp\n",
      "Template image saved as: .\\resources\\pattern\\angled_strips\\angle-165\\template\\angled_strips_width-5.bmp\n",
      "DMD pattern saved as: .\\resources\\pattern\\angled_strips\\angle-165\\angled_strips_width-10.bmp\n",
      "Template image saved as: .\\resources\\pattern\\angled_strips\\angle-165\\template\\angled_strips_width-10.bmp\n",
      "DMD pattern saved as: .\\resources\\pattern\\angled_strips\\angle-165\\angled_strips_width-20.bmp\n",
      "Template image saved as: .\\resources\\pattern\\angled_strips\\angle-165\\template\\angled_strips_width-20.bmp\n",
      "DMD pattern saved as: .\\resources\\pattern\\angled_strips\\angle-165\\angled_strips_width-50.bmp\n",
      "Template image saved as: .\\resources\\pattern\\angled_strips\\angle-165\\template\\angled_strips_width-50.bmp\n",
      "DMD pattern saved as: .\\resources\\pattern\\angled_strips\\angle-165\\angled_strips_width-100.bmp\n",
      "Template image saved as: .\\resources\\pattern\\angled_strips\\angle-165\\template\\angled_strips_width-100.bmp\n"
     ]
    }
   ],
   "source": [
    "angle = [0, 15, 30, 45, 60, 75, 90, 105, 120, 135, 150, 165]\n",
    "width = [5, 10, 20, 50, 100]\n",
    "\n",
    "for a, w in product(angle, width):\n",
    "    filename = f'angled_strips_width-{w}.bmp'\n",
    "\n",
    "    dmd.drawPattern(painter.drawAngledStrips(angle=a, width=w), color=1)\n",
    "    dmd.saveFrameToFile(save_dir + f'pattern/angled_strips/angle-{a}/', filename)"
   ]
  },
  {
   "cell_type": "markdown",
   "metadata": {},
   "source": [
    "#### Generate half plane"
   ]
  },
  {
   "cell_type": "code",
   "execution_count": 23,
   "metadata": {},
   "outputs": [
    {
     "name": "stdout",
     "output_type": "stream",
     "text": [
      "DMD pattern saved as: .\\resources\\pattern\\half_plane\\horizontal_half_plane.bmp\n",
      "Template image saved as: .\\resources\\pattern\\half_plane\\template\\horizontal_half_plane.bmp\n",
      "DMD pattern saved as: .\\resources\\pattern\\half_plane\\horizontal_half_plane_gray_black.bmp\n",
      "Template image saved as: .\\resources\\pattern\\half_plane\\template\\horizontal_half_plane_gray_black.bmp\n"
     ]
    }
   ],
   "source": [
    "filename = f'horizontal_half_plane.bmp'\n",
    "dmd.drawPattern(painter.drawHorizontalHalfPlane(), color=1)\n",
    "dmd.saveFrameToFile(save_dir + 'pattern/half_plane/', filename)\n",
    "\n",
    "filename = f'horizontal_half_plane_gray_black.bmp'\n",
    "dmd.drawPattern(painter.drawHorizontalHalfPlane(), color=0b10101010, template_color=0)\n",
    "dmd.saveFrameToFile(save_dir + 'pattern/half_plane/', filename)"
   ]
  },
  {
   "cell_type": "code",
   "execution_count": 24,
   "metadata": {},
   "outputs": [
    {
     "name": "stdout",
     "output_type": "stream",
     "text": [
      "DMD pattern saved as: .\\resources\\pattern\\half_plane_buffered\\horizontal_half_plane_gray_white_buffer-2.bmp\n",
      "Template image saved as: .\\resources\\pattern\\half_plane_buffered\\template\\horizontal_half_plane_gray_white_buffer-2.bmp\n",
      "DMD pattern saved as: .\\resources\\pattern\\half_plane_buffered\\horizontal_half_plane_gray_white_buffer-5.bmp\n",
      "Template image saved as: .\\resources\\pattern\\half_plane_buffered\\template\\horizontal_half_plane_gray_white_buffer-5.bmp\n",
      "DMD pattern saved as: .\\resources\\pattern\\half_plane_buffered\\horizontal_half_plane_gray_white_buffer-10.bmp\n",
      "Template image saved as: .\\resources\\pattern\\half_plane_buffered\\template\\horizontal_half_plane_gray_white_buffer-10.bmp\n",
      "DMD pattern saved as: .\\resources\\pattern\\half_plane_buffered\\horizontal_half_plane_gray_white_buffer-20.bmp\n",
      "Template image saved as: .\\resources\\pattern\\half_plane_buffered\\template\\horizontal_half_plane_gray_white_buffer-20.bmp\n",
      "DMD pattern saved as: .\\resources\\pattern\\half_plane_buffered\\horizontal_half_plane_gray_white_buffer-50.bmp\n",
      "Template image saved as: .\\resources\\pattern\\half_plane_buffered\\template\\horizontal_half_plane_gray_white_buffer-50.bmp\n"
     ]
    }
   ],
   "source": [
    "buffer = [2, 5, 10, 20, 50]\n",
    "\n",
    "for b in buffer:\n",
    "    filename = f'horizontal_half_plane_gray_white_buffer-{b}.bmp'\n",
    "\n",
    "    dmd.drawPattern(painter.drawHorizontalHalfPlane(row_offset=-1 * b), color=1, template_color=0)\n",
    "    dmd.drawPattern(painter.drawHorizontalHalfPlane(row_offset=b), color=0b10101010, reset=False)\n",
    "    dmd.saveFrameToFile(save_dir + f'pattern/half_plane_buffered/', filename)"
   ]
  },
  {
   "cell_type": "markdown",
   "metadata": {},
   "source": [
    "#### Generate angled lines"
   ]
  },
  {
   "cell_type": "code",
   "execution_count": 25,
   "metadata": {},
   "outputs": [
    {
     "name": "stdout",
     "output_type": "stream",
     "text": [
      "DMD pattern saved as: .\\resources\\pattern\\bright_angled_line\\angle-0\\bright_line_width-1.bmp\n",
      "Template image saved as: .\\resources\\pattern\\bright_angled_line\\angle-0\\template\\bright_line_width-1.bmp\n",
      "DMD pattern saved as: .\\resources\\pattern\\bright_angled_line\\angle-0\\bright_line_width-2.bmp\n",
      "Template image saved as: .\\resources\\pattern\\bright_angled_line\\angle-0\\template\\bright_line_width-2.bmp\n",
      "DMD pattern saved as: .\\resources\\pattern\\bright_angled_line\\angle-0\\bright_line_width-5.bmp\n",
      "Template image saved as: .\\resources\\pattern\\bright_angled_line\\angle-0\\template\\bright_line_width-5.bmp\n",
      "DMD pattern saved as: .\\resources\\pattern\\bright_angled_line\\angle-0\\bright_line_width-10.bmp\n",
      "Template image saved as: .\\resources\\pattern\\bright_angled_line\\angle-0\\template\\bright_line_width-10.bmp\n",
      "DMD pattern saved as: .\\resources\\pattern\\bright_angled_line\\angle-0\\bright_line_width-20.bmp\n",
      "Template image saved as: .\\resources\\pattern\\bright_angled_line\\angle-0\\template\\bright_line_width-20.bmp\n",
      "DMD pattern saved as: .\\resources\\pattern\\bright_angled_line\\angle-15\\bright_line_width-1.bmp\n",
      "Template image saved as: .\\resources\\pattern\\bright_angled_line\\angle-15\\template\\bright_line_width-1.bmp\n",
      "DMD pattern saved as: .\\resources\\pattern\\bright_angled_line\\angle-15\\bright_line_width-2.bmp\n",
      "Template image saved as: .\\resources\\pattern\\bright_angled_line\\angle-15\\template\\bright_line_width-2.bmp\n",
      "DMD pattern saved as: .\\resources\\pattern\\bright_angled_line\\angle-15\\bright_line_width-5.bmp\n",
      "Template image saved as: .\\resources\\pattern\\bright_angled_line\\angle-15\\template\\bright_line_width-5.bmp\n",
      "DMD pattern saved as: .\\resources\\pattern\\bright_angled_line\\angle-15\\bright_line_width-10.bmp\n",
      "Template image saved as: .\\resources\\pattern\\bright_angled_line\\angle-15\\template\\bright_line_width-10.bmp\n",
      "DMD pattern saved as: .\\resources\\pattern\\bright_angled_line\\angle-15\\bright_line_width-20.bmp\n",
      "Template image saved as: .\\resources\\pattern\\bright_angled_line\\angle-15\\template\\bright_line_width-20.bmp\n",
      "DMD pattern saved as: .\\resources\\pattern\\bright_angled_line\\angle-30\\bright_line_width-1.bmp\n",
      "Template image saved as: .\\resources\\pattern\\bright_angled_line\\angle-30\\template\\bright_line_width-1.bmp\n",
      "DMD pattern saved as: .\\resources\\pattern\\bright_angled_line\\angle-30\\bright_line_width-2.bmp\n",
      "Template image saved as: .\\resources\\pattern\\bright_angled_line\\angle-30\\template\\bright_line_width-2.bmp\n",
      "DMD pattern saved as: .\\resources\\pattern\\bright_angled_line\\angle-30\\bright_line_width-5.bmp\n",
      "Template image saved as: .\\resources\\pattern\\bright_angled_line\\angle-30\\template\\bright_line_width-5.bmp\n",
      "DMD pattern saved as: .\\resources\\pattern\\bright_angled_line\\angle-30\\bright_line_width-10.bmp\n",
      "Template image saved as: .\\resources\\pattern\\bright_angled_line\\angle-30\\template\\bright_line_width-10.bmp\n",
      "DMD pattern saved as: .\\resources\\pattern\\bright_angled_line\\angle-30\\bright_line_width-20.bmp\n",
      "Template image saved as: .\\resources\\pattern\\bright_angled_line\\angle-30\\template\\bright_line_width-20.bmp\n",
      "DMD pattern saved as: .\\resources\\pattern\\bright_angled_line\\angle-45\\bright_line_width-1.bmp\n",
      "Template image saved as: .\\resources\\pattern\\bright_angled_line\\angle-45\\template\\bright_line_width-1.bmp\n",
      "DMD pattern saved as: .\\resources\\pattern\\bright_angled_line\\angle-45\\bright_line_width-2.bmp\n",
      "Template image saved as: .\\resources\\pattern\\bright_angled_line\\angle-45\\template\\bright_line_width-2.bmp\n",
      "DMD pattern saved as: .\\resources\\pattern\\bright_angled_line\\angle-45\\bright_line_width-5.bmp\n",
      "Template image saved as: .\\resources\\pattern\\bright_angled_line\\angle-45\\template\\bright_line_width-5.bmp\n",
      "DMD pattern saved as: .\\resources\\pattern\\bright_angled_line\\angle-45\\bright_line_width-10.bmp\n",
      "Template image saved as: .\\resources\\pattern\\bright_angled_line\\angle-45\\template\\bright_line_width-10.bmp\n",
      "DMD pattern saved as: .\\resources\\pattern\\bright_angled_line\\angle-45\\bright_line_width-20.bmp\n",
      "Template image saved as: .\\resources\\pattern\\bright_angled_line\\angle-45\\template\\bright_line_width-20.bmp\n",
      "DMD pattern saved as: .\\resources\\pattern\\bright_angled_line\\angle-60\\bright_line_width-1.bmp\n",
      "Template image saved as: .\\resources\\pattern\\bright_angled_line\\angle-60\\template\\bright_line_width-1.bmp\n",
      "DMD pattern saved as: .\\resources\\pattern\\bright_angled_line\\angle-60\\bright_line_width-2.bmp\n",
      "Template image saved as: .\\resources\\pattern\\bright_angled_line\\angle-60\\template\\bright_line_width-2.bmp\n",
      "DMD pattern saved as: .\\resources\\pattern\\bright_angled_line\\angle-60\\bright_line_width-5.bmp\n",
      "Template image saved as: .\\resources\\pattern\\bright_angled_line\\angle-60\\template\\bright_line_width-5.bmp\n",
      "DMD pattern saved as: .\\resources\\pattern\\bright_angled_line\\angle-60\\bright_line_width-10.bmp\n",
      "Template image saved as: .\\resources\\pattern\\bright_angled_line\\angle-60\\template\\bright_line_width-10.bmp\n",
      "DMD pattern saved as: .\\resources\\pattern\\bright_angled_line\\angle-60\\bright_line_width-20.bmp\n",
      "Template image saved as: .\\resources\\pattern\\bright_angled_line\\angle-60\\template\\bright_line_width-20.bmp\n",
      "DMD pattern saved as: .\\resources\\pattern\\bright_angled_line\\angle-75\\bright_line_width-1.bmp\n",
      "Template image saved as: .\\resources\\pattern\\bright_angled_line\\angle-75\\template\\bright_line_width-1.bmp\n",
      "DMD pattern saved as: .\\resources\\pattern\\bright_angled_line\\angle-75\\bright_line_width-2.bmp\n",
      "Template image saved as: .\\resources\\pattern\\bright_angled_line\\angle-75\\template\\bright_line_width-2.bmp\n",
      "DMD pattern saved as: .\\resources\\pattern\\bright_angled_line\\angle-75\\bright_line_width-5.bmp\n",
      "Template image saved as: .\\resources\\pattern\\bright_angled_line\\angle-75\\template\\bright_line_width-5.bmp\n",
      "DMD pattern saved as: .\\resources\\pattern\\bright_angled_line\\angle-75\\bright_line_width-10.bmp\n",
      "Template image saved as: .\\resources\\pattern\\bright_angled_line\\angle-75\\template\\bright_line_width-10.bmp\n",
      "DMD pattern saved as: .\\resources\\pattern\\bright_angled_line\\angle-75\\bright_line_width-20.bmp\n",
      "Template image saved as: .\\resources\\pattern\\bright_angled_line\\angle-75\\template\\bright_line_width-20.bmp\n",
      "DMD pattern saved as: .\\resources\\pattern\\bright_angled_line\\angle-90\\bright_line_width-1.bmp\n",
      "Template image saved as: .\\resources\\pattern\\bright_angled_line\\angle-90\\template\\bright_line_width-1.bmp\n",
      "DMD pattern saved as: .\\resources\\pattern\\bright_angled_line\\angle-90\\bright_line_width-2.bmp\n",
      "Template image saved as: .\\resources\\pattern\\bright_angled_line\\angle-90\\template\\bright_line_width-2.bmp\n",
      "DMD pattern saved as: .\\resources\\pattern\\bright_angled_line\\angle-90\\bright_line_width-5.bmp\n",
      "Template image saved as: .\\resources\\pattern\\bright_angled_line\\angle-90\\template\\bright_line_width-5.bmp\n",
      "DMD pattern saved as: .\\resources\\pattern\\bright_angled_line\\angle-90\\bright_line_width-10.bmp\n",
      "Template image saved as: .\\resources\\pattern\\bright_angled_line\\angle-90\\template\\bright_line_width-10.bmp\n",
      "DMD pattern saved as: .\\resources\\pattern\\bright_angled_line\\angle-90\\bright_line_width-20.bmp\n",
      "Template image saved as: .\\resources\\pattern\\bright_angled_line\\angle-90\\template\\bright_line_width-20.bmp\n",
      "DMD pattern saved as: .\\resources\\pattern\\bright_angled_line\\angle-105\\bright_line_width-1.bmp\n",
      "Template image saved as: .\\resources\\pattern\\bright_angled_line\\angle-105\\template\\bright_line_width-1.bmp\n",
      "DMD pattern saved as: .\\resources\\pattern\\bright_angled_line\\angle-105\\bright_line_width-2.bmp\n",
      "Template image saved as: .\\resources\\pattern\\bright_angled_line\\angle-105\\template\\bright_line_width-2.bmp\n",
      "DMD pattern saved as: .\\resources\\pattern\\bright_angled_line\\angle-105\\bright_line_width-5.bmp\n",
      "Template image saved as: .\\resources\\pattern\\bright_angled_line\\angle-105\\template\\bright_line_width-5.bmp\n",
      "DMD pattern saved as: .\\resources\\pattern\\bright_angled_line\\angle-105\\bright_line_width-10.bmp\n",
      "Template image saved as: .\\resources\\pattern\\bright_angled_line\\angle-105\\template\\bright_line_width-10.bmp\n",
      "DMD pattern saved as: .\\resources\\pattern\\bright_angled_line\\angle-105\\bright_line_width-20.bmp\n",
      "Template image saved as: .\\resources\\pattern\\bright_angled_line\\angle-105\\template\\bright_line_width-20.bmp\n",
      "DMD pattern saved as: .\\resources\\pattern\\bright_angled_line\\angle-120\\bright_line_width-1.bmp\n",
      "Template image saved as: .\\resources\\pattern\\bright_angled_line\\angle-120\\template\\bright_line_width-1.bmp\n",
      "DMD pattern saved as: .\\resources\\pattern\\bright_angled_line\\angle-120\\bright_line_width-2.bmp\n",
      "Template image saved as: .\\resources\\pattern\\bright_angled_line\\angle-120\\template\\bright_line_width-2.bmp\n",
      "DMD pattern saved as: .\\resources\\pattern\\bright_angled_line\\angle-120\\bright_line_width-5.bmp\n",
      "Template image saved as: .\\resources\\pattern\\bright_angled_line\\angle-120\\template\\bright_line_width-5.bmp\n",
      "DMD pattern saved as: .\\resources\\pattern\\bright_angled_line\\angle-120\\bright_line_width-10.bmp\n",
      "Template image saved as: .\\resources\\pattern\\bright_angled_line\\angle-120\\template\\bright_line_width-10.bmp\n",
      "DMD pattern saved as: .\\resources\\pattern\\bright_angled_line\\angle-120\\bright_line_width-20.bmp\n",
      "Template image saved as: .\\resources\\pattern\\bright_angled_line\\angle-120\\template\\bright_line_width-20.bmp\n",
      "DMD pattern saved as: .\\resources\\pattern\\bright_angled_line\\angle-135\\bright_line_width-1.bmp\n",
      "Template image saved as: .\\resources\\pattern\\bright_angled_line\\angle-135\\template\\bright_line_width-1.bmp\n",
      "DMD pattern saved as: .\\resources\\pattern\\bright_angled_line\\angle-135\\bright_line_width-2.bmp\n",
      "Template image saved as: .\\resources\\pattern\\bright_angled_line\\angle-135\\template\\bright_line_width-2.bmp\n",
      "DMD pattern saved as: .\\resources\\pattern\\bright_angled_line\\angle-135\\bright_line_width-5.bmp\n",
      "Template image saved as: .\\resources\\pattern\\bright_angled_line\\angle-135\\template\\bright_line_width-5.bmp\n",
      "DMD pattern saved as: .\\resources\\pattern\\bright_angled_line\\angle-135\\bright_line_width-10.bmp\n",
      "Template image saved as: .\\resources\\pattern\\bright_angled_line\\angle-135\\template\\bright_line_width-10.bmp\n",
      "DMD pattern saved as: .\\resources\\pattern\\bright_angled_line\\angle-135\\bright_line_width-20.bmp\n",
      "Template image saved as: .\\resources\\pattern\\bright_angled_line\\angle-135\\template\\bright_line_width-20.bmp\n",
      "DMD pattern saved as: .\\resources\\pattern\\bright_angled_line\\angle-150\\bright_line_width-1.bmp\n",
      "Template image saved as: .\\resources\\pattern\\bright_angled_line\\angle-150\\template\\bright_line_width-1.bmp\n",
      "DMD pattern saved as: .\\resources\\pattern\\bright_angled_line\\angle-150\\bright_line_width-2.bmp\n",
      "Template image saved as: .\\resources\\pattern\\bright_angled_line\\angle-150\\template\\bright_line_width-2.bmp\n",
      "DMD pattern saved as: .\\resources\\pattern\\bright_angled_line\\angle-150\\bright_line_width-5.bmp\n",
      "Template image saved as: .\\resources\\pattern\\bright_angled_line\\angle-150\\template\\bright_line_width-5.bmp\n",
      "DMD pattern saved as: .\\resources\\pattern\\bright_angled_line\\angle-150\\bright_line_width-10.bmp\n",
      "Template image saved as: .\\resources\\pattern\\bright_angled_line\\angle-150\\template\\bright_line_width-10.bmp\n",
      "DMD pattern saved as: .\\resources\\pattern\\bright_angled_line\\angle-150\\bright_line_width-20.bmp\n",
      "Template image saved as: .\\resources\\pattern\\bright_angled_line\\angle-150\\template\\bright_line_width-20.bmp\n"
     ]
    }
   ],
   "source": [
    "angle = [0, 15, 30, 45, 60, 75, 90, 105, 120, 135, 150]\n",
    "width = [1, 2, 5, 10, 20]\n",
    "\n",
    "for a, w in product(angle, width):\n",
    "    filename = f'bright_line_width-{w}.bmp'\n",
    "\n",
    "    dmd.drawPattern(painter.drawAngledLine(angle=a, width=w), color=1)\n",
    "    dmd.saveFrameToFile(save_dir + f'pattern/bright_angled_line/angle-{a}/', filename)"
   ]
  },
  {
   "cell_type": "markdown",
   "metadata": {},
   "source": [
    "#### Generate angled cross"
   ]
  },
  {
   "cell_type": "code",
   "execution_count": 26,
   "metadata": {},
   "outputs": [
    {
     "name": "stdout",
     "output_type": "stream",
     "text": [
      "DMD pattern saved as: .\\resources\\pattern\\bright_angled_cross\\angle-0\\bright_cross_halfwidth-1.bmp\n",
      "Template image saved as: .\\resources\\pattern\\bright_angled_cross\\angle-0\\template\\bright_cross_halfwidth-1.bmp\n",
      "DMD pattern saved as: .\\resources\\pattern\\bright_angled_cross\\angle-0\\bright_cross_halfwidth-2.bmp\n",
      "Template image saved as: .\\resources\\pattern\\bright_angled_cross\\angle-0\\template\\bright_cross_halfwidth-2.bmp\n",
      "DMD pattern saved as: .\\resources\\pattern\\bright_angled_cross\\angle-0\\bright_cross_halfwidth-5.bmp\n",
      "Template image saved as: .\\resources\\pattern\\bright_angled_cross\\angle-0\\template\\bright_cross_halfwidth-5.bmp\n",
      "DMD pattern saved as: .\\resources\\pattern\\bright_angled_cross\\angle-0\\bright_cross_halfwidth-10.bmp\n",
      "Template image saved as: .\\resources\\pattern\\bright_angled_cross\\angle-0\\template\\bright_cross_halfwidth-10.bmp\n",
      "DMD pattern saved as: .\\resources\\pattern\\bright_angled_cross\\angle-0\\bright_cross_halfwidth-20.bmp\n",
      "Template image saved as: .\\resources\\pattern\\bright_angled_cross\\angle-0\\template\\bright_cross_halfwidth-20.bmp\n",
      "DMD pattern saved as: .\\resources\\pattern\\bright_angled_cross\\angle-15\\bright_cross_halfwidth-1.bmp\n",
      "Template image saved as: .\\resources\\pattern\\bright_angled_cross\\angle-15\\template\\bright_cross_halfwidth-1.bmp\n",
      "DMD pattern saved as: .\\resources\\pattern\\bright_angled_cross\\angle-15\\bright_cross_halfwidth-2.bmp\n",
      "Template image saved as: .\\resources\\pattern\\bright_angled_cross\\angle-15\\template\\bright_cross_halfwidth-2.bmp\n",
      "DMD pattern saved as: .\\resources\\pattern\\bright_angled_cross\\angle-15\\bright_cross_halfwidth-5.bmp\n",
      "Template image saved as: .\\resources\\pattern\\bright_angled_cross\\angle-15\\template\\bright_cross_halfwidth-5.bmp\n",
      "DMD pattern saved as: .\\resources\\pattern\\bright_angled_cross\\angle-15\\bright_cross_halfwidth-10.bmp\n",
      "Template image saved as: .\\resources\\pattern\\bright_angled_cross\\angle-15\\template\\bright_cross_halfwidth-10.bmp\n",
      "DMD pattern saved as: .\\resources\\pattern\\bright_angled_cross\\angle-15\\bright_cross_halfwidth-20.bmp\n",
      "Template image saved as: .\\resources\\pattern\\bright_angled_cross\\angle-15\\template\\bright_cross_halfwidth-20.bmp\n",
      "DMD pattern saved as: .\\resources\\pattern\\bright_angled_cross\\angle-30\\bright_cross_halfwidth-1.bmp\n",
      "Template image saved as: .\\resources\\pattern\\bright_angled_cross\\angle-30\\template\\bright_cross_halfwidth-1.bmp\n",
      "DMD pattern saved as: .\\resources\\pattern\\bright_angled_cross\\angle-30\\bright_cross_halfwidth-2.bmp\n",
      "Template image saved as: .\\resources\\pattern\\bright_angled_cross\\angle-30\\template\\bright_cross_halfwidth-2.bmp\n",
      "DMD pattern saved as: .\\resources\\pattern\\bright_angled_cross\\angle-30\\bright_cross_halfwidth-5.bmp\n",
      "Template image saved as: .\\resources\\pattern\\bright_angled_cross\\angle-30\\template\\bright_cross_halfwidth-5.bmp\n",
      "DMD pattern saved as: .\\resources\\pattern\\bright_angled_cross\\angle-30\\bright_cross_halfwidth-10.bmp\n",
      "Template image saved as: .\\resources\\pattern\\bright_angled_cross\\angle-30\\template\\bright_cross_halfwidth-10.bmp\n",
      "DMD pattern saved as: .\\resources\\pattern\\bright_angled_cross\\angle-30\\bright_cross_halfwidth-20.bmp\n",
      "Template image saved as: .\\resources\\pattern\\bright_angled_cross\\angle-30\\template\\bright_cross_halfwidth-20.bmp\n",
      "DMD pattern saved as: .\\resources\\pattern\\bright_angled_cross\\angle-45\\bright_cross_halfwidth-1.bmp\n",
      "Template image saved as: .\\resources\\pattern\\bright_angled_cross\\angle-45\\template\\bright_cross_halfwidth-1.bmp\n",
      "DMD pattern saved as: .\\resources\\pattern\\bright_angled_cross\\angle-45\\bright_cross_halfwidth-2.bmp\n",
      "Template image saved as: .\\resources\\pattern\\bright_angled_cross\\angle-45\\template\\bright_cross_halfwidth-2.bmp\n",
      "DMD pattern saved as: .\\resources\\pattern\\bright_angled_cross\\angle-45\\bright_cross_halfwidth-5.bmp\n",
      "Template image saved as: .\\resources\\pattern\\bright_angled_cross\\angle-45\\template\\bright_cross_halfwidth-5.bmp\n",
      "DMD pattern saved as: .\\resources\\pattern\\bright_angled_cross\\angle-45\\bright_cross_halfwidth-10.bmp\n",
      "Template image saved as: .\\resources\\pattern\\bright_angled_cross\\angle-45\\template\\bright_cross_halfwidth-10.bmp\n",
      "DMD pattern saved as: .\\resources\\pattern\\bright_angled_cross\\angle-45\\bright_cross_halfwidth-20.bmp\n",
      "Template image saved as: .\\resources\\pattern\\bright_angled_cross\\angle-45\\template\\bright_cross_halfwidth-20.bmp\n",
      "DMD pattern saved as: .\\resources\\pattern\\bright_angled_cross\\angle-60\\bright_cross_halfwidth-1.bmp\n",
      "Template image saved as: .\\resources\\pattern\\bright_angled_cross\\angle-60\\template\\bright_cross_halfwidth-1.bmp\n",
      "DMD pattern saved as: .\\resources\\pattern\\bright_angled_cross\\angle-60\\bright_cross_halfwidth-2.bmp\n",
      "Template image saved as: .\\resources\\pattern\\bright_angled_cross\\angle-60\\template\\bright_cross_halfwidth-2.bmp\n",
      "DMD pattern saved as: .\\resources\\pattern\\bright_angled_cross\\angle-60\\bright_cross_halfwidth-5.bmp\n",
      "Template image saved as: .\\resources\\pattern\\bright_angled_cross\\angle-60\\template\\bright_cross_halfwidth-5.bmp\n",
      "DMD pattern saved as: .\\resources\\pattern\\bright_angled_cross\\angle-60\\bright_cross_halfwidth-10.bmp\n",
      "Template image saved as: .\\resources\\pattern\\bright_angled_cross\\angle-60\\template\\bright_cross_halfwidth-10.bmp\n",
      "DMD pattern saved as: .\\resources\\pattern\\bright_angled_cross\\angle-60\\bright_cross_halfwidth-20.bmp\n",
      "Template image saved as: .\\resources\\pattern\\bright_angled_cross\\angle-60\\template\\bright_cross_halfwidth-20.bmp\n",
      "DMD pattern saved as: .\\resources\\pattern\\bright_angled_cross\\angle-75\\bright_cross_halfwidth-1.bmp\n",
      "Template image saved as: .\\resources\\pattern\\bright_angled_cross\\angle-75\\template\\bright_cross_halfwidth-1.bmp\n",
      "DMD pattern saved as: .\\resources\\pattern\\bright_angled_cross\\angle-75\\bright_cross_halfwidth-2.bmp\n",
      "Template image saved as: .\\resources\\pattern\\bright_angled_cross\\angle-75\\template\\bright_cross_halfwidth-2.bmp\n",
      "DMD pattern saved as: .\\resources\\pattern\\bright_angled_cross\\angle-75\\bright_cross_halfwidth-5.bmp\n",
      "Template image saved as: .\\resources\\pattern\\bright_angled_cross\\angle-75\\template\\bright_cross_halfwidth-5.bmp\n",
      "DMD pattern saved as: .\\resources\\pattern\\bright_angled_cross\\angle-75\\bright_cross_halfwidth-10.bmp\n",
      "Template image saved as: .\\resources\\pattern\\bright_angled_cross\\angle-75\\template\\bright_cross_halfwidth-10.bmp\n",
      "DMD pattern saved as: .\\resources\\pattern\\bright_angled_cross\\angle-75\\bright_cross_halfwidth-20.bmp\n",
      "Template image saved as: .\\resources\\pattern\\bright_angled_cross\\angle-75\\template\\bright_cross_halfwidth-20.bmp\n",
      "DMD pattern saved as: .\\resources\\pattern\\bright_angled_cross\\angle-90\\bright_cross_halfwidth-1.bmp\n",
      "Template image saved as: .\\resources\\pattern\\bright_angled_cross\\angle-90\\template\\bright_cross_halfwidth-1.bmp\n",
      "DMD pattern saved as: .\\resources\\pattern\\bright_angled_cross\\angle-90\\bright_cross_halfwidth-2.bmp\n",
      "Template image saved as: .\\resources\\pattern\\bright_angled_cross\\angle-90\\template\\bright_cross_halfwidth-2.bmp\n",
      "DMD pattern saved as: .\\resources\\pattern\\bright_angled_cross\\angle-90\\bright_cross_halfwidth-5.bmp\n",
      "Template image saved as: .\\resources\\pattern\\bright_angled_cross\\angle-90\\template\\bright_cross_halfwidth-5.bmp\n",
      "DMD pattern saved as: .\\resources\\pattern\\bright_angled_cross\\angle-90\\bright_cross_halfwidth-10.bmp\n",
      "Template image saved as: .\\resources\\pattern\\bright_angled_cross\\angle-90\\template\\bright_cross_halfwidth-10.bmp\n",
      "DMD pattern saved as: .\\resources\\pattern\\bright_angled_cross\\angle-90\\bright_cross_halfwidth-20.bmp\n",
      "Template image saved as: .\\resources\\pattern\\bright_angled_cross\\angle-90\\template\\bright_cross_halfwidth-20.bmp\n",
      "DMD pattern saved as: .\\resources\\pattern\\bright_angled_cross\\angle-105\\bright_cross_halfwidth-1.bmp\n",
      "Template image saved as: .\\resources\\pattern\\bright_angled_cross\\angle-105\\template\\bright_cross_halfwidth-1.bmp\n",
      "DMD pattern saved as: .\\resources\\pattern\\bright_angled_cross\\angle-105\\bright_cross_halfwidth-2.bmp\n",
      "Template image saved as: .\\resources\\pattern\\bright_angled_cross\\angle-105\\template\\bright_cross_halfwidth-2.bmp\n",
      "DMD pattern saved as: .\\resources\\pattern\\bright_angled_cross\\angle-105\\bright_cross_halfwidth-5.bmp\n",
      "Template image saved as: .\\resources\\pattern\\bright_angled_cross\\angle-105\\template\\bright_cross_halfwidth-5.bmp\n",
      "DMD pattern saved as: .\\resources\\pattern\\bright_angled_cross\\angle-105\\bright_cross_halfwidth-10.bmp\n",
      "Template image saved as: .\\resources\\pattern\\bright_angled_cross\\angle-105\\template\\bright_cross_halfwidth-10.bmp\n",
      "DMD pattern saved as: .\\resources\\pattern\\bright_angled_cross\\angle-105\\bright_cross_halfwidth-20.bmp\n",
      "Template image saved as: .\\resources\\pattern\\bright_angled_cross\\angle-105\\template\\bright_cross_halfwidth-20.bmp\n",
      "DMD pattern saved as: .\\resources\\pattern\\bright_angled_cross\\angle-120\\bright_cross_halfwidth-1.bmp\n",
      "Template image saved as: .\\resources\\pattern\\bright_angled_cross\\angle-120\\template\\bright_cross_halfwidth-1.bmp\n",
      "DMD pattern saved as: .\\resources\\pattern\\bright_angled_cross\\angle-120\\bright_cross_halfwidth-2.bmp\n",
      "Template image saved as: .\\resources\\pattern\\bright_angled_cross\\angle-120\\template\\bright_cross_halfwidth-2.bmp\n",
      "DMD pattern saved as: .\\resources\\pattern\\bright_angled_cross\\angle-120\\bright_cross_halfwidth-5.bmp\n",
      "Template image saved as: .\\resources\\pattern\\bright_angled_cross\\angle-120\\template\\bright_cross_halfwidth-5.bmp\n",
      "DMD pattern saved as: .\\resources\\pattern\\bright_angled_cross\\angle-120\\bright_cross_halfwidth-10.bmp\n",
      "Template image saved as: .\\resources\\pattern\\bright_angled_cross\\angle-120\\template\\bright_cross_halfwidth-10.bmp\n",
      "DMD pattern saved as: .\\resources\\pattern\\bright_angled_cross\\angle-120\\bright_cross_halfwidth-20.bmp\n",
      "Template image saved as: .\\resources\\pattern\\bright_angled_cross\\angle-120\\template\\bright_cross_halfwidth-20.bmp\n",
      "DMD pattern saved as: .\\resources\\pattern\\bright_angled_cross\\angle-135\\bright_cross_halfwidth-1.bmp\n",
      "Template image saved as: .\\resources\\pattern\\bright_angled_cross\\angle-135\\template\\bright_cross_halfwidth-1.bmp\n",
      "DMD pattern saved as: .\\resources\\pattern\\bright_angled_cross\\angle-135\\bright_cross_halfwidth-2.bmp\n",
      "Template image saved as: .\\resources\\pattern\\bright_angled_cross\\angle-135\\template\\bright_cross_halfwidth-2.bmp\n",
      "DMD pattern saved as: .\\resources\\pattern\\bright_angled_cross\\angle-135\\bright_cross_halfwidth-5.bmp\n",
      "Template image saved as: .\\resources\\pattern\\bright_angled_cross\\angle-135\\template\\bright_cross_halfwidth-5.bmp\n",
      "DMD pattern saved as: .\\resources\\pattern\\bright_angled_cross\\angle-135\\bright_cross_halfwidth-10.bmp\n",
      "Template image saved as: .\\resources\\pattern\\bright_angled_cross\\angle-135\\template\\bright_cross_halfwidth-10.bmp\n",
      "DMD pattern saved as: .\\resources\\pattern\\bright_angled_cross\\angle-135\\bright_cross_halfwidth-20.bmp\n",
      "Template image saved as: .\\resources\\pattern\\bright_angled_cross\\angle-135\\template\\bright_cross_halfwidth-20.bmp\n",
      "DMD pattern saved as: .\\resources\\pattern\\bright_angled_cross\\angle-150\\bright_cross_halfwidth-1.bmp\n",
      "Template image saved as: .\\resources\\pattern\\bright_angled_cross\\angle-150\\template\\bright_cross_halfwidth-1.bmp\n",
      "DMD pattern saved as: .\\resources\\pattern\\bright_angled_cross\\angle-150\\bright_cross_halfwidth-2.bmp\n",
      "Template image saved as: .\\resources\\pattern\\bright_angled_cross\\angle-150\\template\\bright_cross_halfwidth-2.bmp\n",
      "DMD pattern saved as: .\\resources\\pattern\\bright_angled_cross\\angle-150\\bright_cross_halfwidth-5.bmp\n",
      "Template image saved as: .\\resources\\pattern\\bright_angled_cross\\angle-150\\template\\bright_cross_halfwidth-5.bmp\n",
      "DMD pattern saved as: .\\resources\\pattern\\bright_angled_cross\\angle-150\\bright_cross_halfwidth-10.bmp\n",
      "Template image saved as: .\\resources\\pattern\\bright_angled_cross\\angle-150\\template\\bright_cross_halfwidth-10.bmp\n",
      "DMD pattern saved as: .\\resources\\pattern\\bright_angled_cross\\angle-150\\bright_cross_halfwidth-20.bmp\n",
      "Template image saved as: .\\resources\\pattern\\bright_angled_cross\\angle-150\\template\\bright_cross_halfwidth-20.bmp\n"
     ]
    }
   ],
   "source": [
    "angle = [0, 15, 30, 45, 60, 75, 90, 105, 120, 135, 150]\n",
    "half_width = [1, 2, 5, 10, 20]\n",
    "\n",
    "for a, w in product(angle, half_width):\n",
    "    filename = f'bright_cross_halfwidth-{w}.bmp'\n",
    "\n",
    "    dmd.drawPattern(painter.drawAngledCross(angle=a, half_width=w), color=1)\n",
    "    dmd.saveFrameToFile(save_dir + f'pattern/bright_angled_cross/angle-{a}/', filename)"
   ]
  },
  {
   "cell_type": "markdown",
   "metadata": {},
   "source": [
    "### Generate patterns for calibration of coordinate transformation"
   ]
  },
  {
   "cell_type": "markdown",
   "metadata": {},
   "source": [
    "#### Calibration pattern 1: several filled circles with radius r"
   ]
  },
  {
   "cell_type": "code",
   "execution_count": 27,
   "metadata": {},
   "outputs": [
    {
     "name": "stdout",
     "output_type": "stream",
     "text": [
      "DMD pattern saved as: .\\resources\\calibration\\dark_anchor\\anchor=((0, 0), (100, 0), (0, 150))\\anchor_r=5_((0, 0), (100, 0), (0, 150)).bmp\n",
      "Template image saved as: .\\resources\\calibration\\dark_anchor\\anchor=((0, 0), (100, 0), (0, 150))\\template\\anchor_r=5_((0, 0), (100, 0), (0, 150)).bmp\n",
      "DMD pattern saved as: .\\resources\\calibration\\dark_anchor\\anchor=((0, 0), (100, 0), (0, 150))\\anchor_r=10_((0, 0), (100, 0), (0, 150)).bmp\n",
      "Template image saved as: .\\resources\\calibration\\dark_anchor\\anchor=((0, 0), (100, 0), (0, 150))\\template\\anchor_r=10_((0, 0), (100, 0), (0, 150)).bmp\n",
      "DMD pattern saved as: .\\resources\\calibration\\dark_anchor\\anchor=((0, 0), (100, 0), (0, 150))\\anchor_r=20_((0, 0), (100, 0), (0, 150)).bmp\n",
      "Template image saved as: .\\resources\\calibration\\dark_anchor\\anchor=((0, 0), (100, 0), (0, 150))\\template\\anchor_r=20_((0, 0), (100, 0), (0, 150)).bmp\n",
      "DMD pattern saved as: .\\resources\\calibration\\dark_anchor\\anchor=((0, 0), (100, 0), (0, 150))\\anchor_r=30_((0, 0), (100, 0), (0, 150)).bmp\n",
      "Template image saved as: .\\resources\\calibration\\dark_anchor\\anchor=((0, 0), (100, 0), (0, 150))\\template\\anchor_r=30_((0, 0), (100, 0), (0, 150)).bmp\n",
      "DMD pattern saved as: .\\resources\\calibration\\dark_anchor\\anchor=((0, 0), (100, 0), (0, 150))\\anchor_r=40_((0, 0), (100, 0), (0, 150)).bmp\n",
      "Template image saved as: .\\resources\\calibration\\dark_anchor\\anchor=((0, 0), (100, 0), (0, 150))\\template\\anchor_r=40_((0, 0), (100, 0), (0, 150)).bmp\n",
      "DMD pattern saved as: .\\resources\\calibration\\dark_anchor\\anchor=((0, 0), (-100, 0), (100, 0), (0, 150), (0, -150))\\anchor_r=5_((0, 0), (-100, 0), (100, 0), (0, 150), (0, -150)).bmp\n",
      "Template image saved as: .\\resources\\calibration\\dark_anchor\\anchor=((0, 0), (-100, 0), (100, 0), (0, 150), (0, -150))\\template\\anchor_r=5_((0, 0), (-100, 0), (100, 0), (0, 150), (0, -150)).bmp\n",
      "DMD pattern saved as: .\\resources\\calibration\\dark_anchor\\anchor=((0, 0), (-100, 0), (100, 0), (0, 150), (0, -150))\\anchor_r=10_((0, 0), (-100, 0), (100, 0), (0, 150), (0, -150)).bmp\n",
      "Template image saved as: .\\resources\\calibration\\dark_anchor\\anchor=((0, 0), (-100, 0), (100, 0), (0, 150), (0, -150))\\template\\anchor_r=10_((0, 0), (-100, 0), (100, 0), (0, 150), (0, -150)).bmp\n",
      "DMD pattern saved as: .\\resources\\calibration\\dark_anchor\\anchor=((0, 0), (-100, 0), (100, 0), (0, 150), (0, -150))\\anchor_r=20_((0, 0), (-100, 0), (100, 0), (0, 150), (0, -150)).bmp\n",
      "Template image saved as: .\\resources\\calibration\\dark_anchor\\anchor=((0, 0), (-100, 0), (100, 0), (0, 150), (0, -150))\\template\\anchor_r=20_((0, 0), (-100, 0), (100, 0), (0, 150), (0, -150)).bmp\n",
      "DMD pattern saved as: .\\resources\\calibration\\dark_anchor\\anchor=((0, 0), (-100, 0), (100, 0), (0, 150), (0, -150))\\anchor_r=30_((0, 0), (-100, 0), (100, 0), (0, 150), (0, -150)).bmp\n",
      "Template image saved as: .\\resources\\calibration\\dark_anchor\\anchor=((0, 0), (-100, 0), (100, 0), (0, 150), (0, -150))\\template\\anchor_r=30_((0, 0), (-100, 0), (100, 0), (0, 150), (0, -150)).bmp\n",
      "DMD pattern saved as: .\\resources\\calibration\\dark_anchor\\anchor=((0, 0), (-100, 0), (100, 0), (0, 150), (0, -150))\\anchor_r=40_((0, 0), (-100, 0), (100, 0), (0, 150), (0, -150)).bmp\n",
      "Template image saved as: .\\resources\\calibration\\dark_anchor\\anchor=((0, 0), (-100, 0), (100, 0), (0, 150), (0, -150))\\template\\anchor_r=40_((0, 0), (-100, 0), (100, 0), (0, 150), (0, -150)).bmp\n"
     ]
    }
   ],
   "source": [
    "radius = [5, 10, 20, 30, 40]\n",
    "anchor_list = [((0, 0), (100, 0), (0, 150)),\n",
    "               ((0, 0), (-100, 0), (100, 0), (0, 150), (0, -150)),\n",
    "]\n",
    "\n",
    "for anchor, r in product(anchor_list, radius):\n",
    "    filename = f'anchor_r={r}_{anchor}.bmp'\n",
    "    dmd.drawPattern(painter.drawAnchorCircles(radius=r,\n",
    "                                              anchor=anchor\n",
    "                                              ), color=0)\n",
    "    dmd.saveFrameToFile(save_dir + f'calibration/dark_anchor/anchor={anchor}/', filename)"
   ]
  },
  {
   "cell_type": "markdown",
   "metadata": {},
   "source": [
    "#### Calibration pattern 2: a grid of background circles with radius r1 and the anchor circles with radius r2"
   ]
  },
  {
   "cell_type": "code",
   "execution_count": 28,
   "metadata": {},
   "outputs": [
    {
     "name": "stdout",
     "output_type": "stream",
     "text": [
      "DMD pattern saved as: .\\resources\\calibration\\bright_anchor_background_spacing=50\\anchor_background_r=0\\anchor_r=5_((0,0),(100,0),(0,150)).bmp\n",
      "Template image saved as: .\\resources\\calibration\\bright_anchor_background_spacing=50\\anchor_background_r=0\\template\\anchor_r=5_((0,0),(100,0),(0,150)).bmp\n",
      "DMD pattern saved as: .\\resources\\calibration\\bright_anchor_background_spacing=50\\anchor_background_r=0\\anchor_r=10_((0,0),(100,0),(0,150)).bmp\n",
      "Template image saved as: .\\resources\\calibration\\bright_anchor_background_spacing=50\\anchor_background_r=0\\template\\anchor_r=10_((0,0),(100,0),(0,150)).bmp\n",
      "DMD pattern saved as: .\\resources\\calibration\\bright_anchor_background_spacing=50\\anchor_background_r=0\\anchor_r=20_((0,0),(100,0),(0,150)).bmp\n",
      "Template image saved as: .\\resources\\calibration\\bright_anchor_background_spacing=50\\anchor_background_r=0\\template\\anchor_r=20_((0,0),(100,0),(0,150)).bmp\n",
      "DMD pattern saved as: .\\resources\\calibration\\bright_anchor_background_spacing=50\\anchor_background_r=0\\anchor_r=30_((0,0),(100,0),(0,150)).bmp\n",
      "Template image saved as: .\\resources\\calibration\\bright_anchor_background_spacing=50\\anchor_background_r=0\\template\\anchor_r=30_((0,0),(100,0),(0,150)).bmp\n",
      "DMD pattern saved as: .\\resources\\calibration\\bright_anchor_background_spacing=50\\anchor_background_r=0\\anchor_r=40_((0,0),(100,0),(0,150)).bmp\n",
      "Template image saved as: .\\resources\\calibration\\bright_anchor_background_spacing=50\\anchor_background_r=0\\template\\anchor_r=40_((0,0),(100,0),(0,150)).bmp\n",
      "DMD pattern saved as: .\\resources\\calibration\\bright_anchor_background_spacing=50\\anchor_background_r=1\\anchor_r=5_((0,0),(100,0),(0,150)).bmp\n",
      "Template image saved as: .\\resources\\calibration\\bright_anchor_background_spacing=50\\anchor_background_r=1\\template\\anchor_r=5_((0,0),(100,0),(0,150)).bmp\n",
      "DMD pattern saved as: .\\resources\\calibration\\bright_anchor_background_spacing=50\\anchor_background_r=1\\anchor_r=10_((0,0),(100,0),(0,150)).bmp\n",
      "Template image saved as: .\\resources\\calibration\\bright_anchor_background_spacing=50\\anchor_background_r=1\\template\\anchor_r=10_((0,0),(100,0),(0,150)).bmp\n",
      "DMD pattern saved as: .\\resources\\calibration\\bright_anchor_background_spacing=50\\anchor_background_r=1\\anchor_r=20_((0,0),(100,0),(0,150)).bmp\n",
      "Template image saved as: .\\resources\\calibration\\bright_anchor_background_spacing=50\\anchor_background_r=1\\template\\anchor_r=20_((0,0),(100,0),(0,150)).bmp\n",
      "DMD pattern saved as: .\\resources\\calibration\\bright_anchor_background_spacing=50\\anchor_background_r=1\\anchor_r=30_((0,0),(100,0),(0,150)).bmp\n",
      "Template image saved as: .\\resources\\calibration\\bright_anchor_background_spacing=50\\anchor_background_r=1\\template\\anchor_r=30_((0,0),(100,0),(0,150)).bmp\n",
      "DMD pattern saved as: .\\resources\\calibration\\bright_anchor_background_spacing=50\\anchor_background_r=1\\anchor_r=40_((0,0),(100,0),(0,150)).bmp\n",
      "Template image saved as: .\\resources\\calibration\\bright_anchor_background_spacing=50\\anchor_background_r=1\\template\\anchor_r=40_((0,0),(100,0),(0,150)).bmp\n",
      "DMD pattern saved as: .\\resources\\calibration\\bright_anchor_background_spacing=50\\anchor_background_r=2\\anchor_r=5_((0,0),(100,0),(0,150)).bmp\n",
      "Template image saved as: .\\resources\\calibration\\bright_anchor_background_spacing=50\\anchor_background_r=2\\template\\anchor_r=5_((0,0),(100,0),(0,150)).bmp\n",
      "DMD pattern saved as: .\\resources\\calibration\\bright_anchor_background_spacing=50\\anchor_background_r=2\\anchor_r=10_((0,0),(100,0),(0,150)).bmp\n",
      "Template image saved as: .\\resources\\calibration\\bright_anchor_background_spacing=50\\anchor_background_r=2\\template\\anchor_r=10_((0,0),(100,0),(0,150)).bmp\n",
      "DMD pattern saved as: .\\resources\\calibration\\bright_anchor_background_spacing=50\\anchor_background_r=2\\anchor_r=20_((0,0),(100,0),(0,150)).bmp\n",
      "Template image saved as: .\\resources\\calibration\\bright_anchor_background_spacing=50\\anchor_background_r=2\\template\\anchor_r=20_((0,0),(100,0),(0,150)).bmp\n",
      "DMD pattern saved as: .\\resources\\calibration\\bright_anchor_background_spacing=50\\anchor_background_r=2\\anchor_r=30_((0,0),(100,0),(0,150)).bmp\n",
      "Template image saved as: .\\resources\\calibration\\bright_anchor_background_spacing=50\\anchor_background_r=2\\template\\anchor_r=30_((0,0),(100,0),(0,150)).bmp\n",
      "DMD pattern saved as: .\\resources\\calibration\\bright_anchor_background_spacing=50\\anchor_background_r=2\\anchor_r=40_((0,0),(100,0),(0,150)).bmp\n",
      "Template image saved as: .\\resources\\calibration\\bright_anchor_background_spacing=50\\anchor_background_r=2\\template\\anchor_r=40_((0,0),(100,0),(0,150)).bmp\n"
     ]
    }
   ],
   "source": [
    "radius1 = [0, 1, 2]\n",
    "radius2 = [5, 10, 20, 30, 40]\n",
    "\n",
    "for r1, r2 in product(radius1, radius2):\n",
    "    if r2 > r1:\n",
    "        filename = f'anchor_r={r2}_((0,0),(100,0),(0,150)).bmp'\n",
    "        dmd.drawPattern(painter.drawAnchorCirclesWithBackgroundCircles(\n",
    "            bg_radius=r1, anchor_radius=r2), color=1)\n",
    "        dmd.saveFrameToFile(save_dir + f'calibration/bright_anchor_background_spacing=50/anchor_background_r={r1}/', filename)"
   ]
  },
  {
   "cell_type": "markdown",
   "metadata": {},
   "source": [
    "#### Calibration pattern 3: filled circles (anchor points) with grids"
   ]
  },
  {
   "cell_type": "code",
   "execution_count": 29,
   "metadata": {},
   "outputs": [
    {
     "name": "stdout",
     "output_type": "stream",
     "text": [
      "DMD pattern saved as: .\\resources\\calibration\\dark_anchor_on_grid=100_halfwidth=2\\anchor=((0, 0), (100, 0), (0, 200))\\calibration_r=5.bmp\n",
      "Template image saved as: .\\resources\\calibration\\dark_anchor_on_grid=100_halfwidth=2\\anchor=((0, 0), (100, 0), (0, 200))\\template\\calibration_r=5.bmp\n",
      "DMD pattern saved as: .\\resources\\calibration\\dark_anchor_on_grid=100_halfwidth=2\\anchor=((0, 0), (100, 0), (0, 200))\\calibration_r=10.bmp\n",
      "Template image saved as: .\\resources\\calibration\\dark_anchor_on_grid=100_halfwidth=2\\anchor=((0, 0), (100, 0), (0, 200))\\template\\calibration_r=10.bmp\n",
      "DMD pattern saved as: .\\resources\\calibration\\dark_anchor_on_grid=100_halfwidth=2\\anchor=((0, 0), (100, 0), (0, 200))\\calibration_r=20.bmp\n",
      "Template image saved as: .\\resources\\calibration\\dark_anchor_on_grid=100_halfwidth=2\\anchor=((0, 0), (100, 0), (0, 200))\\template\\calibration_r=20.bmp\n",
      "DMD pattern saved as: .\\resources\\calibration\\dark_anchor_on_grid=100_halfwidth=2\\anchor=((0, 0), (100, 0), (0, 200))\\calibration_r=30.bmp\n",
      "Template image saved as: .\\resources\\calibration\\dark_anchor_on_grid=100_halfwidth=2\\anchor=((0, 0), (100, 0), (0, 200))\\template\\calibration_r=30.bmp\n",
      "DMD pattern saved as: .\\resources\\calibration\\dark_anchor_on_grid=100_halfwidth=2\\anchor=((0, 0), (100, 0), (0, 200))\\calibration_r=40.bmp\n",
      "Template image saved as: .\\resources\\calibration\\dark_anchor_on_grid=100_halfwidth=2\\anchor=((0, 0), (100, 0), (0, 200))\\template\\calibration_r=40.bmp\n"
     ]
    }
   ],
   "source": [
    "radius = [5, 10, 20, 30, 40]\n",
    "anchor_list = [((0, 0), (100, 0), (0, 200)),\n",
    "]\n",
    "\n",
    "for anchor, r in product(anchor_list, radius):\n",
    "    filename = f'calibration_r={r}.bmp'\n",
    "    dmd.drawPattern(painter.drawAnchorCirclesWithBackgroundGrid(bg_halfwidth=2,\n",
    "                                                                bg_spacing=100,\n",
    "                                                                anchor_radius=r,\n",
    "                                                                anchor=anchor\n",
    "                                                                ), color=1)\n",
    "    dmd.saveFrameToFile(save_dir + f'calibration/dark_anchor_on_grid=100_halfwidth=2/anchor={anchor}/', filename)"
   ]
  }
 ],
 "metadata": {
  "kernelspec": {
   "display_name": "base",
   "language": "python",
   "name": "python3"
  },
  "language_info": {
   "codemirror_mode": {
    "name": "ipython",
    "version": 3
   },
   "file_extension": ".py",
   "mimetype": "text/x-python",
   "name": "python",
   "nbconvert_exporter": "python",
   "pygments_lexer": "ipython3",
   "version": "undefined.undefined.undefined"
  },
  "orig_nbformat": 4
 },
 "nbformat": 4,
 "nbformat_minor": 2
}
