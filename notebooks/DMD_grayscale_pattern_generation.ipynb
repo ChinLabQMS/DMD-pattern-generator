{
 "cells": [
  {
   "cell_type": "markdown",
   "metadata": {},
   "source": [
    "## Generate error-diffused gray scale pattern"
   ]
  },
  {
   "cell_type": "markdown",
   "metadata": {},
   "source": [
    "### Setup"
   ]
  },
  {
   "cell_type": "code",
   "execution_count": null,
   "metadata": {},
   "outputs": [
    {
     "name": "stdout",
     "output_type": "stream",
     "text": [
      "c:\\Users\\qmspc\\Documents\\MATLAB\\DMD-pattern-generator\n"
     ]
    },
    {
     "data": {
      "text/plain": [
       "(1140, 912, 1482, 1481)"
      ]
     },
     "execution_count": 1,
     "metadata": {},
     "output_type": "execute_result"
    }
   ],
   "source": [
    "import os\n",
    "if os.getcwd().endswith(\"notebooks\"):\n",
    "    os.chdir(\"../\")\n",
    "    \n",
    "from core import GrayFrame, GrayscalePainter\n",
    "\n",
    "save_dir = 'resources/'\n",
    "\n",
    "dmd = GrayFrame(dither='Floyd-Steinberg')\n",
    "painter = GrayscalePainter()\n",
    "dmd.dmd_nrows, dmd.dmd_ncols, dmd.real_nrows, dmd.real_ncols"
   ]
  },
  {
   "cell_type": "markdown",
   "metadata": {},
   "source": [
    "### Generate gray scale lattice pattern\n",
    "#### Generate gray scale 1D lattice pattern"
   ]
  },
  {
   "cell_type": "code",
   "execution_count": 2,
   "metadata": {},
   "outputs": [],
   "source": [
    "dmd = GrayFrame()\n",
    "\n",
    "vec_range = [0.001, 0.002, 0.005, 0.01, 0.02, 0.05, 0.1]\n",
    "\n",
    "for vec in vec_range:\n",
    "    filename = f'lattice_1d_horizontal_vec-{vec}.bmp'\n",
    "    dmd.drawPattern(painter.draw1dLattice(lat_vec=[vec, 0]))\n",
    "    dmd.saveFrameToFile(save_dir + f'grayscale/lattice_1d_horizontal/', filename)\n",
    "\n",
    "for vec in vec_range:\n",
    "    filename = f'lattice_1d_vertical_vec-{vec}.bmp'\n",
    "    dmd.drawPattern(painter.draw1dLattice(lat_vec=[0, vec]))\n",
    "    dmd.saveFrameToFile(save_dir + f'grayscale/lattice_1d_vertical/', filename)\n",
    "\n",
    "for vec in vec_range:\n",
    "    filename = f'lattice_1d_diagonal_vec-{vec}.bmp'\n",
    "    dmd.drawPattern(painter.draw1dLattice(lat_vec=[vec, vec]))\n",
    "    dmd.saveFrameToFile(save_dir + f'grayscale/lattice_1d_diagonal_long/', filename)\n",
    "\n",
    "for vec in vec_range:\n",
    "    filename = f'lattice_1d_diagonal_vec-{vec}.bmp'\n",
    "    dmd.drawPattern(painter.draw1dLattice(lat_vec=[vec, -vec]))\n",
    "    dmd.saveFrameToFile(save_dir + f'grayscale/lattice_1d_diagonal_short/', filename)"
   ]
  },
  {
   "cell_type": "markdown",
   "metadata": {},
   "source": [
    "#### Generate gray scale 2D square lattice pattern"
   ]
  },
  {
   "cell_type": "code",
   "execution_count": 4,
   "metadata": {},
   "outputs": [
    {
     "name": "stdout",
     "output_type": "stream",
     "text": [
      "DMD pattern saved as: .\\resources\\grayscale\\lattice_2d_square_diagonal\\pattern_lattice_2d_vec=0.001.bmp\n",
      "Template image saved as: .\\resources\\grayscale\\lattice_2d_square_diagonal\\template_lattice_2d_vec=0.001.bmp\n",
      "DMD pattern saved as: .\\resources\\grayscale\\lattice_2d_square_diagonal\\binary\\pattern_lattice_2d_vec=0.001.bmp\n",
      "Template image saved as: .\\resources\\grayscale\\lattice_2d_square_diagonal\\binary\\template_lattice_2d_vec=0.001.bmp\n",
      "DMD pattern saved as: .\\resources\\grayscale\\lattice_2d_square_diagonal\\pattern_lattice_2d_vec=0.002.bmp\n",
      "Template image saved as: .\\resources\\grayscale\\lattice_2d_square_diagonal\\template_lattice_2d_vec=0.002.bmp\n",
      "DMD pattern saved as: .\\resources\\grayscale\\lattice_2d_square_diagonal\\binary\\pattern_lattice_2d_vec=0.002.bmp\n",
      "Template image saved as: .\\resources\\grayscale\\lattice_2d_square_diagonal\\binary\\template_lattice_2d_vec=0.002.bmp\n",
      "DMD pattern saved as: .\\resources\\grayscale\\lattice_2d_square_diagonal\\pattern_lattice_2d_vec=0.005.bmp\n",
      "Template image saved as: .\\resources\\grayscale\\lattice_2d_square_diagonal\\template_lattice_2d_vec=0.005.bmp\n",
      "DMD pattern saved as: .\\resources\\grayscale\\lattice_2d_square_diagonal\\binary\\pattern_lattice_2d_vec=0.005.bmp\n",
      "Template image saved as: .\\resources\\grayscale\\lattice_2d_square_diagonal\\binary\\template_lattice_2d_vec=0.005.bmp\n",
      "DMD pattern saved as: .\\resources\\grayscale\\lattice_2d_square_diagonal\\pattern_lattice_2d_vec=0.01.bmp\n",
      "Template image saved as: .\\resources\\grayscale\\lattice_2d_square_diagonal\\template_lattice_2d_vec=0.01.bmp\n",
      "DMD pattern saved as: .\\resources\\grayscale\\lattice_2d_square_diagonal\\binary\\pattern_lattice_2d_vec=0.01.bmp\n",
      "Template image saved as: .\\resources\\grayscale\\lattice_2d_square_diagonal\\binary\\template_lattice_2d_vec=0.01.bmp\n",
      "DMD pattern saved as: .\\resources\\grayscale\\lattice_2d_square_diagonal\\pattern_lattice_2d_vec=0.02.bmp\n",
      "Template image saved as: .\\resources\\grayscale\\lattice_2d_square_diagonal\\template_lattice_2d_vec=0.02.bmp\n",
      "DMD pattern saved as: .\\resources\\grayscale\\lattice_2d_square_diagonal\\binary\\pattern_lattice_2d_vec=0.02.bmp\n",
      "Template image saved as: .\\resources\\grayscale\\lattice_2d_square_diagonal\\binary\\template_lattice_2d_vec=0.02.bmp\n",
      "DMD pattern saved as: .\\resources\\grayscale\\lattice_2d_square_diagonal\\pattern_lattice_2d_vec=0.05.bmp\n",
      "Template image saved as: .\\resources\\grayscale\\lattice_2d_square_diagonal\\template_lattice_2d_vec=0.05.bmp\n",
      "DMD pattern saved as: .\\resources\\grayscale\\lattice_2d_square_diagonal\\binary\\pattern_lattice_2d_vec=0.05.bmp\n",
      "Template image saved as: .\\resources\\grayscale\\lattice_2d_square_diagonal\\binary\\template_lattice_2d_vec=0.05.bmp\n",
      "DMD pattern saved as: .\\resources\\grayscale\\lattice_2d_square_diagonal\\pattern_lattice_2d_vec=0.1.bmp\n",
      "Template image saved as: .\\resources\\grayscale\\lattice_2d_square_diagonal\\template_lattice_2d_vec=0.1.bmp\n",
      "DMD pattern saved as: .\\resources\\grayscale\\lattice_2d_square_diagonal\\binary\\pattern_lattice_2d_vec=0.1.bmp\n",
      "Template image saved as: .\\resources\\grayscale\\lattice_2d_square_diagonal\\binary\\template_lattice_2d_vec=0.1.bmp\n"
     ]
    }
   ],
   "source": [
    "vec_range = [0.001, 0.002, 0.005, 0.01, 0.02, 0.05, 0.1]\n",
    "\n",
    "for vec in vec_range:\n",
    "    filename = f'lattice_2d_vec-{vec}.bmp'\n",
    "    dmd.drawPattern(painter.draw2dLattice(lat_vec1=[vec, vec],\n",
    "                                          lat_vec2=[vec, -vec]), color=1)\n",
    "    dmd.saveFrameToFile(save_dir + f'grayscale/lattice_2d_square_diagonal/', filename)"
   ]
  },
  {
   "cell_type": "markdown",
   "metadata": {},
   "source": [
    "#### Generate gray scale 2D triangular lattice pattern"
   ]
  },
  {
   "cell_type": "code",
   "execution_count": 6,
   "metadata": {},
   "outputs": [
    {
     "name": "stdout",
     "output_type": "stream",
     "text": [
      "DMD pattern saved as: .\\resources\\grayscale\\lattice_2d_triangular\\pattern_lattice_2d_vec-0.001.bmp\n",
      "Template image saved as: .\\resources\\grayscale\\lattice_2d_triangular\\template_lattice_2d_vec-0.001.bmp\n",
      "DMD pattern saved as: .\\resources\\grayscale\\lattice_2d_triangular\\binary\\pattern_lattice_2d_vec-0.001.bmp\n",
      "Template image saved as: .\\resources\\grayscale\\lattice_2d_triangular\\binary\\template_lattice_2d_vec-0.001.bmp\n",
      "DMD pattern saved as: .\\resources\\grayscale\\lattice_2d_triangular\\pattern_lattice_2d_vec-0.002.bmp\n",
      "Template image saved as: .\\resources\\grayscale\\lattice_2d_triangular\\template_lattice_2d_vec-0.002.bmp\n",
      "DMD pattern saved as: .\\resources\\grayscale\\lattice_2d_triangular\\binary\\pattern_lattice_2d_vec-0.002.bmp\n",
      "Template image saved as: .\\resources\\grayscale\\lattice_2d_triangular\\binary\\template_lattice_2d_vec-0.002.bmp\n",
      "DMD pattern saved as: .\\resources\\grayscale\\lattice_2d_triangular\\pattern_lattice_2d_vec-0.005.bmp\n",
      "Template image saved as: .\\resources\\grayscale\\lattice_2d_triangular\\template_lattice_2d_vec-0.005.bmp\n",
      "DMD pattern saved as: .\\resources\\grayscale\\lattice_2d_triangular\\binary\\pattern_lattice_2d_vec-0.005.bmp\n",
      "Template image saved as: .\\resources\\grayscale\\lattice_2d_triangular\\binary\\template_lattice_2d_vec-0.005.bmp\n",
      "DMD pattern saved as: .\\resources\\grayscale\\lattice_2d_triangular\\pattern_lattice_2d_vec-0.01.bmp\n",
      "Template image saved as: .\\resources\\grayscale\\lattice_2d_triangular\\template_lattice_2d_vec-0.01.bmp\n",
      "DMD pattern saved as: .\\resources\\grayscale\\lattice_2d_triangular\\binary\\pattern_lattice_2d_vec-0.01.bmp\n",
      "Template image saved as: .\\resources\\grayscale\\lattice_2d_triangular\\binary\\template_lattice_2d_vec-0.01.bmp\n",
      "DMD pattern saved as: .\\resources\\grayscale\\lattice_2d_triangular\\pattern_lattice_2d_vec-0.02.bmp\n",
      "Template image saved as: .\\resources\\grayscale\\lattice_2d_triangular\\template_lattice_2d_vec-0.02.bmp\n",
      "DMD pattern saved as: .\\resources\\grayscale\\lattice_2d_triangular\\binary\\pattern_lattice_2d_vec-0.02.bmp\n",
      "Template image saved as: .\\resources\\grayscale\\lattice_2d_triangular\\binary\\template_lattice_2d_vec-0.02.bmp\n",
      "DMD pattern saved as: .\\resources\\grayscale\\lattice_2d_triangular\\pattern_lattice_2d_vec-0.05.bmp\n",
      "Template image saved as: .\\resources\\grayscale\\lattice_2d_triangular\\template_lattice_2d_vec-0.05.bmp\n",
      "DMD pattern saved as: .\\resources\\grayscale\\lattice_2d_triangular\\binary\\pattern_lattice_2d_vec-0.05.bmp\n",
      "Template image saved as: .\\resources\\grayscale\\lattice_2d_triangular\\binary\\template_lattice_2d_vec-0.05.bmp\n",
      "DMD pattern saved as: .\\resources\\grayscale\\lattice_2d_triangular\\pattern_lattice_2d_vec-0.1.bmp\n",
      "Template image saved as: .\\resources\\grayscale\\lattice_2d_triangular\\template_lattice_2d_vec-0.1.bmp\n",
      "DMD pattern saved as: .\\resources\\grayscale\\lattice_2d_triangular\\binary\\pattern_lattice_2d_vec-0.1.bmp\n",
      "Template image saved as: .\\resources\\grayscale\\lattice_2d_triangular\\binary\\template_lattice_2d_vec-0.1.bmp\n"
     ]
    }
   ],
   "source": [
    "vec_range = [0.001, 0.002, 0.005, 0.01, 0.02, 0.05, 0.1]\n",
    "\n",
    "for vec in vec_range:\n",
    "    filename = f'lattice_2d_vec-{vec}.bmp'\n",
    "    dmd.drawPattern(painter.draw2dLattice(lat_vec1=[vec, 1.732*vec],\n",
    "                                          lat_vec2=[2*vec, 0], interference=True), color=1)\n",
    "    dmd.saveFrameToFile(save_dir + f'grayscale/lattice_2d_triangular/', filename)"
   ]
  }
 ],
 "metadata": {
  "kernelspec": {
   "display_name": "working",
   "language": "python",
   "name": "python3"
  },
  "language_info": {
   "codemirror_mode": {
    "name": "ipython",
    "version": 3
   },
   "file_extension": ".py",
   "mimetype": "text/x-python",
   "name": "python",
   "nbconvert_exporter": "python",
   "pygments_lexer": "ipython3",
   "version": "3.10.12"
  }
 },
 "nbformat": 4,
 "nbformat_minor": 2
}
