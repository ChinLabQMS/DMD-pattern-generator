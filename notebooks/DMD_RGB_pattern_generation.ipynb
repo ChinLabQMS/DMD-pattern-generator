{
 "cells": [
  {
   "cell_type": "markdown",
   "metadata": {},
   "source": [
    "## Generate patterns on an RGB frame\n",
    "### Setup"
   ]
  },
  {
   "cell_type": "code",
   "execution_count": 1,
   "metadata": {},
   "outputs": [
    {
     "name": "stdout",
     "output_type": "stream",
     "text": [
      "c:\\Users\\qmspc\\Documents\\MATLAB\\DMD-pattern-generator\n"
     ]
    },
    {
     "data": {
      "text/plain": [
       "(1140, 912, 1482, 1481)"
      ]
     },
     "execution_count": 1,
     "metadata": {},
     "output_type": "execute_result"
    }
   ],
   "source": [
    "%cd ../\n",
    "from core import ColorFrame, Painter\n",
    "from itertools import product\n",
    "\n",
    "save_dir = 'resources/'\n",
    "\n",
    "dmd = ColorFrame()\n",
    "painter = Painter()\n",
    "dmd.dmd_nrows, dmd.dmd_ncols, dmd.real_nrows, dmd.real_ncols"
   ]
  },
  {
   "cell_type": "markdown",
   "metadata": {},
   "source": [
    "### Solid color patterns"
   ]
  },
  {
   "cell_type": "code",
   "execution_count": 2,
   "metadata": {},
   "outputs": [],
   "source": [
    "filename = f'white.bmp'\n",
    "dmd.setRealArray(color=1)\n",
    "dmd.saveFrameToFile(save_dir + 'solid/', filename)\n",
    "\n",
    "filename = f'black.bmp'\n",
    "dmd.setRealArray(color=0)\n",
    "dmd.saveFrameToFile(save_dir + 'solid/', filename)\n",
    "\n",
    "filename = f'red.bmp'\n",
    "dmd.setRealArray(color=[255, 0, 0])\n",
    "dmd.saveFrameToFile(save_dir + 'solid/', filename)\n",
    "\n",
    "filename = f'green.bmp'\n",
    "dmd.setRealArray(color=[0, 255, 0])\n",
    "dmd.saveFrameToFile(save_dir + 'solid/', filename)\n",
    "\n",
    "filename = f'blue.bmp'\n",
    "dmd.setRealArray(color=[0, 0, 255])\n",
    "dmd.saveFrameToFile(save_dir + 'solid/', filename)\n",
    "\n",
    "filename = f'gray=10101010.bmp'\n",
    "dmd.setRealArray(color=[0b10101010] * 3)\n",
    "dmd.saveFrameToFile(save_dir + 'solid/', filename)\n",
    "\n",
    "filename = f'gray=01010101.bmp'\n",
    "dmd.setRealArray(color=[0b01010101] * 3)\n",
    "dmd.saveFrameToFile(save_dir + 'solid/', filename)\n",
    "\n",
    "filename = f'gray=00110011.bmp'\n",
    "dmd.setRealArray(color=[0b00110011] * 3)\n",
    "dmd.saveFrameToFile(save_dir + 'solid/', filename)\n",
    "\n",
    "filename = f'gray=00010001.bmp'\n",
    "dmd.setRealArray(color=[0b00010001] * 3)\n",
    "dmd.saveFrameToFile(save_dir + 'solid/', filename)"
   ]
  },
  {
   "cell_type": "code",
   "execution_count": 3,
   "metadata": {},
   "outputs": [],
   "source": [
    "r = 0b10000000\n",
    "g = 0b11000000\n",
    "b = 0b11100000\n",
    "\n",
    "filename = f'RGB_R={bin(r)[2:]}_G={bin(g)[2:]}_B={bin(b)[2:]}.bmp'\n",
    "dmd.setRealArray(color=[r, g, b])\n",
    "dmd.saveFrameToFile(save_dir + 'solid/', filename)"
   ]
  },
  {
   "cell_type": "markdown",
   "metadata": {},
   "source": [
    "### Printed Text pattern\n"
   ]
  },
  {
   "cell_type": "code",
   "execution_count": 4,
   "metadata": {},
   "outputs": [],
   "source": [
    "dmd.drawPattern(painter.drawText('R', offset=(-200, 0), font_size=200), color=(255, 0, 0), template_color=0)\n",
    "dmd.drawPattern(painter.drawText('G', font_size=200), color=(0, 255, 0), template_color=0, reset=False)\n",
    "dmd.drawPattern(painter.drawText('B', offset=(200, 0), font_size=200), color=(0, 0, 255), template_color=0, reset=False)\n",
    "dmd.saveFrameToFile(save_dir + 'text/', 'RGB.bmp')"
   ]
  },
  {
   "cell_type": "code",
   "execution_count": 5,
   "metadata": {},
   "outputs": [],
   "source": [
    "dmd.drawPattern(painter.drawText('C', offset=(-160, 0), font_size=160, stroke_width=10), color=0)\n",
    "dmd.drawPattern(painter.drawText('H', offset=(-30, 0),font_size=160, stroke_width=10), color=0, reset=False)\n",
    "dmd.drawPattern(painter.drawText('I', offset=(60, 0),font_size=160, stroke_width=10), color=0, reset=False)\n",
    "dmd.drawPattern(painter.drawText('N', offset=(150, 0),font_size=160, stroke_width=10), color=0, reset=False)\n",
    "dmd.saveFrameToFile(save_dir + 'text/', 'CHIN.bmp')"
   ]
  },
  {
   "cell_type": "code",
   "execution_count": 6,
   "metadata": {},
   "outputs": [],
   "source": [
    "dmd.drawPattern(painter.drawText('Q', offset=(-150, 0), font_size=160, stroke_width=5), color=0)\n",
    "dmd.drawPattern(painter.drawText('M', offset=(0, 0),font_size=160, stroke_width=5), color=0, reset=False)\n",
    "dmd.drawPattern(painter.drawText('S', offset=(140, 0),font_size=160, stroke_width=5), color=0, reset=False)\n",
    "dmd.saveFrameToFile(save_dir + 'text/', 'QMS.bmp')"
   ]
  },
  {
   "cell_type": "markdown",
   "metadata": {},
   "source": [
    "### Shaped pattern based on circles"
   ]
  },
  {
   "cell_type": "markdown",
   "metadata": {},
   "source": [
    "#### White filled center circle on a black background"
   ]
  },
  {
   "cell_type": "code",
   "execution_count": 7,
   "metadata": {},
   "outputs": [],
   "source": [
    "radius = [0.5, 1, 2, 3, 4, 5, 10, 15, 20, 30, 40, 50, 60, 70, 80, 90, 100, 120, 150, 170, 200, 400]\n",
    "\n",
    "for r in radius:\n",
    "    filename = f'r={r}.bmp'\n",
    "\n",
    "    dmd.drawPattern(painter.drawCircle(radius=r), color=1, template_color=0)\n",
    "    dmd.saveFrameToFile(save_dir + f'pattern_circle/white_filled_circle_on_black/', filename)"
   ]
  },
  {
   "cell_type": "markdown",
   "metadata": {},
   "source": [
    "#### Black filled centered circle on a white background"
   ]
  },
  {
   "cell_type": "code",
   "execution_count": 8,
   "metadata": {},
   "outputs": [],
   "source": [
    "radius = [0.5, 1, 2, 3, 4, 5, 10, 15, 20, 30, 40, 50, 60, 70, 80, 90, 100, 120, 150, 170, 200, 400]\n",
    "\n",
    "for r in radius:\n",
    "    filename = f'r={r}.bmp'\n",
    "\n",
    "    dmd.drawPattern(painter.drawCircle(radius=r), color=0, template_color=1)\n",
    "    dmd.saveFrameToFile(save_dir + f'pattern_circle/black_filled_circle_on_white/', filename)"
   ]
  },
  {
   "cell_type": "markdown",
   "metadata": {},
   "source": [
    "#### Gray filled centered circle on a black background"
   ]
  },
  {
   "cell_type": "code",
   "execution_count": 9,
   "metadata": {},
   "outputs": [],
   "source": [
    "radius = [0.5, 1, 2, 3, 4, 5, 10, 15, 20, 30, 40, 50, 60, 70, 80, 90, 100, 120, 150, 170, 200, 400]\n",
    "\n",
    "for r in radius:\n",
    "    filename = f'r={r}.bmp'\n",
    "\n",
    "    dmd.drawPattern(painter.drawCircle(radius=r), color=0b10101010, template_color=0)\n",
    "    dmd.saveFrameToFile(save_dir + f'pattern_circle/gray_filled_circle_on_black/', filename)"
   ]
  },
  {
   "cell_type": "markdown",
   "metadata": {},
   "source": [
    "#### Black filled centered circle on a gray background"
   ]
  },
  {
   "cell_type": "code",
   "execution_count": 10,
   "metadata": {},
   "outputs": [],
   "source": [
    "radius = [0.5, 1, 2, 3, 4, 5, 10, 15, 20, 30, 40, 50, 60, 70, 80, 90, 100, 120, 150, 170, 200, 400]\n",
    "\n",
    "for r in radius:\n",
    "    filename = f'r={r}.bmp'\n",
    "\n",
    "    dmd.drawPattern(painter.drawCircle(radius=r), color=0, template_color=0b10101010)\n",
    "    dmd.saveFrameToFile(save_dir + f'pattern_circle/black_filled_circle_on_gray/', filename)"
   ]
  },
  {
   "cell_type": "markdown",
   "metadata": {},
   "source": [
    "#### White arrays of circles on a black background"
   ]
  },
  {
   "cell_type": "code",
   "execution_count": 11,
   "metadata": {},
   "outputs": [],
   "source": [
    "radius = [0.5, 1, 2, 3, 4, 5, 10, 15, 20]\n",
    "spacing = [10, 20, 50, 100]\n",
    "nx = range(-100, 100)\n",
    "ny = range(-100, 100)\n",
    "\n",
    "for s, r in product(spacing, radius):\n",
    "    if 2 * r < s:\n",
    "        filename = f'r={r}.bmp'\n",
    "\n",
    "        dmd.drawPattern(painter.drawArrayOfCircles(row_spacing=s, \n",
    "                                                    col_spacing=s, \n",
    "                                                    nx=nx,\n",
    "                                                    ny=ny,\n",
    "                                                    radius=r,), color=1)\n",
    "        dmd.saveFrameToFile(save_dir + f'pattern_circle/white_array_on_black_full/spacing={s}/', filename)"
   ]
  },
  {
   "cell_type": "markdown",
   "metadata": {},
   "source": [
    "#### Black arrays of circles on a white background"
   ]
  },
  {
   "cell_type": "code",
   "execution_count": 12,
   "metadata": {},
   "outputs": [],
   "source": [
    "radius = [0.5, 1, 2, 3, 4, 5, 10, 15, 20]\n",
    "spacing = [10, 20, 50, 100]\n",
    "nx = range(-100, 100)\n",
    "ny = range(-100, 100)\n",
    "\n",
    "for s, r in product(spacing, radius):\n",
    "    if 2 * r < s:\n",
    "        filename = f'r={r}.bmp'\n",
    "\n",
    "        dmd.drawPattern(painter.drawArrayOfCircles(row_spacing=s, \n",
    "                                                    col_spacing=s, \n",
    "                                                    nx=nx,\n",
    "                                                    ny=ny,\n",
    "                                                    radius=r,), color=0)\n",
    "        dmd.saveFrameToFile(save_dir + f'pattern_circle/black_array_on_white_full/spacing={s}/', filename)"
   ]
  },
  {
   "cell_type": "markdown",
   "metadata": {},
   "source": [
    "### Shaped pattern based on squares"
   ]
  },
  {
   "cell_type": "markdown",
   "metadata": {},
   "source": [
    "#### White filled center square on a black background"
   ]
  },
  {
   "cell_type": "code",
   "execution_count": 2,
   "metadata": {},
   "outputs": [],
   "source": [
    "radius = [0.5, 1, 2, 3, 4, 5, 10, 15, 20, 30, 40, 50, 60, 70, 80, 90, 100, 120, 150, 170, 200, 400]\n",
    "\n",
    "for r in radius:\n",
    "    filename = f'r={r}.bmp'\n",
    "\n",
    "    dmd.drawPattern(painter.drawSquare(radius=r), color=1, template_color=0)\n",
    "    dmd.saveFrameToFile(save_dir + f'pattern_square/white_filled_square_on_black/', filename)"
   ]
  },
  {
   "cell_type": "markdown",
   "metadata": {},
   "source": [
    "#### Black filled centered square on a white background"
   ]
  },
  {
   "cell_type": "code",
   "execution_count": 3,
   "metadata": {},
   "outputs": [],
   "source": [
    "radius = [0.5, 1, 2, 3, 4, 5, 10, 15, 20, 30, 40, 50, 60, 70, 80, 90, 100, 120, 150, 170, 200, 400]\n",
    "\n",
    "for r in radius:\n",
    "    filename = f'r={r}.bmp'\n",
    "\n",
    "    dmd.drawPattern(painter.drawSquare(radius=r), color=0, template_color=1)\n",
    "    dmd.saveFrameToFile(save_dir + f'pattern_square/black_filled_square_on_white/', filename)"
   ]
  },
  {
   "cell_type": "markdown",
   "metadata": {},
   "source": [
    "#### White array of squares on a black background"
   ]
  },
  {
   "cell_type": "code",
   "execution_count": 2,
   "metadata": {},
   "outputs": [],
   "source": [
    "radius = [0.5, 1, 2, 3, 4, 5, 10, 15, 20]\n",
    "spacing = [10, 20, 50, 100]\n",
    "nx = range(-100, 100)\n",
    "ny = range(-100, 100)\n",
    "\n",
    "for s, r in product(spacing, radius):\n",
    "    if 2 * r < s:\n",
    "        filename = f'r={r}.bmp'\n",
    "\n",
    "        dmd.drawPattern(painter.drawArrayOfSquares(radius=r,\n",
    "                                                    row_spacing=s,\n",
    "                                                    col_spacing=s,\n",
    "                                                    nx=nx,\n",
    "                                                    ny=ny), color=1)\n",
    "        dmd.saveFrameToFile(save_dir + f'pattern_square/white_array_on_black_full/spacing={s}/', filename)"
   ]
  },
  {
   "cell_type": "markdown",
   "metadata": {},
   "source": [
    "#### Black array of squares on a white background"
   ]
  },
  {
   "cell_type": "code",
   "execution_count": 3,
   "metadata": {},
   "outputs": [],
   "source": [
    "radius = [0.5, 1, 2, 3, 4, 5, 10, 15, 20]\n",
    "spacing = [10, 20, 50, 100]\n",
    "nx = range(-100, 100)\n",
    "ny = range(-100, 100)\n",
    "\n",
    "for s, r in product(spacing, radius):\n",
    "    if 2 * r < s:\n",
    "        filename = f'r={r}.bmp'\n",
    "\n",
    "        dmd.drawPattern(painter.drawArrayOfSquares(row_spacing=s, \n",
    "                                                    col_spacing=s, \n",
    "                                                    nx=nx,\n",
    "                                                    ny=ny,\n",
    "                                                    radius=r,), color=0)\n",
    "        dmd.saveFrameToFile(save_dir + f'pattern_square/black_array_on_white_full/spacing={s}/', filename)"
   ]
  },
  {
   "cell_type": "markdown",
   "metadata": {},
   "source": [
    "#### Black-white Checkerboard pattern"
   ]
  },
  {
   "cell_type": "code",
   "execution_count": 4,
   "metadata": {},
   "outputs": [],
   "source": [
    "size = [5, 10, 20, 50, 100, 200]\n",
    "\n",
    "for s in size:\n",
    "    filename = f'size={s}.bmp'\n",
    "\n",
    "    dmd.drawPattern(painter.drawCheckerBoard(size=s), color=1)\n",
    "    dmd.saveFrameToFile(save_dir + f'pattern_square/checkerboard/', filename)"
   ]
  },
  {
   "cell_type": "markdown",
   "metadata": {},
   "source": [
    "### Shaped pattern based on lines"
   ]
  },
  {
   "cell_type": "markdown",
   "metadata": {},
   "source": [
    "#### White cross on a black background"
   ]
  },
  {
   "cell_type": "code",
   "execution_count": 5,
   "metadata": {},
   "outputs": [],
   "source": [
    "width = [1, 2, 5, 10, 20]\n",
    "\n",
    "for w in width:\n",
    "    filename = f'width={w}.bmp'\n",
    "\n",
    "    dmd.drawPattern(painter.drawCross(width=w), color=1)\n",
    "    dmd.saveFrameToFile(save_dir + f'pattern_line/white_cross_on_black/', filename)"
   ]
  },
  {
   "cell_type": "markdown",
   "metadata": {},
   "source": [
    "#### White angled line on a black background"
   ]
  },
  {
   "cell_type": "code",
   "execution_count": 6,
   "metadata": {},
   "outputs": [],
   "source": [
    "angle = [0, 15, 30, 45, 60, 75, 90, 105, 120, 135, 150]\n",
    "width = [1, 2, 5, 10, 20]\n",
    "\n",
    "for a, w in product(angle, width):\n",
    "    filename = f'width={w}.bmp'\n",
    "\n",
    "    dmd.drawPattern(painter.drawAngledLine(angle=a, width=w), color=1)\n",
    "    dmd.saveFrameToFile(save_dir + f'pattern_line/angled_line/angle={a}/', filename)"
   ]
  },
  {
   "cell_type": "markdown",
   "metadata": {},
   "source": [
    "#### White array of horizontal lines on a black background"
   ]
  },
  {
   "cell_type": "code",
   "execution_count": 9,
   "metadata": {},
   "outputs": [],
   "source": [
    "width = [1, 2, 3, 4, 5, 10, 20, 50]\n",
    "ny = range(-100, 100)\n",
    "\n",
    "for w in width:\n",
    "    filename = f'width={w}.bmp'\n",
    "\n",
    "    dmd.drawPattern(painter.drawHorizontalLines(width=w, ny=ny), color=1)\n",
    "    dmd.saveFrameToFile(save_dir + f'pattern_line/horizontal_lines/', filename)"
   ]
  },
  {
   "cell_type": "markdown",
   "metadata": {},
   "source": [
    "#### White array of vertical lines on a black background"
   ]
  },
  {
   "cell_type": "code",
   "execution_count": 10,
   "metadata": {},
   "outputs": [],
   "source": [
    "width = [1, 2, 3, 4, 5, 10, 20, 50]\n",
    "nx = range(-100, 100)\n",
    "\n",
    "for w in width:\n",
    "    filename = f'width={w}.bmp'\n",
    "\n",
    "    dmd.drawPattern(painter.drawVerticalLines(width=w, nx=nx), color=1)\n",
    "    dmd.saveFrameToFile(save_dir + f'pattern_line/vertical_lines/', filename)"
   ]
  },
  {
   "cell_type": "markdown",
   "metadata": {},
   "source": [
    "#### White grid (array of crosses) on a black background"
   ]
  },
  {
   "cell_type": "code",
   "execution_count": 2,
   "metadata": {},
   "outputs": [],
   "source": [
    "width = [0, 1, 2, 5, 10]\n",
    "nx = range(-100, 100)\n",
    "ny = range(-100, 100)\n",
    "\n",
    "for w in width:\n",
    "    filename = f'width={w}.bmp'\n",
    "\n",
    "    dmd.drawPattern(painter.drawCrosses(nx=nx,\n",
    "                                        ny=ny,\n",
    "                                        width=w), color=1)\n",
    "    dmd.saveFrameToFile(save_dir + f'pattern_line/white_grid_on_black_spacing=100/', filename)"
   ]
  },
  {
   "cell_type": "markdown",
   "metadata": {},
   "source": [
    "#### Black-white star pattern for MTF measurement"
   ]
  },
  {
   "cell_type": "code",
   "execution_count": 3,
   "metadata": {},
   "outputs": [],
   "source": [
    "nums = [4, 10, 20, 30, 40, 60, 90, 120]\n",
    "\n",
    "for n in nums:\n",
    "    filename = f'n={n}.bmp'\n",
    "\n",
    "    dmd.drawPattern(painter.drawStar(num=n), color=1)\n",
    "    dmd.saveFrameToFile(save_dir + f'pattern_line/star/', filename)"
   ]
  },
  {
   "cell_type": "markdown",
   "metadata": {},
   "source": [
    "#### Half plane"
   ]
  },
  {
   "cell_type": "code",
   "execution_count": 3,
   "metadata": {},
   "outputs": [],
   "source": [
    "angle = [0, 15, 30, 45, 60, 75, 90, 105, 120, 135, 150]\n",
    "\n",
    "for a in angle:\n",
    "    filename = f'angle={a}.bmp'\n",
    "\n",
    "    dmd.drawPattern(painter.drawAngledHalfPlane(angle=a), color=1)\n",
    "    dmd.saveFrameToFile(save_dir + 'pattern_line/half_plane/', filename)"
   ]
  },
  {
   "cell_type": "markdown",
   "metadata": {},
   "source": [
    "### Calibration pattern with anchor points"
   ]
  },
  {
   "cell_type": "markdown",
   "metadata": {},
   "source": []
  },
  {
   "cell_type": "markdown",
   "metadata": {},
   "source": [
    "#### Calibration pattern 1: several filled circles with radius r"
   ]
  },
  {
   "cell_type": "code",
   "execution_count": 5,
   "metadata": {},
   "outputs": [
    {
     "name": "stdout",
     "output_type": "stream",
     "text": [
      "DMD pattern saved as: .\\resources\\calibration\\dark_anchor_3\\anchor=((0, 0), (-100, 0), (150, 0))\\anchor_r=5.bmp\n",
      "Template image saved as: .\\resources\\calibration\\dark_anchor_3\\anchor=((0, 0), (-100, 0), (150, 0))\\template\\anchor_r=5.bmp\n",
      "DMD pattern saved as: .\\resources\\calibration\\dark_anchor_3\\anchor=((0, 0), (-100, 0), (150, 0))\\anchor_r=10.bmp\n",
      "Template image saved as: .\\resources\\calibration\\dark_anchor_3\\anchor=((0, 0), (-100, 0), (150, 0))\\template\\anchor_r=10.bmp\n",
      "DMD pattern saved as: .\\resources\\calibration\\dark_anchor_3\\anchor=((0, 0), (-100, 0), (150, 0))\\anchor_r=15.bmp\n",
      "Template image saved as: .\\resources\\calibration\\dark_anchor_3\\anchor=((0, 0), (-100, 0), (150, 0))\\template\\anchor_r=15.bmp\n",
      "DMD pattern saved as: .\\resources\\calibration\\dark_anchor_3\\anchor=((0, 0), (-100, 0), (150, 0))\\anchor_r=20.bmp\n",
      "Template image saved as: .\\resources\\calibration\\dark_anchor_3\\anchor=((0, 0), (-100, 0), (150, 0))\\template\\anchor_r=20.bmp\n",
      "DMD pattern saved as: .\\resources\\calibration\\dark_anchor_3\\anchor=((0, 0), (-100, 0), (150, 0))\\anchor_r=30.bmp\n",
      "Template image saved as: .\\resources\\calibration\\dark_anchor_3\\anchor=((0, 0), (-100, 0), (150, 0))\\template\\anchor_r=30.bmp\n",
      "DMD pattern saved as: .\\resources\\calibration\\dark_anchor_3\\anchor=((0, 0), (-100, 0), (150, 0))\\anchor_r=40.bmp\n",
      "Template image saved as: .\\resources\\calibration\\dark_anchor_3\\anchor=((0, 0), (-100, 0), (150, 0))\\template\\anchor_r=40.bmp\n",
      "DMD pattern saved as: .\\resources\\calibration\\dark_anchor_3\\anchor=((0, 0), (-100, 0), (150, 0))\\anchor_r=50.bmp\n",
      "Template image saved as: .\\resources\\calibration\\dark_anchor_3\\anchor=((0, 0), (-100, 0), (150, 0))\\template\\anchor_r=50.bmp\n",
      "DMD pattern saved as: .\\resources\\calibration\\dark_anchor_3\\anchor=((0, 0), (0, -100), (0, 150))\\anchor_r=5.bmp\n",
      "Template image saved as: .\\resources\\calibration\\dark_anchor_3\\anchor=((0, 0), (0, -100), (0, 150))\\template\\anchor_r=5.bmp\n",
      "DMD pattern saved as: .\\resources\\calibration\\dark_anchor_3\\anchor=((0, 0), (0, -100), (0, 150))\\anchor_r=10.bmp\n",
      "Template image saved as: .\\resources\\calibration\\dark_anchor_3\\anchor=((0, 0), (0, -100), (0, 150))\\template\\anchor_r=10.bmp\n",
      "DMD pattern saved as: .\\resources\\calibration\\dark_anchor_3\\anchor=((0, 0), (0, -100), (0, 150))\\anchor_r=15.bmp\n",
      "Template image saved as: .\\resources\\calibration\\dark_anchor_3\\anchor=((0, 0), (0, -100), (0, 150))\\template\\anchor_r=15.bmp\n",
      "DMD pattern saved as: .\\resources\\calibration\\dark_anchor_3\\anchor=((0, 0), (0, -100), (0, 150))\\anchor_r=20.bmp\n",
      "Template image saved as: .\\resources\\calibration\\dark_anchor_3\\anchor=((0, 0), (0, -100), (0, 150))\\template\\anchor_r=20.bmp\n",
      "DMD pattern saved as: .\\resources\\calibration\\dark_anchor_3\\anchor=((0, 0), (0, -100), (0, 150))\\anchor_r=30.bmp\n",
      "Template image saved as: .\\resources\\calibration\\dark_anchor_3\\anchor=((0, 0), (0, -100), (0, 150))\\template\\anchor_r=30.bmp\n",
      "DMD pattern saved as: .\\resources\\calibration\\dark_anchor_3\\anchor=((0, 0), (0, -100), (0, 150))\\anchor_r=40.bmp\n",
      "Template image saved as: .\\resources\\calibration\\dark_anchor_3\\anchor=((0, 0), (0, -100), (0, 150))\\template\\anchor_r=40.bmp\n",
      "DMD pattern saved as: .\\resources\\calibration\\dark_anchor_3\\anchor=((0, 0), (0, -100), (0, 150))\\anchor_r=50.bmp\n",
      "Template image saved as: .\\resources\\calibration\\dark_anchor_3\\anchor=((0, 0), (0, -100), (0, 150))\\template\\anchor_r=50.bmp\n",
      "DMD pattern saved as: .\\resources\\calibration\\dark_anchor_3\\anchor=((0, 0), (100, 0), (0, 150))\\anchor_r=5.bmp\n",
      "Template image saved as: .\\resources\\calibration\\dark_anchor_3\\anchor=((0, 0), (100, 0), (0, 150))\\template\\anchor_r=5.bmp\n",
      "DMD pattern saved as: .\\resources\\calibration\\dark_anchor_3\\anchor=((0, 0), (100, 0), (0, 150))\\anchor_r=10.bmp\n",
      "Template image saved as: .\\resources\\calibration\\dark_anchor_3\\anchor=((0, 0), (100, 0), (0, 150))\\template\\anchor_r=10.bmp\n",
      "DMD pattern saved as: .\\resources\\calibration\\dark_anchor_3\\anchor=((0, 0), (100, 0), (0, 150))\\anchor_r=15.bmp\n",
      "Template image saved as: .\\resources\\calibration\\dark_anchor_3\\anchor=((0, 0), (100, 0), (0, 150))\\template\\anchor_r=15.bmp\n",
      "DMD pattern saved as: .\\resources\\calibration\\dark_anchor_3\\anchor=((0, 0), (100, 0), (0, 150))\\anchor_r=20.bmp\n",
      "Template image saved as: .\\resources\\calibration\\dark_anchor_3\\anchor=((0, 0), (100, 0), (0, 150))\\template\\anchor_r=20.bmp\n",
      "DMD pattern saved as: .\\resources\\calibration\\dark_anchor_3\\anchor=((0, 0), (100, 0), (0, 150))\\anchor_r=30.bmp\n",
      "Template image saved as: .\\resources\\calibration\\dark_anchor_3\\anchor=((0, 0), (100, 0), (0, 150))\\template\\anchor_r=30.bmp\n",
      "DMD pattern saved as: .\\resources\\calibration\\dark_anchor_3\\anchor=((0, 0), (100, 0), (0, 150))\\anchor_r=40.bmp\n",
      "Template image saved as: .\\resources\\calibration\\dark_anchor_3\\anchor=((0, 0), (100, 0), (0, 150))\\template\\anchor_r=40.bmp\n",
      "DMD pattern saved as: .\\resources\\calibration\\dark_anchor_3\\anchor=((0, 0), (100, 0), (0, 150))\\anchor_r=50.bmp\n",
      "Template image saved as: .\\resources\\calibration\\dark_anchor_3\\anchor=((0, 0), (100, 0), (0, 150))\\template\\anchor_r=50.bmp\n",
      "DMD pattern saved as: .\\resources\\calibration\\dark_anchor_3\\anchor=((0, 58), (-50, -29), (50, -29))\\anchor_r=5.bmp\n",
      "Template image saved as: .\\resources\\calibration\\dark_anchor_3\\anchor=((0, 58), (-50, -29), (50, -29))\\template\\anchor_r=5.bmp\n",
      "DMD pattern saved as: .\\resources\\calibration\\dark_anchor_3\\anchor=((0, 58), (-50, -29), (50, -29))\\anchor_r=10.bmp\n",
      "Template image saved as: .\\resources\\calibration\\dark_anchor_3\\anchor=((0, 58), (-50, -29), (50, -29))\\template\\anchor_r=10.bmp\n",
      "DMD pattern saved as: .\\resources\\calibration\\dark_anchor_3\\anchor=((0, 58), (-50, -29), (50, -29))\\anchor_r=15.bmp\n",
      "Template image saved as: .\\resources\\calibration\\dark_anchor_3\\anchor=((0, 58), (-50, -29), (50, -29))\\template\\anchor_r=15.bmp\n",
      "DMD pattern saved as: .\\resources\\calibration\\dark_anchor_3\\anchor=((0, 58), (-50, -29), (50, -29))\\anchor_r=20.bmp\n",
      "Template image saved as: .\\resources\\calibration\\dark_anchor_3\\anchor=((0, 58), (-50, -29), (50, -29))\\template\\anchor_r=20.bmp\n",
      "DMD pattern saved as: .\\resources\\calibration\\dark_anchor_3\\anchor=((0, 58), (-50, -29), (50, -29))\\anchor_r=30.bmp\n",
      "Template image saved as: .\\resources\\calibration\\dark_anchor_3\\anchor=((0, 58), (-50, -29), (50, -29))\\template\\anchor_r=30.bmp\n",
      "DMD pattern saved as: .\\resources\\calibration\\dark_anchor_3\\anchor=((0, 58), (-50, -29), (50, -29))\\anchor_r=40.bmp\n",
      "Template image saved as: .\\resources\\calibration\\dark_anchor_3\\anchor=((0, 58), (-50, -29), (50, -29))\\template\\anchor_r=40.bmp\n",
      "DMD pattern saved as: .\\resources\\calibration\\dark_anchor_3\\anchor=((0, 58), (-50, -29), (50, -29))\\anchor_r=50.bmp\n",
      "Template image saved as: .\\resources\\calibration\\dark_anchor_3\\anchor=((0, 58), (-50, -29), (50, -29))\\template\\anchor_r=50.bmp\n",
      "DMD pattern saved as: .\\resources\\calibration\\dark_anchor_3\\anchor=((0, 87), (-75, -43), (75, -43))\\anchor_r=5.bmp\n",
      "Template image saved as: .\\resources\\calibration\\dark_anchor_3\\anchor=((0, 87), (-75, -43), (75, -43))\\template\\anchor_r=5.bmp\n",
      "DMD pattern saved as: .\\resources\\calibration\\dark_anchor_3\\anchor=((0, 87), (-75, -43), (75, -43))\\anchor_r=10.bmp\n",
      "Template image saved as: .\\resources\\calibration\\dark_anchor_3\\anchor=((0, 87), (-75, -43), (75, -43))\\template\\anchor_r=10.bmp\n",
      "DMD pattern saved as: .\\resources\\calibration\\dark_anchor_3\\anchor=((0, 87), (-75, -43), (75, -43))\\anchor_r=15.bmp\n",
      "Template image saved as: .\\resources\\calibration\\dark_anchor_3\\anchor=((0, 87), (-75, -43), (75, -43))\\template\\anchor_r=15.bmp\n",
      "DMD pattern saved as: .\\resources\\calibration\\dark_anchor_3\\anchor=((0, 87), (-75, -43), (75, -43))\\anchor_r=20.bmp\n",
      "Template image saved as: .\\resources\\calibration\\dark_anchor_3\\anchor=((0, 87), (-75, -43), (75, -43))\\template\\anchor_r=20.bmp\n",
      "DMD pattern saved as: .\\resources\\calibration\\dark_anchor_3\\anchor=((0, 87), (-75, -43), (75, -43))\\anchor_r=30.bmp\n",
      "Template image saved as: .\\resources\\calibration\\dark_anchor_3\\anchor=((0, 87), (-75, -43), (75, -43))\\template\\anchor_r=30.bmp\n",
      "DMD pattern saved as: .\\resources\\calibration\\dark_anchor_3\\anchor=((0, 87), (-75, -43), (75, -43))\\anchor_r=40.bmp\n",
      "Template image saved as: .\\resources\\calibration\\dark_anchor_3\\anchor=((0, 87), (-75, -43), (75, -43))\\template\\anchor_r=40.bmp\n",
      "DMD pattern saved as: .\\resources\\calibration\\dark_anchor_3\\anchor=((0, 87), (-75, -43), (75, -43))\\anchor_r=50.bmp\n",
      "Template image saved as: .\\resources\\calibration\\dark_anchor_3\\anchor=((0, 87), (-75, -43), (75, -43))\\template\\anchor_r=50.bmp\n",
      "DMD pattern saved as: .\\resources\\calibration\\dark_anchor_3\\anchor=((0, 115), (-100, -58), (100, -58))\\anchor_r=5.bmp\n",
      "Template image saved as: .\\resources\\calibration\\dark_anchor_3\\anchor=((0, 115), (-100, -58), (100, -58))\\template\\anchor_r=5.bmp\n",
      "DMD pattern saved as: .\\resources\\calibration\\dark_anchor_3\\anchor=((0, 115), (-100, -58), (100, -58))\\anchor_r=10.bmp\n",
      "Template image saved as: .\\resources\\calibration\\dark_anchor_3\\anchor=((0, 115), (-100, -58), (100, -58))\\template\\anchor_r=10.bmp\n",
      "DMD pattern saved as: .\\resources\\calibration\\dark_anchor_3\\anchor=((0, 115), (-100, -58), (100, -58))\\anchor_r=15.bmp\n",
      "Template image saved as: .\\resources\\calibration\\dark_anchor_3\\anchor=((0, 115), (-100, -58), (100, -58))\\template\\anchor_r=15.bmp\n",
      "DMD pattern saved as: .\\resources\\calibration\\dark_anchor_3\\anchor=((0, 115), (-100, -58), (100, -58))\\anchor_r=20.bmp\n",
      "Template image saved as: .\\resources\\calibration\\dark_anchor_3\\anchor=((0, 115), (-100, -58), (100, -58))\\template\\anchor_r=20.bmp\n",
      "DMD pattern saved as: .\\resources\\calibration\\dark_anchor_3\\anchor=((0, 115), (-100, -58), (100, -58))\\anchor_r=30.bmp\n",
      "Template image saved as: .\\resources\\calibration\\dark_anchor_3\\anchor=((0, 115), (-100, -58), (100, -58))\\template\\anchor_r=30.bmp\n",
      "DMD pattern saved as: .\\resources\\calibration\\dark_anchor_3\\anchor=((0, 115), (-100, -58), (100, -58))\\anchor_r=40.bmp\n",
      "Template image saved as: .\\resources\\calibration\\dark_anchor_3\\anchor=((0, 115), (-100, -58), (100, -58))\\template\\anchor_r=40.bmp\n",
      "DMD pattern saved as: .\\resources\\calibration\\dark_anchor_3\\anchor=((0, 115), (-100, -58), (100, -58))\\anchor_r=50.bmp\n",
      "Template image saved as: .\\resources\\calibration\\dark_anchor_3\\anchor=((0, 115), (-100, -58), (100, -58))\\template\\anchor_r=50.bmp\n",
      "DMD pattern saved as: .\\resources\\calibration\\dark_anchor_4\\anchor=((-35, 35), (-35, -35), (35, 35), (35, -35))\\anchor_r=5.bmp\n",
      "Template image saved as: .\\resources\\calibration\\dark_anchor_4\\anchor=((-35, 35), (-35, -35), (35, 35), (35, -35))\\template\\anchor_r=5.bmp\n",
      "DMD pattern saved as: .\\resources\\calibration\\dark_anchor_4\\anchor=((-35, 35), (-35, -35), (35, 35), (35, -35))\\anchor_r=10.bmp\n",
      "Template image saved as: .\\resources\\calibration\\dark_anchor_4\\anchor=((-35, 35), (-35, -35), (35, 35), (35, -35))\\template\\anchor_r=10.bmp\n",
      "DMD pattern saved as: .\\resources\\calibration\\dark_anchor_4\\anchor=((-35, 35), (-35, -35), (35, 35), (35, -35))\\anchor_r=15.bmp\n",
      "Template image saved as: .\\resources\\calibration\\dark_anchor_4\\anchor=((-35, 35), (-35, -35), (35, 35), (35, -35))\\template\\anchor_r=15.bmp\n",
      "DMD pattern saved as: .\\resources\\calibration\\dark_anchor_4\\anchor=((-35, 35), (-35, -35), (35, 35), (35, -35))\\anchor_r=20.bmp\n",
      "Template image saved as: .\\resources\\calibration\\dark_anchor_4\\anchor=((-35, 35), (-35, -35), (35, 35), (35, -35))\\template\\anchor_r=20.bmp\n",
      "DMD pattern saved as: .\\resources\\calibration\\dark_anchor_4\\anchor=((-35, 35), (-35, -35), (35, 35), (35, -35))\\anchor_r=30.bmp\n",
      "Template image saved as: .\\resources\\calibration\\dark_anchor_4\\anchor=((-35, 35), (-35, -35), (35, 35), (35, -35))\\template\\anchor_r=30.bmp\n",
      "DMD pattern saved as: .\\resources\\calibration\\dark_anchor_4\\anchor=((-35, 35), (-35, -35), (35, 35), (35, -35))\\anchor_r=40.bmp\n",
      "Template image saved as: .\\resources\\calibration\\dark_anchor_4\\anchor=((-35, 35), (-35, -35), (35, 35), (35, -35))\\template\\anchor_r=40.bmp\n",
      "DMD pattern saved as: .\\resources\\calibration\\dark_anchor_4\\anchor=((-35, 35), (-35, -35), (35, 35), (35, -35))\\anchor_r=50.bmp\n",
      "Template image saved as: .\\resources\\calibration\\dark_anchor_4\\anchor=((-35, 35), (-35, -35), (35, 35), (35, -35))\\template\\anchor_r=50.bmp\n",
      "DMD pattern saved as: .\\resources\\calibration\\dark_anchor_4\\anchor=((-50, 50), (-50, -50), (50, 50), (50, -50))\\anchor_r=5.bmp\n",
      "Template image saved as: .\\resources\\calibration\\dark_anchor_4\\anchor=((-50, 50), (-50, -50), (50, 50), (50, -50))\\template\\anchor_r=5.bmp\n",
      "DMD pattern saved as: .\\resources\\calibration\\dark_anchor_4\\anchor=((-50, 50), (-50, -50), (50, 50), (50, -50))\\anchor_r=10.bmp\n",
      "Template image saved as: .\\resources\\calibration\\dark_anchor_4\\anchor=((-50, 50), (-50, -50), (50, 50), (50, -50))\\template\\anchor_r=10.bmp\n",
      "DMD pattern saved as: .\\resources\\calibration\\dark_anchor_4\\anchor=((-50, 50), (-50, -50), (50, 50), (50, -50))\\anchor_r=15.bmp\n",
      "Template image saved as: .\\resources\\calibration\\dark_anchor_4\\anchor=((-50, 50), (-50, -50), (50, 50), (50, -50))\\template\\anchor_r=15.bmp\n",
      "DMD pattern saved as: .\\resources\\calibration\\dark_anchor_4\\anchor=((-50, 50), (-50, -50), (50, 50), (50, -50))\\anchor_r=20.bmp\n",
      "Template image saved as: .\\resources\\calibration\\dark_anchor_4\\anchor=((-50, 50), (-50, -50), (50, 50), (50, -50))\\template\\anchor_r=20.bmp\n",
      "DMD pattern saved as: .\\resources\\calibration\\dark_anchor_4\\anchor=((-50, 50), (-50, -50), (50, 50), (50, -50))\\anchor_r=30.bmp\n",
      "Template image saved as: .\\resources\\calibration\\dark_anchor_4\\anchor=((-50, 50), (-50, -50), (50, 50), (50, -50))\\template\\anchor_r=30.bmp\n",
      "DMD pattern saved as: .\\resources\\calibration\\dark_anchor_4\\anchor=((-50, 50), (-50, -50), (50, 50), (50, -50))\\anchor_r=40.bmp\n",
      "Template image saved as: .\\resources\\calibration\\dark_anchor_4\\anchor=((-50, 50), (-50, -50), (50, 50), (50, -50))\\template\\anchor_r=40.bmp\n",
      "DMD pattern saved as: .\\resources\\calibration\\dark_anchor_4\\anchor=((-50, 50), (-50, -50), (50, 50), (50, -50))\\anchor_r=50.bmp\n",
      "Template image saved as: .\\resources\\calibration\\dark_anchor_4\\anchor=((-50, 50), (-50, -50), (50, 50), (50, -50))\\template\\anchor_r=50.bmp\n",
      "DMD pattern saved as: .\\resources\\calibration\\dark_anchor_4\\anchor=((-75, 75), (-75, -75), (75, 75), (75, -75))\\anchor_r=5.bmp\n",
      "Template image saved as: .\\resources\\calibration\\dark_anchor_4\\anchor=((-75, 75), (-75, -75), (75, 75), (75, -75))\\template\\anchor_r=5.bmp\n",
      "DMD pattern saved as: .\\resources\\calibration\\dark_anchor_4\\anchor=((-75, 75), (-75, -75), (75, 75), (75, -75))\\anchor_r=10.bmp\n",
      "Template image saved as: .\\resources\\calibration\\dark_anchor_4\\anchor=((-75, 75), (-75, -75), (75, 75), (75, -75))\\template\\anchor_r=10.bmp\n",
      "DMD pattern saved as: .\\resources\\calibration\\dark_anchor_4\\anchor=((-75, 75), (-75, -75), (75, 75), (75, -75))\\anchor_r=15.bmp\n",
      "Template image saved as: .\\resources\\calibration\\dark_anchor_4\\anchor=((-75, 75), (-75, -75), (75, 75), (75, -75))\\template\\anchor_r=15.bmp\n",
      "DMD pattern saved as: .\\resources\\calibration\\dark_anchor_4\\anchor=((-75, 75), (-75, -75), (75, 75), (75, -75))\\anchor_r=20.bmp\n",
      "Template image saved as: .\\resources\\calibration\\dark_anchor_4\\anchor=((-75, 75), (-75, -75), (75, 75), (75, -75))\\template\\anchor_r=20.bmp\n",
      "DMD pattern saved as: .\\resources\\calibration\\dark_anchor_4\\anchor=((-75, 75), (-75, -75), (75, 75), (75, -75))\\anchor_r=30.bmp\n",
      "Template image saved as: .\\resources\\calibration\\dark_anchor_4\\anchor=((-75, 75), (-75, -75), (75, 75), (75, -75))\\template\\anchor_r=30.bmp\n",
      "DMD pattern saved as: .\\resources\\calibration\\dark_anchor_4\\anchor=((-75, 75), (-75, -75), (75, 75), (75, -75))\\anchor_r=40.bmp\n",
      "Template image saved as: .\\resources\\calibration\\dark_anchor_4\\anchor=((-75, 75), (-75, -75), (75, 75), (75, -75))\\template\\anchor_r=40.bmp\n",
      "DMD pattern saved as: .\\resources\\calibration\\dark_anchor_4\\anchor=((-75, 75), (-75, -75), (75, 75), (75, -75))\\anchor_r=50.bmp\n",
      "Template image saved as: .\\resources\\calibration\\dark_anchor_4\\anchor=((-75, 75), (-75, -75), (75, 75), (75, -75))\\template\\anchor_r=50.bmp\n",
      "DMD pattern saved as: .\\resources\\calibration\\dark_anchor_4\\anchor=((-100, 100), (-100, -100), (100, 100), (100, -100))\\anchor_r=5.bmp\n",
      "Template image saved as: .\\resources\\calibration\\dark_anchor_4\\anchor=((-100, 100), (-100, -100), (100, 100), (100, -100))\\template\\anchor_r=5.bmp\n",
      "DMD pattern saved as: .\\resources\\calibration\\dark_anchor_4\\anchor=((-100, 100), (-100, -100), (100, 100), (100, -100))\\anchor_r=10.bmp\n",
      "Template image saved as: .\\resources\\calibration\\dark_anchor_4\\anchor=((-100, 100), (-100, -100), (100, 100), (100, -100))\\template\\anchor_r=10.bmp\n",
      "DMD pattern saved as: .\\resources\\calibration\\dark_anchor_4\\anchor=((-100, 100), (-100, -100), (100, 100), (100, -100))\\anchor_r=15.bmp\n",
      "Template image saved as: .\\resources\\calibration\\dark_anchor_4\\anchor=((-100, 100), (-100, -100), (100, 100), (100, -100))\\template\\anchor_r=15.bmp\n",
      "DMD pattern saved as: .\\resources\\calibration\\dark_anchor_4\\anchor=((-100, 100), (-100, -100), (100, 100), (100, -100))\\anchor_r=20.bmp\n",
      "Template image saved as: .\\resources\\calibration\\dark_anchor_4\\anchor=((-100, 100), (-100, -100), (100, 100), (100, -100))\\template\\anchor_r=20.bmp\n",
      "DMD pattern saved as: .\\resources\\calibration\\dark_anchor_4\\anchor=((-100, 100), (-100, -100), (100, 100), (100, -100))\\anchor_r=30.bmp\n",
      "Template image saved as: .\\resources\\calibration\\dark_anchor_4\\anchor=((-100, 100), (-100, -100), (100, 100), (100, -100))\\template\\anchor_r=30.bmp\n",
      "DMD pattern saved as: .\\resources\\calibration\\dark_anchor_4\\anchor=((-100, 100), (-100, -100), (100, 100), (100, -100))\\anchor_r=40.bmp\n",
      "Template image saved as: .\\resources\\calibration\\dark_anchor_4\\anchor=((-100, 100), (-100, -100), (100, 100), (100, -100))\\template\\anchor_r=40.bmp\n",
      "DMD pattern saved as: .\\resources\\calibration\\dark_anchor_4\\anchor=((-100, 100), (-100, -100), (100, 100), (100, -100))\\anchor_r=50.bmp\n",
      "Template image saved as: .\\resources\\calibration\\dark_anchor_4\\anchor=((-100, 100), (-100, -100), (100, 100), (100, -100))\\template\\anchor_r=50.bmp\n",
      "DMD pattern saved as: .\\resources\\calibration\\dark_anchor_4\\anchor=((0, 50), (0, -50), (50, 0), (-50, 0))\\anchor_r=5.bmp\n",
      "Template image saved as: .\\resources\\calibration\\dark_anchor_4\\anchor=((0, 50), (0, -50), (50, 0), (-50, 0))\\template\\anchor_r=5.bmp\n",
      "DMD pattern saved as: .\\resources\\calibration\\dark_anchor_4\\anchor=((0, 50), (0, -50), (50, 0), (-50, 0))\\anchor_r=10.bmp\n",
      "Template image saved as: .\\resources\\calibration\\dark_anchor_4\\anchor=((0, 50), (0, -50), (50, 0), (-50, 0))\\template\\anchor_r=10.bmp\n",
      "DMD pattern saved as: .\\resources\\calibration\\dark_anchor_4\\anchor=((0, 50), (0, -50), (50, 0), (-50, 0))\\anchor_r=15.bmp\n",
      "Template image saved as: .\\resources\\calibration\\dark_anchor_4\\anchor=((0, 50), (0, -50), (50, 0), (-50, 0))\\template\\anchor_r=15.bmp\n",
      "DMD pattern saved as: .\\resources\\calibration\\dark_anchor_4\\anchor=((0, 50), (0, -50), (50, 0), (-50, 0))\\anchor_r=20.bmp\n",
      "Template image saved as: .\\resources\\calibration\\dark_anchor_4\\anchor=((0, 50), (0, -50), (50, 0), (-50, 0))\\template\\anchor_r=20.bmp\n",
      "DMD pattern saved as: .\\resources\\calibration\\dark_anchor_4\\anchor=((0, 50), (0, -50), (50, 0), (-50, 0))\\anchor_r=30.bmp\n",
      "Template image saved as: .\\resources\\calibration\\dark_anchor_4\\anchor=((0, 50), (0, -50), (50, 0), (-50, 0))\\template\\anchor_r=30.bmp\n",
      "DMD pattern saved as: .\\resources\\calibration\\dark_anchor_4\\anchor=((0, 50), (0, -50), (50, 0), (-50, 0))\\anchor_r=40.bmp\n",
      "Template image saved as: .\\resources\\calibration\\dark_anchor_4\\anchor=((0, 50), (0, -50), (50, 0), (-50, 0))\\template\\anchor_r=40.bmp\n",
      "DMD pattern saved as: .\\resources\\calibration\\dark_anchor_4\\anchor=((0, 50), (0, -50), (50, 0), (-50, 0))\\anchor_r=50.bmp\n",
      "Template image saved as: .\\resources\\calibration\\dark_anchor_4\\anchor=((0, 50), (0, -50), (50, 0), (-50, 0))\\template\\anchor_r=50.bmp\n",
      "DMD pattern saved as: .\\resources\\calibration\\dark_anchor_4\\anchor=((0, 75), (0, -75), (75, 0), (-75, 0))\\anchor_r=5.bmp\n",
      "Template image saved as: .\\resources\\calibration\\dark_anchor_4\\anchor=((0, 75), (0, -75), (75, 0), (-75, 0))\\template\\anchor_r=5.bmp\n",
      "DMD pattern saved as: .\\resources\\calibration\\dark_anchor_4\\anchor=((0, 75), (0, -75), (75, 0), (-75, 0))\\anchor_r=10.bmp\n",
      "Template image saved as: .\\resources\\calibration\\dark_anchor_4\\anchor=((0, 75), (0, -75), (75, 0), (-75, 0))\\template\\anchor_r=10.bmp\n",
      "DMD pattern saved as: .\\resources\\calibration\\dark_anchor_4\\anchor=((0, 75), (0, -75), (75, 0), (-75, 0))\\anchor_r=15.bmp\n",
      "Template image saved as: .\\resources\\calibration\\dark_anchor_4\\anchor=((0, 75), (0, -75), (75, 0), (-75, 0))\\template\\anchor_r=15.bmp\n",
      "DMD pattern saved as: .\\resources\\calibration\\dark_anchor_4\\anchor=((0, 75), (0, -75), (75, 0), (-75, 0))\\anchor_r=20.bmp\n",
      "Template image saved as: .\\resources\\calibration\\dark_anchor_4\\anchor=((0, 75), (0, -75), (75, 0), (-75, 0))\\template\\anchor_r=20.bmp\n",
      "DMD pattern saved as: .\\resources\\calibration\\dark_anchor_4\\anchor=((0, 75), (0, -75), (75, 0), (-75, 0))\\anchor_r=30.bmp\n",
      "Template image saved as: .\\resources\\calibration\\dark_anchor_4\\anchor=((0, 75), (0, -75), (75, 0), (-75, 0))\\template\\anchor_r=30.bmp\n",
      "DMD pattern saved as: .\\resources\\calibration\\dark_anchor_4\\anchor=((0, 75), (0, -75), (75, 0), (-75, 0))\\anchor_r=40.bmp\n",
      "Template image saved as: .\\resources\\calibration\\dark_anchor_4\\anchor=((0, 75), (0, -75), (75, 0), (-75, 0))\\template\\anchor_r=40.bmp\n",
      "DMD pattern saved as: .\\resources\\calibration\\dark_anchor_4\\anchor=((0, 75), (0, -75), (75, 0), (-75, 0))\\anchor_r=50.bmp\n",
      "Template image saved as: .\\resources\\calibration\\dark_anchor_4\\anchor=((0, 75), (0, -75), (75, 0), (-75, 0))\\template\\anchor_r=50.bmp\n",
      "DMD pattern saved as: .\\resources\\calibration\\dark_anchor_4\\anchor=((0, 100), (0, -100), (100, 0), (-100, 0))\\anchor_r=5.bmp\n",
      "Template image saved as: .\\resources\\calibration\\dark_anchor_4\\anchor=((0, 100), (0, -100), (100, 0), (-100, 0))\\template\\anchor_r=5.bmp\n",
      "DMD pattern saved as: .\\resources\\calibration\\dark_anchor_4\\anchor=((0, 100), (0, -100), (100, 0), (-100, 0))\\anchor_r=10.bmp\n",
      "Template image saved as: .\\resources\\calibration\\dark_anchor_4\\anchor=((0, 100), (0, -100), (100, 0), (-100, 0))\\template\\anchor_r=10.bmp\n",
      "DMD pattern saved as: .\\resources\\calibration\\dark_anchor_4\\anchor=((0, 100), (0, -100), (100, 0), (-100, 0))\\anchor_r=15.bmp\n",
      "Template image saved as: .\\resources\\calibration\\dark_anchor_4\\anchor=((0, 100), (0, -100), (100, 0), (-100, 0))\\template\\anchor_r=15.bmp\n",
      "DMD pattern saved as: .\\resources\\calibration\\dark_anchor_4\\anchor=((0, 100), (0, -100), (100, 0), (-100, 0))\\anchor_r=20.bmp\n",
      "Template image saved as: .\\resources\\calibration\\dark_anchor_4\\anchor=((0, 100), (0, -100), (100, 0), (-100, 0))\\template\\anchor_r=20.bmp\n",
      "DMD pattern saved as: .\\resources\\calibration\\dark_anchor_4\\anchor=((0, 100), (0, -100), (100, 0), (-100, 0))\\anchor_r=30.bmp\n",
      "Template image saved as: .\\resources\\calibration\\dark_anchor_4\\anchor=((0, 100), (0, -100), (100, 0), (-100, 0))\\template\\anchor_r=30.bmp\n",
      "DMD pattern saved as: .\\resources\\calibration\\dark_anchor_4\\anchor=((0, 100), (0, -100), (100, 0), (-100, 0))\\anchor_r=40.bmp\n",
      "Template image saved as: .\\resources\\calibration\\dark_anchor_4\\anchor=((0, 100), (0, -100), (100, 0), (-100, 0))\\template\\anchor_r=40.bmp\n",
      "DMD pattern saved as: .\\resources\\calibration\\dark_anchor_4\\anchor=((0, 100), (0, -100), (100, 0), (-100, 0))\\anchor_r=50.bmp\n",
      "Template image saved as: .\\resources\\calibration\\dark_anchor_4\\anchor=((0, 100), (0, -100), (100, 0), (-100, 0))\\template\\anchor_r=50.bmp\n",
      "DMD pattern saved as: .\\resources\\calibration\\dark_anchor_5\\anchor=((0, 0), (-100, 0), (100, 0), (0, 150), (0, -150))\\anchor_r=5.bmp\n",
      "Template image saved as: .\\resources\\calibration\\dark_anchor_5\\anchor=((0, 0), (-100, 0), (100, 0), (0, 150), (0, -150))\\template\\anchor_r=5.bmp\n",
      "DMD pattern saved as: .\\resources\\calibration\\dark_anchor_5\\anchor=((0, 0), (-100, 0), (100, 0), (0, 150), (0, -150))\\anchor_r=10.bmp\n",
      "Template image saved as: .\\resources\\calibration\\dark_anchor_5\\anchor=((0, 0), (-100, 0), (100, 0), (0, 150), (0, -150))\\template\\anchor_r=10.bmp\n",
      "DMD pattern saved as: .\\resources\\calibration\\dark_anchor_5\\anchor=((0, 0), (-100, 0), (100, 0), (0, 150), (0, -150))\\anchor_r=15.bmp\n",
      "Template image saved as: .\\resources\\calibration\\dark_anchor_5\\anchor=((0, 0), (-100, 0), (100, 0), (0, 150), (0, -150))\\template\\anchor_r=15.bmp\n",
      "DMD pattern saved as: .\\resources\\calibration\\dark_anchor_5\\anchor=((0, 0), (-100, 0), (100, 0), (0, 150), (0, -150))\\anchor_r=20.bmp\n",
      "Template image saved as: .\\resources\\calibration\\dark_anchor_5\\anchor=((0, 0), (-100, 0), (100, 0), (0, 150), (0, -150))\\template\\anchor_r=20.bmp\n",
      "DMD pattern saved as: .\\resources\\calibration\\dark_anchor_5\\anchor=((0, 0), (-100, 0), (100, 0), (0, 150), (0, -150))\\anchor_r=30.bmp\n",
      "Template image saved as: .\\resources\\calibration\\dark_anchor_5\\anchor=((0, 0), (-100, 0), (100, 0), (0, 150), (0, -150))\\template\\anchor_r=30.bmp\n",
      "DMD pattern saved as: .\\resources\\calibration\\dark_anchor_5\\anchor=((0, 0), (-100, 0), (100, 0), (0, 150), (0, -150))\\anchor_r=40.bmp\n",
      "Template image saved as: .\\resources\\calibration\\dark_anchor_5\\anchor=((0, 0), (-100, 0), (100, 0), (0, 150), (0, -150))\\template\\anchor_r=40.bmp\n",
      "DMD pattern saved as: .\\resources\\calibration\\dark_anchor_5\\anchor=((0, 0), (-100, 0), (100, 0), (0, 150), (0, -150))\\anchor_r=50.bmp\n",
      "Template image saved as: .\\resources\\calibration\\dark_anchor_5\\anchor=((0, 0), (-100, 0), (100, 0), (0, 150), (0, -150))\\template\\anchor_r=50.bmp\n",
      "DMD pattern saved as: .\\resources\\calibration\\dark_anchor_5\\anchor=((0, 0), (100, 0), (200, 0), (-100, 0), (-200, 0))\\anchor_r=5.bmp\n",
      "Template image saved as: .\\resources\\calibration\\dark_anchor_5\\anchor=((0, 0), (100, 0), (200, 0), (-100, 0), (-200, 0))\\template\\anchor_r=5.bmp\n",
      "DMD pattern saved as: .\\resources\\calibration\\dark_anchor_5\\anchor=((0, 0), (100, 0), (200, 0), (-100, 0), (-200, 0))\\anchor_r=10.bmp\n",
      "Template image saved as: .\\resources\\calibration\\dark_anchor_5\\anchor=((0, 0), (100, 0), (200, 0), (-100, 0), (-200, 0))\\template\\anchor_r=10.bmp\n",
      "DMD pattern saved as: .\\resources\\calibration\\dark_anchor_5\\anchor=((0, 0), (100, 0), (200, 0), (-100, 0), (-200, 0))\\anchor_r=15.bmp\n",
      "Template image saved as: .\\resources\\calibration\\dark_anchor_5\\anchor=((0, 0), (100, 0), (200, 0), (-100, 0), (-200, 0))\\template\\anchor_r=15.bmp\n",
      "DMD pattern saved as: .\\resources\\calibration\\dark_anchor_5\\anchor=((0, 0), (100, 0), (200, 0), (-100, 0), (-200, 0))\\anchor_r=20.bmp\n",
      "Template image saved as: .\\resources\\calibration\\dark_anchor_5\\anchor=((0, 0), (100, 0), (200, 0), (-100, 0), (-200, 0))\\template\\anchor_r=20.bmp\n",
      "DMD pattern saved as: .\\resources\\calibration\\dark_anchor_5\\anchor=((0, 0), (100, 0), (200, 0), (-100, 0), (-200, 0))\\anchor_r=30.bmp\n",
      "Template image saved as: .\\resources\\calibration\\dark_anchor_5\\anchor=((0, 0), (100, 0), (200, 0), (-100, 0), (-200, 0))\\template\\anchor_r=30.bmp\n",
      "DMD pattern saved as: .\\resources\\calibration\\dark_anchor_5\\anchor=((0, 0), (100, 0), (200, 0), (-100, 0), (-200, 0))\\anchor_r=40.bmp\n",
      "Template image saved as: .\\resources\\calibration\\dark_anchor_5\\anchor=((0, 0), (100, 0), (200, 0), (-100, 0), (-200, 0))\\template\\anchor_r=40.bmp\n",
      "DMD pattern saved as: .\\resources\\calibration\\dark_anchor_5\\anchor=((0, 0), (100, 0), (200, 0), (-100, 0), (-200, 0))\\anchor_r=50.bmp\n",
      "Template image saved as: .\\resources\\calibration\\dark_anchor_5\\anchor=((0, 0), (100, 0), (200, 0), (-100, 0), (-200, 0))\\template\\anchor_r=50.bmp\n",
      "DMD pattern saved as: .\\resources\\calibration\\dark_anchor_5\\anchor=((0, 0), (0, 100), (0, 200), (0, -100), (0, -200))\\anchor_r=5.bmp\n",
      "Template image saved as: .\\resources\\calibration\\dark_anchor_5\\anchor=((0, 0), (0, 100), (0, 200), (0, -100), (0, -200))\\template\\anchor_r=5.bmp\n",
      "DMD pattern saved as: .\\resources\\calibration\\dark_anchor_5\\anchor=((0, 0), (0, 100), (0, 200), (0, -100), (0, -200))\\anchor_r=10.bmp\n",
      "Template image saved as: .\\resources\\calibration\\dark_anchor_5\\anchor=((0, 0), (0, 100), (0, 200), (0, -100), (0, -200))\\template\\anchor_r=10.bmp\n",
      "DMD pattern saved as: .\\resources\\calibration\\dark_anchor_5\\anchor=((0, 0), (0, 100), (0, 200), (0, -100), (0, -200))\\anchor_r=15.bmp\n",
      "Template image saved as: .\\resources\\calibration\\dark_anchor_5\\anchor=((0, 0), (0, 100), (0, 200), (0, -100), (0, -200))\\template\\anchor_r=15.bmp\n",
      "DMD pattern saved as: .\\resources\\calibration\\dark_anchor_5\\anchor=((0, 0), (0, 100), (0, 200), (0, -100), (0, -200))\\anchor_r=20.bmp\n",
      "Template image saved as: .\\resources\\calibration\\dark_anchor_5\\anchor=((0, 0), (0, 100), (0, 200), (0, -100), (0, -200))\\template\\anchor_r=20.bmp\n",
      "DMD pattern saved as: .\\resources\\calibration\\dark_anchor_5\\anchor=((0, 0), (0, 100), (0, 200), (0, -100), (0, -200))\\anchor_r=30.bmp\n",
      "Template image saved as: .\\resources\\calibration\\dark_anchor_5\\anchor=((0, 0), (0, 100), (0, 200), (0, -100), (0, -200))\\template\\anchor_r=30.bmp\n",
      "DMD pattern saved as: .\\resources\\calibration\\dark_anchor_5\\anchor=((0, 0), (0, 100), (0, 200), (0, -100), (0, -200))\\anchor_r=40.bmp\n",
      "Template image saved as: .\\resources\\calibration\\dark_anchor_5\\anchor=((0, 0), (0, 100), (0, 200), (0, -100), (0, -200))\\template\\anchor_r=40.bmp\n",
      "DMD pattern saved as: .\\resources\\calibration\\dark_anchor_5\\anchor=((0, 0), (0, 100), (0, 200), (0, -100), (0, -200))\\anchor_r=50.bmp\n",
      "Template image saved as: .\\resources\\calibration\\dark_anchor_5\\anchor=((0, 0), (0, 100), (0, 200), (0, -100), (0, -200))\\template\\anchor_r=50.bmp\n",
      "DMD pattern saved as: .\\resources\\calibration\\dark_anchor_5\\anchor=((0, 0), (100, 100), (200, 200), (-100, -100), (-200, -200))\\anchor_r=5.bmp\n",
      "Template image saved as: .\\resources\\calibration\\dark_anchor_5\\anchor=((0, 0), (100, 100), (200, 200), (-100, -100), (-200, -200))\\template\\anchor_r=5.bmp\n",
      "DMD pattern saved as: .\\resources\\calibration\\dark_anchor_5\\anchor=((0, 0), (100, 100), (200, 200), (-100, -100), (-200, -200))\\anchor_r=10.bmp\n",
      "Template image saved as: .\\resources\\calibration\\dark_anchor_5\\anchor=((0, 0), (100, 100), (200, 200), (-100, -100), (-200, -200))\\template\\anchor_r=10.bmp\n",
      "DMD pattern saved as: .\\resources\\calibration\\dark_anchor_5\\anchor=((0, 0), (100, 100), (200, 200), (-100, -100), (-200, -200))\\anchor_r=15.bmp\n",
      "Template image saved as: .\\resources\\calibration\\dark_anchor_5\\anchor=((0, 0), (100, 100), (200, 200), (-100, -100), (-200, -200))\\template\\anchor_r=15.bmp\n",
      "DMD pattern saved as: .\\resources\\calibration\\dark_anchor_5\\anchor=((0, 0), (100, 100), (200, 200), (-100, -100), (-200, -200))\\anchor_r=20.bmp\n",
      "Template image saved as: .\\resources\\calibration\\dark_anchor_5\\anchor=((0, 0), (100, 100), (200, 200), (-100, -100), (-200, -200))\\template\\anchor_r=20.bmp\n",
      "DMD pattern saved as: .\\resources\\calibration\\dark_anchor_5\\anchor=((0, 0), (100, 100), (200, 200), (-100, -100), (-200, -200))\\anchor_r=30.bmp\n",
      "Template image saved as: .\\resources\\calibration\\dark_anchor_5\\anchor=((0, 0), (100, 100), (200, 200), (-100, -100), (-200, -200))\\template\\anchor_r=30.bmp\n",
      "DMD pattern saved as: .\\resources\\calibration\\dark_anchor_5\\anchor=((0, 0), (100, 100), (200, 200), (-100, -100), (-200, -200))\\anchor_r=40.bmp\n",
      "Template image saved as: .\\resources\\calibration\\dark_anchor_5\\anchor=((0, 0), (100, 100), (200, 200), (-100, -100), (-200, -200))\\template\\anchor_r=40.bmp\n",
      "DMD pattern saved as: .\\resources\\calibration\\dark_anchor_5\\anchor=((0, 0), (100, 100), (200, 200), (-100, -100), (-200, -200))\\anchor_r=50.bmp\n",
      "Template image saved as: .\\resources\\calibration\\dark_anchor_5\\anchor=((0, 0), (100, 100), (200, 200), (-100, -100), (-200, -200))\\template\\anchor_r=50.bmp\n",
      "DMD pattern saved as: .\\resources\\calibration\\dark_anchor_5\\anchor=((0, 0), (100, -100), (200, -200), (-100, 100), (-200, 200))\\anchor_r=5.bmp\n",
      "Template image saved as: .\\resources\\calibration\\dark_anchor_5\\anchor=((0, 0), (100, -100), (200, -200), (-100, 100), (-200, 200))\\template\\anchor_r=5.bmp\n",
      "DMD pattern saved as: .\\resources\\calibration\\dark_anchor_5\\anchor=((0, 0), (100, -100), (200, -200), (-100, 100), (-200, 200))\\anchor_r=10.bmp\n",
      "Template image saved as: .\\resources\\calibration\\dark_anchor_5\\anchor=((0, 0), (100, -100), (200, -200), (-100, 100), (-200, 200))\\template\\anchor_r=10.bmp\n",
      "DMD pattern saved as: .\\resources\\calibration\\dark_anchor_5\\anchor=((0, 0), (100, -100), (200, -200), (-100, 100), (-200, 200))\\anchor_r=15.bmp\n",
      "Template image saved as: .\\resources\\calibration\\dark_anchor_5\\anchor=((0, 0), (100, -100), (200, -200), (-100, 100), (-200, 200))\\template\\anchor_r=15.bmp\n",
      "DMD pattern saved as: .\\resources\\calibration\\dark_anchor_5\\anchor=((0, 0), (100, -100), (200, -200), (-100, 100), (-200, 200))\\anchor_r=20.bmp\n",
      "Template image saved as: .\\resources\\calibration\\dark_anchor_5\\anchor=((0, 0), (100, -100), (200, -200), (-100, 100), (-200, 200))\\template\\anchor_r=20.bmp\n",
      "DMD pattern saved as: .\\resources\\calibration\\dark_anchor_5\\anchor=((0, 0), (100, -100), (200, -200), (-100, 100), (-200, 200))\\anchor_r=30.bmp\n",
      "Template image saved as: .\\resources\\calibration\\dark_anchor_5\\anchor=((0, 0), (100, -100), (200, -200), (-100, 100), (-200, 200))\\template\\anchor_r=30.bmp\n",
      "DMD pattern saved as: .\\resources\\calibration\\dark_anchor_5\\anchor=((0, 0), (100, -100), (200, -200), (-100, 100), (-200, 200))\\anchor_r=40.bmp\n",
      "Template image saved as: .\\resources\\calibration\\dark_anchor_5\\anchor=((0, 0), (100, -100), (200, -200), (-100, 100), (-200, 200))\\template\\anchor_r=40.bmp\n",
      "DMD pattern saved as: .\\resources\\calibration\\dark_anchor_5\\anchor=((0, 0), (100, -100), (200, -200), (-100, 100), (-200, 200))\\anchor_r=50.bmp\n",
      "Template image saved as: .\\resources\\calibration\\dark_anchor_5\\anchor=((0, 0), (100, -100), (200, -200), (-100, 100), (-200, 200))\\template\\anchor_r=50.bmp\n",
      "DMD pattern saved as: .\\resources\\calibration\\dark_anchor_9\\anchor=((0, 0), (0, -100), (0, 100), (100, 0), (-100, 0), (-50, -50), (50, 50), (50, -50), (-50, 50))\\anchor_r=5.bmp\n",
      "Template image saved as: .\\resources\\calibration\\dark_anchor_9\\anchor=((0, 0), (0, -100), (0, 100), (100, 0), (-100, 0), (-50, -50), (50, 50), (50, -50), (-50, 50))\\template\\anchor_r=5.bmp\n",
      "DMD pattern saved as: .\\resources\\calibration\\dark_anchor_9\\anchor=((0, 0), (0, -100), (0, 100), (100, 0), (-100, 0), (-50, -50), (50, 50), (50, -50), (-50, 50))\\anchor_r=10.bmp\n",
      "Template image saved as: .\\resources\\calibration\\dark_anchor_9\\anchor=((0, 0), (0, -100), (0, 100), (100, 0), (-100, 0), (-50, -50), (50, 50), (50, -50), (-50, 50))\\template\\anchor_r=10.bmp\n",
      "DMD pattern saved as: .\\resources\\calibration\\dark_anchor_9\\anchor=((0, 0), (0, -100), (0, 100), (100, 0), (-100, 0), (-50, -50), (50, 50), (50, -50), (-50, 50))\\anchor_r=15.bmp\n",
      "Template image saved as: .\\resources\\calibration\\dark_anchor_9\\anchor=((0, 0), (0, -100), (0, 100), (100, 0), (-100, 0), (-50, -50), (50, 50), (50, -50), (-50, 50))\\template\\anchor_r=15.bmp\n",
      "DMD pattern saved as: .\\resources\\calibration\\dark_anchor_9\\anchor=((0, 0), (0, -100), (0, 100), (100, 0), (-100, 0), (-50, -50), (50, 50), (50, -50), (-50, 50))\\anchor_r=20.bmp\n",
      "Template image saved as: .\\resources\\calibration\\dark_anchor_9\\anchor=((0, 0), (0, -100), (0, 100), (100, 0), (-100, 0), (-50, -50), (50, 50), (50, -50), (-50, 50))\\template\\anchor_r=20.bmp\n",
      "DMD pattern saved as: .\\resources\\calibration\\dark_anchor_9\\anchor=((0, 0), (0, -100), (0, 100), (100, 0), (-100, 0), (-50, -50), (50, 50), (50, -50), (-50, 50))\\anchor_r=30.bmp\n",
      "Template image saved as: .\\resources\\calibration\\dark_anchor_9\\anchor=((0, 0), (0, -100), (0, 100), (100, 0), (-100, 0), (-50, -50), (50, 50), (50, -50), (-50, 50))\\template\\anchor_r=30.bmp\n",
      "DMD pattern saved as: .\\resources\\calibration\\dark_anchor_9\\anchor=((0, 0), (0, -100), (0, 100), (100, 0), (-100, 0), (-50, -50), (50, 50), (50, -50), (-50, 50))\\anchor_r=40.bmp\n",
      "Template image saved as: .\\resources\\calibration\\dark_anchor_9\\anchor=((0, 0), (0, -100), (0, 100), (100, 0), (-100, 0), (-50, -50), (50, 50), (50, -50), (-50, 50))\\template\\anchor_r=40.bmp\n",
      "DMD pattern saved as: .\\resources\\calibration\\dark_anchor_9\\anchor=((0, 0), (0, -100), (0, 100), (100, 0), (-100, 0), (-50, -50), (50, 50), (50, -50), (-50, 50))\\anchor_r=50.bmp\n",
      "Template image saved as: .\\resources\\calibration\\dark_anchor_9\\anchor=((0, 0), (0, -100), (0, 100), (100, 0), (-100, 0), (-50, -50), (50, 50), (50, -50), (-50, 50))\\template\\anchor_r=50.bmp\n",
      "DMD pattern saved as: .\\resources\\calibration\\dark_anchor_9\\anchor=((0, 0), (0, -150), (0, 150), (150, 0), (-150, 0), (-75, -75), (75, 75), (75, -75), (-75, 75))\\anchor_r=5.bmp\n",
      "Template image saved as: .\\resources\\calibration\\dark_anchor_9\\anchor=((0, 0), (0, -150), (0, 150), (150, 0), (-150, 0), (-75, -75), (75, 75), (75, -75), (-75, 75))\\template\\anchor_r=5.bmp\n",
      "DMD pattern saved as: .\\resources\\calibration\\dark_anchor_9\\anchor=((0, 0), (0, -150), (0, 150), (150, 0), (-150, 0), (-75, -75), (75, 75), (75, -75), (-75, 75))\\anchor_r=10.bmp\n",
      "Template image saved as: .\\resources\\calibration\\dark_anchor_9\\anchor=((0, 0), (0, -150), (0, 150), (150, 0), (-150, 0), (-75, -75), (75, 75), (75, -75), (-75, 75))\\template\\anchor_r=10.bmp\n",
      "DMD pattern saved as: .\\resources\\calibration\\dark_anchor_9\\anchor=((0, 0), (0, -150), (0, 150), (150, 0), (-150, 0), (-75, -75), (75, 75), (75, -75), (-75, 75))\\anchor_r=15.bmp\n",
      "Template image saved as: .\\resources\\calibration\\dark_anchor_9\\anchor=((0, 0), (0, -150), (0, 150), (150, 0), (-150, 0), (-75, -75), (75, 75), (75, -75), (-75, 75))\\template\\anchor_r=15.bmp\n",
      "DMD pattern saved as: .\\resources\\calibration\\dark_anchor_9\\anchor=((0, 0), (0, -150), (0, 150), (150, 0), (-150, 0), (-75, -75), (75, 75), (75, -75), (-75, 75))\\anchor_r=20.bmp\n",
      "Template image saved as: .\\resources\\calibration\\dark_anchor_9\\anchor=((0, 0), (0, -150), (0, 150), (150, 0), (-150, 0), (-75, -75), (75, 75), (75, -75), (-75, 75))\\template\\anchor_r=20.bmp\n",
      "DMD pattern saved as: .\\resources\\calibration\\dark_anchor_9\\anchor=((0, 0), (0, -150), (0, 150), (150, 0), (-150, 0), (-75, -75), (75, 75), (75, -75), (-75, 75))\\anchor_r=30.bmp\n",
      "Template image saved as: .\\resources\\calibration\\dark_anchor_9\\anchor=((0, 0), (0, -150), (0, 150), (150, 0), (-150, 0), (-75, -75), (75, 75), (75, -75), (-75, 75))\\template\\anchor_r=30.bmp\n",
      "DMD pattern saved as: .\\resources\\calibration\\dark_anchor_9\\anchor=((0, 0), (0, -150), (0, 150), (150, 0), (-150, 0), (-75, -75), (75, 75), (75, -75), (-75, 75))\\anchor_r=40.bmp\n",
      "Template image saved as: .\\resources\\calibration\\dark_anchor_9\\anchor=((0, 0), (0, -150), (0, 150), (150, 0), (-150, 0), (-75, -75), (75, 75), (75, -75), (-75, 75))\\template\\anchor_r=40.bmp\n",
      "DMD pattern saved as: .\\resources\\calibration\\dark_anchor_9\\anchor=((0, 0), (0, -150), (0, 150), (150, 0), (-150, 0), (-75, -75), (75, 75), (75, -75), (-75, 75))\\anchor_r=50.bmp\n",
      "Template image saved as: .\\resources\\calibration\\dark_anchor_9\\anchor=((0, 0), (0, -150), (0, 150), (150, 0), (-150, 0), (-75, -75), (75, 75), (75, -75), (-75, 75))\\template\\anchor_r=50.bmp\n",
      "DMD pattern saved as: .\\resources\\calibration\\dark_anchor_9\\anchor=((0, 0), (0, -200), (0, 200), (200, 0), (-200, 0), (-100, -100), (100, 100), (100, -100), (-100, 100))\\anchor_r=5.bmp\n",
      "Template image saved as: .\\resources\\calibration\\dark_anchor_9\\anchor=((0, 0), (0, -200), (0, 200), (200, 0), (-200, 0), (-100, -100), (100, 100), (100, -100), (-100, 100))\\template\\anchor_r=5.bmp\n",
      "DMD pattern saved as: .\\resources\\calibration\\dark_anchor_9\\anchor=((0, 0), (0, -200), (0, 200), (200, 0), (-200, 0), (-100, -100), (100, 100), (100, -100), (-100, 100))\\anchor_r=10.bmp\n",
      "Template image saved as: .\\resources\\calibration\\dark_anchor_9\\anchor=((0, 0), (0, -200), (0, 200), (200, 0), (-200, 0), (-100, -100), (100, 100), (100, -100), (-100, 100))\\template\\anchor_r=10.bmp\n",
      "DMD pattern saved as: .\\resources\\calibration\\dark_anchor_9\\anchor=((0, 0), (0, -200), (0, 200), (200, 0), (-200, 0), (-100, -100), (100, 100), (100, -100), (-100, 100))\\anchor_r=15.bmp\n",
      "Template image saved as: .\\resources\\calibration\\dark_anchor_9\\anchor=((0, 0), (0, -200), (0, 200), (200, 0), (-200, 0), (-100, -100), (100, 100), (100, -100), (-100, 100))\\template\\anchor_r=15.bmp\n",
      "DMD pattern saved as: .\\resources\\calibration\\dark_anchor_9\\anchor=((0, 0), (0, -200), (0, 200), (200, 0), (-200, 0), (-100, -100), (100, 100), (100, -100), (-100, 100))\\anchor_r=20.bmp\n",
      "Template image saved as: .\\resources\\calibration\\dark_anchor_9\\anchor=((0, 0), (0, -200), (0, 200), (200, 0), (-200, 0), (-100, -100), (100, 100), (100, -100), (-100, 100))\\template\\anchor_r=20.bmp\n",
      "DMD pattern saved as: .\\resources\\calibration\\dark_anchor_9\\anchor=((0, 0), (0, -200), (0, 200), (200, 0), (-200, 0), (-100, -100), (100, 100), (100, -100), (-100, 100))\\anchor_r=30.bmp\n",
      "Template image saved as: .\\resources\\calibration\\dark_anchor_9\\anchor=((0, 0), (0, -200), (0, 200), (200, 0), (-200, 0), (-100, -100), (100, 100), (100, -100), (-100, 100))\\template\\anchor_r=30.bmp\n",
      "DMD pattern saved as: .\\resources\\calibration\\dark_anchor_9\\anchor=((0, 0), (0, -200), (0, 200), (200, 0), (-200, 0), (-100, -100), (100, 100), (100, -100), (-100, 100))\\anchor_r=40.bmp\n",
      "Template image saved as: .\\resources\\calibration\\dark_anchor_9\\anchor=((0, 0), (0, -200), (0, 200), (200, 0), (-200, 0), (-100, -100), (100, 100), (100, -100), (-100, 100))\\template\\anchor_r=40.bmp\n",
      "DMD pattern saved as: .\\resources\\calibration\\dark_anchor_9\\anchor=((0, 0), (0, -200), (0, 200), (200, 0), (-200, 0), (-100, -100), (100, 100), (100, -100), (-100, 100))\\anchor_r=50.bmp\n",
      "Template image saved as: .\\resources\\calibration\\dark_anchor_9\\anchor=((0, 0), (0, -200), (0, 200), (200, 0), (-200, 0), (-100, -100), (100, 100), (100, -100), (-100, 100))\\template\\anchor_r=50.bmp\n",
      "DMD pattern saved as: .\\resources\\calibration\\dark_anchor_16\\anchor=(0, 150)_to_(150, 0)\\anchor_r=5.bmp\n",
      "Template image saved as: .\\resources\\calibration\\dark_anchor_16\\anchor=(0, 150)_to_(150, 0)\\template\\anchor_r=5.bmp\n",
      "DMD pattern saved as: .\\resources\\calibration\\dark_anchor_16\\anchor=(0, 150)_to_(150, 0)\\anchor_r=10.bmp\n",
      "Template image saved as: .\\resources\\calibration\\dark_anchor_16\\anchor=(0, 150)_to_(150, 0)\\template\\anchor_r=10.bmp\n",
      "DMD pattern saved as: .\\resources\\calibration\\dark_anchor_16\\anchor=(0, 150)_to_(150, 0)\\anchor_r=15.bmp\n",
      "Template image saved as: .\\resources\\calibration\\dark_anchor_16\\anchor=(0, 150)_to_(150, 0)\\template\\anchor_r=15.bmp\n",
      "DMD pattern saved as: .\\resources\\calibration\\dark_anchor_16\\anchor=(0, 150)_to_(150, 0)\\anchor_r=20.bmp\n",
      "Template image saved as: .\\resources\\calibration\\dark_anchor_16\\anchor=(0, 150)_to_(150, 0)\\template\\anchor_r=20.bmp\n",
      "DMD pattern saved as: .\\resources\\calibration\\dark_anchor_16\\anchor=(0, 150)_to_(150, 0)\\anchor_r=30.bmp\n",
      "Template image saved as: .\\resources\\calibration\\dark_anchor_16\\anchor=(0, 150)_to_(150, 0)\\template\\anchor_r=30.bmp\n",
      "DMD pattern saved as: .\\resources\\calibration\\dark_anchor_16\\anchor=(0, 150)_to_(150, 0)\\anchor_r=40.bmp\n",
      "Template image saved as: .\\resources\\calibration\\dark_anchor_16\\anchor=(0, 150)_to_(150, 0)\\template\\anchor_r=40.bmp\n",
      "DMD pattern saved as: .\\resources\\calibration\\dark_anchor_16\\anchor=(0, 150)_to_(150, 0)\\anchor_r=50.bmp\n",
      "Template image saved as: .\\resources\\calibration\\dark_anchor_16\\anchor=(0, 150)_to_(150, 0)\\template\\anchor_r=50.bmp\n",
      "DMD pattern saved as: .\\resources\\calibration\\dark_anchor_16\\anchor=(0, 210)_to_(210, 0)\\anchor_r=5.bmp\n",
      "Template image saved as: .\\resources\\calibration\\dark_anchor_16\\anchor=(0, 210)_to_(210, 0)\\template\\anchor_r=5.bmp\n",
      "DMD pattern saved as: .\\resources\\calibration\\dark_anchor_16\\anchor=(0, 210)_to_(210, 0)\\anchor_r=10.bmp\n",
      "Template image saved as: .\\resources\\calibration\\dark_anchor_16\\anchor=(0, 210)_to_(210, 0)\\template\\anchor_r=10.bmp\n",
      "DMD pattern saved as: .\\resources\\calibration\\dark_anchor_16\\anchor=(0, 210)_to_(210, 0)\\anchor_r=15.bmp\n",
      "Template image saved as: .\\resources\\calibration\\dark_anchor_16\\anchor=(0, 210)_to_(210, 0)\\template\\anchor_r=15.bmp\n",
      "DMD pattern saved as: .\\resources\\calibration\\dark_anchor_16\\anchor=(0, 210)_to_(210, 0)\\anchor_r=20.bmp\n",
      "Template image saved as: .\\resources\\calibration\\dark_anchor_16\\anchor=(0, 210)_to_(210, 0)\\template\\anchor_r=20.bmp\n",
      "DMD pattern saved as: .\\resources\\calibration\\dark_anchor_16\\anchor=(0, 210)_to_(210, 0)\\anchor_r=30.bmp\n",
      "Template image saved as: .\\resources\\calibration\\dark_anchor_16\\anchor=(0, 210)_to_(210, 0)\\template\\anchor_r=30.bmp\n",
      "DMD pattern saved as: .\\resources\\calibration\\dark_anchor_16\\anchor=(0, 210)_to_(210, 0)\\anchor_r=40.bmp\n",
      "Template image saved as: .\\resources\\calibration\\dark_anchor_16\\anchor=(0, 210)_to_(210, 0)\\template\\anchor_r=40.bmp\n",
      "DMD pattern saved as: .\\resources\\calibration\\dark_anchor_16\\anchor=(0, 210)_to_(210, 0)\\anchor_r=50.bmp\n",
      "Template image saved as: .\\resources\\calibration\\dark_anchor_16\\anchor=(0, 210)_to_(210, 0)\\template\\anchor_r=50.bmp\n",
      "DMD pattern saved as: .\\resources\\calibration\\dark_anchor_25\\anchor=(0, 200)_to_(50, -150)\\anchor_r=5.bmp\n",
      "Template image saved as: .\\resources\\calibration\\dark_anchor_25\\anchor=(0, 200)_to_(50, -150)\\template\\anchor_r=5.bmp\n",
      "DMD pattern saved as: .\\resources\\calibration\\dark_anchor_25\\anchor=(0, 200)_to_(50, -150)\\anchor_r=10.bmp\n",
      "Template image saved as: .\\resources\\calibration\\dark_anchor_25\\anchor=(0, 200)_to_(50, -150)\\template\\anchor_r=10.bmp\n",
      "DMD pattern saved as: .\\resources\\calibration\\dark_anchor_25\\anchor=(0, 200)_to_(50, -150)\\anchor_r=15.bmp\n",
      "Template image saved as: .\\resources\\calibration\\dark_anchor_25\\anchor=(0, 200)_to_(50, -150)\\template\\anchor_r=15.bmp\n",
      "DMD pattern saved as: .\\resources\\calibration\\dark_anchor_25\\anchor=(0, 200)_to_(50, -150)\\anchor_r=20.bmp\n",
      "Template image saved as: .\\resources\\calibration\\dark_anchor_25\\anchor=(0, 200)_to_(50, -150)\\template\\anchor_r=20.bmp\n",
      "DMD pattern saved as: .\\resources\\calibration\\dark_anchor_25\\anchor=(0, 200)_to_(50, -150)\\anchor_r=30.bmp\n",
      "Template image saved as: .\\resources\\calibration\\dark_anchor_25\\anchor=(0, 200)_to_(50, -150)\\template\\anchor_r=30.bmp\n",
      "DMD pattern saved as: .\\resources\\calibration\\dark_anchor_25\\anchor=(0, 200)_to_(50, -150)\\anchor_r=40.bmp\n",
      "Template image saved as: .\\resources\\calibration\\dark_anchor_25\\anchor=(0, 200)_to_(50, -150)\\template\\anchor_r=40.bmp\n",
      "DMD pattern saved as: .\\resources\\calibration\\dark_anchor_25\\anchor=(0, 200)_to_(50, -150)\\anchor_r=50.bmp\n",
      "Template image saved as: .\\resources\\calibration\\dark_anchor_25\\anchor=(0, 200)_to_(50, -150)\\template\\anchor_r=50.bmp\n",
      "DMD pattern saved as: .\\resources\\calibration\\dark_anchor_7\\anchor=((-50, 87), (50, 87), (-100, 0), (0, 0), (100, 0), (-50, -87), (50, -87))\\anchor_r=5.bmp\n",
      "Template image saved as: .\\resources\\calibration\\dark_anchor_7\\anchor=((-50, 87), (50, 87), (-100, 0), (0, 0), (100, 0), (-50, -87), (50, -87))\\template\\anchor_r=5.bmp\n",
      "DMD pattern saved as: .\\resources\\calibration\\dark_anchor_7\\anchor=((-50, 87), (50, 87), (-100, 0), (0, 0), (100, 0), (-50, -87), (50, -87))\\anchor_r=10.bmp\n",
      "Template image saved as: .\\resources\\calibration\\dark_anchor_7\\anchor=((-50, 87), (50, 87), (-100, 0), (0, 0), (100, 0), (-50, -87), (50, -87))\\template\\anchor_r=10.bmp\n",
      "DMD pattern saved as: .\\resources\\calibration\\dark_anchor_7\\anchor=((-50, 87), (50, 87), (-100, 0), (0, 0), (100, 0), (-50, -87), (50, -87))\\anchor_r=15.bmp\n",
      "Template image saved as: .\\resources\\calibration\\dark_anchor_7\\anchor=((-50, 87), (50, 87), (-100, 0), (0, 0), (100, 0), (-50, -87), (50, -87))\\template\\anchor_r=15.bmp\n",
      "DMD pattern saved as: .\\resources\\calibration\\dark_anchor_7\\anchor=((-50, 87), (50, 87), (-100, 0), (0, 0), (100, 0), (-50, -87), (50, -87))\\anchor_r=20.bmp\n",
      "Template image saved as: .\\resources\\calibration\\dark_anchor_7\\anchor=((-50, 87), (50, 87), (-100, 0), (0, 0), (100, 0), (-50, -87), (50, -87))\\template\\anchor_r=20.bmp\n",
      "DMD pattern saved as: .\\resources\\calibration\\dark_anchor_7\\anchor=((-50, 87), (50, 87), (-100, 0), (0, 0), (100, 0), (-50, -87), (50, -87))\\anchor_r=30.bmp\n",
      "Template image saved as: .\\resources\\calibration\\dark_anchor_7\\anchor=((-50, 87), (50, 87), (-100, 0), (0, 0), (100, 0), (-50, -87), (50, -87))\\template\\anchor_r=30.bmp\n",
      "DMD pattern saved as: .\\resources\\calibration\\dark_anchor_7\\anchor=((-50, 87), (50, 87), (-100, 0), (0, 0), (100, 0), (-50, -87), (50, -87))\\anchor_r=40.bmp\n",
      "Template image saved as: .\\resources\\calibration\\dark_anchor_7\\anchor=((-50, 87), (50, 87), (-100, 0), (0, 0), (100, 0), (-50, -87), (50, -87))\\template\\anchor_r=40.bmp\n",
      "DMD pattern saved as: .\\resources\\calibration\\dark_anchor_7\\anchor=((-50, 87), (50, 87), (-100, 0), (0, 0), (100, 0), (-50, -87), (50, -87))\\anchor_r=50.bmp\n",
      "Template image saved as: .\\resources\\calibration\\dark_anchor_7\\anchor=((-50, 87), (50, 87), (-100, 0), (0, 0), (100, 0), (-50, -87), (50, -87))\\template\\anchor_r=50.bmp\n",
      "DMD pattern saved as: .\\resources\\calibration\\dark_anchor_7\\anchor=((-75, 130), (75, 130), (-150, 0), (0, 0), (150, 0), (-75, -130), (75, -130))\\anchor_r=5.bmp\n",
      "Template image saved as: .\\resources\\calibration\\dark_anchor_7\\anchor=((-75, 130), (75, 130), (-150, 0), (0, 0), (150, 0), (-75, -130), (75, -130))\\template\\anchor_r=5.bmp\n",
      "DMD pattern saved as: .\\resources\\calibration\\dark_anchor_7\\anchor=((-75, 130), (75, 130), (-150, 0), (0, 0), (150, 0), (-75, -130), (75, -130))\\anchor_r=10.bmp\n",
      "Template image saved as: .\\resources\\calibration\\dark_anchor_7\\anchor=((-75, 130), (75, 130), (-150, 0), (0, 0), (150, 0), (-75, -130), (75, -130))\\template\\anchor_r=10.bmp\n",
      "DMD pattern saved as: .\\resources\\calibration\\dark_anchor_7\\anchor=((-75, 130), (75, 130), (-150, 0), (0, 0), (150, 0), (-75, -130), (75, -130))\\anchor_r=15.bmp\n",
      "Template image saved as: .\\resources\\calibration\\dark_anchor_7\\anchor=((-75, 130), (75, 130), (-150, 0), (0, 0), (150, 0), (-75, -130), (75, -130))\\template\\anchor_r=15.bmp\n",
      "DMD pattern saved as: .\\resources\\calibration\\dark_anchor_7\\anchor=((-75, 130), (75, 130), (-150, 0), (0, 0), (150, 0), (-75, -130), (75, -130))\\anchor_r=20.bmp\n",
      "Template image saved as: .\\resources\\calibration\\dark_anchor_7\\anchor=((-75, 130), (75, 130), (-150, 0), (0, 0), (150, 0), (-75, -130), (75, -130))\\template\\anchor_r=20.bmp\n",
      "DMD pattern saved as: .\\resources\\calibration\\dark_anchor_7\\anchor=((-75, 130), (75, 130), (-150, 0), (0, 0), (150, 0), (-75, -130), (75, -130))\\anchor_r=30.bmp\n",
      "Template image saved as: .\\resources\\calibration\\dark_anchor_7\\anchor=((-75, 130), (75, 130), (-150, 0), (0, 0), (150, 0), (-75, -130), (75, -130))\\template\\anchor_r=30.bmp\n",
      "DMD pattern saved as: .\\resources\\calibration\\dark_anchor_7\\anchor=((-75, 130), (75, 130), (-150, 0), (0, 0), (150, 0), (-75, -130), (75, -130))\\anchor_r=40.bmp\n",
      "Template image saved as: .\\resources\\calibration\\dark_anchor_7\\anchor=((-75, 130), (75, 130), (-150, 0), (0, 0), (150, 0), (-75, -130), (75, -130))\\template\\anchor_r=40.bmp\n",
      "DMD pattern saved as: .\\resources\\calibration\\dark_anchor_7\\anchor=((-75, 130), (75, 130), (-150, 0), (0, 0), (150, 0), (-75, -130), (75, -130))\\anchor_r=50.bmp\n",
      "Template image saved as: .\\resources\\calibration\\dark_anchor_7\\anchor=((-75, 130), (75, 130), (-150, 0), (0, 0), (150, 0), (-75, -130), (75, -130))\\template\\anchor_r=50.bmp\n",
      "DMD pattern saved as: .\\resources\\calibration\\dark_anchor_7\\anchor=((-100, 173), (100, 173), (-200, 0), (0, 0), (200, 0), (-100, -173), (100, -173))\\anchor_r=5.bmp\n",
      "Template image saved as: .\\resources\\calibration\\dark_anchor_7\\anchor=((-100, 173), (100, 173), (-200, 0), (0, 0), (200, 0), (-100, -173), (100, -173))\\template\\anchor_r=5.bmp\n",
      "DMD pattern saved as: .\\resources\\calibration\\dark_anchor_7\\anchor=((-100, 173), (100, 173), (-200, 0), (0, 0), (200, 0), (-100, -173), (100, -173))\\anchor_r=10.bmp\n",
      "Template image saved as: .\\resources\\calibration\\dark_anchor_7\\anchor=((-100, 173), (100, 173), (-200, 0), (0, 0), (200, 0), (-100, -173), (100, -173))\\template\\anchor_r=10.bmp\n",
      "DMD pattern saved as: .\\resources\\calibration\\dark_anchor_7\\anchor=((-100, 173), (100, 173), (-200, 0), (0, 0), (200, 0), (-100, -173), (100, -173))\\anchor_r=15.bmp\n",
      "Template image saved as: .\\resources\\calibration\\dark_anchor_7\\anchor=((-100, 173), (100, 173), (-200, 0), (0, 0), (200, 0), (-100, -173), (100, -173))\\template\\anchor_r=15.bmp\n",
      "DMD pattern saved as: .\\resources\\calibration\\dark_anchor_7\\anchor=((-100, 173), (100, 173), (-200, 0), (0, 0), (200, 0), (-100, -173), (100, -173))\\anchor_r=20.bmp\n",
      "Template image saved as: .\\resources\\calibration\\dark_anchor_7\\anchor=((-100, 173), (100, 173), (-200, 0), (0, 0), (200, 0), (-100, -173), (100, -173))\\template\\anchor_r=20.bmp\n",
      "DMD pattern saved as: .\\resources\\calibration\\dark_anchor_7\\anchor=((-100, 173), (100, 173), (-200, 0), (0, 0), (200, 0), (-100, -173), (100, -173))\\anchor_r=30.bmp\n",
      "Template image saved as: .\\resources\\calibration\\dark_anchor_7\\anchor=((-100, 173), (100, 173), (-200, 0), (0, 0), (200, 0), (-100, -173), (100, -173))\\template\\anchor_r=30.bmp\n",
      "DMD pattern saved as: .\\resources\\calibration\\dark_anchor_7\\anchor=((-100, 173), (100, 173), (-200, 0), (0, 0), (200, 0), (-100, -173), (100, -173))\\anchor_r=40.bmp\n",
      "Template image saved as: .\\resources\\calibration\\dark_anchor_7\\anchor=((-100, 173), (100, 173), (-200, 0), (0, 0), (200, 0), (-100, -173), (100, -173))\\template\\anchor_r=40.bmp\n",
      "DMD pattern saved as: .\\resources\\calibration\\dark_anchor_7\\anchor=((-100, 173), (100, 173), (-200, 0), (0, 0), (200, 0), (-100, -173), (100, -173))\\anchor_r=50.bmp\n",
      "Template image saved as: .\\resources\\calibration\\dark_anchor_7\\anchor=((-100, 173), (100, 173), (-200, 0), (0, 0), (200, 0), (-100, -173), (100, -173))\\template\\anchor_r=50.bmp\n"
     ]
    }
   ],
   "source": [
    "radius = [2, 5, 10, 15, 20, 30, 40, 50]\n",
    "anchor_map = {\n",
    "    'right_angle_triangle_side1=100_side2=150': ((0, 0), (-100, 0), (150, 0)),\n",
    "    'yline_side1=100_side2=150': ((0, 0), (0, -100), (0, 150)),\n",
    "    '': ((0, 0), (100, 0), (0, 150)),\n",
    "    '': ((0, 58), (-50, -29), (50, -29)),\n",
    "    '': ((0, 87), (-75, -43), (75, -43)),\n",
    "    '': ((0, 115), (-100, -58), (100, -58)),\n",
    "}\n",
    "# anchor_map.update({\n",
    "#     ((-35, 35), (-35, -35), (35, 35), (35, -35)),\n",
    "#     ((-50, 50), (-50, -50), (50, 50), (50, -50)),\n",
    "#     ((-75, 75), (-75, -75), (75, 75), (75, -75)),\n",
    "#     ((-100, 100), (-100, -100), (100, 100), (100, -100)),\n",
    "#     ((0, 50), (0, -50), (50, 0), (-50, 0)),\n",
    "#     ((0, 75), (0, -75), (75, 0), (-75, 0)),\n",
    "#     ((0, 100), (0, -100), (100, 0), (-100, 0)),\n",
    "#     ((0, 0), (-100, 0), (100, 0), (0, 150), (0, -150)),\n",
    "#     ((0, 0), (100, 0), (200, 0), (-100, 0), (-200, 0)),\n",
    "#     ((0, 0), (0, 100), (0, 200), (0, -100), (0, -200)),\n",
    "#     ((0, 0), (100, 100), (200, 200), (-100, -100), (-200, -200)),\n",
    "#     ((0, 0), (100, -100), (200, -200), (-100, 100), (-200, 200)),\n",
    "#     ((0, 0), (0, -100), (0, 100), (100, 0), (-100, 0), (-50, -50), (50, 50), (50, -50), (-50, 50)),\n",
    "#     ((0, 0), (0, -150), (0, 150), (150, 0), (-150, 0), (-75, -75), (75, 75), (75, -75), (-75, 75)),\n",
    "#     ((0, 0), (0, -200), (0, 200), (200, 0), (-200, 0), (-100, -100), (100, 100), (100, -100), (-100, 100)),\n",
    "#     ((0, 150), (0, 50), (0, -50), (0, -150), (-50, 100), (-50, 0), (-50, -100), (50, 100), (50, 0), (50, -100), (-100, 50), (-100, -50), (100, 50), (100, -50), (-150, 0), (150, 0)),\n",
    "#     ((0, 210), (0, 70), (0, -70), (0, -210), (-70, 140), (-70, 0), (-70, -140), (70, 140), (70, 0), (70, -140), (-140, 70), (-140, -70), (140, 70), (140, -70), (-210, 0), (210, 0)),\n",
    "#     ((0, 200), (0, 100), (0, 0), (0, -100), (0, -200), (-50, 150), (-50, 50), (-50, -50), (-50, -150), (-100, 100), (-100, 0), (-100, -100), (-150, 50), (-150, -50), (-200, 0), (200, 0), (150, 50), (150, -50), (100, 100), (100, 0), (100, -100), (50, 150), (50, 50), (50, -50), (50, -150)),\n",
    "#     ((-50, 87), (50, 87), (-100, 0), (0, 0), (100, 0), (-50, -87), (50, -87)),\n",
    "#     ((-75, 130), (75, 130), (-150, 0), (0, 0), (150, 0), (-75, -130), (75, -130)),\n",
    "#     ((-100, 173), (100, 173), (-200, 0), (0, 0), (200, 0), (-100, -173), (100, -173)),\n",
    "# })\n",
    "\n",
    "# for anchor, r in product(anchor_list, radius):\n",
    "#     num_anchor = len(anchor)\n",
    "#     folder_name = save_dir + f'pattern_anchor/black_anchor_{num_anchor}/anchor={anchor}/'\n",
    "#     filename = f'anchor_r={r}.bmp'\n",
    "#     dmd.drawPattern(painter.drawAnchorCircles(radius=r,\n",
    "#                                               anchor=anchor), color=0)\n",
    "#     dmd.saveFrameToFile(folder_name, filename)"
   ]
  },
  {
   "cell_type": "markdown",
   "metadata": {},
   "source": [
    "#### Calibration pattern 2: a grid of background circles with radius r1 and the anchor circles with radius r2"
   ]
  },
  {
   "cell_type": "code",
   "execution_count": 28,
   "metadata": {},
   "outputs": [
    {
     "name": "stdout",
     "output_type": "stream",
     "text": [
      "DMD pattern saved as: .\\resources\\calibration\\bright_anchor_background_spacing=50\\anchor_background_r=0\\anchor_r=5_((0,0),(100,0),(0,150)).bmp\n",
      "Template image saved as: .\\resources\\calibration\\bright_anchor_background_spacing=50\\anchor_background_r=0\\template\\anchor_r=5_((0,0),(100,0),(0,150)).bmp\n",
      "DMD pattern saved as: .\\resources\\calibration\\bright_anchor_background_spacing=50\\anchor_background_r=0\\anchor_r=10_((0,0),(100,0),(0,150)).bmp\n",
      "Template image saved as: .\\resources\\calibration\\bright_anchor_background_spacing=50\\anchor_background_r=0\\template\\anchor_r=10_((0,0),(100,0),(0,150)).bmp\n",
      "DMD pattern saved as: .\\resources\\calibration\\bright_anchor_background_spacing=50\\anchor_background_r=0\\anchor_r=20_((0,0),(100,0),(0,150)).bmp\n",
      "Template image saved as: .\\resources\\calibration\\bright_anchor_background_spacing=50\\anchor_background_r=0\\template\\anchor_r=20_((0,0),(100,0),(0,150)).bmp\n",
      "DMD pattern saved as: .\\resources\\calibration\\bright_anchor_background_spacing=50\\anchor_background_r=0\\anchor_r=30_((0,0),(100,0),(0,150)).bmp\n",
      "Template image saved as: .\\resources\\calibration\\bright_anchor_background_spacing=50\\anchor_background_r=0\\template\\anchor_r=30_((0,0),(100,0),(0,150)).bmp\n",
      "DMD pattern saved as: .\\resources\\calibration\\bright_anchor_background_spacing=50\\anchor_background_r=0\\anchor_r=40_((0,0),(100,0),(0,150)).bmp\n",
      "Template image saved as: .\\resources\\calibration\\bright_anchor_background_spacing=50\\anchor_background_r=0\\template\\anchor_r=40_((0,0),(100,0),(0,150)).bmp\n",
      "DMD pattern saved as: .\\resources\\calibration\\bright_anchor_background_spacing=50\\anchor_background_r=1\\anchor_r=5_((0,0),(100,0),(0,150)).bmp\n",
      "Template image saved as: .\\resources\\calibration\\bright_anchor_background_spacing=50\\anchor_background_r=1\\template\\anchor_r=5_((0,0),(100,0),(0,150)).bmp\n",
      "DMD pattern saved as: .\\resources\\calibration\\bright_anchor_background_spacing=50\\anchor_background_r=1\\anchor_r=10_((0,0),(100,0),(0,150)).bmp\n",
      "Template image saved as: .\\resources\\calibration\\bright_anchor_background_spacing=50\\anchor_background_r=1\\template\\anchor_r=10_((0,0),(100,0),(0,150)).bmp\n",
      "DMD pattern saved as: .\\resources\\calibration\\bright_anchor_background_spacing=50\\anchor_background_r=1\\anchor_r=20_((0,0),(100,0),(0,150)).bmp\n",
      "Template image saved as: .\\resources\\calibration\\bright_anchor_background_spacing=50\\anchor_background_r=1\\template\\anchor_r=20_((0,0),(100,0),(0,150)).bmp\n",
      "DMD pattern saved as: .\\resources\\calibration\\bright_anchor_background_spacing=50\\anchor_background_r=1\\anchor_r=30_((0,0),(100,0),(0,150)).bmp\n",
      "Template image saved as: .\\resources\\calibration\\bright_anchor_background_spacing=50\\anchor_background_r=1\\template\\anchor_r=30_((0,0),(100,0),(0,150)).bmp\n",
      "DMD pattern saved as: .\\resources\\calibration\\bright_anchor_background_spacing=50\\anchor_background_r=1\\anchor_r=40_((0,0),(100,0),(0,150)).bmp\n",
      "Template image saved as: .\\resources\\calibration\\bright_anchor_background_spacing=50\\anchor_background_r=1\\template\\anchor_r=40_((0,0),(100,0),(0,150)).bmp\n",
      "DMD pattern saved as: .\\resources\\calibration\\bright_anchor_background_spacing=50\\anchor_background_r=2\\anchor_r=5_((0,0),(100,0),(0,150)).bmp\n",
      "Template image saved as: .\\resources\\calibration\\bright_anchor_background_spacing=50\\anchor_background_r=2\\template\\anchor_r=5_((0,0),(100,0),(0,150)).bmp\n",
      "DMD pattern saved as: .\\resources\\calibration\\bright_anchor_background_spacing=50\\anchor_background_r=2\\anchor_r=10_((0,0),(100,0),(0,150)).bmp\n",
      "Template image saved as: .\\resources\\calibration\\bright_anchor_background_spacing=50\\anchor_background_r=2\\template\\anchor_r=10_((0,0),(100,0),(0,150)).bmp\n",
      "DMD pattern saved as: .\\resources\\calibration\\bright_anchor_background_spacing=50\\anchor_background_r=2\\anchor_r=20_((0,0),(100,0),(0,150)).bmp\n",
      "Template image saved as: .\\resources\\calibration\\bright_anchor_background_spacing=50\\anchor_background_r=2\\template\\anchor_r=20_((0,0),(100,0),(0,150)).bmp\n",
      "DMD pattern saved as: .\\resources\\calibration\\bright_anchor_background_spacing=50\\anchor_background_r=2\\anchor_r=30_((0,0),(100,0),(0,150)).bmp\n",
      "Template image saved as: .\\resources\\calibration\\bright_anchor_background_spacing=50\\anchor_background_r=2\\template\\anchor_r=30_((0,0),(100,0),(0,150)).bmp\n",
      "DMD pattern saved as: .\\resources\\calibration\\bright_anchor_background_spacing=50\\anchor_background_r=2\\anchor_r=40_((0,0),(100,0),(0,150)).bmp\n",
      "Template image saved as: .\\resources\\calibration\\bright_anchor_background_spacing=50\\anchor_background_r=2\\template\\anchor_r=40_((0,0),(100,0),(0,150)).bmp\n"
     ]
    }
   ],
   "source": [
    "radius1 = [0, 1, 2]\n",
    "radius2 = [5, 10, 20, 30, 40]\n",
    "\n",
    "for r1, r2 in product(radius1, radius2):\n",
    "    if r2 > r1:\n",
    "        filename = f'anchor_r={r2}_((0,0),(100,0),(0,150)).bmp'\n",
    "        dmd.drawPattern(painter.drawAnchorCirclesWithBackgroundCircles(\n",
    "            bg_radius=r1, anchor_radius=r2), color=1)\n",
    "        dmd.saveFrameToFile(save_dir + f'calibration/bright_anchor_background_spacing=50/anchor_background_r={r1}/', filename)"
   ]
  },
  {
   "cell_type": "markdown",
   "metadata": {},
   "source": [
    "#### Calibration pattern 3: filled circles (anchor points) with grids"
   ]
  },
  {
   "cell_type": "code",
   "execution_count": 29,
   "metadata": {},
   "outputs": [
    {
     "name": "stdout",
     "output_type": "stream",
     "text": [
      "DMD pattern saved as: .\\resources\\calibration\\dark_anchor_on_grid=100_halfwidth=2\\anchor=((0, 0), (100, 0), (0, 200))\\calibration_r=5.bmp\n",
      "Template image saved as: .\\resources\\calibration\\dark_anchor_on_grid=100_halfwidth=2\\anchor=((0, 0), (100, 0), (0, 200))\\template\\calibration_r=5.bmp\n",
      "DMD pattern saved as: .\\resources\\calibration\\dark_anchor_on_grid=100_halfwidth=2\\anchor=((0, 0), (100, 0), (0, 200))\\calibration_r=10.bmp\n",
      "Template image saved as: .\\resources\\calibration\\dark_anchor_on_grid=100_halfwidth=2\\anchor=((0, 0), (100, 0), (0, 200))\\template\\calibration_r=10.bmp\n",
      "DMD pattern saved as: .\\resources\\calibration\\dark_anchor_on_grid=100_halfwidth=2\\anchor=((0, 0), (100, 0), (0, 200))\\calibration_r=20.bmp\n",
      "Template image saved as: .\\resources\\calibration\\dark_anchor_on_grid=100_halfwidth=2\\anchor=((0, 0), (100, 0), (0, 200))\\template\\calibration_r=20.bmp\n",
      "DMD pattern saved as: .\\resources\\calibration\\dark_anchor_on_grid=100_halfwidth=2\\anchor=((0, 0), (100, 0), (0, 200))\\calibration_r=30.bmp\n",
      "Template image saved as: .\\resources\\calibration\\dark_anchor_on_grid=100_halfwidth=2\\anchor=((0, 0), (100, 0), (0, 200))\\template\\calibration_r=30.bmp\n",
      "DMD pattern saved as: .\\resources\\calibration\\dark_anchor_on_grid=100_halfwidth=2\\anchor=((0, 0), (100, 0), (0, 200))\\calibration_r=40.bmp\n",
      "Template image saved as: .\\resources\\calibration\\dark_anchor_on_grid=100_halfwidth=2\\anchor=((0, 0), (100, 0), (0, 200))\\template\\calibration_r=40.bmp\n"
     ]
    }
   ],
   "source": [
    "radius = [5, 10, 20, 30, 40]\n",
    "anchor_list = [((0, 0), (100, 0), (0, 200)),\n",
    "]\n",
    "\n",
    "for anchor, r in product(anchor_list, radius):\n",
    "    filename = f'calibration_r={r}.bmp'\n",
    "    dmd.drawPattern(painter.drawAnchorCirclesWithBackgroundGrid(bg_halfwidth=2,\n",
    "                                                                bg_spacing=100,\n",
    "                                                                anchor_radius=r,\n",
    "                                                                anchor=anchor\n",
    "                                                                ), color=1)\n",
    "    dmd.saveFrameToFile(save_dir + f'calibration/dark_anchor_on_grid=100_halfwidth=2/anchor={anchor}/', filename)"
   ]
  }
 ],
 "metadata": {
  "kernelspec": {
   "display_name": "base",
   "language": "python",
   "name": "python3"
  },
  "language_info": {
   "codemirror_mode": {
    "name": "ipython",
    "version": 3
   },
   "file_extension": ".py",
   "mimetype": "text/x-python",
   "name": "python",
   "nbconvert_exporter": "python",
   "pygments_lexer": "ipython3",
   "version": "3.10.12"
  },
  "orig_nbformat": 4
 },
 "nbformat": 4,
 "nbformat_minor": 2
}
