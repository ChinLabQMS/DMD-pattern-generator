{
 "cells": [
  {
   "cell_type": "markdown",
   "metadata": {},
   "source": [
    "## Generate patterns on an RGB frame\n",
    "### Setup"
   ]
  },
  {
   "cell_type": "code",
   "execution_count": 1,
   "metadata": {},
   "outputs": [
    {
     "name": "stdout",
     "output_type": "stream",
     "text": [
      "c:\\Users\\qmspc\\Documents\\MATLAB\\DMD-pattern-generator\n"
     ]
    },
    {
     "data": {
      "text/plain": [
       "(1140, 912, 1482, 1481)"
      ]
     },
     "execution_count": 1,
     "metadata": {},
     "output_type": "execute_result"
    }
   ],
   "source": [
    "%cd ../\n",
    "from math import sqrt\n",
    "from itertools import product\n",
    "import os\n",
    "\n",
    "from core import ColorFrame, Painter, ColorPattern\n",
    "\n",
    "save_dir = 'resources/'\n",
    "\n",
    "dmd = ColorFrame()\n",
    "painter = Painter()\n",
    "dmd.dmd_nrows, dmd.dmd_ncols, dmd.real_nrows, dmd.real_ncols"
   ]
  },
  {
   "cell_type": "markdown",
   "metadata": {},
   "source": [
    "### Solid color patterns"
   ]
  },
  {
   "cell_type": "code",
   "execution_count": 3,
   "metadata": {},
   "outputs": [],
   "source": [
    "filename = f'white.bmp'\n",
    "dmd.setRealArray(color=1)\n",
    "dmd.saveFrameToFile(save_dir + 'solid/', filename)\n",
    "\n",
    "filename = f'black.bmp'\n",
    "dmd.setRealArray(color=0)\n",
    "dmd.saveFrameToFile(save_dir + 'solid/', filename)\n",
    "\n",
    "filename = f'red.bmp'\n",
    "dmd.setRealArray(color=[255, 0, 0])\n",
    "dmd.saveFrameToFile(save_dir + 'solid/', filename)\n",
    "\n",
    "filename = f'green.bmp'\n",
    "dmd.setRealArray(color=[0, 255, 0])\n",
    "dmd.saveFrameToFile(save_dir + 'solid/', filename)\n",
    "\n",
    "filename = f'blue.bmp'\n",
    "dmd.setRealArray(color=[0, 0, 255])\n",
    "dmd.saveFrameToFile(save_dir + 'solid/', filename)\n",
    "\n",
    "filename = f'gray=10101010.bmp'\n",
    "dmd.setRealArray(color=[0b10101010] * 3)\n",
    "dmd.saveFrameToFile(save_dir + 'solid/', filename)\n",
    "\n",
    "filename = f'gray=01010101.bmp'\n",
    "dmd.setRealArray(color=[0b01010101] * 3)\n",
    "dmd.saveFrameToFile(save_dir + 'solid/', filename)\n",
    "\n",
    "filename = f'gray=00110011.bmp'\n",
    "dmd.setRealArray(color=[0b00110011] * 3)\n",
    "dmd.saveFrameToFile(save_dir + 'solid/', filename)\n",
    "\n",
    "filename = f'gray=00010001.bmp'\n",
    "dmd.setRealArray(color=[0b00010001] * 3)\n",
    "dmd.saveFrameToFile(save_dir + 'solid/', filename)"
   ]
  },
  {
   "cell_type": "code",
   "execution_count": 4,
   "metadata": {},
   "outputs": [],
   "source": [
    "r = 0b10000000\n",
    "g = 0b11000000\n",
    "b = 0b11100000\n",
    "\n",
    "filename = f'RGB_R={bin(r)[2:]}_G={bin(g)[2:]}_B={bin(b)[2:]}.bmp'\n",
    "dmd.setRealArray(color=[r, g, b])\n",
    "dmd.saveFrameToFile(save_dir + 'solid/', filename)"
   ]
  },
  {
   "cell_type": "markdown",
   "metadata": {},
   "source": [
    "### Printed Text pattern\n"
   ]
  },
  {
   "cell_type": "code",
   "execution_count": 5,
   "metadata": {},
   "outputs": [],
   "source": [
    "dmd.drawPattern(painter.drawText('R', offset=(-200, 0), font_size=200), color=(255, 0, 0), template_color=0)\n",
    "dmd.drawPattern(painter.drawText('G', font_size=200), color=(0, 255, 0), template_color=0, reset=False)\n",
    "dmd.drawPattern(painter.drawText('B', offset=(200, 0), font_size=200), color=(0, 0, 255), template_color=0, reset=False)\n",
    "dmd.saveFrameToFile(save_dir + 'text/', 'RGB.bmp')"
   ]
  },
  {
   "cell_type": "code",
   "execution_count": 6,
   "metadata": {},
   "outputs": [],
   "source": [
    "dmd.drawPattern(painter.drawText('C', offset=(-160, 0), font_size=160, stroke_width=10), color=0)\n",
    "dmd.drawPattern(painter.drawText('H', offset=(-30, 0),font_size=160, stroke_width=10), color=0, reset=False)\n",
    "dmd.drawPattern(painter.drawText('I', offset=(60, 0),font_size=160, stroke_width=10), color=0, reset=False)\n",
    "dmd.drawPattern(painter.drawText('N', offset=(150, 0),font_size=160, stroke_width=10), color=0, reset=False)\n",
    "dmd.saveFrameToFile(save_dir + 'text/', 'CHIN.bmp')"
   ]
  },
  {
   "cell_type": "code",
   "execution_count": 7,
   "metadata": {},
   "outputs": [],
   "source": [
    "dmd.drawPattern(painter.drawText('Q', offset=(-150, 0), font_size=160, stroke_width=5), color=0)\n",
    "dmd.drawPattern(painter.drawText('M', offset=(0, 0),font_size=160, stroke_width=5), color=0, reset=False)\n",
    "dmd.drawPattern(painter.drawText('S', offset=(140, 0),font_size=160, stroke_width=5), color=0, reset=False)\n",
    "dmd.saveFrameToFile(save_dir + 'text/', 'QMS.bmp')"
   ]
  },
  {
   "cell_type": "markdown",
   "metadata": {},
   "source": [
    "### Shaped pattern based on circles"
   ]
  },
  {
   "cell_type": "markdown",
   "metadata": {},
   "source": [
    "#### White filled center circle on a black background"
   ]
  },
  {
   "cell_type": "code",
   "execution_count": 8,
   "metadata": {},
   "outputs": [],
   "source": [
    "radius = [0.5, 1, 2, 3, 4, 5, 10, 15, 20, 30, 40, 50, 60, 70, 80, 90, 100, 120, 150, 170, 200, 400]\n",
    "\n",
    "for r in radius:\n",
    "    filename = f'r={r}.bmp'\n",
    "\n",
    "    dmd.drawPattern(painter.drawCircle(radius=r), color=1, template_color=0)\n",
    "    dmd.saveFrameToFile(save_dir + f'pattern_circle/white_filled_circle_on_black/', filename)"
   ]
  },
  {
   "cell_type": "markdown",
   "metadata": {},
   "source": [
    "#### Black filled centered circle on a white background"
   ]
  },
  {
   "cell_type": "code",
   "execution_count": 9,
   "metadata": {},
   "outputs": [],
   "source": [
    "radius = [0.5, 1, 2, 3, 4, 5, 10, 15, 20, 30, 40, 50, 60, 70, 80, 90, 100, 120, 150, 170, 200, 400]\n",
    "\n",
    "for r in radius:\n",
    "    filename = f'r={r}.bmp'\n",
    "\n",
    "    dmd.drawPattern(painter.drawCircle(radius=r), color=0, template_color=1)\n",
    "    dmd.saveFrameToFile(save_dir + f'pattern_circle/black_filled_circle_on_white/', filename)"
   ]
  },
  {
   "cell_type": "markdown",
   "metadata": {},
   "source": [
    "#### Gray filled centered circle on a black background"
   ]
  },
  {
   "cell_type": "code",
   "execution_count": 10,
   "metadata": {},
   "outputs": [],
   "source": [
    "radius = [0.5, 1, 2, 3, 4, 5, 10, 15, 20, 30, 40, 50, 60, 70, 80, 90, 100, 120, 150, 170, 200, 400]\n",
    "\n",
    "for r in radius:\n",
    "    filename = f'r={r}.bmp'\n",
    "\n",
    "    dmd.drawPattern(painter.drawCircle(radius=r), color=0b10101010, template_color=0)\n",
    "    dmd.saveFrameToFile(save_dir + f'pattern_circle/gray_filled_circle_on_black/', filename)"
   ]
  },
  {
   "cell_type": "markdown",
   "metadata": {},
   "source": [
    "#### Black filled centered circle on a gray background"
   ]
  },
  {
   "cell_type": "code",
   "execution_count": 11,
   "metadata": {},
   "outputs": [],
   "source": [
    "radius = [0.5, 1, 2, 3, 4, 5, 10, 15, 20, 30, 40, 50, 60, 70, 80, 90, 100, 120, 150, 170, 200, 400]\n",
    "\n",
    "for r in radius:\n",
    "    filename = f'r={r}.bmp'\n",
    "\n",
    "    dmd.drawPattern(painter.drawCircle(radius=r), color=0, template_color=0b10101010)\n",
    "    dmd.saveFrameToFile(save_dir + f'pattern_circle/black_filled_circle_on_gray/', filename)"
   ]
  },
  {
   "cell_type": "markdown",
   "metadata": {},
   "source": [
    "#### White arrays of circles on a black background"
   ]
  },
  {
   "cell_type": "code",
   "execution_count": 12,
   "metadata": {},
   "outputs": [],
   "source": [
    "radius = [0.5, 1, 2, 3, 4, 5, 10, 15, 20]\n",
    "spacing = [10, 20, 50, 100]\n",
    "angle = [0, 45]\n",
    "\n",
    "for s, r, a in product(spacing, radius, angle):\n",
    "    if 2 * r < s:\n",
    "        filename = f'r={r}.bmp'\n",
    "\n",
    "        dmd.drawPattern(painter.drawArrayOfCirclesAngled(angle=a,\n",
    "                                                    row_spacing=s, \n",
    "                                                    col_spacing=s,\n",
    "                                                    radius=r,), color=1)\n",
    "        dmd.saveFrameToFile(save_dir + f'pattern_circle/white_array_on_black_full_angle={a}/spacing={s}/', filename)"
   ]
  },
  {
   "cell_type": "markdown",
   "metadata": {},
   "source": [
    "#### Black arrays of circles on a white background"
   ]
  },
  {
   "cell_type": "code",
   "execution_count": 13,
   "metadata": {},
   "outputs": [],
   "source": [
    "radius = [0.5, 1, 2, 3, 4, 5, 10, 15, 20]\n",
    "spacing = [10, 20, 50, 100]\n",
    "angle = [0, 45]\n",
    "\n",
    "for s, r, a in product(spacing, radius, angle):\n",
    "    if 2 * r < s:\n",
    "        filename = f'r={r}.bmp'\n",
    "        \n",
    "        dmd.drawPattern(painter.drawArrayOfCirclesAngled(angle=a,\n",
    "                                                    row_spacing=s, \n",
    "                                                    col_spacing=s,\n",
    "                                                    radius=r,), color=0)\n",
    "        dmd.saveFrameToFile(save_dir + f'pattern_circle/black_array_on_white_full_angle={a}/spacing={s}/', filename)"
   ]
  },
  {
   "cell_type": "markdown",
   "metadata": {},
   "source": [
    "#### 2D arrays of filled circles on a black background with defined lattice vectors"
   ]
  },
  {
   "cell_type": "code",
   "execution_count": 1,
   "metadata": {},
   "outputs": [
    {
     "name": "stdout",
     "output_type": "stream",
     "text": [
      "c:\\Users\\qmspc\\Documents\\MATLAB\\DMD-pattern-generator\n"
     ]
    }
   ],
   "source": [
    "radius = [0.5, 1, 2, 3, 4, 5, 10, 15, 20]\n",
    "spacing = [10, 20, 50, 100]\n",
    "angle1 = 17.1\n",
    "angle2 = angle1 + 60\n",
    "\n",
    "for s, r in product(spacing, radius):\n",
    "    if 2 * r < s:\n",
    "        filename = f'r={r}.bmp'\n",
    "        dmd.drawPattern(painter.drawArrayOfCirclesLattice(spacing=s, radius=r, angle1=angle1, angle2=angle2), color=1)\n",
    "        dmd.saveFrameToFile(save_dir + f'pattern_circle/white_array_on_black_full_angle1={angle1}_angle2={angle2}/spacing={s}/', filename)"
   ]
  },
  {
   "cell_type": "markdown",
   "metadata": {},
   "source": [
    "### Shaped pattern based on squares"
   ]
  },
  {
   "cell_type": "markdown",
   "metadata": {},
   "source": [
    "#### White filled center square on a black background"
   ]
  },
  {
   "cell_type": "code",
   "execution_count": 14,
   "metadata": {},
   "outputs": [],
   "source": [
    "radius = [0.5, 1, 2, 3, 4, 5, 10, 15, 20, 30, 40, 50, 60, 70, 80, 90, 100, 120, 150, 170, 200, 400]\n",
    "\n",
    "for r in radius:\n",
    "    filename = f'r={r}.bmp'\n",
    "\n",
    "    dmd.drawPattern(painter.drawSquare(radius=r), color=1, template_color=0)\n",
    "    dmd.saveFrameToFile(save_dir + f'pattern_square/white_filled_square_on_black/', filename)"
   ]
  },
  {
   "cell_type": "markdown",
   "metadata": {},
   "source": [
    "#### Black filled centered square on a white background"
   ]
  },
  {
   "cell_type": "code",
   "execution_count": 15,
   "metadata": {},
   "outputs": [],
   "source": [
    "radius = [0.5, 1, 2, 3, 4, 5, 10, 15, 20, 30, 40, 50, 60, 70, 80, 90, 100, 120, 150, 170, 200, 400]\n",
    "\n",
    "for r in radius:\n",
    "    filename = f'r={r}.bmp'\n",
    "\n",
    "    dmd.drawPattern(painter.drawSquare(radius=r), color=0, template_color=1)\n",
    "    dmd.saveFrameToFile(save_dir + f'pattern_square/black_filled_square_on_white/', filename)"
   ]
  },
  {
   "cell_type": "markdown",
   "metadata": {},
   "source": [
    "#### White array of squares on a black background"
   ]
  },
  {
   "cell_type": "code",
   "execution_count": 16,
   "metadata": {},
   "outputs": [],
   "source": [
    "radius = [0.5, 1, 2, 3, 4, 5, 10, 15, 20]\n",
    "spacing = [10, 20, 50, 100]\n",
    "angle = [0, 45]\n",
    "\n",
    "for s, r, a in product(spacing, radius, angle):\n",
    "    if 2 * r < s:\n",
    "        filename = f'r={r}.bmp'\n",
    "\n",
    "        dmd.drawPattern(painter.drawArrayOfSquaresAngled(angle=a,\n",
    "                                                    radius=r,\n",
    "                                                    row_spacing=s,\n",
    "                                                    col_spacing=s), color=1)\n",
    "        dmd.saveFrameToFile(save_dir + f'pattern_square/white_array_on_black_full_angle={a}/spacing={s}/', filename)"
   ]
  },
  {
   "cell_type": "markdown",
   "metadata": {},
   "source": [
    "#### Black array of squares on a white background"
   ]
  },
  {
   "cell_type": "code",
   "execution_count": 17,
   "metadata": {},
   "outputs": [],
   "source": [
    "radius = [0.5, 1, 2, 3, 4, 5, 10, 15, 20]\n",
    "spacing = [10, 20, 50, 100]\n",
    "angle = [0, 45]\n",
    "\n",
    "for s, r, a in product(spacing, radius, angle):\n",
    "    if 2 * r < s:\n",
    "        filename = f'r={r}.bmp'\n",
    "\n",
    "        dmd.drawPattern(painter.drawArrayOfSquaresAngled(angle=a,\n",
    "                                                    row_spacing=s, \n",
    "                                                    col_spacing=s, \n",
    "                                                    radius=r,), color=0)\n",
    "        dmd.saveFrameToFile(save_dir + f'pattern_square/black_array_on_white_full_angle={a}/spacing={s}/', filename)"
   ]
  },
  {
   "cell_type": "markdown",
   "metadata": {},
   "source": [
    "#### Black-white Checkerboard pattern"
   ]
  },
  {
   "cell_type": "code",
   "execution_count": 18,
   "metadata": {},
   "outputs": [],
   "source": [
    "size = [5, 10, 20, 50, 100, 200]\n",
    "\n",
    "for s in size:\n",
    "    filename = f'size={s}.bmp'\n",
    "\n",
    "    dmd.drawPattern(painter.drawCheckerBoard(size=s), color=1)\n",
    "    dmd.saveFrameToFile(save_dir + f'pattern_square/checkerboard/', filename)"
   ]
  },
  {
   "cell_type": "markdown",
   "metadata": {},
   "source": [
    "### Shaped pattern based on lines"
   ]
  },
  {
   "cell_type": "markdown",
   "metadata": {},
   "source": [
    "#### White cross on a black background"
   ]
  },
  {
   "cell_type": "code",
   "execution_count": 19,
   "metadata": {},
   "outputs": [],
   "source": [
    "width = [1, 2, 5, 10, 15, 20, 30, 40, 50, 100]\n",
    "angle = [0, 45]\n",
    "\n",
    "for a, w in product(angle, width):\n",
    "    filename = f'width={w}_angle={a}.bmp'\n",
    "\n",
    "    dmd.drawPattern(painter.drawAngledCross(width=w, angle=a), color=1)\n",
    "    dmd.saveFrameToFile(save_dir + f'pattern_line/white_cross_on_black/', filename)"
   ]
  },
  {
   "cell_type": "markdown",
   "metadata": {},
   "source": [
    "#### Gray cross on a black background"
   ]
  },
  {
   "cell_type": "code",
   "execution_count": 20,
   "metadata": {},
   "outputs": [],
   "source": [
    "width = [1, 2, 5, 10, 15, 20, 30, 40, 50, 100]\n",
    "angle = [0, 10, 45]\n",
    "\n",
    "for a, w in product(angle, width):\n",
    "    filename = f'width={w}_angle={a}.bmp'\n",
    "\n",
    "    dmd.drawPattern(painter.drawAngledCross(width=w, angle=a, angle2=a+60, row_offset=0, col_offset=0), color=0b10101010, template_color=0)\n",
    "    dmd.saveFrameToFile(save_dir + f'pattern_line/gray_cross_on_black/', filename)"
   ]
  },
  {
   "cell_type": "code",
   "execution_count": 21,
   "metadata": {},
   "outputs": [],
   "source": [
    "width = [5, 7, 10]\n",
    "angle = [-17.1]\n",
    "row_range = [*range(20)]\n",
    "\n",
    "for a, w, row in product(angle, width, row_range):\n",
    "    filename = f'row={row}.bmp'\n",
    "\n",
    "    dmd.drawPattern(painter.drawAngledCross(width=w, angle=a, angle2=a+60, row_offset=row, col_offset=0), color=0b10101010, template_color=0)\n",
    "    dmd.saveFrameToFile(save_dir + f'pattern_line/gray_cross_on_black_angled/angle={a}_width={w}/', filename)"
   ]
  },
  {
   "cell_type": "markdown",
   "metadata": {},
   "source": [
    "#### Gray angled lines with variable offsets"
   ]
  },
  {
   "cell_type": "code",
   "execution_count": null,
   "metadata": {},
   "outputs": [],
   "source": [
    "width = [5, 7, 10]\n",
    "offset = [-220,-174,-129,-85,-42,0,41,81]\n",
    "angle = [-14.1, -15.1, -16.1, -17.1, -18.1, -18.7, -19.1, -20.1]\n",
    "\n",
    "for a, w in product(angle, width):\n",
    "    filename = f'width={w}.bmp'\n",
    "\n",
    "    dmd.drawPattern(painter.drawAngledLinesOffset(width=w, angle=a, offset=offset), color=0b10101010, template_color=0)    \n",
    "    dmd.saveFrameToFile(save_dir + f'pattern_line/gray_lines_on_black_angled/angle={a}_width={w}_offset={offset}/', filename)"
   ]
  },
  {
   "cell_type": "markdown",
   "metadata": {},
   "source": [
    "#### White bundle of angled lines from center on a black background"
   ]
  },
  {
   "cell_type": "code",
   "execution_count": 2,
   "metadata": {},
   "outputs": [],
   "source": [
    "step = [2, 3, 5, 6, 10, 12, 15, 20, 30, 45, 60]\n",
    "width = [2, 5, 10, 20]\n",
    "\n",
    "for s, w in product(step, width):\n",
    "    filename = f'width={w}.bmp'\n",
    "\n",
    "    dmd.drawPattern(painter.drawAngledLinesBundle(angle=range(0, 180, s), width=w), color=1)\n",
    "    dmd.saveFrameToFile(save_dir + f'pattern_line/angled_lines_bundle/step={s}/', filename)"
   ]
  },
  {
   "cell_type": "markdown",
   "metadata": {},
   "source": [
    "#### White array of horizontal lines on a black background"
   ]
  },
  {
   "cell_type": "code",
   "execution_count": 23,
   "metadata": {},
   "outputs": [],
   "source": [
    "width = [1, 2, 3, 4, 5, 10, 20, 50]\n",
    "ny = range(-100, 100)\n",
    "\n",
    "for w in width:\n",
    "    filename = f'width={w}.bmp'\n",
    "\n",
    "    dmd.drawPattern(painter.drawHorizontalLines(width=w, ny=ny), color=1)\n",
    "    dmd.saveFrameToFile(save_dir + f'pattern_line/horizontal_lines/', filename)"
   ]
  },
  {
   "cell_type": "markdown",
   "metadata": {},
   "source": [
    "#### White array of vertical lines on a black background"
   ]
  },
  {
   "cell_type": "code",
   "execution_count": 24,
   "metadata": {},
   "outputs": [],
   "source": [
    "width = [1, 2, 3, 4, 5, 10, 20, 50]\n",
    "nx = range(-100, 100)\n",
    "\n",
    "for w in width:\n",
    "    filename = f'width={w}.bmp'\n",
    "\n",
    "    dmd.drawPattern(painter.drawVerticalLines(width=w, nx=nx), color=1)\n",
    "    dmd.saveFrameToFile(save_dir + f'pattern_line/vertical_lines/', filename)"
   ]
  },
  {
   "cell_type": "markdown",
   "metadata": {},
   "source": [
    "#### White array of angled lines on a black background"
   ]
  },
  {
   "cell_type": "code",
   "execution_count": null,
   "metadata": {},
   "outputs": [
    {
     "name": "stdout",
     "output_type": "stream",
     "text": [
      "c:\\Users\\qmspc\\Documents\\MATLAB\n"
     ]
    }
   ],
   "source": [
    "spacing = [10, 20, 50, 100]\n",
    "nx = range(-100, 100)\n",
    "\n",
    "for s in spacing:\n",
    "    filename = f'spacing={s}.bmp'\n",
    "\n",
    "    dmd.drawPattern(painter.drawAngledLines(angle=-45, width=5, spacing=s, nx=nx), color=1)\n",
    "    dmd.saveFrameToFile(save_dir + f'pattern_line/angled_lines_angle=-45_width=5/', filename)"
   ]
  },
  {
   "cell_type": "markdown",
   "metadata": {},
   "source": [
    "#### White grid (array of crosses) on a black background"
   ]
  },
  {
   "cell_type": "code",
   "execution_count": null,
   "metadata": {},
   "outputs": [],
   "source": [
    "width = [1, 2, 3, 4, 5, 10, 20, 50]\n",
    "nx = range(-100, 100)\n",
    "ny = range(-100, 100)\n",
    "\n",
    "for w in width:\n",
    "    filename = f'width={w}.bmp'\n",
    "\n",
    "    dmd.drawPattern(painter.drawCrosses(nx=nx,\n",
    "                                        ny=ny,\n",
    "                                        width=w), color=1)\n",
    "    dmd.saveFrameToFile(save_dir + f'pattern_line/white_grid_on_black_spacing=100/', filename)"
   ]
  },
  {
   "cell_type": "markdown",
   "metadata": {},
   "source": [
    "#### Black-white star pattern for MTF measurement"
   ]
  },
  {
   "cell_type": "code",
   "execution_count": 26,
   "metadata": {},
   "outputs": [],
   "source": [
    "nums = [4, 10, 20, 30, 40, 60, 90, 120]\n",
    "\n",
    "for n in nums:\n",
    "    filename = f'n={n}.bmp'\n",
    "\n",
    "    dmd.drawPattern(painter.drawStar(num=n), color=1)\n",
    "    dmd.saveFrameToFile(save_dir + f'pattern_line/star/', filename)"
   ]
  },
  {
   "cell_type": "markdown",
   "metadata": {},
   "source": [
    "#### Half plane"
   ]
  },
  {
   "cell_type": "code",
   "execution_count": 27,
   "metadata": {},
   "outputs": [],
   "source": [
    "angle = [0, 15, 30, 45, 60, 75, 90, 105, 120, 135, 150]\n",
    "\n",
    "for a in angle:\n",
    "    filename = f'angle={a}.bmp'\n",
    "\n",
    "    dmd.drawPattern(painter.drawAngledHalfPlane(angle=a), color=1)\n",
    "    dmd.saveFrameToFile(save_dir + 'pattern_line/half_plane/', filename)"
   ]
  },
  {
   "cell_type": "markdown",
   "metadata": {},
   "source": [
    "### Calibration pattern with anchor points\n",
    "\n",
    "We use a `ColorPattern` class to generate patterns. It will save the pattern parameters to a file when saving the patterns."
   ]
  },
  {
   "cell_type": "markdown",
   "metadata": {},
   "source": [
    "#### Calibration pattern 1: several filled circles with radius r"
   ]
  },
  {
   "cell_type": "code",
   "execution_count": 2,
   "metadata": {},
   "outputs": [
    {
     "data": {
      "text/plain": [
       "5"
      ]
     },
     "execution_count": 2,
     "metadata": {},
     "output_type": "execute_result"
    }
   ],
   "source": [
    "anchor_map = {}\n",
    "\n",
    "# 3 circles\n",
    "anchor_map.update({\n",
    "    'triangle_side1=100_side2=150': ((0, 0), (100, 0), (0, 150)),\n",
    "    'xline_length1=-100_length2=150': ((0, 0), (-100, 0), (150, 0)),\n",
    "    'yline_length1=-100_length2=150': ((0, 0), (0, -100), (0, 150)),\n",
    "})\n",
    "# anchor_map.update({\n",
    "#     f'triangle_eq_side={int(sqrt(3)*s)}': ((0, s), ((-sqrt(3)/2*s), -s//2), ((sqrt(3)/2*s), -s//2))\n",
    "#     for s in [100, 150, 200, 300]\n",
    "# })\n",
    "\n",
    "# # 5 circles\n",
    "# anchor_map.update({\n",
    "#     'centered_diamond_d1=100_d2=150': ((0, 0), (100, 0), (-100, 0), (0, 150), (0, -150)),\n",
    "#     'centered_diamond_d1=150_d2=200': ((0, 0), (150, 0), (-150, 0), (0, 200), (0, -200)),\n",
    "#     'centered_diamond_d1=200_d2=300': ((0, 0), (200, 0), (-200, 0), (0, 300), (0, -300)),\n",
    "# })\n",
    "# anchor_map.update({\n",
    "#     f'centered_diamond_d={d}': ((0, 0), (d, 0), (-d, 0), (0, d), (0, -d))\n",
    "#     for d in [100, 150, 200, 300]\n",
    "# })\n",
    "# anchor_map.update({\n",
    "#     f'centered_square_d={int(sqrt(2)*s)}': ((0, 0), (-s, s), (-s, -s), (s, s), (s, -s))\n",
    "#     for s in [70, 100, 150, 200]\n",
    "# })\n",
    "\n",
    "# # 9 circles array\n",
    "# anchor_map.update({\n",
    "#     f'array9_spacing={s}': [((x-y)/sqrt(2), (x+y)/sqrt(2)) for x in range(-s, s+1, s) for y in range(-s, s+1, s)]\n",
    "#     for s in [70, 100, 150, 200, 300]\n",
    "# })\n",
    "\n",
    "# # 16 circles array\n",
    "# anchor_map.update({\n",
    "#     f'array16_spacing={s}': [((x-y)/sqrt(2), (x+y)/sqrt(2)) for x in range(-3*s//2, 3*s//2+1, s) for y in range(-3*s//2, 3*s//2+1, s)]\n",
    "#     for s in [70, 100, 150, 200]\n",
    "# })\n",
    "\n",
    "# # 25 circles array\n",
    "# anchor_map.update({\n",
    "#     f'array25_spacing={s}': [((x-y)/sqrt(2), (x+y)/sqrt(2)) for x in range(-2*s, 2*s+1, s) for y in range(-2*s, 2*s+1, s)]\n",
    "#     for s in [70, 100, 150]\n",
    "# })\n",
    "\n",
    "# # 36 circles array\n",
    "# anchor_map.update({\n",
    "#     f'array36_spacing={s}': [((x-y)/sqrt(2), (x+y)/sqrt(2)) for x in range(-5*s//2, 5*s//2+1, s) for y in range(-5*s//2, 5*s//2+1, s)]\n",
    "#     for s in [70, 100, 120]\n",
    "# })\n",
    "\n",
    "# # 49 circles array\n",
    "# anchor_map.update({\n",
    "#     f'array49_spacing={s}': [((x-y)/sqrt(2), (x+y)/sqrt(2)) for x in range(-3*s, 3*s+1, s) for y in range(-3*s, 3*s+1, s)]\n",
    "#     for s in [70, 100]\n",
    "# })\n",
    "\n",
    "# 64 circles array\n",
    "anchor_map.update({\n",
    "    f'array64_spacing={s}': [((x-y)/sqrt(2), (x+y)/sqrt(2)) for x in range(-7*s//2, 7*s//2+1, s) for y in range(-7*s//2, 7*s//2+1, s)]\n",
    "    for s in [70, 100]\n",
    "})\n",
    "\n",
    "# 64 circles array\n",
    "# anchor_map.update({\n",
    "#     f'array64_spacing={s}_centered': [(0, 0)] +  [((x-y)/sqrt(2), (x+y)/sqrt(2)) for x in range(-7*s//2, 7*s//2+1, s) for y in range(-7*s//2, 7*s//2+1, s)]\n",
    "#     for s in [70, 100]\n",
    "# })\n",
    "\n",
    "len(anchor_map)"
   ]
  },
  {
   "cell_type": "code",
   "execution_count": 3,
   "metadata": {},
   "outputs": [],
   "source": [
    "radius = [2, 5, 7, 10, 15, 20, 30, 40, 50]\n",
    "draw_configs = [('white_on_black', 1, 0), ('black_on_white', 0, 1), ('gray_on_black', 0b10101010, 0)]\n",
    "calib_configs = [\n",
    "    {'directory': save_dir + f'calib_anchor/{draw_name}/anchor={len(anchors)}_{pattern_name}/',\n",
    "     'filename': f'r={r}.bmp',\n",
    "     'params': [{'painter_method': 'drawAnchorCircles', \n",
    "                 'painter_args': {'radius': r, 'anchor': anchors},\n",
    "                 'draw_args': {'color': draw_color, 'template_color': template_color},\n",
    "                }],\n",
    "     'description': f'{len(anchors)} filled white circles on a black background',\n",
    "     'pattern_name': pattern_name,\n",
    "    }\n",
    "    for draw_name, draw_color, template_color in draw_configs\n",
    "    for pattern_name, anchors in anchor_map.items()\n",
    "    for r in radius\n",
    "]\n",
    "\n",
    "for config in calib_configs:\n",
    "    if os.path.isfile(config['directory'] + config['filename']):\n",
    "        continue\n",
    "    ColorPattern(**config).save()"
   ]
  },
  {
   "cell_type": "code",
   "execution_count": 4,
   "metadata": {},
   "outputs": [],
   "source": [
    "radius = [2, 5, 7, 10]\n",
    "center_radius = [15, 20, 30, 40, 50]\n",
    "draw_configs = [('white_on_black', 1, 0), ('gray_on_black', 0b10101010, 0)]\n",
    "calib_configs = [\n",
    "    {'directory': save_dir + f'calib_anchor/{draw_name}_asym_r={r_center}/anchor={len(anchors)}_{pattern_name}/',\n",
    "     'filename': f'r={r}.bmp',\n",
    "     'params': [{'painter_method': 'drawAnchorCircles', \n",
    "                 'painter_args': {'radius': r, 'anchor': anchors},\n",
    "                 'draw_args': {'color': draw_color, 'template_color': template_color},\n",
    "                }, \n",
    "                {'painter_method': 'drawAnchorCircles', \n",
    "                 'painter_args': {'radius': r_center, 'anchor': [(0, 0), (100, 0), (0, 150)]},\n",
    "                 'draw_args': {'color': draw_color, 'template_color': template_color},\n",
    "                }],\n",
    "     'description': f'{len(anchors)} filled white circles on a black background',\n",
    "     'pattern_name': pattern_name,\n",
    "    }\n",
    "    for draw_name, draw_color, template_color in draw_configs\n",
    "    for pattern_name, anchors in anchor_map.items()\n",
    "    for r in radius\n",
    "    for r_center in center_radius\n",
    "]\n",
    "\n",
    "for config in calib_configs:\n",
    "    if os.path.isfile(config['directory'] + config['filename']):\n",
    "        continue\n",
    "    ColorPattern(**config).save()"
   ]
  },
  {
   "cell_type": "markdown",
   "metadata": {},
   "source": [
    "#### Calibration pattern 2: a grid of background circles with radius r1 and the anchor circles with radius r2"
   ]
  },
  {
   "cell_type": "code",
   "execution_count": 5,
   "metadata": {},
   "outputs": [],
   "source": [
    "radius = [10, 15, 20, 50]\n",
    "bg_radius = [2, 5]\n",
    "draw_configs = [('white_on_black', 1, 0), ('black_on_white', 0, 1), ('gray_on_black', 0b10101010, 0)]\n",
    "calib_configs = [\n",
    "    {'directory': save_dir + f'calib_anchor/{draw_name}_bg={bg_r}_spacing=50/anchor={len(anchors)}_{pattern_name}/',\n",
    "     'filename': f'r={r}.bmp',\n",
    "     'params': [{'painter_method': 'drawAnchorCircles', \n",
    "                 'painter_args': {'radius': r, 'anchor': anchors},\n",
    "                 'draw_args': {'color': draw_color, 'template_color': template_color},\n",
    "                },\n",
    "                {'painter_method': 'drawArrayOfCirclesAngled',\n",
    "                 'painter_args': {'row_spacing': 50, 'col_spacing': 50, 'nx': None, 'ny': None, 'radius': bg_r},\n",
    "                 'draw_args': {'color': draw_color, 'template_color': template_color},\n",
    "                }],\n",
    "     'description': f'{len(anchors)} filled white big circles and spacing=100 small filled circles on a black background',\n",
    "     'pattern_name': pattern_name,\n",
    "    }\n",
    "    for draw_name, draw_color, template_color in draw_configs\n",
    "    for pattern_name, anchors in anchor_map.items()\n",
    "    for r in radius\n",
    "    for bg_r in bg_radius if bg_r < r\n",
    "]\n",
    "\n",
    "for config in calib_configs:\n",
    "    if os.path.isfile(config['directory'] + config['filename']):\n",
    "        continue\n",
    "    ColorPattern(**config).save()"
   ]
  },
  {
   "cell_type": "markdown",
   "metadata": {},
   "source": [
    "#### Calibration pattern 3: angled lines for 3 lattice vectors with different center offsets and widths"
   ]
  },
  {
   "cell_type": "markdown",
   "metadata": {},
   "source": []
  }
 ],
 "metadata": {
  "kernelspec": {
   "display_name": "working",
   "language": "python",
   "name": "python3"
  },
  "language_info": {
   "codemirror_mode": {
    "name": "ipython",
    "version": 3
   },
   "file_extension": ".py",
   "mimetype": "text/x-python",
   "name": "python",
   "nbconvert_exporter": "python",
   "pygments_lexer": "ipython3",
   "version": "3.10.12"
  },
  "orig_nbformat": 4
 },
 "nbformat": 4,
 "nbformat_minor": 2
}
