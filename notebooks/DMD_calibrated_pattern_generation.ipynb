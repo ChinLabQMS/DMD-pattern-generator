{
 "cells": [
  {
   "cell_type": "markdown",
   "metadata": {},
   "source": [
    "## Generate patterns on an RGB frame\n",
    "### Setup"
   ]
  },
  {
   "cell_type": "code",
   "execution_count": 1,
   "metadata": {},
   "outputs": [
    {
     "name": "stdout",
     "output_type": "stream",
     "text": [
      "d:\\Projects\\DMD-pattern-generator\n"
     ]
    },
    {
     "data": {
      "text/plain": [
       "(1140, 912, 1482, 1481)"
      ]
     },
     "execution_count": 1,
     "metadata": {},
     "output_type": "execute_result"
    }
   ],
   "source": [
    "%cd ../\n",
    "from math import sqrt\n",
    "from itertools import product\n",
    "import os\n",
    "\n",
    "from core import ColorFrame, Painter, ColorPattern\n",
    "\n",
    "save_dir = 'resources/'\n",
    "\n",
    "dmd = ColorFrame()\n",
    "painter = Painter()\n",
    "dmd.dmd_nrows, dmd.dmd_ncols, dmd.real_nrows, dmd.real_ncols"
   ]
  },
  {
   "cell_type": "code",
   "execution_count": null,
   "metadata": {},
   "outputs": [],
   "source": []
  }
 ],
 "metadata": {
  "kernelspec": {
   "display_name": "ml-env",
   "language": "python",
   "name": "python3"
  },
  "language_info": {
   "codemirror_mode": {
    "name": "ipython",
    "version": 3
   },
   "file_extension": ".py",
   "mimetype": "text/x-python",
   "name": "python",
   "nbconvert_exporter": "python",
   "pygments_lexer": "ipython3",
   "version": "3.10.13"
  }
 },
 "nbformat": 4,
 "nbformat_minor": 2
}
