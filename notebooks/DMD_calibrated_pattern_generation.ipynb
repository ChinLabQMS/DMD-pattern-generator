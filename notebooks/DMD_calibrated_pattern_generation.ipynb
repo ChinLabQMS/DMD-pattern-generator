{
 "cells": [
  {
   "cell_type": "markdown",
   "metadata": {},
   "source": [
    "## Generate patterns on an RGB frame\n",
    "### Setup"
   ]
  },
  {
   "cell_type": "code",
   "execution_count": 1,
   "metadata": {},
   "outputs": [
    {
     "name": "stdout",
     "output_type": "stream",
     "text": [
      "c:\\Users\\qmspc\\Documents\\MATLAB\\DMD-pattern-generator\n"
     ]
    },
    {
     "data": {
      "text/plain": [
       "(1140, 912, 1482, 1481)"
      ]
     },
     "execution_count": 1,
     "metadata": {},
     "output_type": "execute_result"
    }
   ],
   "source": [
    "%cd ../\n",
    "from core import ColorFrame, Painter\n",
    "\n",
    "save_dir = '../MATLAB-Andor/data/2025/03 March/20250325'\n",
    "\n",
    "dmd = ColorFrame()\n",
    "painter = Painter()\n",
    "dmd.dmd_nrows, dmd.dmd_ncols, dmd.real_nrows, dmd.real_ncols"
   ]
  },
  {
   "cell_type": "markdown",
   "metadata": {},
   "source": [
    "#### Lattice calibration"
   ]
  },
  {
   "cell_type": "code",
   "execution_count": 2,
   "metadata": {},
   "outputs": [],
   "source": [
    "V = [[-7.21, -7.87], [-3.36, 10.29], [-10.57, 2.42]]\n",
    "R = [688.85, 705.91]"
   ]
  },
  {
   "cell_type": "markdown",
   "metadata": {},
   "source": [
    "### Lines"
   ]
  },
  {
   "cell_type": "markdown",
   "metadata": {},
   "source": [
    "#### Draw lines along lattice vectors"
   ]
  },
  {
   "cell_type": "code",
   "execution_count": 3,
   "metadata": {},
   "outputs": [],
   "source": [
    "width = 5\n",
    "for i in range(3):\n",
    "    A = -V[i][1]\n",
    "    B = V[i][0]\n",
    "    C =  V[i][1] * (R[0] - 1) - V[i][0] * (R[1] - 1)\n",
    "    dmd.drawPattern(painter.drawLineABC(A, B, C, width), color = 0b10101010, template_color=0)\n",
    "    dmd.saveFrameToFile(save_dir, f'line_{i + 1}_python.bmp')"
   ]
  },
  {
   "cell_type": "markdown",
   "metadata": {},
   "source": [
    "### Circles"
   ]
  },
  {
   "cell_type": "markdown",
   "metadata": {},
   "source": [
    "#### Draw circles at lattice points"
   ]
  },
  {
   "cell_type": "code",
   "execution_count": 5,
   "metadata": {},
   "outputs": [],
   "source": [
    "sites = [(i, j) for i in range(-20, 21, 5) for j in range(-20, 21, 5)]\n",
    "r = 5\n",
    "\n",
    "for i, j in sites:\n",
    "    x = i * V[0][0] + j * V[1][0] + R[0] - 1\n",
    "    y = i * V[0][1] + j * V[1][1] + R[1] - 1\n",
    "    dmd.drawPattern(painter.drawCircleXY(x, y, r), color = 0b10101010, template_color=0, reset=False)\n",
    "\n",
    "dmd.saveFrameToFile(save_dir, f'circle_array_python.bmp')"
   ]
  }
 ],
 "metadata": {
  "kernelspec": {
   "display_name": "working",
   "language": "python",
   "name": "python3"
  },
  "language_info": {
   "codemirror_mode": {
    "name": "ipython",
    "version": 3
   },
   "file_extension": ".py",
   "mimetype": "text/x-python",
   "name": "python",
   "nbconvert_exporter": "python",
   "pygments_lexer": "ipython3",
   "version": "3.10.12"
  }
 },
 "nbformat": 4,
 "nbformat_minor": 2
}
