{
 "cells": [
  {
   "cell_type": "markdown",
   "metadata": {},
   "source": [
    "### Setup"
   ]
  },
  {
   "cell_type": "code",
   "execution_count": 3,
   "metadata": {},
   "outputs": [],
   "source": [
    "from utils import DMDImage, PatternPainter\n",
    "\n",
    "save_dir = 'resources/'\n",
    "\n",
    "dmd = DMDImage()\n",
    "painter = PatternPainter(nrows=dmd.real_nrows, ncols=dmd.real_ncols)"
   ]
  },
  {
   "cell_type": "markdown",
   "metadata": {},
   "source": [
    "### Generate and save solid color template image in real space\n",
    "Solid color test pattern"
   ]
  },
  {
   "cell_type": "code",
   "execution_count": 4,
   "metadata": {},
   "outputs": [
    {
     "name": "stdout",
     "output_type": "stream",
     "text": [
      "DMD pattern saved as resources/template/pattern_white_1140x912.bmp\n",
      "Template image saved as resources/template/template_white_1140x912.bmp\n",
      "DMD pattern saved as resources/template/pattern_black_1140x912.bmp\n",
      "Template image saved as resources/template/template_black_1140x912.bmp\n"
     ]
    }
   ],
   "source": [
    "filename = f'white_{dmd.nrows}x{dmd.ncols}.bmp'\n",
    "dmd.setTemplate(color=1)\n",
    "dmd.saveDMDArray(save_dir + 'template/', filename)\n",
    "\n",
    "filename = f'black_{dmd.nrows}x{dmd.ncols}.bmp'\n",
    "dmd.setTemplate(color=0)\n",
    "dmd.saveDMDArray(save_dir + 'template/', filename)"
   ]
  },
  {
   "cell_type": "code",
   "execution_count": 5,
   "metadata": {},
   "outputs": [
    {
     "name": "stdout",
     "output_type": "stream",
     "text": [
      "DMD pattern saved as resources/template/pattern_red_1140x912.bmp\n",
      "Template image saved as resources/template/template_red_1140x912.bmp\n"
     ]
    }
   ],
   "source": [
    "filename = f'red_{dmd.nrows}x{dmd.ncols}.bmp'\n",
    "dmd.setTemplate(color=[255, 0, 0])\n",
    "dmd.saveDMDArray(save_dir + 'template/', filename)"
   ]
  },
  {
   "cell_type": "code",
   "execution_count": 6,
   "metadata": {},
   "outputs": [
    {
     "name": "stdout",
     "output_type": "stream",
     "text": [
      "DMD pattern saved as resources/template/pattern_green_1140x912.bmp\n",
      "Template image saved as resources/template/template_green_1140x912.bmp\n"
     ]
    }
   ],
   "source": [
    "filename = f'green_{dmd.nrows}x{dmd.ncols}.bmp'\n",
    "dmd.setTemplate(color=[0, 255, 0])\n",
    "dmd.saveDMDArray(save_dir + 'template/', filename)"
   ]
  },
  {
   "cell_type": "code",
   "execution_count": 7,
   "metadata": {},
   "outputs": [
    {
     "name": "stdout",
     "output_type": "stream",
     "text": [
      "DMD pattern saved as resources/template/pattern_blue_1140x912.bmp\n",
      "Template image saved as resources/template/template_blue_1140x912.bmp\n"
     ]
    }
   ],
   "source": [
    "filename = f'blue_{dmd.nrows}x{dmd.ncols}.bmp'\n",
    "dmd.setTemplate(color=[0, 0, 255])\n",
    "dmd.saveDMDArray(save_dir + 'template/', filename)"
   ]
  },
  {
   "cell_type": "code",
   "execution_count": 8,
   "metadata": {},
   "outputs": [
    {
     "name": "stdout",
     "output_type": "stream",
     "text": [
      "DMD pattern saved as resources/template/pattern_gray_10101010_1140x912.bmp\n",
      "Template image saved as resources/template/template_gray_10101010_1140x912.bmp\n"
     ]
    }
   ],
   "source": [
    "filename = f'gray_10101010_{dmd.nrows}x{dmd.ncols}.bmp'\n",
    "dmd.setTemplate(color=[0b10101010, 0b10101010, 0b10101010])\n",
    "dmd.saveDMDArray(save_dir + 'template/', filename)"
   ]
  },
  {
   "cell_type": "code",
   "execution_count": 9,
   "metadata": {},
   "outputs": [
    {
     "name": "stdout",
     "output_type": "stream",
     "text": [
      "DMD pattern saved as resources/template/pattern_gray_01010101_1140x912.bmp\n",
      "Template image saved as resources/template/template_gray_01010101_1140x912.bmp\n"
     ]
    }
   ],
   "source": [
    "filename = f'gray_01010101_{dmd.nrows}x{dmd.ncols}.bmp'\n",
    "dmd.setTemplate(color=[0b10101010, 0b10101010, 0b10101010])\n",
    "dmd.saveDMDArray(save_dir + 'template/', filename)"
   ]
  },
  {
   "cell_type": "code",
   "execution_count": 10,
   "metadata": {},
   "outputs": [
    {
     "name": "stdout",
     "output_type": "stream",
     "text": [
      "DMD pattern saved as resources/template/pattern_gray_00110011_1140x912.bmp\n",
      "Template image saved as resources/template/template_gray_00110011_1140x912.bmp\n"
     ]
    }
   ],
   "source": [
    "filename = f'gray_00110011_{dmd.nrows}x{dmd.ncols}.bmp'\n",
    "dmd.setTemplate(color=[0b00110011] * 3)\n",
    "dmd.saveDMDArray(save_dir + 'template/', filename)"
   ]
  },
  {
   "cell_type": "code",
   "execution_count": 11,
   "metadata": {},
   "outputs": [
    {
     "name": "stdout",
     "output_type": "stream",
     "text": [
      "DMD pattern saved as resources/template/pattern_gray_00010001_1140x912.bmp\n",
      "Template image saved as resources/template/template_gray_00010001_1140x912.bmp\n"
     ]
    }
   ],
   "source": [
    "filename = f'gray_00010001_{dmd.nrows}x{dmd.ncols}.bmp'\n",
    "dmd.setTemplate(color=[0b00010001] * 3)\n",
    "dmd.saveDMDArray(save_dir + 'template/', filename)"
   ]
  },
  {
   "cell_type": "markdown",
   "metadata": {},
   "source": [
    "### Generate various patterns"
   ]
  },
  {
   "cell_type": "markdown",
   "metadata": {},
   "source": [
    "#### Generate bright circle patterns on a dark background"
   ]
  },
  {
   "cell_type": "code",
   "execution_count": 12,
   "metadata": {},
   "outputs": [
    {
     "ename": "ValueError",
     "evalue": "The truth value of an array with more than one element is ambiguous. Use a.any() or a.all()",
     "output_type": "error",
     "traceback": [
      "\u001b[1;31m---------------------------------------------------------------------------\u001b[0m",
      "\u001b[1;31mValueError\u001b[0m                                Traceback (most recent call last)",
      "\u001b[1;32mc:\\Users\\qmspc\\Documents\\MATLAB\\DMD-pattern-generator\\DMD_pattern_generation.ipynb Cell 14\u001b[0m line \u001b[0;36m8\n\u001b[0;32m      <a href='vscode-notebook-cell:/c%3A/Users/qmspc/Documents/MATLAB/DMD-pattern-generator/DMD_pattern_generation.ipynb#X16sZmlsZQ%3D%3D?line=4'>5</a>\u001b[0m \u001b[39mfor\u001b[39;00m r \u001b[39min\u001b[39;00m radius:\n\u001b[0;32m      <a href='vscode-notebook-cell:/c%3A/Users/qmspc/Documents/MATLAB/DMD-pattern-generator/DMD_pattern_generation.ipynb#X16sZmlsZQ%3D%3D?line=5'>6</a>\u001b[0m     filename \u001b[39m=\u001b[39m \u001b[39mf\u001b[39m\u001b[39m'\u001b[39m\u001b[39mbright_circle_r=\u001b[39m\u001b[39m{\u001b[39;00mr\u001b[39m}\u001b[39;00m\u001b[39m_offset=\u001b[39m\u001b[39m{\u001b[39;00mrow_offset\u001b[39m}\u001b[39;00m\u001b[39mx\u001b[39m\u001b[39m{\u001b[39;00mcol_offset\u001b[39m}\u001b[39;00m\u001b[39m.bmp\u001b[39m\u001b[39m'\u001b[39m\n\u001b[1;32m----> <a href='vscode-notebook-cell:/c%3A/Users/qmspc/Documents/MATLAB/DMD-pattern-generator/DMD_pattern_generation.ipynb#X16sZmlsZQ%3D%3D?line=7'>8</a>\u001b[0m     dmd\u001b[39m.\u001b[39;49mdrawPattern(painter\u001b[39m.\u001b[39;49mdrawCircle(row_offset, col_offset, r), color\u001b[39m=\u001b[39;49m\u001b[39m1\u001b[39;49m)\n\u001b[0;32m      <a href='vscode-notebook-cell:/c%3A/Users/qmspc/Documents/MATLAB/DMD-pattern-generator/DMD_pattern_generation.ipynb#X16sZmlsZQ%3D%3D?line=8'>9</a>\u001b[0m     dmd\u001b[39m.\u001b[39msaveDMDArray(save_dir \u001b[39m+\u001b[39m \u001b[39m'\u001b[39m\u001b[39mpattern/bright_circle/\u001b[39m\u001b[39m'\u001b[39m, filename)\n",
      "File \u001b[1;32mc:\\Users\\qmspc\\Documents\\MATLAB\\DMD-pattern-generator\\utils.py:796\u001b[0m, in \u001b[0;36mDMDImage.drawPattern\u001b[1;34m(self, corr, color, reset, template_color)\u001b[0m\n\u001b[0;32m    794\u001b[0m \u001b[39mif\u001b[39;00m reset:\n\u001b[0;32m    795\u001b[0m     template_color \u001b[39m=\u001b[39m \u001b[39mself\u001b[39m\u001b[39m.\u001b[39mparseColor(template_color)\n\u001b[1;32m--> 796\u001b[0m     \u001b[39mself\u001b[39;49m\u001b[39m.\u001b[39;49msetTemplate(color\u001b[39m=\u001b[39;49mtemplate_color)\n\u001b[0;32m    798\u001b[0m \u001b[39m# Update the pixels on DMD array in real space\u001b[39;00m\n\u001b[0;32m    799\u001b[0m \u001b[39mself\u001b[39m\u001b[39m.\u001b[39mtemplate[corr[:, \u001b[39m0\u001b[39m], corr[:, \u001b[39m1\u001b[39m]] \u001b[39m=\u001b[39m color\n",
      "File \u001b[1;32mc:\\Users\\qmspc\\Documents\\MATLAB\\DMD-pattern-generator\\utils.py:684\u001b[0m, in \u001b[0;36mDMDImage.setTemplate\u001b[1;34m(self, color)\u001b[0m\n\u001b[0;32m    675\u001b[0m \u001b[39mdef\u001b[39;00m \u001b[39msetTemplate\u001b[39m(\u001b[39mself\u001b[39m, color\u001b[39m=\u001b[39m\u001b[39m1\u001b[39m):\n\u001b[0;32m    676\u001b[0m \u001b[39m    \u001b[39m\u001b[39m\"\"\"\u001b[39;00m\n\u001b[0;32m    677\u001b[0m \u001b[39m    Set the template image in real space to a solid color\u001b[39;00m\n\u001b[0;32m    678\u001b[0m \u001b[39m    --------------------\u001b[39;00m\n\u001b[1;32m   (...)\u001b[0m\n\u001b[0;32m    682\u001b[0m \u001b[39m        1 for white (on), 0 for black (off), float for grayscale, list or array-like of shape (3,) for RGB\u001b[39;00m\n\u001b[0;32m    683\u001b[0m \u001b[39m    \"\"\"\u001b[39;00m\n\u001b[1;32m--> 684\u001b[0m     color \u001b[39m=\u001b[39m \u001b[39mself\u001b[39;49m\u001b[39m.\u001b[39;49mparseColor(color)\n\u001b[0;32m    686\u001b[0m     \u001b[39m# Paint all pixels within DMD space to white/black, default is white (on)\u001b[39;00m\n\u001b[0;32m    687\u001b[0m     \u001b[39mself\u001b[39m\u001b[39m.\u001b[39mtemplate[\u001b[39mself\u001b[39m\u001b[39m.\u001b[39mdmdrows, \u001b[39mself\u001b[39m\u001b[39m.\u001b[39mdmdcols, :] \u001b[39m=\u001b[39m color\n",
      "File \u001b[1;32mc:\\Users\\qmspc\\Documents\\MATLAB\\DMD-pattern-generator\\utils.py:665\u001b[0m, in \u001b[0;36mDMDImage.parseColor\u001b[1;34m(self, color)\u001b[0m\n\u001b[0;32m    650\u001b[0m \u001b[39mdef\u001b[39;00m \u001b[39mparseColor\u001b[39m(\u001b[39mself\u001b[39m, color):\n\u001b[0;32m    651\u001b[0m \u001b[39m    \u001b[39m\u001b[39m\"\"\"\u001b[39;00m\n\u001b[0;32m    652\u001b[0m \u001b[39m    Parse the color argument to a valid color\u001b[39;00m\n\u001b[0;32m    653\u001b[0m \u001b[39m    --------------------\u001b[39;00m\n\u001b[1;32m   (...)\u001b[0m\n\u001b[0;32m    662\u001b[0m \u001b[39m    color: RGB color\u001b[39;00m\n\u001b[0;32m    663\u001b[0m \u001b[39m    \"\"\"\u001b[39;00m\n\u001b[0;32m    664\u001b[0m     \u001b[39mif\u001b[39;00m \u001b[39misinstance\u001b[39m(color, \u001b[39mfloat\u001b[39m) \u001b[39mand\u001b[39;00m color \u001b[39m>\u001b[39m\u001b[39m=\u001b[39m \u001b[39m0\u001b[39m \u001b[39mand\u001b[39;00m color \u001b[39m<\u001b[39m\u001b[39m=\u001b[39m \u001b[39m1\u001b[39m \u001b[39mor\u001b[39;00m \\\n\u001b[1;32m--> 665\u001b[0m         (\u001b[39misinstance\u001b[39m(color, \u001b[39mint\u001b[39m) \u001b[39mand\u001b[39;00m color \u001b[39m==\u001b[39m \u001b[39m0\u001b[39m \u001b[39mor\u001b[39;00m color \u001b[39m==\u001b[39;49m \u001b[39m1\u001b[39;49m):\n\u001b[0;32m    666\u001b[0m         color \u001b[39m=\u001b[39m np\u001b[39m.\u001b[39mfloor(\u001b[39m255\u001b[39m \u001b[39m*\u001b[39m np\u001b[39m.\u001b[39marray([color, color, color]))\u001b[39m.\u001b[39mastype(np\u001b[39m.\u001b[39muint8)\n\u001b[0;32m    667\u001b[0m     \u001b[39melif\u001b[39;00m \u001b[39misinstance\u001b[39m(color, \u001b[39mlist\u001b[39m) \u001b[39mand\u001b[39;00m \u001b[39mlen\u001b[39m(color) \u001b[39m==\u001b[39m \u001b[39m3\u001b[39m \u001b[39mor\u001b[39;00m \\\n\u001b[0;32m    668\u001b[0m         (\u001b[39misinstance\u001b[39m(color, np\u001b[39m.\u001b[39mndarray) \u001b[39mand\u001b[39;00m color\u001b[39m.\u001b[39mshape \u001b[39m==\u001b[39m (\u001b[39m3\u001b[39m,)) \u001b[39mand\u001b[39;00m np\u001b[39m.\u001b[39mall(color \u001b[39m>\u001b[39m\u001b[39m=\u001b[39m \u001b[39m0\u001b[39m) \u001b[39mand\u001b[39;00m np\u001b[39m.\u001b[39mall(color \u001b[39m<\u001b[39m\u001b[39m=\u001b[39m \u001b[39m255\u001b[39m):\n",
      "\u001b[1;31mValueError\u001b[0m: The truth value of an array with more than one element is ambiguous. Use a.any() or a.all()"
     ]
    }
   ],
   "source": [
    "radius = [0.5, 2, 5, 10, 20, 50, 100, 200, 400]\n",
    "row_offset = 0\n",
    "col_offset = 0\n",
    "\n",
    "for r in radius:\n",
    "    filename = f'bright_circle_r={r}_offset={row_offset}x{col_offset}.bmp'\n",
    "\n",
    "    dmd.drawPattern(painter.drawCircle(row_offset, col_offset, r), color=1)\n",
    "    dmd.saveDMDArray(save_dir + 'pattern/bright_circle/', filename)\n",
    "# dmd.getTemplateImage()"
   ]
  },
  {
   "cell_type": "markdown",
   "metadata": {},
   "source": [
    "#### Generate dark circle patterns on a bright background"
   ]
  },
  {
   "cell_type": "code",
   "execution_count": null,
   "metadata": {},
   "outputs": [],
   "source": [
    "radius = [0.5, 2, 5, 10, 20, 50, 100, 200, 400]\n",
    "row_offset = 0\n",
    "col_offset = 0\n",
    "\n",
    "for r in radius:\n",
    "    filename = f'dark_circle_r={r}_offset={row_offset}x{col_offset}.bmp'\n",
    "\n",
    "    dmd.drawPattern(painter.drawCircle(row_offset, col_offset, r), color=0)\n",
    "    dmd.saveDMDArray(save_dir + 'pattern/dark_circle/', filename)\n",
    "# dmd.getTemplateImage()"
   ]
  },
  {
   "cell_type": "markdown",
   "metadata": {},
   "source": [
    "#### Generate bright arrays of circles on a dark background"
   ]
  },
  {
   "cell_type": "code",
   "execution_count": null,
   "metadata": {},
   "outputs": [],
   "source": [
    "radius = [0.5, 1, 2, 3, 4, 5, 10, 20]\n",
    "nx = range(-3, 4)\n",
    "ny = range(-4, 5)\n",
    "row_spacing = col_spacing = 10\n",
    "\n",
    "for r in radius:\n",
    "    filename = f'bright_arrayOfCircle_r={r}_spacing={row_spacing}x{col_spacing}_n={nx}x{ny}_offset={row_offset}x{col_offset}.bmp'\n",
    "\n",
    "    dmd.drawPattern(painter.drawArrayOfCircles(row_spacing=row_spacing, \n",
    "                                            col_spacing=col_spacing, \n",
    "                                            nx=nx,\n",
    "                                            ny=ny,\n",
    "                                            radius=r,), color=1)\n",
    "    dmd.saveDMDArray(save_dir + f'pattern/bright_array_7x9_spacing={row_spacing}/', filename)\n",
    "# dmd.getTemplateImage()"
   ]
  },
  {
   "cell_type": "code",
   "execution_count": null,
   "metadata": {},
   "outputs": [],
   "source": [
    "radius = [0.5, 1, 2, 3, 4, 5, 10, 20]\n",
    "nx = range(-100, 100)\n",
    "ny = range(-100, 100)\n",
    "row_spacing = col_spacing = 10\n",
    "\n",
    "for r in radius:\n",
    "    if 2 * r <= row_spacing:\n",
    "        filename = f'bright_arrayOfCircle_r={r}_spacing={row_spacing}x{col_spacing}_n={nx}x{ny}_offset={row_offset}x{col_offset}.bmp'\n",
    "\n",
    "        dmd.drawPattern(painter.drawArrayOfCircles(row_spacing=row_spacing, \n",
    "                                                col_spacing=col_spacing, \n",
    "                                                nx=nx,\n",
    "                                                ny=ny,\n",
    "                                                radius=r,), color=1)\n",
    "        dmd.saveDMDArray(save_dir + f'pattern/bright_array_full_spacing={row_spacing}/', filename)\n",
    "# dmd.getTemplateImage()"
   ]
  },
  {
   "cell_type": "markdown",
   "metadata": {},
   "source": [
    "#### Generate dark arrays of circles on a bright background"
   ]
  },
  {
   "cell_type": "code",
   "execution_count": null,
   "metadata": {},
   "outputs": [],
   "source": [
    "radius = [0.5, 1, 2, 5, 10, 20]\n",
    "nx = 4\n",
    "ny = 5\n",
    "row_spacing = col_spacing = 50\n",
    "row_offset = 0\n",
    "col_offset = 0\n",
    "\n",
    "for r in radius:\n",
    "    filename = f'dark_arrayOfCircle_r={r}_spacing={row_spacing}x{col_spacing}_n={nx}x{ny}_offset={row_offset}x{col_offset}.bmp'\n",
    "\n",
    "    dmd.drawPattern(painter.drawArrayOfCircles(row_spacing=row_spacing, \n",
    "                                            col_spacing=col_spacing, \n",
    "                                            row_offset=row_offset, \n",
    "                                            col_offset=col_offset,\n",
    "                                            nx=nx,\n",
    "                                            ny=ny,\n",
    "                                            radius=r,), color=0)\n",
    "    dmd.saveDMDArray(save_dir + f'pattern/dark_array_7x9_spacing={row_spacing}/', filename)\n",
    "# dmd.getTemplateImage()"
   ]
  },
  {
   "cell_type": "code",
   "execution_count": null,
   "metadata": {},
   "outputs": [],
   "source": [
    "radius = [3, 4, 5, 10, 20]\n",
    "nx = range(-100, 100)\n",
    "ny = range(-100, 100)\n",
    "row_spacing = col_spacing = 100\n",
    "\n",
    "for r in radius:\n",
    "    if 2 * r <= row_spacing:\n",
    "        filename = f'dark_arrayOfCircle_r={r}_spacing={row_spacing}x{col_spacing}_n={nx}x{ny}_offset={row_offset}x{col_offset}.bmp'\n",
    "\n",
    "        dmd.drawPattern(painter.drawArrayOfCircles(row_spacing=row_spacing, \n",
    "                                                col_spacing=col_spacing, \n",
    "                                                nx=nx,\n",
    "                                                ny=ny,\n",
    "                                                radius=r,), color=0)\n",
    "        dmd.saveDMDArray(save_dir + f'pattern/dark_array_full_spacing={row_spacing}/', filename)\n",
    "# dmd.getTemplateImage()"
   ]
  },
  {
   "cell_type": "markdown",
   "metadata": {},
   "source": [
    "#### Generate cross on a dark background"
   ]
  },
  {
   "cell_type": "code",
   "execution_count": null,
   "metadata": {},
   "outputs": [],
   "source": [
    "line_width = [1, 2, 5, 10, 20]\n",
    "row_offset = 0\n",
    "col_offset = 0\n",
    "\n",
    "for width in line_width:\n",
    "    filename = f'pattern_bright_cross_offset={row_offset}x{col_offset}_linewidth={width}.bmp'\n",
    "\n",
    "    dmd.drawPattern(painter.drawCross(row_offset=row_offset,\n",
    "                                      col_offset=col_offset,\n",
    "                                      line_width=width), color=1)\n",
    "    dmd.saveDMDArray(save_dir + f'pattern/cross_line/', filename)\n",
    "\n",
    "# dmd.getTemplateImage()"
   ]
  },
  {
   "cell_type": "markdown",
   "metadata": {},
   "source": [
    "#### Generate crosses on a dark background"
   ]
  },
  {
   "cell_type": "code",
   "execution_count": null,
   "metadata": {},
   "outputs": [],
   "source": [
    "line_width = [1, 2, 5, 10, 20]\n",
    "nx = 4\n",
    "ny = 5\n",
    "row_spacing = col_spacing = 50\n",
    "row_offset = 0\n",
    "col_offset = 0\n",
    "\n",
    "for width in line_width:\n",
    "    filename = f'pattern_bright_crosses_n={nx}x{ny}_offset={row_offset}x{col_offset}_linewidth={width}.bmp'\n",
    "\n",
    "    dmd.drawPattern(painter.drawCrosses(row_offset=row_offset,\n",
    "                                        col_offset=col_offset,\n",
    "                                        nx=nx,\n",
    "                                        ny=ny,\n",
    "                                        line_width=width), color=1)\n",
    "    dmd.saveDMDArray(save_dir + f'pattern/crosses_n={nx}x{ny}/', filename)\n",
    "\n",
    "# dmd.getTemplateImage()"
   ]
  },
  {
   "cell_type": "code",
   "execution_count": null,
   "metadata": {},
   "outputs": [],
   "source": [
    "line_width = [1, 2, 5, 10, 20]\n",
    "nx = range(-100, 100)\n",
    "ny = range(-100, 100)\n",
    "row_spacing = col_spacing = 50\n",
    "row_offset = 0\n",
    "col_offset = 0\n",
    "\n",
    "for width in line_width:\n",
    "    filename = f'pattern_bright_crosses_n={nx}x{ny}_offset={row_offset}x{col_offset}_linewidth={width}.bmp'\n",
    "\n",
    "    dmd.drawPattern(painter.drawCrosses(row_offset=row_offset,\n",
    "                                        col_offset=col_offset,\n",
    "                                        nx=nx,\n",
    "                                        ny=ny,\n",
    "                                        line_width=width), color=1)\n",
    "    dmd.saveDMDArray(save_dir + f'pattern/crosses_n={nx}x{ny}/', filename)\n",
    "\n",
    "# dmd.getTemplateImage()"
   ]
  },
  {
   "cell_type": "markdown",
   "metadata": {},
   "source": [
    "#### Generate horizontal lines on a dark background"
   ]
  },
  {
   "cell_type": "code",
   "execution_count": null,
   "metadata": {},
   "outputs": [],
   "source": [
    "line_width = [1, 2, 5, 10, 20]\n",
    "ny = 5\n",
    "row_spacing = 50\n",
    "row_offset = 0\n",
    "\n",
    "for width in line_width:\n",
    "    filename = f'pattern_bright_horizontal_lines_ny={ny}_offset={row_offset}_linewidth={width}.bmp'\n",
    "\n",
    "    dmd.drawPattern(painter.drawHorizontalLines(row_offset=row_offset,\n",
    "                                                row_spacing=row_spacing,\n",
    "                                                ny=ny,\n",
    "                                                line_width=width), color=1)\n",
    "    dmd.saveDMDArray(save_dir + f'pattern/bright_horizontal_lines_ny={ny}/', filename)\n",
    "\n",
    "# dmd.getTemplateImage()"
   ]
  },
  {
   "cell_type": "markdown",
   "metadata": {},
   "source": [
    "#### Generate vertical lines on a dark background"
   ]
  },
  {
   "cell_type": "code",
   "execution_count": null,
   "metadata": {},
   "outputs": [],
   "source": [
    "line_width = [1, 2, 5, 10, 20]\n",
    "nx = 4\n",
    "col_spacing = 50\n",
    "col_offset = 0\n",
    "\n",
    "for width in line_width:\n",
    "    filename = f'pattern_bright_vertical_lines_n={nx}_offset={col_offset}_linewidth={width}.bmp'\n",
    "\n",
    "    dmd.drawPattern(painter.drawVerticalLines(col_offset=col_offset,\n",
    "                                              col_spacing=col_spacing,\n",
    "                                              nx=nx,\n",
    "                                              line_width=width), color=1)\n",
    "    dmd.saveDMDArray(save_dir + f'pattern/bright_vertical_lines_nx={nx}/', filename)\n",
    "\n",
    "# dmd.getTemplateImage()"
   ]
  },
  {
   "cell_type": "markdown",
   "metadata": {},
   "source": [
    "#### Generate star pattern for MTF measurement"
   ]
  },
  {
   "cell_type": "code",
   "execution_count": null,
   "metadata": {},
   "outputs": [],
   "source": [
    "nums = [4, 10, 20, 40, 60]\n",
    "\n",
    "for n in nums:\n",
    "    filename = f'pattern_star_n={n}_offset=0x0.bmp'\n",
    "\n",
    "    dmd.drawPattern(painter.drawStar(num=n), color=1)\n",
    "    dmd.saveDMDArray(save_dir + f'pattern/star/', filename)\n",
    "# dmd.getTemplateImage()"
   ]
  },
  {
   "cell_type": "markdown",
   "metadata": {},
   "source": [
    "#### Generate checkerboard pattern"
   ]
  },
  {
   "cell_type": "code",
   "execution_count": null,
   "metadata": {},
   "outputs": [],
   "source": [
    "size = [5, 10, 20, 50, 100]\n",
    "\n",
    "for s in size:\n",
    "    filename = f'pattern_checkerboard_size={s}.bmp'\n",
    "\n",
    "    dmd.drawPattern(painter.drawCheckerBoard(size=s), color=1)\n",
    "    dmd.saveDMDArray(save_dir + f'pattern/checkerboard/', filename)\n",
    "# dmd.getTemplateImage()"
   ]
  },
  {
   "cell_type": "markdown",
   "metadata": {},
   "source": [
    "#### Generate arrays of squares"
   ]
  },
  {
   "cell_type": "code",
   "execution_count": null,
   "metadata": {},
   "outputs": [],
   "source": [
    "nx = range(-100, 100)\n",
    "ny = range(-100, 100)\n",
    "row_spacing = col_spacing = 10\n",
    "row_offset = col_offset = 0\n",
    "radius = [0, 1, 2, 5, 10, 20, 50, 100]\n",
    "\n",
    "for r in radius:\n",
    "    if 2 * r <= row_spacing:\n",
    "        filename = f'pattern_arrayOfSquares_radius={r}_spacing={row_spacing}x{col_spacing}_offset={row_offset}x{col_offset}.bmp'\n",
    "\n",
    "        dmd.drawPattern(painter.drawArrayOfSquares(radius=r,\n",
    "                                                row_spacing=row_spacing,\n",
    "                                                col_spacing=col_spacing,\n",
    "                                                row_offset=row_offset,\n",
    "                                                col_offset=col_offset,\n",
    "                                                nx=nx,\n",
    "                                                ny=ny), color=1)\n",
    "        dmd.saveDMDArray(save_dir + f'pattern/bright_array_square_full_spacing={row_spacing}/', filename)"
   ]
  },
  {
   "cell_type": "markdown",
   "metadata": {},
   "source": [
    "#### Generate horizontal strips"
   ]
  },
  {
   "cell_type": "code",
   "execution_count": null,
   "metadata": {},
   "outputs": [],
   "source": [
    "width = [5, 10, 20, 50, 100, 200]\n",
    "\n",
    "for w in width:\n",
    "    filename = f'pattern_horizontal_strips_width={w}.bmp'\n",
    "\n",
    "    dmd.drawPattern(painter.drawHorizontalStrips(width=w), color=1)\n",
    "    dmd.saveDMDArray(save_dir + f'pattern/horizontal_strips/', filename)"
   ]
  },
  {
   "cell_type": "code",
   "execution_count": null,
   "metadata": {},
   "outputs": [],
   "source": [
    "width = [5, 10, 20, 50, 100]\n",
    "\n",
    "for w in width:\n",
    "    filename = f'pattern_vertical_strips_width={w}.bmp'\n",
    "\n",
    "    dmd.drawPattern(painter.drawVerticalStrips(width=w), color=1)\n",
    "    dmd.saveDMDArray(save_dir + f'pattern/vertical_strips/', filename)"
   ]
  },
  {
   "cell_type": "markdown",
   "metadata": {},
   "source": [
    "#### Generate horizontal half plane"
   ]
  },
  {
   "cell_type": "code",
   "execution_count": null,
   "metadata": {},
   "outputs": [],
   "source": [
    "filename = f'pattern_horizontal_half_plane.bmp'\n",
    "\n",
    "dmd.drawPattern(painter.drawHorizontalHalfPlane(), color=1)\n",
    "dmd.saveDMDArray(save_dir + f'pattern/horizontal_half_plane/', filename)"
   ]
  },
  {
   "cell_type": "markdown",
   "metadata": {},
   "source": [
    "### Generate patterns for calibration of coordinate transformation"
   ]
  },
  {
   "cell_type": "markdown",
   "metadata": {},
   "source": [
    "Calibration pattern 1: a grid of circles with radius r1 and the center circle with radius r2."
   ]
  },
  {
   "cell_type": "code",
   "execution_count": null,
   "metadata": {},
   "outputs": [],
   "source": [
    "radius1 = [0.5, 1, 2]\n",
    "radius2 = [0.5, 1, 2, 5, 10]\n",
    "\n",
    "for r1 in radius1:\n",
    "    for r2 in radius2:\n",
    "        filename = f'calibration_spacing=50_r1={r1}_r2={r2}_anchor=((0,0),(200,0),(0,250)).bmp'\n",
    "        dmd.drawPattern(painter.drawCalibrationPattern1(\n",
    "            radius1=r1, radius2=r2), color=1)\n",
    "        dmd.saveDMDArray(save_dir + f'calibration/spacing=50_((0,0),(200,0),(0,250))/', filename)"
   ]
  }
 ],
 "metadata": {
  "kernelspec": {
   "display_name": "base",
   "language": "python",
   "name": "python3"
  },
  "language_info": {
   "codemirror_mode": {
    "name": "ipython",
    "version": 3
   },
   "file_extension": ".py",
   "mimetype": "text/x-python",
   "name": "python",
   "nbconvert_exporter": "python",
   "pygments_lexer": "ipython3",
   "version": "3.10.12"
  },
  "orig_nbformat": 4
 },
 "nbformat": 4,
 "nbformat_minor": 2
}
