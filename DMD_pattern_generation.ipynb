{
 "cells": [
  {
   "cell_type": "markdown",
   "metadata": {},
   "source": [
    "### Setup"
   ]
  },
  {
   "cell_type": "code",
   "execution_count": 1,
   "metadata": {},
   "outputs": [],
   "source": [
    "from utils import DMDImage, PatternPainter\n",
    "\n",
    "save_dir = 'resources/'\n",
    "\n",
    "dmd = DMDImage()\n",
    "painter = PatternPainter(nrows=dmd.real_nrows, ncols=dmd.real_ncols)"
   ]
  },
  {
   "cell_type": "markdown",
   "metadata": {},
   "source": [
    "### Generate and save template image in real space\n",
    "Solid color test pattern"
   ]
  },
  {
   "cell_type": "code",
   "execution_count": null,
   "metadata": {},
   "outputs": [],
   "source": [
    "filename = f'white_{dmd.nrows}x{dmd.ncols}.bmp'\n",
    "dmd.setTemplate(color=1)\n",
    "dmd.saveDMDArray(save_dir + 'template/', filename)\n",
    "\n",
    "filename = f'black_{dmd.nrows}x{dmd.ncols}.bmp'\n",
    "dmd.setTemplate(color=0)\n",
    "dmd.saveDMDArray(save_dir + 'template/', filename)"
   ]
  },
  {
   "cell_type": "code",
   "execution_count": null,
   "metadata": {},
   "outputs": [],
   "source": [
    "filename = f'red_{dmd.nrows}x{dmd.ncols}.bmp'\n",
    "dmd.setTemplate(color=[255, 0, 0])\n",
    "dmd.saveDMDArray(save_dir + 'template/', filename)"
   ]
  },
  {
   "cell_type": "code",
   "execution_count": null,
   "metadata": {},
   "outputs": [],
   "source": [
    "filename = f'green_{dmd.nrows}x{dmd.ncols}.bmp'\n",
    "dmd.setTemplate(color=[0, 255, 0])\n",
    "dmd.saveDMDArray(save_dir + 'template/', filename)"
   ]
  },
  {
   "cell_type": "code",
   "execution_count": null,
   "metadata": {},
   "outputs": [],
   "source": [
    "filename = f'blue_{dmd.nrows}x{dmd.ncols}.bmp'\n",
    "dmd.setTemplate(color=[0, 0, 255])\n",
    "dmd.saveDMDArray(save_dir + 'template/', filename)"
   ]
  },
  {
   "cell_type": "code",
   "execution_count": null,
   "metadata": {},
   "outputs": [],
   "source": [
    "filename = f'gray_10101010_{dmd.nrows}x{dmd.ncols}.bmp'\n",
    "dmd.setTemplate(color=[0b10101010, 0b10101010, 0b10101010])\n",
    "dmd.saveDMDArray(save_dir + 'template/', filename)"
   ]
  },
  {
   "cell_type": "code",
   "execution_count": null,
   "metadata": {},
   "outputs": [],
   "source": [
    "filename = f'gray_01010101_{dmd.nrows}x{dmd.ncols}.bmp'\n",
    "dmd.setTemplate(color=[0b10101010, 0b10101010, 0b10101010])\n",
    "dmd.saveDMDArray(save_dir + 'template/', filename)"
   ]
  },
  {
   "cell_type": "code",
   "execution_count": null,
   "metadata": {},
   "outputs": [],
   "source": [
    "filename = f'gray_00110011_{dmd.nrows}x{dmd.ncols}.bmp'\n",
    "dmd.setTemplate(color=[0b00110011] * 3)\n",
    "dmd.saveDMDArray(save_dir + 'template/', filename)"
   ]
  },
  {
   "cell_type": "code",
   "execution_count": null,
   "metadata": {},
   "outputs": [],
   "source": [
    "filename = f'gray_00010001_{dmd.nrows}x{dmd.ncols}.bmp'\n",
    "dmd.setTemplate(color=[0b00010001] * 3)\n",
    "dmd.saveDMDArray(save_dir + 'template/', filename)"
   ]
  },
  {
   "cell_type": "markdown",
   "metadata": {},
   "source": [
    "### Generate various patterns"
   ]
  },
  {
   "cell_type": "markdown",
   "metadata": {},
   "source": [
    "#### Generate bright circle patterns on a dark background"
   ]
  },
  {
   "cell_type": "code",
   "execution_count": null,
   "metadata": {},
   "outputs": [],
   "source": [
    "radius = [0.5, 2, 5, 10, 20, 50, 100, 200, 400]\n",
    "row_offset = 0\n",
    "col_offset = 0\n",
    "\n",
    "for r in radius:\n",
    "    filename = f'bright_circle_r={r}_offset={row_offset}x{col_offset}.bmp'\n",
    "\n",
    "    dmd.drawPattern(painter.drawCircle(row_offset, col_offset, r), color=1)\n",
    "    dmd.saveDMDArray(save_dir + 'pattern/bright_circle/', filename)\n",
    "# dmd.getTemplateImage()"
   ]
  },
  {
   "cell_type": "markdown",
   "metadata": {},
   "source": [
    "#### Generate dark circle patterns on a bright background"
   ]
  },
  {
   "cell_type": "code",
   "execution_count": null,
   "metadata": {},
   "outputs": [],
   "source": [
    "radius = [0.5, 2, 5, 10, 20, 50, 100, 200, 400]\n",
    "row_offset = 0\n",
    "col_offset = 0\n",
    "\n",
    "for r in radius:\n",
    "    filename = f'dark_circle_r={r}_offset={row_offset}x{col_offset}.bmp'\n",
    "\n",
    "    dmd.drawPattern(painter.drawCircle(row_offset, col_offset, r), color=0)\n",
    "    dmd.saveDMDArray(save_dir + 'pattern/dark_circle/', filename)\n",
    "# dmd.getTemplateImage()"
   ]
  },
  {
   "cell_type": "markdown",
   "metadata": {},
   "source": [
    "#### Generate bright arrays of circles on a dark background"
   ]
  },
  {
   "cell_type": "code",
   "execution_count": null,
   "metadata": {},
   "outputs": [],
   "source": [
    "radius = [0.5, 1, 2, 5, 10, 20]\n",
    "nx = range(-3, 4)\n",
    "ny = range(-4, 5)\n",
    "row_spacing = col_spacing = 100\n",
    "row_offset = 0\n",
    "col_offset = 0\n",
    "\n",
    "for r in radius:\n",
    "    filename = f'bright_arrayOfCircle_r={r}_spacing={row_spacing}x{col_spacing}_n={nx}x{ny}_offset={row_offset}x{col_offset}.bmp'\n",
    "\n",
    "    dmd.drawPattern(painter.drawArrayOfCircle(row_spacing=row_spacing, \n",
    "                                            col_spacing=col_spacing, \n",
    "                                            row_offset=row_offset, \n",
    "                                            col_offset=col_offset,\n",
    "                                            nx=nx,\n",
    "                                            ny=ny,\n",
    "                                            radius=r,), color=1)\n",
    "    dmd.saveDMDArray(save_dir + f'pattern/bright_array_7x9_spacing={row_spacing}/', filename)\n",
    "# dmd.getTemplateImage()"
   ]
  },
  {
   "cell_type": "markdown",
   "metadata": {},
   "source": [
    "#### Generate dark arrays of circles on a bright background"
   ]
  },
  {
   "cell_type": "code",
   "execution_count": null,
   "metadata": {},
   "outputs": [],
   "source": [
    "radius = [0.5, 1, 2, 5, 10, 20]\n",
    "nx = 4\n",
    "ny = 5\n",
    "row_spacing = col_spacing = 50\n",
    "row_offset = 0\n",
    "col_offset = 0\n",
    "\n",
    "for r in radius:\n",
    "    filename = f'dark_arrayOfCircle_r={r}_spacing={row_spacing}x{col_spacing}_n={nx}x{ny}_offset={row_offset}x{col_offset}.bmp'\n",
    "\n",
    "    dmd.drawPattern(painter.drawArrayOfCircle(row_spacing=row_spacing, \n",
    "                                            col_spacing=col_spacing, \n",
    "                                            row_offset=row_offset, \n",
    "                                            col_offset=col_offset,\n",
    "                                            nx=nx,\n",
    "                                            ny=ny,\n",
    "                                            radius=r,), color=0)\n",
    "    dmd.saveDMDArray(save_dir + f'pattern/dark_array_7x9_spacing={row_spacing}/', filename)\n",
    "# dmd.getTemplateImage()"
   ]
  },
  {
   "cell_type": "markdown",
   "metadata": {},
   "source": [
    "#### Generate cross on a dark background"
   ]
  },
  {
   "cell_type": "code",
   "execution_count": null,
   "metadata": {},
   "outputs": [],
   "source": [
    "line_width = [1, 2, 5, 10, 20]\n",
    "row_offset = 0\n",
    "col_offset = 0\n",
    "\n",
    "for width in line_width:\n",
    "    filename = f'pattern_bright_cross_offset={row_offset}x{col_offset}_linewidth={width}.bmp'\n",
    "\n",
    "    dmd.setTemplate(color=0)\n",
    "    dmd.drawPattern(painter.drawCross(row_offset=row_offset,\n",
    "                                      col_offset=col_offset,\n",
    "                                      line_width=width), color=1)\n",
    "    dmd.saveDMDArray(save_dir + f'pattern/cross_line/', filename)\n",
    "\n",
    "# dmd.getTemplateImage()"
   ]
  },
  {
   "cell_type": "markdown",
   "metadata": {},
   "source": [
    "#### Generate crosses on a dark background"
   ]
  },
  {
   "cell_type": "code",
   "execution_count": null,
   "metadata": {},
   "outputs": [],
   "source": [
    "line_width = [1, 2, 5, 10, 20]\n",
    "nx = 4\n",
    "ny = 5\n",
    "row_spacing = col_spacing = 50\n",
    "row_offset = 0\n",
    "col_offset = 0\n",
    "\n",
    "for width in line_width:\n",
    "    filename = f'pattern_bright_crosses_n={nx}x{ny}_offset={row_offset}x{col_offset}_linewidth={width}.bmp'\n",
    "\n",
    "    dmd.setTemplate(color=0)\n",
    "    dmd.drawPattern(painter.drawCrosses(row_offset=row_offset,\n",
    "                                        col_offset=col_offset,\n",
    "                                        nx=nx,\n",
    "                                        ny=ny,\n",
    "                                        line_width=width), color=1)\n",
    "    dmd.saveDMDArray(save_dir + f'pattern/crosses_n={nx}x{ny}/', filename)\n",
    "\n",
    "# dmd.getTemplateImage()"
   ]
  },
  {
   "cell_type": "markdown",
   "metadata": {},
   "source": [
    "#### Generate horizontal lines on a dark background"
   ]
  },
  {
   "cell_type": "code",
   "execution_count": null,
   "metadata": {},
   "outputs": [],
   "source": [
    "line_width = [1, 2, 5, 10, 20]\n",
    "ny = 5\n",
    "row_spacing = 50\n",
    "row_offset = 0\n",
    "\n",
    "for width in line_width:\n",
    "    filename = f'pattern_bright_horizontal_lines_ny={ny}_offset={row_offset}_linewidth={width}.bmp'\n",
    "\n",
    "    dmd.setTemplate(color=0)\n",
    "    dmd.drawPattern(painter.drawHorizontalLines(row_offset=row_offset,\n",
    "                                                row_spacing=row_spacing,\n",
    "                                                ny=ny,\n",
    "                                                line_width=width), color=1)\n",
    "    dmd.saveDMDArray(save_dir + f'pattern/bright_horizontal_lines_ny={ny}/', filename)\n",
    "\n",
    "# dmd.getTemplateImage()"
   ]
  },
  {
   "cell_type": "markdown",
   "metadata": {},
   "source": [
    "#### Generate vertical lines on a dark background"
   ]
  },
  {
   "cell_type": "code",
   "execution_count": null,
   "metadata": {},
   "outputs": [],
   "source": [
    "line_width = [1, 2, 5, 10, 20]\n",
    "nx = 4\n",
    "col_spacing = 50\n",
    "col_offset = 0\n",
    "\n",
    "for width in line_width:\n",
    "    filename = f'pattern_bright_vertical_lines_n={nx}x{ny}_offset={row_offset}x{col_offset}_linewidth={width}.bmp'\n",
    "\n",
    "    dmd.setTemplate(color=0)\n",
    "    dmd.drawPattern(painter.drawVerticalLines(col_offset=col_offset,\n",
    "                                              col_spacing=col_spacing,\n",
    "                                              nx=nx,\n",
    "                                              line_width=width), color=1)\n",
    "    dmd.saveDMDArray(save_dir + f'pattern/bright_vertical_lines_n={nx}/', filename)\n",
    "\n",
    "# dmd.getTemplateImage()"
   ]
  }
 ],
 "metadata": {
  "kernelspec": {
   "display_name": "base",
   "language": "python",
   "name": "python3"
  },
  "language_info": {
   "codemirror_mode": {
    "name": "ipython",
    "version": 3
   },
   "file_extension": ".py",
   "mimetype": "text/x-python",
   "name": "python",
   "nbconvert_exporter": "python",
   "pygments_lexer": "ipython3",
   "version": "3.10.12"
  },
  "orig_nbformat": 4
 },
 "nbformat": 4,
 "nbformat_minor": 2
}
