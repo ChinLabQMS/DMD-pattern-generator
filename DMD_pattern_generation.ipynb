{
 "cells": [
  {
   "cell_type": "markdown",
   "metadata": {},
   "source": [
    "### Setup"
   ]
  },
  {
   "cell_type": "code",
   "execution_count": 1,
   "metadata": {},
   "outputs": [],
   "source": [
    "from utils import DMDImage, PatternPainter\n",
    "from itertools import product\n",
    "\n",
    "save_dir = 'resources/'\n",
    "\n",
    "dmd = DMDImage()\n",
    "painter = PatternPainter(nrows=dmd.real_nrows, ncols=dmd.real_ncols)"
   ]
  },
  {
   "cell_type": "code",
   "execution_count": 23,
   "metadata": {},
   "outputs": [
    {
     "data": {
      "text/plain": [
       "(1140, 912, 1482, 1481)"
      ]
     },
     "execution_count": 23,
     "metadata": {},
     "output_type": "execute_result"
    }
   ],
   "source": [
    "dmd.nrows, dmd.ncols, dmd.real_nrows, dmd.real_ncols"
   ]
  },
  {
   "cell_type": "markdown",
   "metadata": {},
   "source": [
    "### Generate and save solid color template image in real space\n",
    "Solid color test pattern"
   ]
  },
  {
   "cell_type": "code",
   "execution_count": 24,
   "metadata": {},
   "outputs": [
    {
     "name": "stdout",
     "output_type": "stream",
     "text": [
      "DMD pattern saved as resources/solid/pattern_white_1140x912.bmp\n",
      "Template image saved as resources/solid/template_white_1140x912.bmp\n",
      "DMD pattern saved as resources/solid/pattern_black_1140x912.bmp\n",
      "Template image saved as resources/solid/template_black_1140x912.bmp\n"
     ]
    }
   ],
   "source": [
    "filename = f'white_{dmd.nrows}x{dmd.ncols}.bmp'\n",
    "dmd.setTemplate(color=1)\n",
    "dmd.saveDMDArray(save_dir + 'solid/', filename)\n",
    "\n",
    "filename = f'black_{dmd.nrows}x{dmd.ncols}.bmp'\n",
    "dmd.setTemplate(color=0)\n",
    "dmd.saveDMDArray(save_dir + 'solid/', filename)"
   ]
  },
  {
   "cell_type": "code",
   "execution_count": 25,
   "metadata": {},
   "outputs": [
    {
     "name": "stdout",
     "output_type": "stream",
     "text": [
      "DMD pattern saved as resources/solid/pattern_red_1140x912.bmp\n",
      "Template image saved as resources/solid/template_red_1140x912.bmp\n"
     ]
    }
   ],
   "source": [
    "filename = f'red_{dmd.nrows}x{dmd.ncols}.bmp'\n",
    "dmd.setTemplate(color=[255, 0, 0])\n",
    "dmd.saveDMDArray(save_dir + 'solid/', filename)"
   ]
  },
  {
   "cell_type": "code",
   "execution_count": 26,
   "metadata": {},
   "outputs": [
    {
     "name": "stdout",
     "output_type": "stream",
     "text": [
      "DMD pattern saved as resources/solid/pattern_green_1140x912.bmp\n",
      "Template image saved as resources/solid/template_green_1140x912.bmp\n"
     ]
    }
   ],
   "source": [
    "filename = f'green_{dmd.nrows}x{dmd.ncols}.bmp'\n",
    "dmd.setTemplate(color=[0, 255, 0])\n",
    "dmd.saveDMDArray(save_dir + 'solid/', filename)"
   ]
  },
  {
   "cell_type": "code",
   "execution_count": 27,
   "metadata": {},
   "outputs": [
    {
     "name": "stdout",
     "output_type": "stream",
     "text": [
      "DMD pattern saved as resources/solid/pattern_blue_1140x912.bmp\n",
      "Template image saved as resources/solid/template_blue_1140x912.bmp\n"
     ]
    }
   ],
   "source": [
    "filename = f'blue_{dmd.nrows}x{dmd.ncols}.bmp'\n",
    "dmd.setTemplate(color=[0, 0, 255])\n",
    "dmd.saveDMDArray(save_dir + 'solid/', filename)"
   ]
  },
  {
   "cell_type": "code",
   "execution_count": 28,
   "metadata": {},
   "outputs": [
    {
     "name": "stdout",
     "output_type": "stream",
     "text": [
      "DMD pattern saved as resources/solid/pattern_gray_10101010_1140x912.bmp\n",
      "Template image saved as resources/solid/template_gray_10101010_1140x912.bmp\n"
     ]
    }
   ],
   "source": [
    "filename = f'gray_10101010_{dmd.nrows}x{dmd.ncols}.bmp'\n",
    "dmd.setTemplate(color=[0b10101010, 0b10101010, 0b10101010])\n",
    "dmd.saveDMDArray(save_dir + 'solid/', filename)"
   ]
  },
  {
   "cell_type": "code",
   "execution_count": 29,
   "metadata": {},
   "outputs": [
    {
     "name": "stdout",
     "output_type": "stream",
     "text": [
      "DMD pattern saved as resources/solid/pattern_gray_01010101_1140x912.bmp\n",
      "Template image saved as resources/solid/template_gray_01010101_1140x912.bmp\n"
     ]
    }
   ],
   "source": [
    "filename = f'gray_01010101_{dmd.nrows}x{dmd.ncols}.bmp'\n",
    "dmd.setTemplate(color=[0b10101010, 0b10101010, 0b10101010])\n",
    "dmd.saveDMDArray(save_dir + 'solid/', filename)"
   ]
  },
  {
   "cell_type": "code",
   "execution_count": 30,
   "metadata": {},
   "outputs": [
    {
     "name": "stdout",
     "output_type": "stream",
     "text": [
      "DMD pattern saved as resources/solid/pattern_gray_00110011_1140x912.bmp\n",
      "Template image saved as resources/solid/template_gray_00110011_1140x912.bmp\n"
     ]
    }
   ],
   "source": [
    "filename = f'gray_00110011_{dmd.nrows}x{dmd.ncols}.bmp'\n",
    "dmd.setTemplate(color=[0b00110011] * 3)\n",
    "dmd.saveDMDArray(save_dir + 'solid/', filename)"
   ]
  },
  {
   "cell_type": "code",
   "execution_count": 31,
   "metadata": {},
   "outputs": [
    {
     "name": "stdout",
     "output_type": "stream",
     "text": [
      "DMD pattern saved as resources/solid/pattern_gray_00010001_1140x912.bmp\n",
      "Template image saved as resources/solid/template_gray_00010001_1140x912.bmp\n"
     ]
    }
   ],
   "source": [
    "filename = f'gray_00010001_{dmd.nrows}x{dmd.ncols}.bmp'\n",
    "dmd.setTemplate(color=[0b00010001] * 3)\n",
    "dmd.saveDMDArray(save_dir + 'solid/', filename)"
   ]
  },
  {
   "cell_type": "markdown",
   "metadata": {},
   "source": [
    "### Generate various patterns"
   ]
  },
  {
   "cell_type": "markdown",
   "metadata": {},
   "source": [
    "#### Generate bright circle patterns on a dark background"
   ]
  },
  {
   "cell_type": "code",
   "execution_count": 32,
   "metadata": {},
   "outputs": [
    {
     "name": "stdout",
     "output_type": "stream",
     "text": [
      "DMD pattern saved as resources/pattern/bright_circle/pattern_bright_circle_r=0.5_offset=0x0.bmp\n",
      "Template image saved as resources/pattern/bright_circle/template_bright_circle_r=0.5_offset=0x0.bmp\n",
      "DMD pattern saved as resources/pattern/bright_circle/pattern_bright_circle_r=2_offset=0x0.bmp\n",
      "Template image saved as resources/pattern/bright_circle/template_bright_circle_r=2_offset=0x0.bmp\n",
      "DMD pattern saved as resources/pattern/bright_circle/pattern_bright_circle_r=5_offset=0x0.bmp\n",
      "Template image saved as resources/pattern/bright_circle/template_bright_circle_r=5_offset=0x0.bmp\n",
      "DMD pattern saved as resources/pattern/bright_circle/pattern_bright_circle_r=10_offset=0x0.bmp\n",
      "Template image saved as resources/pattern/bright_circle/template_bright_circle_r=10_offset=0x0.bmp\n",
      "DMD pattern saved as resources/pattern/bright_circle/pattern_bright_circle_r=20_offset=0x0.bmp\n",
      "Template image saved as resources/pattern/bright_circle/template_bright_circle_r=20_offset=0x0.bmp\n",
      "DMD pattern saved as resources/pattern/bright_circle/pattern_bright_circle_r=50_offset=0x0.bmp\n",
      "Template image saved as resources/pattern/bright_circle/template_bright_circle_r=50_offset=0x0.bmp\n",
      "DMD pattern saved as resources/pattern/bright_circle/pattern_bright_circle_r=100_offset=0x0.bmp\n",
      "Template image saved as resources/pattern/bright_circle/template_bright_circle_r=100_offset=0x0.bmp\n",
      "DMD pattern saved as resources/pattern/bright_circle/pattern_bright_circle_r=200_offset=0x0.bmp\n",
      "Template image saved as resources/pattern/bright_circle/template_bright_circle_r=200_offset=0x0.bmp\n",
      "DMD pattern saved as resources/pattern/bright_circle/pattern_bright_circle_r=400_offset=0x0.bmp\n",
      "Template image saved as resources/pattern/bright_circle/template_bright_circle_r=400_offset=0x0.bmp\n"
     ]
    }
   ],
   "source": [
    "radius = [0.5, 2, 5, 10, 20, 50, 100, 200, 400]\n",
    "\n",
    "for r in radius:\n",
    "    filename = f'bright_circle_r={r}_offset=0x0.bmp'\n",
    "\n",
    "    dmd.drawPattern(painter.drawCircle(radius=r), color=1)\n",
    "    dmd.saveDMDArray(save_dir + f'pattern/bright_circle/', filename)"
   ]
  },
  {
   "cell_type": "markdown",
   "metadata": {},
   "source": [
    "#### Generate dark circle patterns on a bright background"
   ]
  },
  {
   "cell_type": "code",
   "execution_count": 33,
   "metadata": {},
   "outputs": [
    {
     "name": "stdout",
     "output_type": "stream",
     "text": [
      "DMD pattern saved as resources/pattern/dark_circle/pattern_dark_circle_r=0.5_offset=0x0.bmp\n",
      "Template image saved as resources/pattern/dark_circle/template_dark_circle_r=0.5_offset=0x0.bmp\n",
      "DMD pattern saved as resources/pattern/dark_circle/pattern_dark_circle_r=2_offset=0x0.bmp\n",
      "Template image saved as resources/pattern/dark_circle/template_dark_circle_r=2_offset=0x0.bmp\n",
      "DMD pattern saved as resources/pattern/dark_circle/pattern_dark_circle_r=5_offset=0x0.bmp\n",
      "Template image saved as resources/pattern/dark_circle/template_dark_circle_r=5_offset=0x0.bmp\n",
      "DMD pattern saved as resources/pattern/dark_circle/pattern_dark_circle_r=10_offset=0x0.bmp\n",
      "Template image saved as resources/pattern/dark_circle/template_dark_circle_r=10_offset=0x0.bmp\n",
      "DMD pattern saved as resources/pattern/dark_circle/pattern_dark_circle_r=20_offset=0x0.bmp\n",
      "Template image saved as resources/pattern/dark_circle/template_dark_circle_r=20_offset=0x0.bmp\n",
      "DMD pattern saved as resources/pattern/dark_circle/pattern_dark_circle_r=50_offset=0x0.bmp\n",
      "Template image saved as resources/pattern/dark_circle/template_dark_circle_r=50_offset=0x0.bmp\n",
      "DMD pattern saved as resources/pattern/dark_circle/pattern_dark_circle_r=100_offset=0x0.bmp\n",
      "Template image saved as resources/pattern/dark_circle/template_dark_circle_r=100_offset=0x0.bmp\n",
      "DMD pattern saved as resources/pattern/dark_circle/pattern_dark_circle_r=200_offset=0x0.bmp\n",
      "Template image saved as resources/pattern/dark_circle/template_dark_circle_r=200_offset=0x0.bmp\n",
      "DMD pattern saved as resources/pattern/dark_circle/pattern_dark_circle_r=400_offset=0x0.bmp\n",
      "Template image saved as resources/pattern/dark_circle/template_dark_circle_r=400_offset=0x0.bmp\n"
     ]
    }
   ],
   "source": [
    "radius = [0.5, 2, 5, 10, 20, 50, 100, 200, 400]\n",
    "\n",
    "for r in radius:\n",
    "    filename = f'dark_circle_r={r}_offset=0x0.bmp'\n",
    "\n",
    "    dmd.drawPattern(painter.drawCircle(radius=r), color=0)\n",
    "    dmd.saveDMDArray(save_dir + f'pattern/dark_circle/', filename)"
   ]
  },
  {
   "cell_type": "markdown",
   "metadata": {},
   "source": [
    "#### Generate gray circle patterns on a dark background"
   ]
  },
  {
   "cell_type": "code",
   "execution_count": 34,
   "metadata": {},
   "outputs": [
    {
     "name": "stdout",
     "output_type": "stream",
     "text": [
      "DMD pattern saved as resources/pattern/gray_circle/pattern_gray_circle_r=0.5.bmp\n",
      "Template image saved as resources/pattern/gray_circle/template_gray_circle_r=0.5.bmp\n",
      "DMD pattern saved as resources/pattern/gray_circle/pattern_gray_circle_r=2.bmp\n",
      "Template image saved as resources/pattern/gray_circle/template_gray_circle_r=2.bmp\n",
      "DMD pattern saved as resources/pattern/gray_circle/pattern_gray_circle_r=5.bmp\n",
      "Template image saved as resources/pattern/gray_circle/template_gray_circle_r=5.bmp\n",
      "DMD pattern saved as resources/pattern/gray_circle/pattern_gray_circle_r=10.bmp\n",
      "Template image saved as resources/pattern/gray_circle/template_gray_circle_r=10.bmp\n",
      "DMD pattern saved as resources/pattern/gray_circle/pattern_gray_circle_r=20.bmp\n",
      "Template image saved as resources/pattern/gray_circle/template_gray_circle_r=20.bmp\n",
      "DMD pattern saved as resources/pattern/gray_circle/pattern_gray_circle_r=50.bmp\n",
      "Template image saved as resources/pattern/gray_circle/template_gray_circle_r=50.bmp\n",
      "DMD pattern saved as resources/pattern/gray_circle/pattern_gray_circle_r=100.bmp\n",
      "Template image saved as resources/pattern/gray_circle/template_gray_circle_r=100.bmp\n",
      "DMD pattern saved as resources/pattern/gray_circle/pattern_gray_circle_r=200.bmp\n",
      "Template image saved as resources/pattern/gray_circle/template_gray_circle_r=200.bmp\n",
      "DMD pattern saved as resources/pattern/gray_circle/pattern_gray_circle_r=400.bmp\n",
      "Template image saved as resources/pattern/gray_circle/template_gray_circle_r=400.bmp\n"
     ]
    }
   ],
   "source": [
    "radius = [0.5, 2, 5, 10, 20, 50, 100, 200, 400]\n",
    "\n",
    "for r in radius:\n",
    "    filename = f'gray_circle_r={r}.bmp'\n",
    "\n",
    "    dmd.drawPattern(painter.drawCircle(radius=r), color=0b10101010, template_color=0)\n",
    "    dmd.saveDMDArray(save_dir + f'pattern/gray_circle/', filename)"
   ]
  },
  {
   "cell_type": "markdown",
   "metadata": {},
   "source": [
    "#### Generate dark circle patterns on a gray background"
   ]
  },
  {
   "cell_type": "code",
   "execution_count": 35,
   "metadata": {},
   "outputs": [
    {
     "name": "stdout",
     "output_type": "stream",
     "text": [
      "DMD pattern saved as resources/pattern/dark_circle_gray/pattern_dark_circle_gray_r=0.5.bmp\n",
      "Template image saved as resources/pattern/dark_circle_gray/template_dark_circle_gray_r=0.5.bmp\n",
      "DMD pattern saved as resources/pattern/dark_circle_gray/pattern_dark_circle_gray_r=2.bmp\n",
      "Template image saved as resources/pattern/dark_circle_gray/template_dark_circle_gray_r=2.bmp\n",
      "DMD pattern saved as resources/pattern/dark_circle_gray/pattern_dark_circle_gray_r=5.bmp\n",
      "Template image saved as resources/pattern/dark_circle_gray/template_dark_circle_gray_r=5.bmp\n",
      "DMD pattern saved as resources/pattern/dark_circle_gray/pattern_dark_circle_gray_r=10.bmp\n",
      "Template image saved as resources/pattern/dark_circle_gray/template_dark_circle_gray_r=10.bmp\n",
      "DMD pattern saved as resources/pattern/dark_circle_gray/pattern_dark_circle_gray_r=20.bmp\n",
      "Template image saved as resources/pattern/dark_circle_gray/template_dark_circle_gray_r=20.bmp\n",
      "DMD pattern saved as resources/pattern/dark_circle_gray/pattern_dark_circle_gray_r=50.bmp\n",
      "Template image saved as resources/pattern/dark_circle_gray/template_dark_circle_gray_r=50.bmp\n",
      "DMD pattern saved as resources/pattern/dark_circle_gray/pattern_dark_circle_gray_r=100.bmp\n",
      "Template image saved as resources/pattern/dark_circle_gray/template_dark_circle_gray_r=100.bmp\n",
      "DMD pattern saved as resources/pattern/dark_circle_gray/pattern_dark_circle_gray_r=200.bmp\n",
      "Template image saved as resources/pattern/dark_circle_gray/template_dark_circle_gray_r=200.bmp\n",
      "DMD pattern saved as resources/pattern/dark_circle_gray/pattern_dark_circle_gray_r=400.bmp\n",
      "Template image saved as resources/pattern/dark_circle_gray/template_dark_circle_gray_r=400.bmp\n"
     ]
    }
   ],
   "source": [
    "radius = [0.5, 2, 5, 10, 20, 50, 100, 200, 400]\n",
    "\n",
    "for r in radius:\n",
    "    filename = f'dark_circle_gray_r={r}.bmp'\n",
    "\n",
    "    dmd.drawPattern(painter.drawCircle(radius=r), color=0, template_color=0b10101010)\n",
    "    dmd.saveDMDArray(save_dir + f'pattern/dark_circle_gray/', filename)"
   ]
  },
  {
   "cell_type": "markdown",
   "metadata": {},
   "source": [
    "#### Generate buffered dark circle patterns on a gray background"
   ]
  },
  {
   "cell_type": "code",
   "execution_count": 36,
   "metadata": {},
   "outputs": [
    {
     "name": "stdout",
     "output_type": "stream",
     "text": [
      "DMD pattern saved as resources/pattern/dark_circle_gray_with_buffer/buffer=5/pattern_dark_circle_gray_r=0.5_b=5.bmp\n",
      "Template image saved as resources/pattern/dark_circle_gray_with_buffer/buffer=5/template_dark_circle_gray_r=0.5_b=5.bmp\n",
      "DMD pattern saved as resources/pattern/dark_circle_gray_with_buffer/buffer=5/pattern_dark_circle_gray_r=2_b=5.bmp\n",
      "Template image saved as resources/pattern/dark_circle_gray_with_buffer/buffer=5/template_dark_circle_gray_r=2_b=5.bmp\n",
      "DMD pattern saved as resources/pattern/dark_circle_gray_with_buffer/buffer=5/pattern_dark_circle_gray_r=5_b=5.bmp\n",
      "Template image saved as resources/pattern/dark_circle_gray_with_buffer/buffer=5/template_dark_circle_gray_r=5_b=5.bmp\n",
      "DMD pattern saved as resources/pattern/dark_circle_gray_with_buffer/buffer=5/pattern_dark_circle_gray_r=10_b=5.bmp\n",
      "Template image saved as resources/pattern/dark_circle_gray_with_buffer/buffer=5/template_dark_circle_gray_r=10_b=5.bmp\n",
      "DMD pattern saved as resources/pattern/dark_circle_gray_with_buffer/buffer=5/pattern_dark_circle_gray_r=20_b=5.bmp\n",
      "Template image saved as resources/pattern/dark_circle_gray_with_buffer/buffer=5/template_dark_circle_gray_r=20_b=5.bmp\n",
      "DMD pattern saved as resources/pattern/dark_circle_gray_with_buffer/buffer=5/pattern_dark_circle_gray_r=50_b=5.bmp\n",
      "Template image saved as resources/pattern/dark_circle_gray_with_buffer/buffer=5/template_dark_circle_gray_r=50_b=5.bmp\n",
      "DMD pattern saved as resources/pattern/dark_circle_gray_with_buffer/buffer=5/pattern_dark_circle_gray_r=100_b=5.bmp\n",
      "Template image saved as resources/pattern/dark_circle_gray_with_buffer/buffer=5/template_dark_circle_gray_r=100_b=5.bmp\n",
      "DMD pattern saved as resources/pattern/dark_circle_gray_with_buffer/buffer=5/pattern_dark_circle_gray_r=200_b=5.bmp\n",
      "Template image saved as resources/pattern/dark_circle_gray_with_buffer/buffer=5/template_dark_circle_gray_r=200_b=5.bmp\n",
      "DMD pattern saved as resources/pattern/dark_circle_gray_with_buffer/buffer=5/pattern_dark_circle_gray_r=400_b=5.bmp\n",
      "Template image saved as resources/pattern/dark_circle_gray_with_buffer/buffer=5/template_dark_circle_gray_r=400_b=5.bmp\n",
      "DMD pattern saved as resources/pattern/dark_circle_gray_with_buffer/buffer=10/pattern_dark_circle_gray_r=0.5_b=10.bmp\n",
      "Template image saved as resources/pattern/dark_circle_gray_with_buffer/buffer=10/template_dark_circle_gray_r=0.5_b=10.bmp\n",
      "DMD pattern saved as resources/pattern/dark_circle_gray_with_buffer/buffer=10/pattern_dark_circle_gray_r=2_b=10.bmp\n",
      "Template image saved as resources/pattern/dark_circle_gray_with_buffer/buffer=10/template_dark_circle_gray_r=2_b=10.bmp\n",
      "DMD pattern saved as resources/pattern/dark_circle_gray_with_buffer/buffer=10/pattern_dark_circle_gray_r=5_b=10.bmp\n",
      "Template image saved as resources/pattern/dark_circle_gray_with_buffer/buffer=10/template_dark_circle_gray_r=5_b=10.bmp\n",
      "DMD pattern saved as resources/pattern/dark_circle_gray_with_buffer/buffer=10/pattern_dark_circle_gray_r=10_b=10.bmp\n",
      "Template image saved as resources/pattern/dark_circle_gray_with_buffer/buffer=10/template_dark_circle_gray_r=10_b=10.bmp\n",
      "DMD pattern saved as resources/pattern/dark_circle_gray_with_buffer/buffer=10/pattern_dark_circle_gray_r=20_b=10.bmp\n",
      "Template image saved as resources/pattern/dark_circle_gray_with_buffer/buffer=10/template_dark_circle_gray_r=20_b=10.bmp\n",
      "DMD pattern saved as resources/pattern/dark_circle_gray_with_buffer/buffer=10/pattern_dark_circle_gray_r=50_b=10.bmp\n",
      "Template image saved as resources/pattern/dark_circle_gray_with_buffer/buffer=10/template_dark_circle_gray_r=50_b=10.bmp\n",
      "DMD pattern saved as resources/pattern/dark_circle_gray_with_buffer/buffer=10/pattern_dark_circle_gray_r=100_b=10.bmp\n",
      "Template image saved as resources/pattern/dark_circle_gray_with_buffer/buffer=10/template_dark_circle_gray_r=100_b=10.bmp\n",
      "DMD pattern saved as resources/pattern/dark_circle_gray_with_buffer/buffer=10/pattern_dark_circle_gray_r=200_b=10.bmp\n",
      "Template image saved as resources/pattern/dark_circle_gray_with_buffer/buffer=10/template_dark_circle_gray_r=200_b=10.bmp\n",
      "DMD pattern saved as resources/pattern/dark_circle_gray_with_buffer/buffer=10/pattern_dark_circle_gray_r=400_b=10.bmp\n",
      "Template image saved as resources/pattern/dark_circle_gray_with_buffer/buffer=10/template_dark_circle_gray_r=400_b=10.bmp\n",
      "DMD pattern saved as resources/pattern/dark_circle_gray_with_buffer/buffer=20/pattern_dark_circle_gray_r=0.5_b=20.bmp\n",
      "Template image saved as resources/pattern/dark_circle_gray_with_buffer/buffer=20/template_dark_circle_gray_r=0.5_b=20.bmp\n",
      "DMD pattern saved as resources/pattern/dark_circle_gray_with_buffer/buffer=20/pattern_dark_circle_gray_r=2_b=20.bmp\n",
      "Template image saved as resources/pattern/dark_circle_gray_with_buffer/buffer=20/template_dark_circle_gray_r=2_b=20.bmp\n",
      "DMD pattern saved as resources/pattern/dark_circle_gray_with_buffer/buffer=20/pattern_dark_circle_gray_r=5_b=20.bmp\n",
      "Template image saved as resources/pattern/dark_circle_gray_with_buffer/buffer=20/template_dark_circle_gray_r=5_b=20.bmp\n",
      "DMD pattern saved as resources/pattern/dark_circle_gray_with_buffer/buffer=20/pattern_dark_circle_gray_r=10_b=20.bmp\n",
      "Template image saved as resources/pattern/dark_circle_gray_with_buffer/buffer=20/template_dark_circle_gray_r=10_b=20.bmp\n",
      "DMD pattern saved as resources/pattern/dark_circle_gray_with_buffer/buffer=20/pattern_dark_circle_gray_r=20_b=20.bmp\n",
      "Template image saved as resources/pattern/dark_circle_gray_with_buffer/buffer=20/template_dark_circle_gray_r=20_b=20.bmp\n",
      "DMD pattern saved as resources/pattern/dark_circle_gray_with_buffer/buffer=20/pattern_dark_circle_gray_r=50_b=20.bmp\n",
      "Template image saved as resources/pattern/dark_circle_gray_with_buffer/buffer=20/template_dark_circle_gray_r=50_b=20.bmp\n",
      "DMD pattern saved as resources/pattern/dark_circle_gray_with_buffer/buffer=20/pattern_dark_circle_gray_r=100_b=20.bmp\n",
      "Template image saved as resources/pattern/dark_circle_gray_with_buffer/buffer=20/template_dark_circle_gray_r=100_b=20.bmp\n",
      "DMD pattern saved as resources/pattern/dark_circle_gray_with_buffer/buffer=20/pattern_dark_circle_gray_r=200_b=20.bmp\n",
      "Template image saved as resources/pattern/dark_circle_gray_with_buffer/buffer=20/template_dark_circle_gray_r=200_b=20.bmp\n",
      "DMD pattern saved as resources/pattern/dark_circle_gray_with_buffer/buffer=20/pattern_dark_circle_gray_r=400_b=20.bmp\n",
      "Template image saved as resources/pattern/dark_circle_gray_with_buffer/buffer=20/template_dark_circle_gray_r=400_b=20.bmp\n"
     ]
    }
   ],
   "source": [
    "radius = [0.5, 2, 5, 10, 20, 50, 100, 200, 400]\n",
    "buffer = [5, 10, 20]\n",
    "\n",
    "for b, r in product(buffer, radius):\n",
    "    filename = f'dark_circle_gray_r={r}_b={b}.bmp'\n",
    "\n",
    "    dmd.drawPattern(painter.drawCircle(radius=r + b), color=1, template_color=0b10101010)\n",
    "    dmd.drawPattern(painter.drawCircle(radius=r), color=0, reset=False)\n",
    "    dmd.saveDMDArray(save_dir + f'pattern/dark_circle_gray_with_buffer/buffer={b}/', filename)"
   ]
  },
  {
   "cell_type": "markdown",
   "metadata": {},
   "source": [
    "#### Generate bright arrays of circles on a dark background"
   ]
  },
  {
   "cell_type": "code",
   "execution_count": 37,
   "metadata": {},
   "outputs": [
    {
     "name": "stdout",
     "output_type": "stream",
     "text": [
      "DMD pattern saved as resources/pattern/bright_array_7x9/spacing=10/pattern_bright_arrayOfCircle_r=0.5_spacing=10_n=range(-3, 4)xrange(-4, 5).bmp\n",
      "Template image saved as resources/pattern/bright_array_7x9/spacing=10/template_bright_arrayOfCircle_r=0.5_spacing=10_n=range(-3, 4)xrange(-4, 5).bmp\n",
      "DMD pattern saved as resources/pattern/bright_array_7x9/spacing=10/pattern_bright_arrayOfCircle_r=1_spacing=10_n=range(-3, 4)xrange(-4, 5).bmp\n",
      "Template image saved as resources/pattern/bright_array_7x9/spacing=10/template_bright_arrayOfCircle_r=1_spacing=10_n=range(-3, 4)xrange(-4, 5).bmp\n",
      "DMD pattern saved as resources/pattern/bright_array_7x9/spacing=10/pattern_bright_arrayOfCircle_r=2_spacing=10_n=range(-3, 4)xrange(-4, 5).bmp\n",
      "Template image saved as resources/pattern/bright_array_7x9/spacing=10/template_bright_arrayOfCircle_r=2_spacing=10_n=range(-3, 4)xrange(-4, 5).bmp\n",
      "DMD pattern saved as resources/pattern/bright_array_7x9/spacing=10/pattern_bright_arrayOfCircle_r=3_spacing=10_n=range(-3, 4)xrange(-4, 5).bmp\n",
      "Template image saved as resources/pattern/bright_array_7x9/spacing=10/template_bright_arrayOfCircle_r=3_spacing=10_n=range(-3, 4)xrange(-4, 5).bmp\n",
      "DMD pattern saved as resources/pattern/bright_array_7x9/spacing=10/pattern_bright_arrayOfCircle_r=4_spacing=10_n=range(-3, 4)xrange(-4, 5).bmp\n",
      "Template image saved as resources/pattern/bright_array_7x9/spacing=10/template_bright_arrayOfCircle_r=4_spacing=10_n=range(-3, 4)xrange(-4, 5).bmp\n",
      "DMD pattern saved as resources/pattern/bright_array_7x9/spacing=10/pattern_bright_arrayOfCircle_r=5_spacing=10_n=range(-3, 4)xrange(-4, 5).bmp\n",
      "Template image saved as resources/pattern/bright_array_7x9/spacing=10/template_bright_arrayOfCircle_r=5_spacing=10_n=range(-3, 4)xrange(-4, 5).bmp\n",
      "DMD pattern saved as resources/pattern/bright_array_7x9/spacing=10/pattern_bright_arrayOfCircle_r=10_spacing=10_n=range(-3, 4)xrange(-4, 5).bmp\n",
      "Template image saved as resources/pattern/bright_array_7x9/spacing=10/template_bright_arrayOfCircle_r=10_spacing=10_n=range(-3, 4)xrange(-4, 5).bmp\n",
      "DMD pattern saved as resources/pattern/bright_array_7x9/spacing=10/pattern_bright_arrayOfCircle_r=20_spacing=10_n=range(-3, 4)xrange(-4, 5).bmp\n",
      "Template image saved as resources/pattern/bright_array_7x9/spacing=10/template_bright_arrayOfCircle_r=20_spacing=10_n=range(-3, 4)xrange(-4, 5).bmp\n",
      "DMD pattern saved as resources/pattern/bright_array_7x9/spacing=20/pattern_bright_arrayOfCircle_r=0.5_spacing=20_n=range(-3, 4)xrange(-4, 5).bmp\n",
      "Template image saved as resources/pattern/bright_array_7x9/spacing=20/template_bright_arrayOfCircle_r=0.5_spacing=20_n=range(-3, 4)xrange(-4, 5).bmp\n",
      "DMD pattern saved as resources/pattern/bright_array_7x9/spacing=20/pattern_bright_arrayOfCircle_r=1_spacing=20_n=range(-3, 4)xrange(-4, 5).bmp\n",
      "Template image saved as resources/pattern/bright_array_7x9/spacing=20/template_bright_arrayOfCircle_r=1_spacing=20_n=range(-3, 4)xrange(-4, 5).bmp\n",
      "DMD pattern saved as resources/pattern/bright_array_7x9/spacing=20/pattern_bright_arrayOfCircle_r=2_spacing=20_n=range(-3, 4)xrange(-4, 5).bmp\n",
      "Template image saved as resources/pattern/bright_array_7x9/spacing=20/template_bright_arrayOfCircle_r=2_spacing=20_n=range(-3, 4)xrange(-4, 5).bmp\n",
      "DMD pattern saved as resources/pattern/bright_array_7x9/spacing=20/pattern_bright_arrayOfCircle_r=3_spacing=20_n=range(-3, 4)xrange(-4, 5).bmp\n",
      "Template image saved as resources/pattern/bright_array_7x9/spacing=20/template_bright_arrayOfCircle_r=3_spacing=20_n=range(-3, 4)xrange(-4, 5).bmp\n",
      "DMD pattern saved as resources/pattern/bright_array_7x9/spacing=20/pattern_bright_arrayOfCircle_r=4_spacing=20_n=range(-3, 4)xrange(-4, 5).bmp\n",
      "Template image saved as resources/pattern/bright_array_7x9/spacing=20/template_bright_arrayOfCircle_r=4_spacing=20_n=range(-3, 4)xrange(-4, 5).bmp\n",
      "DMD pattern saved as resources/pattern/bright_array_7x9/spacing=20/pattern_bright_arrayOfCircle_r=5_spacing=20_n=range(-3, 4)xrange(-4, 5).bmp\n",
      "Template image saved as resources/pattern/bright_array_7x9/spacing=20/template_bright_arrayOfCircle_r=5_spacing=20_n=range(-3, 4)xrange(-4, 5).bmp\n",
      "DMD pattern saved as resources/pattern/bright_array_7x9/spacing=20/pattern_bright_arrayOfCircle_r=10_spacing=20_n=range(-3, 4)xrange(-4, 5).bmp\n",
      "Template image saved as resources/pattern/bright_array_7x9/spacing=20/template_bright_arrayOfCircle_r=10_spacing=20_n=range(-3, 4)xrange(-4, 5).bmp\n",
      "DMD pattern saved as resources/pattern/bright_array_7x9/spacing=20/pattern_bright_arrayOfCircle_r=20_spacing=20_n=range(-3, 4)xrange(-4, 5).bmp\n",
      "Template image saved as resources/pattern/bright_array_7x9/spacing=20/template_bright_arrayOfCircle_r=20_spacing=20_n=range(-3, 4)xrange(-4, 5).bmp\n",
      "DMD pattern saved as resources/pattern/bright_array_7x9/spacing=50/pattern_bright_arrayOfCircle_r=0.5_spacing=50_n=range(-3, 4)xrange(-4, 5).bmp\n",
      "Template image saved as resources/pattern/bright_array_7x9/spacing=50/template_bright_arrayOfCircle_r=0.5_spacing=50_n=range(-3, 4)xrange(-4, 5).bmp\n",
      "DMD pattern saved as resources/pattern/bright_array_7x9/spacing=50/pattern_bright_arrayOfCircle_r=1_spacing=50_n=range(-3, 4)xrange(-4, 5).bmp\n",
      "Template image saved as resources/pattern/bright_array_7x9/spacing=50/template_bright_arrayOfCircle_r=1_spacing=50_n=range(-3, 4)xrange(-4, 5).bmp\n",
      "DMD pattern saved as resources/pattern/bright_array_7x9/spacing=50/pattern_bright_arrayOfCircle_r=2_spacing=50_n=range(-3, 4)xrange(-4, 5).bmp\n",
      "Template image saved as resources/pattern/bright_array_7x9/spacing=50/template_bright_arrayOfCircle_r=2_spacing=50_n=range(-3, 4)xrange(-4, 5).bmp\n",
      "DMD pattern saved as resources/pattern/bright_array_7x9/spacing=50/pattern_bright_arrayOfCircle_r=3_spacing=50_n=range(-3, 4)xrange(-4, 5).bmp\n",
      "Template image saved as resources/pattern/bright_array_7x9/spacing=50/template_bright_arrayOfCircle_r=3_spacing=50_n=range(-3, 4)xrange(-4, 5).bmp\n",
      "DMD pattern saved as resources/pattern/bright_array_7x9/spacing=50/pattern_bright_arrayOfCircle_r=4_spacing=50_n=range(-3, 4)xrange(-4, 5).bmp\n",
      "Template image saved as resources/pattern/bright_array_7x9/spacing=50/template_bright_arrayOfCircle_r=4_spacing=50_n=range(-3, 4)xrange(-4, 5).bmp\n",
      "DMD pattern saved as resources/pattern/bright_array_7x9/spacing=50/pattern_bright_arrayOfCircle_r=5_spacing=50_n=range(-3, 4)xrange(-4, 5).bmp\n",
      "Template image saved as resources/pattern/bright_array_7x9/spacing=50/template_bright_arrayOfCircle_r=5_spacing=50_n=range(-3, 4)xrange(-4, 5).bmp\n",
      "DMD pattern saved as resources/pattern/bright_array_7x9/spacing=50/pattern_bright_arrayOfCircle_r=10_spacing=50_n=range(-3, 4)xrange(-4, 5).bmp\n",
      "Template image saved as resources/pattern/bright_array_7x9/spacing=50/template_bright_arrayOfCircle_r=10_spacing=50_n=range(-3, 4)xrange(-4, 5).bmp\n",
      "DMD pattern saved as resources/pattern/bright_array_7x9/spacing=50/pattern_bright_arrayOfCircle_r=20_spacing=50_n=range(-3, 4)xrange(-4, 5).bmp\n",
      "Template image saved as resources/pattern/bright_array_7x9/spacing=50/template_bright_arrayOfCircle_r=20_spacing=50_n=range(-3, 4)xrange(-4, 5).bmp\n",
      "DMD pattern saved as resources/pattern/bright_array_7x9/spacing=100/pattern_bright_arrayOfCircle_r=0.5_spacing=100_n=range(-3, 4)xrange(-4, 5).bmp\n",
      "Template image saved as resources/pattern/bright_array_7x9/spacing=100/template_bright_arrayOfCircle_r=0.5_spacing=100_n=range(-3, 4)xrange(-4, 5).bmp\n",
      "DMD pattern saved as resources/pattern/bright_array_7x9/spacing=100/pattern_bright_arrayOfCircle_r=1_spacing=100_n=range(-3, 4)xrange(-4, 5).bmp\n",
      "Template image saved as resources/pattern/bright_array_7x9/spacing=100/template_bright_arrayOfCircle_r=1_spacing=100_n=range(-3, 4)xrange(-4, 5).bmp\n",
      "DMD pattern saved as resources/pattern/bright_array_7x9/spacing=100/pattern_bright_arrayOfCircle_r=2_spacing=100_n=range(-3, 4)xrange(-4, 5).bmp\n",
      "Template image saved as resources/pattern/bright_array_7x9/spacing=100/template_bright_arrayOfCircle_r=2_spacing=100_n=range(-3, 4)xrange(-4, 5).bmp\n",
      "DMD pattern saved as resources/pattern/bright_array_7x9/spacing=100/pattern_bright_arrayOfCircle_r=3_spacing=100_n=range(-3, 4)xrange(-4, 5).bmp\n",
      "Template image saved as resources/pattern/bright_array_7x9/spacing=100/template_bright_arrayOfCircle_r=3_spacing=100_n=range(-3, 4)xrange(-4, 5).bmp\n",
      "DMD pattern saved as resources/pattern/bright_array_7x9/spacing=100/pattern_bright_arrayOfCircle_r=4_spacing=100_n=range(-3, 4)xrange(-4, 5).bmp\n",
      "Template image saved as resources/pattern/bright_array_7x9/spacing=100/template_bright_arrayOfCircle_r=4_spacing=100_n=range(-3, 4)xrange(-4, 5).bmp\n",
      "DMD pattern saved as resources/pattern/bright_array_7x9/spacing=100/pattern_bright_arrayOfCircle_r=5_spacing=100_n=range(-3, 4)xrange(-4, 5).bmp\n",
      "Template image saved as resources/pattern/bright_array_7x9/spacing=100/template_bright_arrayOfCircle_r=5_spacing=100_n=range(-3, 4)xrange(-4, 5).bmp\n",
      "DMD pattern saved as resources/pattern/bright_array_7x9/spacing=100/pattern_bright_arrayOfCircle_r=10_spacing=100_n=range(-3, 4)xrange(-4, 5).bmp\n",
      "Template image saved as resources/pattern/bright_array_7x9/spacing=100/template_bright_arrayOfCircle_r=10_spacing=100_n=range(-3, 4)xrange(-4, 5).bmp\n",
      "DMD pattern saved as resources/pattern/bright_array_7x9/spacing=100/pattern_bright_arrayOfCircle_r=20_spacing=100_n=range(-3, 4)xrange(-4, 5).bmp\n",
      "Template image saved as resources/pattern/bright_array_7x9/spacing=100/template_bright_arrayOfCircle_r=20_spacing=100_n=range(-3, 4)xrange(-4, 5).bmp\n"
     ]
    }
   ],
   "source": [
    "radius = [0.5, 1, 2, 3, 4, 5, 10, 20]\n",
    "spacing = [10, 20, 50, 100]\n",
    "nx = range(-3, 4)\n",
    "ny = range(-4, 5)\n",
    "\n",
    "for s, r in product(spacing, radius):\n",
    "    filename = f'bright_arrayOfCircle_r={r}_spacing={s}_n={nx}x{ny}.bmp'\n",
    "\n",
    "    dmd.drawPattern(painter.drawArrayOfCircles(row_spacing=s, \n",
    "                                                col_spacing=s,\n",
    "                                                nx=nx,\n",
    "                                                ny=ny,\n",
    "                                                radius=r,), color=1)\n",
    "    dmd.saveDMDArray(save_dir + f'pattern/bright_array_7x9/spacing={s}/', filename)"
   ]
  },
  {
   "cell_type": "code",
   "execution_count": 38,
   "metadata": {},
   "outputs": [
    {
     "name": "stdout",
     "output_type": "stream",
     "text": [
      "DMD pattern saved as resources/pattern/bright_array_full/spacing=10/pattern_bright_arrayOfCircle_r=0.5_spacing=10_n=range(-100, 100)xrange(-100, 100).bmp\n",
      "Template image saved as resources/pattern/bright_array_full/spacing=10/template_bright_arrayOfCircle_r=0.5_spacing=10_n=range(-100, 100)xrange(-100, 100).bmp\n",
      "DMD pattern saved as resources/pattern/bright_array_full/spacing=10/pattern_bright_arrayOfCircle_r=1_spacing=10_n=range(-100, 100)xrange(-100, 100).bmp\n",
      "Template image saved as resources/pattern/bright_array_full/spacing=10/template_bright_arrayOfCircle_r=1_spacing=10_n=range(-100, 100)xrange(-100, 100).bmp\n",
      "DMD pattern saved as resources/pattern/bright_array_full/spacing=10/pattern_bright_arrayOfCircle_r=2_spacing=10_n=range(-100, 100)xrange(-100, 100).bmp\n",
      "Template image saved as resources/pattern/bright_array_full/spacing=10/template_bright_arrayOfCircle_r=2_spacing=10_n=range(-100, 100)xrange(-100, 100).bmp\n",
      "DMD pattern saved as resources/pattern/bright_array_full/spacing=10/pattern_bright_arrayOfCircle_r=3_spacing=10_n=range(-100, 100)xrange(-100, 100).bmp\n",
      "Template image saved as resources/pattern/bright_array_full/spacing=10/template_bright_arrayOfCircle_r=3_spacing=10_n=range(-100, 100)xrange(-100, 100).bmp\n",
      "DMD pattern saved as resources/pattern/bright_array_full/spacing=10/pattern_bright_arrayOfCircle_r=4_spacing=10_n=range(-100, 100)xrange(-100, 100).bmp\n",
      "Template image saved as resources/pattern/bright_array_full/spacing=10/template_bright_arrayOfCircle_r=4_spacing=10_n=range(-100, 100)xrange(-100, 100).bmp\n",
      "DMD pattern saved as resources/pattern/bright_array_full/spacing=10/pattern_bright_arrayOfCircle_r=5_spacing=10_n=range(-100, 100)xrange(-100, 100).bmp\n",
      "Template image saved as resources/pattern/bright_array_full/spacing=10/template_bright_arrayOfCircle_r=5_spacing=10_n=range(-100, 100)xrange(-100, 100).bmp\n",
      "DMD pattern saved as resources/pattern/bright_array_full/spacing=20/pattern_bright_arrayOfCircle_r=0.5_spacing=20_n=range(-100, 100)xrange(-100, 100).bmp\n",
      "Template image saved as resources/pattern/bright_array_full/spacing=20/template_bright_arrayOfCircle_r=0.5_spacing=20_n=range(-100, 100)xrange(-100, 100).bmp\n",
      "DMD pattern saved as resources/pattern/bright_array_full/spacing=20/pattern_bright_arrayOfCircle_r=1_spacing=20_n=range(-100, 100)xrange(-100, 100).bmp\n",
      "Template image saved as resources/pattern/bright_array_full/spacing=20/template_bright_arrayOfCircle_r=1_spacing=20_n=range(-100, 100)xrange(-100, 100).bmp\n",
      "DMD pattern saved as resources/pattern/bright_array_full/spacing=20/pattern_bright_arrayOfCircle_r=2_spacing=20_n=range(-100, 100)xrange(-100, 100).bmp\n",
      "Template image saved as resources/pattern/bright_array_full/spacing=20/template_bright_arrayOfCircle_r=2_spacing=20_n=range(-100, 100)xrange(-100, 100).bmp\n",
      "DMD pattern saved as resources/pattern/bright_array_full/spacing=20/pattern_bright_arrayOfCircle_r=3_spacing=20_n=range(-100, 100)xrange(-100, 100).bmp\n",
      "Template image saved as resources/pattern/bright_array_full/spacing=20/template_bright_arrayOfCircle_r=3_spacing=20_n=range(-100, 100)xrange(-100, 100).bmp\n",
      "DMD pattern saved as resources/pattern/bright_array_full/spacing=20/pattern_bright_arrayOfCircle_r=4_spacing=20_n=range(-100, 100)xrange(-100, 100).bmp\n",
      "Template image saved as resources/pattern/bright_array_full/spacing=20/template_bright_arrayOfCircle_r=4_spacing=20_n=range(-100, 100)xrange(-100, 100).bmp\n",
      "DMD pattern saved as resources/pattern/bright_array_full/spacing=20/pattern_bright_arrayOfCircle_r=5_spacing=20_n=range(-100, 100)xrange(-100, 100).bmp\n",
      "Template image saved as resources/pattern/bright_array_full/spacing=20/template_bright_arrayOfCircle_r=5_spacing=20_n=range(-100, 100)xrange(-100, 100).bmp\n",
      "DMD pattern saved as resources/pattern/bright_array_full/spacing=20/pattern_bright_arrayOfCircle_r=10_spacing=20_n=range(-100, 100)xrange(-100, 100).bmp\n",
      "Template image saved as resources/pattern/bright_array_full/spacing=20/template_bright_arrayOfCircle_r=10_spacing=20_n=range(-100, 100)xrange(-100, 100).bmp\n",
      "DMD pattern saved as resources/pattern/bright_array_full/spacing=50/pattern_bright_arrayOfCircle_r=0.5_spacing=50_n=range(-100, 100)xrange(-100, 100).bmp\n",
      "Template image saved as resources/pattern/bright_array_full/spacing=50/template_bright_arrayOfCircle_r=0.5_spacing=50_n=range(-100, 100)xrange(-100, 100).bmp\n",
      "DMD pattern saved as resources/pattern/bright_array_full/spacing=50/pattern_bright_arrayOfCircle_r=1_spacing=50_n=range(-100, 100)xrange(-100, 100).bmp\n",
      "Template image saved as resources/pattern/bright_array_full/spacing=50/template_bright_arrayOfCircle_r=1_spacing=50_n=range(-100, 100)xrange(-100, 100).bmp\n",
      "DMD pattern saved as resources/pattern/bright_array_full/spacing=50/pattern_bright_arrayOfCircle_r=2_spacing=50_n=range(-100, 100)xrange(-100, 100).bmp\n",
      "Template image saved as resources/pattern/bright_array_full/spacing=50/template_bright_arrayOfCircle_r=2_spacing=50_n=range(-100, 100)xrange(-100, 100).bmp\n",
      "DMD pattern saved as resources/pattern/bright_array_full/spacing=50/pattern_bright_arrayOfCircle_r=3_spacing=50_n=range(-100, 100)xrange(-100, 100).bmp\n",
      "Template image saved as resources/pattern/bright_array_full/spacing=50/template_bright_arrayOfCircle_r=3_spacing=50_n=range(-100, 100)xrange(-100, 100).bmp\n",
      "DMD pattern saved as resources/pattern/bright_array_full/spacing=50/pattern_bright_arrayOfCircle_r=4_spacing=50_n=range(-100, 100)xrange(-100, 100).bmp\n",
      "Template image saved as resources/pattern/bright_array_full/spacing=50/template_bright_arrayOfCircle_r=4_spacing=50_n=range(-100, 100)xrange(-100, 100).bmp\n",
      "DMD pattern saved as resources/pattern/bright_array_full/spacing=50/pattern_bright_arrayOfCircle_r=5_spacing=50_n=range(-100, 100)xrange(-100, 100).bmp\n",
      "Template image saved as resources/pattern/bright_array_full/spacing=50/template_bright_arrayOfCircle_r=5_spacing=50_n=range(-100, 100)xrange(-100, 100).bmp\n",
      "DMD pattern saved as resources/pattern/bright_array_full/spacing=50/pattern_bright_arrayOfCircle_r=10_spacing=50_n=range(-100, 100)xrange(-100, 100).bmp\n",
      "Template image saved as resources/pattern/bright_array_full/spacing=50/template_bright_arrayOfCircle_r=10_spacing=50_n=range(-100, 100)xrange(-100, 100).bmp\n",
      "DMD pattern saved as resources/pattern/bright_array_full/spacing=50/pattern_bright_arrayOfCircle_r=20_spacing=50_n=range(-100, 100)xrange(-100, 100).bmp\n",
      "Template image saved as resources/pattern/bright_array_full/spacing=50/template_bright_arrayOfCircle_r=20_spacing=50_n=range(-100, 100)xrange(-100, 100).bmp\n",
      "DMD pattern saved as resources/pattern/bright_array_full/spacing=100/pattern_bright_arrayOfCircle_r=0.5_spacing=100_n=range(-100, 100)xrange(-100, 100).bmp\n",
      "Template image saved as resources/pattern/bright_array_full/spacing=100/template_bright_arrayOfCircle_r=0.5_spacing=100_n=range(-100, 100)xrange(-100, 100).bmp\n",
      "DMD pattern saved as resources/pattern/bright_array_full/spacing=100/pattern_bright_arrayOfCircle_r=1_spacing=100_n=range(-100, 100)xrange(-100, 100).bmp\n",
      "Template image saved as resources/pattern/bright_array_full/spacing=100/template_bright_arrayOfCircle_r=1_spacing=100_n=range(-100, 100)xrange(-100, 100).bmp\n",
      "DMD pattern saved as resources/pattern/bright_array_full/spacing=100/pattern_bright_arrayOfCircle_r=2_spacing=100_n=range(-100, 100)xrange(-100, 100).bmp\n",
      "Template image saved as resources/pattern/bright_array_full/spacing=100/template_bright_arrayOfCircle_r=2_spacing=100_n=range(-100, 100)xrange(-100, 100).bmp\n",
      "DMD pattern saved as resources/pattern/bright_array_full/spacing=100/pattern_bright_arrayOfCircle_r=3_spacing=100_n=range(-100, 100)xrange(-100, 100).bmp\n",
      "Template image saved as resources/pattern/bright_array_full/spacing=100/template_bright_arrayOfCircle_r=3_spacing=100_n=range(-100, 100)xrange(-100, 100).bmp\n",
      "DMD pattern saved as resources/pattern/bright_array_full/spacing=100/pattern_bright_arrayOfCircle_r=4_spacing=100_n=range(-100, 100)xrange(-100, 100).bmp\n",
      "Template image saved as resources/pattern/bright_array_full/spacing=100/template_bright_arrayOfCircle_r=4_spacing=100_n=range(-100, 100)xrange(-100, 100).bmp\n",
      "DMD pattern saved as resources/pattern/bright_array_full/spacing=100/pattern_bright_arrayOfCircle_r=5_spacing=100_n=range(-100, 100)xrange(-100, 100).bmp\n",
      "Template image saved as resources/pattern/bright_array_full/spacing=100/template_bright_arrayOfCircle_r=5_spacing=100_n=range(-100, 100)xrange(-100, 100).bmp\n",
      "DMD pattern saved as resources/pattern/bright_array_full/spacing=100/pattern_bright_arrayOfCircle_r=10_spacing=100_n=range(-100, 100)xrange(-100, 100).bmp\n",
      "Template image saved as resources/pattern/bright_array_full/spacing=100/template_bright_arrayOfCircle_r=10_spacing=100_n=range(-100, 100)xrange(-100, 100).bmp\n",
      "DMD pattern saved as resources/pattern/bright_array_full/spacing=100/pattern_bright_arrayOfCircle_r=20_spacing=100_n=range(-100, 100)xrange(-100, 100).bmp\n",
      "Template image saved as resources/pattern/bright_array_full/spacing=100/template_bright_arrayOfCircle_r=20_spacing=100_n=range(-100, 100)xrange(-100, 100).bmp\n"
     ]
    }
   ],
   "source": [
    "radius = [0.5, 1, 2, 3, 4, 5, 10, 20]\n",
    "spacing = [10, 20, 50, 100]\n",
    "nx = range(-100, 100)\n",
    "ny = range(-100, 100)\n",
    "\n",
    "for s in spacing:\n",
    "    for r in radius:\n",
    "        if 2 * r <= s:\n",
    "            filename = f'bright_arrayOfCircle_r={r}_spacing={s}_n={nx}x{ny}.bmp'\n",
    "\n",
    "            dmd.drawPattern(painter.drawArrayOfCircles(row_spacing=s, \n",
    "                                                       col_spacing=s, \n",
    "                                                       nx=nx,\n",
    "                                                       ny=ny,\n",
    "                                                       radius=r,), color=1)\n",
    "            dmd.saveDMDArray(save_dir + f'pattern/bright_array_full/spacing={s}/', filename)"
   ]
  },
  {
   "cell_type": "markdown",
   "metadata": {},
   "source": [
    "#### Generate dark arrays of circles on a bright background"
   ]
  },
  {
   "cell_type": "code",
   "execution_count": 39,
   "metadata": {},
   "outputs": [
    {
     "name": "stdout",
     "output_type": "stream",
     "text": [
      "DMD pattern saved as resources/pattern/dark_array_7x9/spacing=10/pattern_dark_arrayOfCircle_r=0.5_spacing=10_n=range(-3, 4)xrange(-4, 5).bmp\n",
      "Template image saved as resources/pattern/dark_array_7x9/spacing=10/template_dark_arrayOfCircle_r=0.5_spacing=10_n=range(-3, 4)xrange(-4, 5).bmp\n",
      "DMD pattern saved as resources/pattern/dark_array_7x9/spacing=10/pattern_dark_arrayOfCircle_r=1_spacing=10_n=range(-3, 4)xrange(-4, 5).bmp\n",
      "Template image saved as resources/pattern/dark_array_7x9/spacing=10/template_dark_arrayOfCircle_r=1_spacing=10_n=range(-3, 4)xrange(-4, 5).bmp\n",
      "DMD pattern saved as resources/pattern/dark_array_7x9/spacing=10/pattern_dark_arrayOfCircle_r=2_spacing=10_n=range(-3, 4)xrange(-4, 5).bmp\n",
      "Template image saved as resources/pattern/dark_array_7x9/spacing=10/template_dark_arrayOfCircle_r=2_spacing=10_n=range(-3, 4)xrange(-4, 5).bmp\n",
      "DMD pattern saved as resources/pattern/dark_array_7x9/spacing=10/pattern_dark_arrayOfCircle_r=5_spacing=10_n=range(-3, 4)xrange(-4, 5).bmp\n",
      "Template image saved as resources/pattern/dark_array_7x9/spacing=10/template_dark_arrayOfCircle_r=5_spacing=10_n=range(-3, 4)xrange(-4, 5).bmp\n",
      "DMD pattern saved as resources/pattern/dark_array_7x9/spacing=10/pattern_dark_arrayOfCircle_r=10_spacing=10_n=range(-3, 4)xrange(-4, 5).bmp\n",
      "Template image saved as resources/pattern/dark_array_7x9/spacing=10/template_dark_arrayOfCircle_r=10_spacing=10_n=range(-3, 4)xrange(-4, 5).bmp\n",
      "DMD pattern saved as resources/pattern/dark_array_7x9/spacing=10/pattern_dark_arrayOfCircle_r=20_spacing=10_n=range(-3, 4)xrange(-4, 5).bmp\n",
      "Template image saved as resources/pattern/dark_array_7x9/spacing=10/template_dark_arrayOfCircle_r=20_spacing=10_n=range(-3, 4)xrange(-4, 5).bmp\n",
      "DMD pattern saved as resources/pattern/dark_array_7x9/spacing=20/pattern_dark_arrayOfCircle_r=0.5_spacing=20_n=range(-3, 4)xrange(-4, 5).bmp\n",
      "Template image saved as resources/pattern/dark_array_7x9/spacing=20/template_dark_arrayOfCircle_r=0.5_spacing=20_n=range(-3, 4)xrange(-4, 5).bmp\n",
      "DMD pattern saved as resources/pattern/dark_array_7x9/spacing=20/pattern_dark_arrayOfCircle_r=1_spacing=20_n=range(-3, 4)xrange(-4, 5).bmp\n",
      "Template image saved as resources/pattern/dark_array_7x9/spacing=20/template_dark_arrayOfCircle_r=1_spacing=20_n=range(-3, 4)xrange(-4, 5).bmp\n",
      "DMD pattern saved as resources/pattern/dark_array_7x9/spacing=20/pattern_dark_arrayOfCircle_r=2_spacing=20_n=range(-3, 4)xrange(-4, 5).bmp\n",
      "Template image saved as resources/pattern/dark_array_7x9/spacing=20/template_dark_arrayOfCircle_r=2_spacing=20_n=range(-3, 4)xrange(-4, 5).bmp\n",
      "DMD pattern saved as resources/pattern/dark_array_7x9/spacing=20/pattern_dark_arrayOfCircle_r=5_spacing=20_n=range(-3, 4)xrange(-4, 5).bmp\n",
      "Template image saved as resources/pattern/dark_array_7x9/spacing=20/template_dark_arrayOfCircle_r=5_spacing=20_n=range(-3, 4)xrange(-4, 5).bmp\n",
      "DMD pattern saved as resources/pattern/dark_array_7x9/spacing=20/pattern_dark_arrayOfCircle_r=10_spacing=20_n=range(-3, 4)xrange(-4, 5).bmp\n",
      "Template image saved as resources/pattern/dark_array_7x9/spacing=20/template_dark_arrayOfCircle_r=10_spacing=20_n=range(-3, 4)xrange(-4, 5).bmp\n",
      "DMD pattern saved as resources/pattern/dark_array_7x9/spacing=20/pattern_dark_arrayOfCircle_r=20_spacing=20_n=range(-3, 4)xrange(-4, 5).bmp\n",
      "Template image saved as resources/pattern/dark_array_7x9/spacing=20/template_dark_arrayOfCircle_r=20_spacing=20_n=range(-3, 4)xrange(-4, 5).bmp\n",
      "DMD pattern saved as resources/pattern/dark_array_7x9/spacing=50/pattern_dark_arrayOfCircle_r=0.5_spacing=50_n=range(-3, 4)xrange(-4, 5).bmp\n",
      "Template image saved as resources/pattern/dark_array_7x9/spacing=50/template_dark_arrayOfCircle_r=0.5_spacing=50_n=range(-3, 4)xrange(-4, 5).bmp\n",
      "DMD pattern saved as resources/pattern/dark_array_7x9/spacing=50/pattern_dark_arrayOfCircle_r=1_spacing=50_n=range(-3, 4)xrange(-4, 5).bmp\n",
      "Template image saved as resources/pattern/dark_array_7x9/spacing=50/template_dark_arrayOfCircle_r=1_spacing=50_n=range(-3, 4)xrange(-4, 5).bmp\n",
      "DMD pattern saved as resources/pattern/dark_array_7x9/spacing=50/pattern_dark_arrayOfCircle_r=2_spacing=50_n=range(-3, 4)xrange(-4, 5).bmp\n",
      "Template image saved as resources/pattern/dark_array_7x9/spacing=50/template_dark_arrayOfCircle_r=2_spacing=50_n=range(-3, 4)xrange(-4, 5).bmp\n",
      "DMD pattern saved as resources/pattern/dark_array_7x9/spacing=50/pattern_dark_arrayOfCircle_r=5_spacing=50_n=range(-3, 4)xrange(-4, 5).bmp\n",
      "Template image saved as resources/pattern/dark_array_7x9/spacing=50/template_dark_arrayOfCircle_r=5_spacing=50_n=range(-3, 4)xrange(-4, 5).bmp\n",
      "DMD pattern saved as resources/pattern/dark_array_7x9/spacing=50/pattern_dark_arrayOfCircle_r=10_spacing=50_n=range(-3, 4)xrange(-4, 5).bmp\n",
      "Template image saved as resources/pattern/dark_array_7x9/spacing=50/template_dark_arrayOfCircle_r=10_spacing=50_n=range(-3, 4)xrange(-4, 5).bmp\n",
      "DMD pattern saved as resources/pattern/dark_array_7x9/spacing=50/pattern_dark_arrayOfCircle_r=20_spacing=50_n=range(-3, 4)xrange(-4, 5).bmp\n",
      "Template image saved as resources/pattern/dark_array_7x9/spacing=50/template_dark_arrayOfCircle_r=20_spacing=50_n=range(-3, 4)xrange(-4, 5).bmp\n",
      "DMD pattern saved as resources/pattern/dark_array_7x9/spacing=100/pattern_dark_arrayOfCircle_r=0.5_spacing=100_n=range(-3, 4)xrange(-4, 5).bmp\n",
      "Template image saved as resources/pattern/dark_array_7x9/spacing=100/template_dark_arrayOfCircle_r=0.5_spacing=100_n=range(-3, 4)xrange(-4, 5).bmp\n",
      "DMD pattern saved as resources/pattern/dark_array_7x9/spacing=100/pattern_dark_arrayOfCircle_r=1_spacing=100_n=range(-3, 4)xrange(-4, 5).bmp\n",
      "Template image saved as resources/pattern/dark_array_7x9/spacing=100/template_dark_arrayOfCircle_r=1_spacing=100_n=range(-3, 4)xrange(-4, 5).bmp\n",
      "DMD pattern saved as resources/pattern/dark_array_7x9/spacing=100/pattern_dark_arrayOfCircle_r=2_spacing=100_n=range(-3, 4)xrange(-4, 5).bmp\n",
      "Template image saved as resources/pattern/dark_array_7x9/spacing=100/template_dark_arrayOfCircle_r=2_spacing=100_n=range(-3, 4)xrange(-4, 5).bmp\n",
      "DMD pattern saved as resources/pattern/dark_array_7x9/spacing=100/pattern_dark_arrayOfCircle_r=5_spacing=100_n=range(-3, 4)xrange(-4, 5).bmp\n",
      "Template image saved as resources/pattern/dark_array_7x9/spacing=100/template_dark_arrayOfCircle_r=5_spacing=100_n=range(-3, 4)xrange(-4, 5).bmp\n",
      "DMD pattern saved as resources/pattern/dark_array_7x9/spacing=100/pattern_dark_arrayOfCircle_r=10_spacing=100_n=range(-3, 4)xrange(-4, 5).bmp\n",
      "Template image saved as resources/pattern/dark_array_7x9/spacing=100/template_dark_arrayOfCircle_r=10_spacing=100_n=range(-3, 4)xrange(-4, 5).bmp\n",
      "DMD pattern saved as resources/pattern/dark_array_7x9/spacing=100/pattern_dark_arrayOfCircle_r=20_spacing=100_n=range(-3, 4)xrange(-4, 5).bmp\n",
      "Template image saved as resources/pattern/dark_array_7x9/spacing=100/template_dark_arrayOfCircle_r=20_spacing=100_n=range(-3, 4)xrange(-4, 5).bmp\n"
     ]
    }
   ],
   "source": [
    "radius = [0.5, 1, 2, 5, 10, 20]\n",
    "spacing = [10, 20, 50, 100]\n",
    "nx = range(-3, 4)\n",
    "ny = range(-4, 5)\n",
    "\n",
    "for s, r in product(spacing, radius):\n",
    "    filename = f'dark_arrayOfCircle_r={r}_spacing={s}_n={nx}x{ny}.bmp'\n",
    "\n",
    "    dmd.drawPattern(painter.drawArrayOfCircles(row_spacing=s, \n",
    "                                                col_spacing=s,\n",
    "                                                nx=nx,\n",
    "                                                ny=ny,\n",
    "                                                radius=r,), color=0)\n",
    "    dmd.saveDMDArray(save_dir + f'pattern/dark_array_7x9/spacing={s}/', filename)"
   ]
  },
  {
   "cell_type": "code",
   "execution_count": 40,
   "metadata": {},
   "outputs": [
    {
     "name": "stdout",
     "output_type": "stream",
     "text": [
      "DMD pattern saved as resources/pattern/dark_array_full/spacing=10/pattern_dark_arrayOfCircle_r=0.5_spacing=10_n=range(-100, 100)xrange(-100, 100).bmp\n",
      "Template image saved as resources/pattern/dark_array_full/spacing=10/template_dark_arrayOfCircle_r=0.5_spacing=10_n=range(-100, 100)xrange(-100, 100).bmp\n",
      "DMD pattern saved as resources/pattern/dark_array_full/spacing=10/pattern_dark_arrayOfCircle_r=1_spacing=10_n=range(-100, 100)xrange(-100, 100).bmp\n",
      "Template image saved as resources/pattern/dark_array_full/spacing=10/template_dark_arrayOfCircle_r=1_spacing=10_n=range(-100, 100)xrange(-100, 100).bmp\n",
      "DMD pattern saved as resources/pattern/dark_array_full/spacing=10/pattern_dark_arrayOfCircle_r=2_spacing=10_n=range(-100, 100)xrange(-100, 100).bmp\n",
      "Template image saved as resources/pattern/dark_array_full/spacing=10/template_dark_arrayOfCircle_r=2_spacing=10_n=range(-100, 100)xrange(-100, 100).bmp\n",
      "DMD pattern saved as resources/pattern/dark_array_full/spacing=10/pattern_dark_arrayOfCircle_r=3_spacing=10_n=range(-100, 100)xrange(-100, 100).bmp\n",
      "Template image saved as resources/pattern/dark_array_full/spacing=10/template_dark_arrayOfCircle_r=3_spacing=10_n=range(-100, 100)xrange(-100, 100).bmp\n",
      "DMD pattern saved as resources/pattern/dark_array_full/spacing=10/pattern_dark_arrayOfCircle_r=4_spacing=10_n=range(-100, 100)xrange(-100, 100).bmp\n",
      "Template image saved as resources/pattern/dark_array_full/spacing=10/template_dark_arrayOfCircle_r=4_spacing=10_n=range(-100, 100)xrange(-100, 100).bmp\n",
      "DMD pattern saved as resources/pattern/dark_array_full/spacing=10/pattern_dark_arrayOfCircle_r=5_spacing=10_n=range(-100, 100)xrange(-100, 100).bmp\n",
      "Template image saved as resources/pattern/dark_array_full/spacing=10/template_dark_arrayOfCircle_r=5_spacing=10_n=range(-100, 100)xrange(-100, 100).bmp\n",
      "DMD pattern saved as resources/pattern/dark_array_full/spacing=20/pattern_dark_arrayOfCircle_r=0.5_spacing=20_n=range(-100, 100)xrange(-100, 100).bmp\n",
      "Template image saved as resources/pattern/dark_array_full/spacing=20/template_dark_arrayOfCircle_r=0.5_spacing=20_n=range(-100, 100)xrange(-100, 100).bmp\n",
      "DMD pattern saved as resources/pattern/dark_array_full/spacing=20/pattern_dark_arrayOfCircle_r=1_spacing=20_n=range(-100, 100)xrange(-100, 100).bmp\n",
      "Template image saved as resources/pattern/dark_array_full/spacing=20/template_dark_arrayOfCircle_r=1_spacing=20_n=range(-100, 100)xrange(-100, 100).bmp\n",
      "DMD pattern saved as resources/pattern/dark_array_full/spacing=20/pattern_dark_arrayOfCircle_r=2_spacing=20_n=range(-100, 100)xrange(-100, 100).bmp\n",
      "Template image saved as resources/pattern/dark_array_full/spacing=20/template_dark_arrayOfCircle_r=2_spacing=20_n=range(-100, 100)xrange(-100, 100).bmp\n",
      "DMD pattern saved as resources/pattern/dark_array_full/spacing=20/pattern_dark_arrayOfCircle_r=3_spacing=20_n=range(-100, 100)xrange(-100, 100).bmp\n",
      "Template image saved as resources/pattern/dark_array_full/spacing=20/template_dark_arrayOfCircle_r=3_spacing=20_n=range(-100, 100)xrange(-100, 100).bmp\n",
      "DMD pattern saved as resources/pattern/dark_array_full/spacing=20/pattern_dark_arrayOfCircle_r=4_spacing=20_n=range(-100, 100)xrange(-100, 100).bmp\n",
      "Template image saved as resources/pattern/dark_array_full/spacing=20/template_dark_arrayOfCircle_r=4_spacing=20_n=range(-100, 100)xrange(-100, 100).bmp\n",
      "DMD pattern saved as resources/pattern/dark_array_full/spacing=20/pattern_dark_arrayOfCircle_r=5_spacing=20_n=range(-100, 100)xrange(-100, 100).bmp\n",
      "Template image saved as resources/pattern/dark_array_full/spacing=20/template_dark_arrayOfCircle_r=5_spacing=20_n=range(-100, 100)xrange(-100, 100).bmp\n",
      "DMD pattern saved as resources/pattern/dark_array_full/spacing=20/pattern_dark_arrayOfCircle_r=10_spacing=20_n=range(-100, 100)xrange(-100, 100).bmp\n",
      "Template image saved as resources/pattern/dark_array_full/spacing=20/template_dark_arrayOfCircle_r=10_spacing=20_n=range(-100, 100)xrange(-100, 100).bmp\n",
      "DMD pattern saved as resources/pattern/dark_array_full/spacing=50/pattern_dark_arrayOfCircle_r=0.5_spacing=50_n=range(-100, 100)xrange(-100, 100).bmp\n",
      "Template image saved as resources/pattern/dark_array_full/spacing=50/template_dark_arrayOfCircle_r=0.5_spacing=50_n=range(-100, 100)xrange(-100, 100).bmp\n",
      "DMD pattern saved as resources/pattern/dark_array_full/spacing=50/pattern_dark_arrayOfCircle_r=1_spacing=50_n=range(-100, 100)xrange(-100, 100).bmp\n",
      "Template image saved as resources/pattern/dark_array_full/spacing=50/template_dark_arrayOfCircle_r=1_spacing=50_n=range(-100, 100)xrange(-100, 100).bmp\n",
      "DMD pattern saved as resources/pattern/dark_array_full/spacing=50/pattern_dark_arrayOfCircle_r=2_spacing=50_n=range(-100, 100)xrange(-100, 100).bmp\n",
      "Template image saved as resources/pattern/dark_array_full/spacing=50/template_dark_arrayOfCircle_r=2_spacing=50_n=range(-100, 100)xrange(-100, 100).bmp\n",
      "DMD pattern saved as resources/pattern/dark_array_full/spacing=50/pattern_dark_arrayOfCircle_r=3_spacing=50_n=range(-100, 100)xrange(-100, 100).bmp\n",
      "Template image saved as resources/pattern/dark_array_full/spacing=50/template_dark_arrayOfCircle_r=3_spacing=50_n=range(-100, 100)xrange(-100, 100).bmp\n",
      "DMD pattern saved as resources/pattern/dark_array_full/spacing=50/pattern_dark_arrayOfCircle_r=4_spacing=50_n=range(-100, 100)xrange(-100, 100).bmp\n",
      "Template image saved as resources/pattern/dark_array_full/spacing=50/template_dark_arrayOfCircle_r=4_spacing=50_n=range(-100, 100)xrange(-100, 100).bmp\n",
      "DMD pattern saved as resources/pattern/dark_array_full/spacing=50/pattern_dark_arrayOfCircle_r=5_spacing=50_n=range(-100, 100)xrange(-100, 100).bmp\n",
      "Template image saved as resources/pattern/dark_array_full/spacing=50/template_dark_arrayOfCircle_r=5_spacing=50_n=range(-100, 100)xrange(-100, 100).bmp\n",
      "DMD pattern saved as resources/pattern/dark_array_full/spacing=50/pattern_dark_arrayOfCircle_r=10_spacing=50_n=range(-100, 100)xrange(-100, 100).bmp\n",
      "Template image saved as resources/pattern/dark_array_full/spacing=50/template_dark_arrayOfCircle_r=10_spacing=50_n=range(-100, 100)xrange(-100, 100).bmp\n",
      "DMD pattern saved as resources/pattern/dark_array_full/spacing=50/pattern_dark_arrayOfCircle_r=20_spacing=50_n=range(-100, 100)xrange(-100, 100).bmp\n",
      "Template image saved as resources/pattern/dark_array_full/spacing=50/template_dark_arrayOfCircle_r=20_spacing=50_n=range(-100, 100)xrange(-100, 100).bmp\n",
      "DMD pattern saved as resources/pattern/dark_array_full/spacing=100/pattern_dark_arrayOfCircle_r=0.5_spacing=100_n=range(-100, 100)xrange(-100, 100).bmp\n",
      "Template image saved as resources/pattern/dark_array_full/spacing=100/template_dark_arrayOfCircle_r=0.5_spacing=100_n=range(-100, 100)xrange(-100, 100).bmp\n",
      "DMD pattern saved as resources/pattern/dark_array_full/spacing=100/pattern_dark_arrayOfCircle_r=1_spacing=100_n=range(-100, 100)xrange(-100, 100).bmp\n",
      "Template image saved as resources/pattern/dark_array_full/spacing=100/template_dark_arrayOfCircle_r=1_spacing=100_n=range(-100, 100)xrange(-100, 100).bmp\n",
      "DMD pattern saved as resources/pattern/dark_array_full/spacing=100/pattern_dark_arrayOfCircle_r=2_spacing=100_n=range(-100, 100)xrange(-100, 100).bmp\n",
      "Template image saved as resources/pattern/dark_array_full/spacing=100/template_dark_arrayOfCircle_r=2_spacing=100_n=range(-100, 100)xrange(-100, 100).bmp\n",
      "DMD pattern saved as resources/pattern/dark_array_full/spacing=100/pattern_dark_arrayOfCircle_r=3_spacing=100_n=range(-100, 100)xrange(-100, 100).bmp\n",
      "Template image saved as resources/pattern/dark_array_full/spacing=100/template_dark_arrayOfCircle_r=3_spacing=100_n=range(-100, 100)xrange(-100, 100).bmp\n",
      "DMD pattern saved as resources/pattern/dark_array_full/spacing=100/pattern_dark_arrayOfCircle_r=4_spacing=100_n=range(-100, 100)xrange(-100, 100).bmp\n",
      "Template image saved as resources/pattern/dark_array_full/spacing=100/template_dark_arrayOfCircle_r=4_spacing=100_n=range(-100, 100)xrange(-100, 100).bmp\n",
      "DMD pattern saved as resources/pattern/dark_array_full/spacing=100/pattern_dark_arrayOfCircle_r=5_spacing=100_n=range(-100, 100)xrange(-100, 100).bmp\n",
      "Template image saved as resources/pattern/dark_array_full/spacing=100/template_dark_arrayOfCircle_r=5_spacing=100_n=range(-100, 100)xrange(-100, 100).bmp\n",
      "DMD pattern saved as resources/pattern/dark_array_full/spacing=100/pattern_dark_arrayOfCircle_r=10_spacing=100_n=range(-100, 100)xrange(-100, 100).bmp\n",
      "Template image saved as resources/pattern/dark_array_full/spacing=100/template_dark_arrayOfCircle_r=10_spacing=100_n=range(-100, 100)xrange(-100, 100).bmp\n",
      "DMD pattern saved as resources/pattern/dark_array_full/spacing=100/pattern_dark_arrayOfCircle_r=20_spacing=100_n=range(-100, 100)xrange(-100, 100).bmp\n",
      "Template image saved as resources/pattern/dark_array_full/spacing=100/template_dark_arrayOfCircle_r=20_spacing=100_n=range(-100, 100)xrange(-100, 100).bmp\n"
     ]
    }
   ],
   "source": [
    "radius = [0.5, 1, 2, 3, 4, 5, 10, 20]\n",
    "spacing = [10, 20, 50, 100]\n",
    "nx = range(-100, 100)\n",
    "ny = range(-100, 100)\n",
    "\n",
    "for s, r in product(spacing, radius):\n",
    "    if 2 * r <= s:\n",
    "        filename = f'dark_arrayOfCircle_r={r}_spacing={s}_n={nx}x{ny}.bmp'\n",
    "\n",
    "        dmd.drawPattern(painter.drawArrayOfCircles(row_spacing=s, \n",
    "                                                    col_spacing=s, \n",
    "                                                    nx=nx,\n",
    "                                                    ny=ny,\n",
    "                                                    radius=r,), color=0)\n",
    "        dmd.saveDMDArray(save_dir + f'pattern/dark_array_full/spacing={s}/', filename)"
   ]
  },
  {
   "cell_type": "markdown",
   "metadata": {},
   "source": [
    "#### Generate cross on a dark background"
   ]
  },
  {
   "cell_type": "code",
   "execution_count": 5,
   "metadata": {},
   "outputs": [
    {
     "name": "stdout",
     "output_type": "stream",
     "text": [
      "DMD pattern saved as resources/pattern/bright_cross_line/pattern_pattern_bright_cross_halfwidth=0.bmp\n",
      "Template image saved as resources/pattern/bright_cross_line/template_pattern_bright_cross_halfwidth=0.bmp\n",
      "DMD pattern saved as resources/pattern/bright_cross_line/pattern_pattern_bright_cross_halfwidth=1.bmp\n",
      "Template image saved as resources/pattern/bright_cross_line/template_pattern_bright_cross_halfwidth=1.bmp\n",
      "DMD pattern saved as resources/pattern/bright_cross_line/pattern_pattern_bright_cross_halfwidth=2.bmp\n",
      "Template image saved as resources/pattern/bright_cross_line/template_pattern_bright_cross_halfwidth=2.bmp\n",
      "DMD pattern saved as resources/pattern/bright_cross_line/pattern_pattern_bright_cross_halfwidth=5.bmp\n",
      "Template image saved as resources/pattern/bright_cross_line/template_pattern_bright_cross_halfwidth=5.bmp\n",
      "DMD pattern saved as resources/pattern/bright_cross_line/pattern_pattern_bright_cross_halfwidth=10.bmp\n",
      "Template image saved as resources/pattern/bright_cross_line/template_pattern_bright_cross_halfwidth=10.bmp\n",
      "DMD pattern saved as resources/pattern/bright_cross_line/pattern_pattern_bright_cross_halfwidth=20.bmp\n",
      "Template image saved as resources/pattern/bright_cross_line/template_pattern_bright_cross_halfwidth=20.bmp\n"
     ]
    }
   ],
   "source": [
    "half_width = [0, 1, 2, 5, 10, 20]\n",
    "\n",
    "for width in half_width:\n",
    "    filename = f'pattern_bright_cross_halfwidth={width}.bmp'\n",
    "\n",
    "    dmd.drawPattern(painter.drawCross(half_width=width), color=1)\n",
    "    dmd.saveDMDArray(save_dir + f'pattern/bright_cross_line/', filename)"
   ]
  },
  {
   "cell_type": "markdown",
   "metadata": {},
   "source": [
    "#### Generate crosses on a dark background"
   ]
  },
  {
   "cell_type": "code",
   "execution_count": 4,
   "metadata": {},
   "outputs": [
    {
     "ename": "TypeError",
     "evalue": "PatternPainter.drawCrosses() got an unexpected keyword argument 'half_width'",
     "output_type": "error",
     "traceback": [
      "\u001b[1;31m---------------------------------------------------------------------------\u001b[0m",
      "\u001b[1;31mTypeError\u001b[0m                                 Traceback (most recent call last)",
      "\u001b[1;32mc:\\Users\\qmspc\\Documents\\MATLAB\\DMD-pattern-generator\\DMD_pattern_generation.ipynb Cell 33\u001b[0m line \u001b[0;36m8\n\u001b[0;32m      <a href='vscode-notebook-cell:/c%3A/Users/qmspc/Documents/MATLAB/DMD-pattern-generator/DMD_pattern_generation.ipynb#X34sZmlsZQ%3D%3D?line=4'>5</a>\u001b[0m \u001b[39mfor\u001b[39;00m width \u001b[39min\u001b[39;00m half_width:\n\u001b[0;32m      <a href='vscode-notebook-cell:/c%3A/Users/qmspc/Documents/MATLAB/DMD-pattern-generator/DMD_pattern_generation.ipynb#X34sZmlsZQ%3D%3D?line=5'>6</a>\u001b[0m     filename \u001b[39m=\u001b[39m \u001b[39mf\u001b[39m\u001b[39m'\u001b[39m\u001b[39mpattern_bright_crosses_n=\u001b[39m\u001b[39m{\u001b[39;00mnx\u001b[39m}\u001b[39;00m\u001b[39mx\u001b[39m\u001b[39m{\u001b[39;00mny\u001b[39m}\u001b[39;00m\u001b[39m_halfwidth=\u001b[39m\u001b[39m{\u001b[39;00mwidth\u001b[39m}\u001b[39;00m\u001b[39m.bmp\u001b[39m\u001b[39m'\u001b[39m\n\u001b[1;32m----> <a href='vscode-notebook-cell:/c%3A/Users/qmspc/Documents/MATLAB/DMD-pattern-generator/DMD_pattern_generation.ipynb#X34sZmlsZQ%3D%3D?line=7'>8</a>\u001b[0m     dmd\u001b[39m.\u001b[39mdrawPattern(painter\u001b[39m.\u001b[39;49mdrawCrosses(nx\u001b[39m=\u001b[39;49mnx,\n\u001b[0;32m      <a href='vscode-notebook-cell:/c%3A/Users/qmspc/Documents/MATLAB/DMD-pattern-generator/DMD_pattern_generation.ipynb#X34sZmlsZQ%3D%3D?line=8'>9</a>\u001b[0m                                         ny\u001b[39m=\u001b[39;49mny,\n\u001b[0;32m     <a href='vscode-notebook-cell:/c%3A/Users/qmspc/Documents/MATLAB/DMD-pattern-generator/DMD_pattern_generation.ipynb#X34sZmlsZQ%3D%3D?line=9'>10</a>\u001b[0m                                         half_width\u001b[39m=\u001b[39;49mwidth), color\u001b[39m=\u001b[39m\u001b[39m1\u001b[39m)\n\u001b[0;32m     <a href='vscode-notebook-cell:/c%3A/Users/qmspc/Documents/MATLAB/DMD-pattern-generator/DMD_pattern_generation.ipynb#X34sZmlsZQ%3D%3D?line=10'>11</a>\u001b[0m     dmd\u001b[39m.\u001b[39msaveDMDArray(save_dir \u001b[39m+\u001b[39m \u001b[39mf\u001b[39m\u001b[39m'\u001b[39m\u001b[39mpattern/crosses_n=\u001b[39m\u001b[39m{\u001b[39;00mnx\u001b[39m}\u001b[39;00m\u001b[39mx\u001b[39m\u001b[39m{\u001b[39;00mny\u001b[39m}\u001b[39;00m\u001b[39m/\u001b[39m\u001b[39m'\u001b[39m, filename)\n",
      "\u001b[1;31mTypeError\u001b[0m: PatternPainter.drawCrosses() got an unexpected keyword argument 'half_width'"
     ]
    }
   ],
   "source": [
    "half_width = [1, 2, 5, 10, 20]\n",
    "nx = 4\n",
    "ny = 5\n",
    "\n",
    "for width in half_width:\n",
    "    filename = f'pattern_bright_crosses_n={nx}x{ny}_halfwidth={width}.bmp'\n",
    "\n",
    "    dmd.drawPattern(painter.drawCrosses(nx=nx,\n",
    "                                        ny=ny,\n",
    "                                        half_width=width), color=1)\n",
    "    dmd.saveDMDArray(save_dir + f'pattern/crosses_n={nx}x{ny}/', filename)"
   ]
  },
  {
   "cell_type": "code",
   "execution_count": null,
   "metadata": {},
   "outputs": [],
   "source": [
    "line_width = [1, 2, 5, 10, 20]\n",
    "nx = range(-100, 100)\n",
    "ny = range(-100, 100)\n",
    "\n",
    "for width in line_width:\n",
    "    filename = f'pattern_bright_crosses_n={nx}x{ny}_linewidth={width}.bmp'\n",
    "\n",
    "    dmd.drawPattern(painter.drawCrosses(nx=nx,\n",
    "                                        ny=ny,\n",
    "                                        line_width=width), color=1)\n",
    "    dmd.saveDMDArray(save_dir + f'pattern/crosses_full/', filename)\n",
    "\n",
    "# dmd.getTemplateImage()"
   ]
  },
  {
   "cell_type": "markdown",
   "metadata": {},
   "source": [
    "#### Generate star pattern for MTF measurement"
   ]
  },
  {
   "cell_type": "code",
   "execution_count": null,
   "metadata": {},
   "outputs": [],
   "source": [
    "nums = [4, 10, 20, 40, 60]\n",
    "\n",
    "for n in nums:\n",
    "    filename = f'pattern_star_n={n}.bmp'\n",
    "\n",
    "    dmd.drawPattern(painter.drawStar(num=n), color=1)\n",
    "    dmd.saveDMDArray(save_dir + f'pattern/star/', filename)\n",
    "# dmd.getTemplateImage()"
   ]
  },
  {
   "cell_type": "markdown",
   "metadata": {},
   "source": [
    "#### Generate checkerboard pattern"
   ]
  },
  {
   "cell_type": "code",
   "execution_count": null,
   "metadata": {},
   "outputs": [],
   "source": [
    "size = [5, 10, 20, 50, 100, 200]\n",
    "\n",
    "for s in size:\n",
    "    filename = f'pattern_checkerboard_size={s}.bmp'\n",
    "\n",
    "    dmd.drawPattern(painter.drawCheckerBoard(size=s), color=1)\n",
    "    dmd.saveDMDArray(save_dir + f'pattern/checkerboard/', filename)\n",
    "# dmd.getTemplateImage()"
   ]
  },
  {
   "cell_type": "code",
   "execution_count": null,
   "metadata": {},
   "outputs": [],
   "source": [
    "size = [5, 10, 20, 50, 100, 200]\n",
    "\n",
    "for s in size:\n",
    "    filename = f'pattern_checkerboard_size={s}.bmp'\n",
    "\n",
    "    dmd.drawPattern(painter.drawCheckerBoard(size=s), color=0b10101010, template_color=0)\n",
    "    dmd.saveDMDArray(save_dir + f'pattern/checkerboard_gray/', filename)\n",
    "# dmd.getTemplateImage()"
   ]
  },
  {
   "cell_type": "markdown",
   "metadata": {},
   "source": [
    "#### Generate arrays of squares"
   ]
  },
  {
   "cell_type": "code",
   "execution_count": null,
   "metadata": {},
   "outputs": [],
   "source": [
    "spacing = [10, 20, 50, 100]\n",
    "radius = [0, 1, 2, 5, 10, 20, 50, 100]\n",
    "nx = range(-100, 100)\n",
    "ny = range(-100, 100)\n",
    "\n",
    "for s in spacing:\n",
    "    for r in radius:\n",
    "        if 2 * r <= s:\n",
    "            filename = f'pattern_arrayOfSquares_radius={r}_spacing={s}.bmp'\n",
    "\n",
    "            dmd.drawPattern(painter.drawArrayOfSquares(radius=r,\n",
    "                                                       row_spacing=s,\n",
    "                                                       col_spacing=s,\n",
    "                                                       nx=nx,\n",
    "                                                       ny=ny), color=1)\n",
    "            dmd.saveDMDArray(save_dir + f'pattern/bright_array_square_full/spacing={s}/', filename)"
   ]
  },
  {
   "cell_type": "markdown",
   "metadata": {},
   "source": [
    "#### Generate horizontal strips"
   ]
  },
  {
   "cell_type": "code",
   "execution_count": null,
   "metadata": {},
   "outputs": [],
   "source": [
    "width = [5, 10, 20, 50, 100, 200]\n",
    "\n",
    "for w in width:\n",
    "    filename = f'pattern_horizontal_strips_width={w}.bmp'\n",
    "\n",
    "    dmd.drawPattern(painter.drawHorizontalStrips(width=w), color=1)\n",
    "    dmd.saveDMDArray(save_dir + f'pattern/horizontal_strips/', filename)"
   ]
  },
  {
   "cell_type": "code",
   "execution_count": null,
   "metadata": {},
   "outputs": [],
   "source": [
    "width = [5, 10, 20, 50, 100, 200]\n",
    "\n",
    "for w in width:\n",
    "    filename = f'pattern_horizontal_strips_gray_width={w}.bmp'\n",
    "\n",
    "    dmd.drawPattern(painter.drawHorizontalStrips(width=w), color=0b10101010, template_color=0)\n",
    "    dmd.saveDMDArray(save_dir + f'pattern/horizontal_strips_gray/', filename)"
   ]
  },
  {
   "cell_type": "markdown",
   "metadata": {},
   "source": [
    "#### Generate vertical strips"
   ]
  },
  {
   "cell_type": "code",
   "execution_count": null,
   "metadata": {},
   "outputs": [],
   "source": [
    "width = [5, 10, 20, 50, 100]\n",
    "\n",
    "for w in width:\n",
    "    filename = f'pattern_vertical_strips_width={w}.bmp'\n",
    "\n",
    "    dmd.drawPattern(painter.drawVerticalStrips(width=w), color=1)\n",
    "    dmd.saveDMDArray(save_dir + f'pattern/vertical_strips/', filename)"
   ]
  },
  {
   "cell_type": "code",
   "execution_count": null,
   "metadata": {},
   "outputs": [],
   "source": [
    "width = [5, 10, 20, 50, 100]\n",
    "\n",
    "for w in width:\n",
    "    filename = f'pattern_vertical_strips_gray_width={w}.bmp'\n",
    "\n",
    "    dmd.drawPattern(painter.drawVerticalStrips(width=w), color=0b10101010, template_color=0)\n",
    "    dmd.saveDMDArray(save_dir + f'pattern/vertical_strips_gray/', filename)"
   ]
  },
  {
   "cell_type": "markdown",
   "metadata": {},
   "source": [
    "#### Generate half plane"
   ]
  },
  {
   "cell_type": "code",
   "execution_count": null,
   "metadata": {},
   "outputs": [],
   "source": [
    "filename = f'pattern_horizontal_half_plane.bmp'\n",
    "\n",
    "dmd.drawPattern(painter.drawHorizontalHalfPlane(), color=1)\n",
    "dmd.saveDMDArray(save_dir + f'pattern/half_plane/', filename)"
   ]
  },
  {
   "cell_type": "code",
   "execution_count": null,
   "metadata": {},
   "outputs": [],
   "source": [
    "filename = f'pattern_horizontal_half_plane_gray.bmp'\n",
    "\n",
    "dmd.drawPattern(painter.drawHorizontalHalfPlane(), color=0b10101010, template_color=0)\n",
    "dmd.saveDMDArray(save_dir + f'pattern/half_plane/', filename)"
   ]
  },
  {
   "cell_type": "code",
   "execution_count": null,
   "metadata": {},
   "outputs": [],
   "source": [
    "buffer = [2, 5, 10, 20, 50]\n",
    "\n",
    "for b in buffer:\n",
    "    filename = f'pattern_horizontal_half_plane_gray_buffer={b}.bmp'\n",
    "\n",
    "    dmd.drawPattern(painter.drawHorizontalHalfPlane(x_offset=-1 * b), color=1, template_color=0)\n",
    "    dmd.drawPattern(painter.drawHorizontalHalfPlane(x_offset=b), color=0b10101010, reset=False)\n",
    "    dmd.saveDMDArray(save_dir + f'pattern/half_plane_buffered/', filename)"
   ]
  },
  {
   "cell_type": "markdown",
   "metadata": {},
   "source": [
    "### Generate patterns for calibration of coordinate transformation"
   ]
  },
  {
   "cell_type": "markdown",
   "metadata": {},
   "source": [
    "Calibration pattern 1: a grid of circles with radius r1 and the center circle with radius r2."
   ]
  },
  {
   "cell_type": "code",
   "execution_count": null,
   "metadata": {},
   "outputs": [],
   "source": [
    "radius1 = [0.5, 1, 2]\n",
    "radius2 = [0.5, 1, 2, 5, 10]\n",
    "\n",
    "for r1 in radius1:\n",
    "    for r2 in radius2:\n",
    "        filename = f'calibration_spacing=50_r1={r1}_r2={r2}_anchor=((0,0),(200,0),(0,250)).bmp'\n",
    "        dmd.drawPattern(painter.drawCalibrationPattern1(\n",
    "            radius1=r1, radius2=r2), color=1)\n",
    "        dmd.saveDMDArray(save_dir + f'calibration/bright_spacing=50_anchor/', filename)"
   ]
  },
  {
   "cell_type": "markdown",
   "metadata": {},
   "source": [
    "Calibration pattern 2: three filled circles with radius r"
   ]
  },
  {
   "cell_type": "code",
   "execution_count": null,
   "metadata": {},
   "outputs": [],
   "source": [
    "radius = [0.5, 1, 2, 5, 10, 20, 30, 40]\n",
    "anchor_list = [((0, 0), (100, 0), (0, 150)),\n",
    "               ((0, 0), (50, 0), (0, 75)),\n",
    "               ((0, 0), (75, 0), (0, 75)),\n",
    "               ((0, 0), (75, 0), (150, 0), (0, 75), (0, 150), (75, 75)),\n",
    "               ((0, 0), (-50, 0), (50, 0), (-100, 0), (100, 0), (0, 75), (0, 150), (0, -75), (0, -150)),\n",
    "]\n",
    "\n",
    "for anchor in anchor_list:\n",
    "    for r in radius:\n",
    "        filename = f'calibration_r={r}.bmp'\n",
    "        dmd.drawPattern(painter.drawCalibrationPattern2(radius=r,\n",
    "                                                        anchor=anchor\n",
    "                                                        ), color=0)\n",
    "        dmd.saveDMDArray(save_dir + f'calibration/dark_anchor/anchor={anchor}/', filename)"
   ]
  }
 ],
 "metadata": {
  "kernelspec": {
   "display_name": "base",
   "language": "python",
   "name": "python3"
  },
  "language_info": {
   "codemirror_mode": {
    "name": "ipython",
    "version": 3
   },
   "file_extension": ".py",
   "mimetype": "text/x-python",
   "name": "python",
   "nbconvert_exporter": "python",
   "pygments_lexer": "ipython3",
   "version": "3.10.12"
  },
  "orig_nbformat": 4
 },
 "nbformat": 4,
 "nbformat_minor": 2
}
