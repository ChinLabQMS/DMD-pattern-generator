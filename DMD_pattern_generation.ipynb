{
 "cells": [
  {
   "cell_type": "markdown",
   "metadata": {},
   "source": [
    "### Setup"
   ]
  },
  {
   "cell_type": "code",
   "execution_count": 1,
   "metadata": {},
   "outputs": [],
   "source": [
    "from utils import DMDImage, PatternPainter\n",
    "\n",
    "save_dir = 'resources/'\n",
    "\n",
    "dmd = DMDImage()\n",
    "painter = PatternPainter(nrows=dmd.real_nrows, ncols=dmd.real_ncols)"
   ]
  },
  {
   "cell_type": "markdown",
   "metadata": {},
   "source": [
    "### Generate and save template image in real space"
   ]
  },
  {
   "cell_type": "code",
   "execution_count": 2,
   "metadata": {},
   "outputs": [],
   "source": [
    "filename = f'template_bright_{dmd.nrows}x{dmd.ncols}.bmp'\n",
    "dmd.getTemplateImage(color=1).save(save_dir + filename)\n",
    "\n",
    "filename = f'template_dark_{dmd.nrows}x{dmd.ncols}.bmp'\n",
    "dmd.getTemplateImage(color=0).save(save_dir + filename)"
   ]
  },
  {
   "cell_type": "markdown",
   "metadata": {},
   "source": [
    "### Generate various patterns"
   ]
  },
  {
   "cell_type": "markdown",
   "metadata": {},
   "source": [
    "#### Generate bright circle patterns on a dark background"
   ]
  },
  {
   "cell_type": "code",
   "execution_count": 3,
   "metadata": {},
   "outputs": [],
   "source": [
    "radius = 50\n",
    "row_offset = 0\n",
    "col_offset = 0\n",
    "\n",
    "filename = f'pattern_bright_circle_r={radius}_offset={row_offset}x{col_offset}.bmp'\n",
    "\n",
    "dmd.setTemplate(color=0)\n",
    "dmd.drawPattern(painter.drawCircle(row_offset, col_offset, radius), color=1).save(save_dir + filename)"
   ]
  },
  {
   "cell_type": "markdown",
   "metadata": {},
   "source": [
    "#### Generate dark circle patterns on a bright background"
   ]
  },
  {
   "cell_type": "code",
   "execution_count": 4,
   "metadata": {},
   "outputs": [],
   "source": [
    "radius = 50\n",
    "row_offset = 0\n",
    "col_offset = 0\n",
    "\n",
    "filename = f'pattern_dark_circle_r={radius}_offset={row_offset}x{col_offset}.bmp'\n",
    "\n",
    "dmd.setTemplate(color=1)\n",
    "dmd.drawPattern(painter.drawCircle(row_offset, col_offset, radius), color=0).save(save_dir + filename)"
   ]
  },
  {
   "cell_type": "markdown",
   "metadata": {},
   "source": [
    "#### Generate bright arrays of circles on a dark background"
   ]
  },
  {
   "cell_type": "code",
   "execution_count": 9,
   "metadata": {},
   "outputs": [],
   "source": [
    "radius = 0.5\n",
    "nx = 5\n",
    "ny = 5\n",
    "row_spacing = 50\n",
    "col_spacing = 50\n",
    "row_offset = 0\n",
    "col_offset = 0\n",
    "\n",
    "filename = f'pattern_bright_arrayOfCircle_r={radius}_spacing={row_spacing}x{col_spacing}_x={row_offset}_y={col_offset}.bmp'\n",
    "\n",
    "dmd.setTemplate(color=0)\n",
    "dmd.drawPattern(painter.drawArrayOfCircle(row_spacing=row_spacing, \n",
    "                                          col_spacing=col_spacing, \n",
    "                                          row_offset=row_offset, \n",
    "                                          col_offset=col_offset,\n",
    "                                          nx=nx,\n",
    "                                          ny=ny,\n",
    "                                          radius=radius,), color=1).save(save_dir + filename)"
   ]
  }
 ],
 "metadata": {
  "kernelspec": {
   "display_name": "base",
   "language": "python",
   "name": "python3"
  },
  "language_info": {
   "codemirror_mode": {
    "name": "ipython",
    "version": 3
   },
   "file_extension": ".py",
   "mimetype": "text/x-python",
   "name": "python",
   "nbconvert_exporter": "python",
   "pygments_lexer": "ipython3",
   "version": "3.10.12"
  },
  "orig_nbformat": 4
 },
 "nbformat": 4,
 "nbformat_minor": 2
}
