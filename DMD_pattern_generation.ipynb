{
 "cells": [
  {
   "cell_type": "markdown",
   "metadata": {},
   "source": [
    "### Setup"
   ]
  },
  {
   "cell_type": "code",
   "execution_count": 1,
   "metadata": {},
   "outputs": [],
   "source": [
    "from utils import DMDImage, PatternPainter\n",
    "\n",
    "save_dir = 'resources/'\n",
    "\n",
    "dmd = DMDImage()\n",
    "painter = PatternPainter(nrows=dmd.real_nrows, ncols=dmd.real_ncols)"
   ]
  },
  {
   "cell_type": "markdown",
   "metadata": {},
   "source": [
    "### Generate and save template image in real space\n",
    "Solid color test pattern"
   ]
  },
  {
   "cell_type": "code",
   "execution_count": 2,
   "metadata": {},
   "outputs": [
    {
     "name": "stdout",
     "output_type": "stream",
     "text": [
      "DMD pattern saved as resources/template/pattern_white_1140x912.bmp\n",
      "Template image saved as resources/template/template_white_1140x912.bmp\n",
      "DMD pattern saved as resources/template/pattern_black_1140x912.bmp\n",
      "Template image saved as resources/template/template_black_1140x912.bmp\n"
     ]
    }
   ],
   "source": [
    "filename = f'white_{dmd.nrows}x{dmd.ncols}.bmp'\n",
    "dmd.setTemplate(color=1)\n",
    "dmd.saveDMDArray(save_dir + 'template/', filename)\n",
    "\n",
    "filename = f'black_{dmd.nrows}x{dmd.ncols}.bmp'\n",
    "dmd.setTemplate(color=0)\n",
    "dmd.saveDMDArray(save_dir + 'template/', filename)"
   ]
  },
  {
   "cell_type": "code",
   "execution_count": 3,
   "metadata": {},
   "outputs": [
    {
     "name": "stdout",
     "output_type": "stream",
     "text": [
      "DMD pattern saved as resources/template/pattern_red_1140x912.bmp\n",
      "Template image saved as resources/template/template_red_1140x912.bmp\n"
     ]
    }
   ],
   "source": [
    "filename = f'red_{dmd.nrows}x{dmd.ncols}.bmp'\n",
    "dmd.setTemplate(color=[255, 0, 0])\n",
    "dmd.saveDMDArray(save_dir + 'template/', filename)"
   ]
  },
  {
   "cell_type": "code",
   "execution_count": 4,
   "metadata": {},
   "outputs": [
    {
     "name": "stdout",
     "output_type": "stream",
     "text": [
      "DMD pattern saved as resources/template/pattern_green_1140x912.bmp\n",
      "Template image saved as resources/template/template_green_1140x912.bmp\n"
     ]
    }
   ],
   "source": [
    "filename = f'green_{dmd.nrows}x{dmd.ncols}.bmp'\n",
    "dmd.setTemplate(color=[0, 255, 0])\n",
    "dmd.saveDMDArray(save_dir + 'template/', filename)"
   ]
  },
  {
   "cell_type": "code",
   "execution_count": 5,
   "metadata": {},
   "outputs": [
    {
     "name": "stdout",
     "output_type": "stream",
     "text": [
      "DMD pattern saved as resources/template/pattern_blue_1140x912.bmp\n",
      "Template image saved as resources/template/template_blue_1140x912.bmp\n"
     ]
    }
   ],
   "source": [
    "filename = f'blue_{dmd.nrows}x{dmd.ncols}.bmp'\n",
    "dmd.setTemplate(color=[0, 0, 255])\n",
    "dmd.saveDMDArray(save_dir + 'template/', filename)"
   ]
  },
  {
   "cell_type": "code",
   "execution_count": 6,
   "metadata": {},
   "outputs": [
    {
     "name": "stdout",
     "output_type": "stream",
     "text": [
      "DMD pattern saved as resources/template/pattern_gray_10101010_1140x912.bmp\n",
      "Template image saved as resources/template/template_gray_10101010_1140x912.bmp\n"
     ]
    }
   ],
   "source": [
    "filename = f'gray_10101010_{dmd.nrows}x{dmd.ncols}.bmp'\n",
    "dmd.setTemplate(color=[0b10101010, 0b10101010, 0b10101010])\n",
    "dmd.saveDMDArray(save_dir + 'template/', filename)"
   ]
  },
  {
   "cell_type": "code",
   "execution_count": 7,
   "metadata": {},
   "outputs": [
    {
     "name": "stdout",
     "output_type": "stream",
     "text": [
      "DMD pattern saved as resources/template/pattern_gray_01010101_1140x912.bmp\n",
      "Template image saved as resources/template/template_gray_01010101_1140x912.bmp\n"
     ]
    }
   ],
   "source": [
    "filename = f'gray_01010101_{dmd.nrows}x{dmd.ncols}.bmp'\n",
    "dmd.setTemplate(color=[0b10101010, 0b10101010, 0b10101010])\n",
    "dmd.saveDMDArray(save_dir + 'template/', filename)"
   ]
  },
  {
   "cell_type": "code",
   "execution_count": 8,
   "metadata": {},
   "outputs": [
    {
     "name": "stdout",
     "output_type": "stream",
     "text": [
      "DMD pattern saved as resources/template/pattern_gray_00110011_1140x912.bmp\n",
      "Template image saved as resources/template/template_gray_00110011_1140x912.bmp\n"
     ]
    }
   ],
   "source": [
    "filename = f'gray_00110011_{dmd.nrows}x{dmd.ncols}.bmp'\n",
    "dmd.setTemplate(color=[0b00110011] * 3)\n",
    "dmd.saveDMDArray(save_dir + 'template/', filename)"
   ]
  },
  {
   "cell_type": "code",
   "execution_count": 9,
   "metadata": {},
   "outputs": [
    {
     "name": "stdout",
     "output_type": "stream",
     "text": [
      "DMD pattern saved as resources/template/pattern_gray_00010001_1140x912.bmp\n",
      "Template image saved as resources/template/template_gray_00010001_1140x912.bmp\n"
     ]
    }
   ],
   "source": [
    "filename = f'gray_00010001_{dmd.nrows}x{dmd.ncols}.bmp'\n",
    "dmd.setTemplate(color=[0b00010001] * 3)\n",
    "dmd.saveDMDArray(save_dir + 'template/', filename)"
   ]
  },
  {
   "cell_type": "markdown",
   "metadata": {},
   "source": [
    "### Generate various patterns"
   ]
  },
  {
   "cell_type": "markdown",
   "metadata": {},
   "source": [
    "#### Generate bright circle patterns on a dark background"
   ]
  },
  {
   "cell_type": "code",
   "execution_count": 10,
   "metadata": {},
   "outputs": [
    {
     "name": "stdout",
     "output_type": "stream",
     "text": [
      "DMD pattern saved as resources/pattern/bright_circle/pattern_bright_circle_r=0.5_offset=0x0.bmp\n",
      "Template image saved as resources/pattern/bright_circle/template_bright_circle_r=0.5_offset=0x0.bmp\n",
      "DMD pattern saved as resources/pattern/bright_circle/pattern_bright_circle_r=2_offset=0x0.bmp\n",
      "Template image saved as resources/pattern/bright_circle/template_bright_circle_r=2_offset=0x0.bmp\n",
      "DMD pattern saved as resources/pattern/bright_circle/pattern_bright_circle_r=5_offset=0x0.bmp\n",
      "Template image saved as resources/pattern/bright_circle/template_bright_circle_r=5_offset=0x0.bmp\n",
      "DMD pattern saved as resources/pattern/bright_circle/pattern_bright_circle_r=10_offset=0x0.bmp\n",
      "Template image saved as resources/pattern/bright_circle/template_bright_circle_r=10_offset=0x0.bmp\n",
      "DMD pattern saved as resources/pattern/bright_circle/pattern_bright_circle_r=20_offset=0x0.bmp\n",
      "Template image saved as resources/pattern/bright_circle/template_bright_circle_r=20_offset=0x0.bmp\n",
      "DMD pattern saved as resources/pattern/bright_circle/pattern_bright_circle_r=50_offset=0x0.bmp\n",
      "Template image saved as resources/pattern/bright_circle/template_bright_circle_r=50_offset=0x0.bmp\n",
      "DMD pattern saved as resources/pattern/bright_circle/pattern_bright_circle_r=100_offset=0x0.bmp\n",
      "Template image saved as resources/pattern/bright_circle/template_bright_circle_r=100_offset=0x0.bmp\n",
      "DMD pattern saved as resources/pattern/bright_circle/pattern_bright_circle_r=200_offset=0x0.bmp\n",
      "Template image saved as resources/pattern/bright_circle/template_bright_circle_r=200_offset=0x0.bmp\n",
      "DMD pattern saved as resources/pattern/bright_circle/pattern_bright_circle_r=400_offset=0x0.bmp\n",
      "Template image saved as resources/pattern/bright_circle/template_bright_circle_r=400_offset=0x0.bmp\n"
     ]
    }
   ],
   "source": [
    "radius = [0.5, 2, 5, 10, 20, 50, 100, 200, 400]\n",
    "row_offset = 0\n",
    "col_offset = 0\n",
    "\n",
    "for r in radius:\n",
    "    filename = f'bright_circle_r={r}_offset={row_offset}x{col_offset}.bmp'\n",
    "\n",
    "    dmd.drawPattern(painter.drawCircle(row_offset, col_offset, r), color=1)\n",
    "    dmd.saveDMDArray(save_dir + 'pattern/bright_circle/', filename)\n",
    "# dmd.getTemplateImage()"
   ]
  },
  {
   "cell_type": "markdown",
   "metadata": {},
   "source": [
    "#### Generate dark circle patterns on a bright background"
   ]
  },
  {
   "cell_type": "code",
   "execution_count": 11,
   "metadata": {},
   "outputs": [
    {
     "name": "stdout",
     "output_type": "stream",
     "text": [
      "DMD pattern saved as resources/pattern/dark_circle/pattern_dark_circle_r=0.5_offset=0x0.bmp\n",
      "Template image saved as resources/pattern/dark_circle/template_dark_circle_r=0.5_offset=0x0.bmp\n",
      "DMD pattern saved as resources/pattern/dark_circle/pattern_dark_circle_r=2_offset=0x0.bmp\n",
      "Template image saved as resources/pattern/dark_circle/template_dark_circle_r=2_offset=0x0.bmp\n",
      "DMD pattern saved as resources/pattern/dark_circle/pattern_dark_circle_r=5_offset=0x0.bmp\n",
      "Template image saved as resources/pattern/dark_circle/template_dark_circle_r=5_offset=0x0.bmp\n",
      "DMD pattern saved as resources/pattern/dark_circle/pattern_dark_circle_r=10_offset=0x0.bmp\n",
      "Template image saved as resources/pattern/dark_circle/template_dark_circle_r=10_offset=0x0.bmp\n",
      "DMD pattern saved as resources/pattern/dark_circle/pattern_dark_circle_r=20_offset=0x0.bmp\n",
      "Template image saved as resources/pattern/dark_circle/template_dark_circle_r=20_offset=0x0.bmp\n",
      "DMD pattern saved as resources/pattern/dark_circle/pattern_dark_circle_r=50_offset=0x0.bmp\n",
      "Template image saved as resources/pattern/dark_circle/template_dark_circle_r=50_offset=0x0.bmp\n",
      "DMD pattern saved as resources/pattern/dark_circle/pattern_dark_circle_r=100_offset=0x0.bmp\n",
      "Template image saved as resources/pattern/dark_circle/template_dark_circle_r=100_offset=0x0.bmp\n",
      "DMD pattern saved as resources/pattern/dark_circle/pattern_dark_circle_r=200_offset=0x0.bmp\n",
      "Template image saved as resources/pattern/dark_circle/template_dark_circle_r=200_offset=0x0.bmp\n",
      "DMD pattern saved as resources/pattern/dark_circle/pattern_dark_circle_r=400_offset=0x0.bmp\n",
      "Template image saved as resources/pattern/dark_circle/template_dark_circle_r=400_offset=0x0.bmp\n"
     ]
    }
   ],
   "source": [
    "radius = [0.5, 2, 5, 10, 20, 50, 100, 200, 400]\n",
    "row_offset = 0\n",
    "col_offset = 0\n",
    "\n",
    "for r in radius:\n",
    "    filename = f'dark_circle_r={r}_offset={row_offset}x{col_offset}.bmp'\n",
    "\n",
    "    dmd.drawPattern(painter.drawCircle(row_offset, col_offset, r), color=0)\n",
    "    dmd.saveDMDArray(save_dir + 'pattern/dark_circle/', filename)\n",
    "# dmd.getTemplateImage()"
   ]
  },
  {
   "cell_type": "markdown",
   "metadata": {},
   "source": [
    "#### Generate bright arrays of circles on a dark background"
   ]
  },
  {
   "cell_type": "code",
   "execution_count": 12,
   "metadata": {},
   "outputs": [
    {
     "name": "stdout",
     "output_type": "stream",
     "text": [
      "DMD pattern saved as resources/pattern/bright_array_7x9_spacing=100/pattern_bright_arrayOfCircle_r=0.5_spacing=100x100_n=range(-3, 4)xrange(-4, 5)_offset=0x0.bmp\n",
      "Template image saved as resources/pattern/bright_array_7x9_spacing=100/template_bright_arrayOfCircle_r=0.5_spacing=100x100_n=range(-3, 4)xrange(-4, 5)_offset=0x0.bmp\n",
      "DMD pattern saved as resources/pattern/bright_array_7x9_spacing=100/pattern_bright_arrayOfCircle_r=1_spacing=100x100_n=range(-3, 4)xrange(-4, 5)_offset=0x0.bmp\n",
      "Template image saved as resources/pattern/bright_array_7x9_spacing=100/template_bright_arrayOfCircle_r=1_spacing=100x100_n=range(-3, 4)xrange(-4, 5)_offset=0x0.bmp\n",
      "DMD pattern saved as resources/pattern/bright_array_7x9_spacing=100/pattern_bright_arrayOfCircle_r=2_spacing=100x100_n=range(-3, 4)xrange(-4, 5)_offset=0x0.bmp\n",
      "Template image saved as resources/pattern/bright_array_7x9_spacing=100/template_bright_arrayOfCircle_r=2_spacing=100x100_n=range(-3, 4)xrange(-4, 5)_offset=0x0.bmp\n",
      "DMD pattern saved as resources/pattern/bright_array_7x9_spacing=100/pattern_bright_arrayOfCircle_r=5_spacing=100x100_n=range(-3, 4)xrange(-4, 5)_offset=0x0.bmp\n",
      "Template image saved as resources/pattern/bright_array_7x9_spacing=100/template_bright_arrayOfCircle_r=5_spacing=100x100_n=range(-3, 4)xrange(-4, 5)_offset=0x0.bmp\n",
      "DMD pattern saved as resources/pattern/bright_array_7x9_spacing=100/pattern_bright_arrayOfCircle_r=10_spacing=100x100_n=range(-3, 4)xrange(-4, 5)_offset=0x0.bmp\n",
      "Template image saved as resources/pattern/bright_array_7x9_spacing=100/template_bright_arrayOfCircle_r=10_spacing=100x100_n=range(-3, 4)xrange(-4, 5)_offset=0x0.bmp\n",
      "DMD pattern saved as resources/pattern/bright_array_7x9_spacing=100/pattern_bright_arrayOfCircle_r=20_spacing=100x100_n=range(-3, 4)xrange(-4, 5)_offset=0x0.bmp\n",
      "Template image saved as resources/pattern/bright_array_7x9_spacing=100/template_bright_arrayOfCircle_r=20_spacing=100x100_n=range(-3, 4)xrange(-4, 5)_offset=0x0.bmp\n"
     ]
    }
   ],
   "source": [
    "radius = [0.5, 1, 2, 5, 10, 20]\n",
    "nx = range(-3, 4)\n",
    "ny = range(-4, 5)\n",
    "row_spacing = col_spacing = 100\n",
    "row_offset = 0\n",
    "col_offset = 0\n",
    "\n",
    "for r in radius:\n",
    "    filename = f'bright_arrayOfCircle_r={r}_spacing={row_spacing}x{col_spacing}_n={nx}x{ny}_offset={row_offset}x{col_offset}.bmp'\n",
    "\n",
    "    dmd.drawPattern(painter.drawArrayOfCircle(row_spacing=row_spacing, \n",
    "                                            col_spacing=col_spacing, \n",
    "                                            row_offset=row_offset, \n",
    "                                            col_offset=col_offset,\n",
    "                                            nx=nx,\n",
    "                                            ny=ny,\n",
    "                                            radius=r,), color=1)\n",
    "    dmd.saveDMDArray(save_dir + f'pattern/bright_array_7x9_spacing={row_spacing}/', filename)\n",
    "# dmd.getTemplateImage()"
   ]
  },
  {
   "cell_type": "markdown",
   "metadata": {},
   "source": [
    "#### Generate dark arrays of circles on a bright background"
   ]
  },
  {
   "cell_type": "code",
   "execution_count": 13,
   "metadata": {},
   "outputs": [
    {
     "name": "stdout",
     "output_type": "stream",
     "text": [
      "DMD pattern saved as resources/pattern/dark_array_7x9_spacing=50/pattern_dark_arrayOfCircle_r=0.5_spacing=50x50_n=4x5_offset=0x0.bmp\n",
      "Template image saved as resources/pattern/dark_array_7x9_spacing=50/template_dark_arrayOfCircle_r=0.5_spacing=50x50_n=4x5_offset=0x0.bmp\n",
      "DMD pattern saved as resources/pattern/dark_array_7x9_spacing=50/pattern_dark_arrayOfCircle_r=1_spacing=50x50_n=4x5_offset=0x0.bmp\n",
      "Template image saved as resources/pattern/dark_array_7x9_spacing=50/template_dark_arrayOfCircle_r=1_spacing=50x50_n=4x5_offset=0x0.bmp\n",
      "DMD pattern saved as resources/pattern/dark_array_7x9_spacing=50/pattern_dark_arrayOfCircle_r=2_spacing=50x50_n=4x5_offset=0x0.bmp\n",
      "Template image saved as resources/pattern/dark_array_7x9_spacing=50/template_dark_arrayOfCircle_r=2_spacing=50x50_n=4x5_offset=0x0.bmp\n",
      "DMD pattern saved as resources/pattern/dark_array_7x9_spacing=50/pattern_dark_arrayOfCircle_r=5_spacing=50x50_n=4x5_offset=0x0.bmp\n",
      "Template image saved as resources/pattern/dark_array_7x9_spacing=50/template_dark_arrayOfCircle_r=5_spacing=50x50_n=4x5_offset=0x0.bmp\n",
      "DMD pattern saved as resources/pattern/dark_array_7x9_spacing=50/pattern_dark_arrayOfCircle_r=10_spacing=50x50_n=4x5_offset=0x0.bmp\n",
      "Template image saved as resources/pattern/dark_array_7x9_spacing=50/template_dark_arrayOfCircle_r=10_spacing=50x50_n=4x5_offset=0x0.bmp\n",
      "DMD pattern saved as resources/pattern/dark_array_7x9_spacing=50/pattern_dark_arrayOfCircle_r=20_spacing=50x50_n=4x5_offset=0x0.bmp\n",
      "Template image saved as resources/pattern/dark_array_7x9_spacing=50/template_dark_arrayOfCircle_r=20_spacing=50x50_n=4x5_offset=0x0.bmp\n"
     ]
    }
   ],
   "source": [
    "radius = [0.5, 1, 2, 5, 10, 20]\n",
    "nx = 4\n",
    "ny = 5\n",
    "row_spacing = col_spacing = 50\n",
    "row_offset = 0\n",
    "col_offset = 0\n",
    "\n",
    "for r in radius:\n",
    "    filename = f'dark_arrayOfCircle_r={r}_spacing={row_spacing}x{col_spacing}_n={nx}x{ny}_offset={row_offset}x{col_offset}.bmp'\n",
    "\n",
    "    dmd.drawPattern(painter.drawArrayOfCircle(row_spacing=row_spacing, \n",
    "                                            col_spacing=col_spacing, \n",
    "                                            row_offset=row_offset, \n",
    "                                            col_offset=col_offset,\n",
    "                                            nx=nx,\n",
    "                                            ny=ny,\n",
    "                                            radius=r,), color=0)\n",
    "    dmd.saveDMDArray(save_dir + f'pattern/dark_array_7x9_spacing={row_spacing}/', filename)\n",
    "# dmd.getTemplateImage()"
   ]
  },
  {
   "cell_type": "markdown",
   "metadata": {},
   "source": [
    "#### Generate cross on a dark background"
   ]
  },
  {
   "cell_type": "code",
   "execution_count": 15,
   "metadata": {},
   "outputs": [
    {
     "ename": "NameError",
     "evalue": "name 'wi' is not defined",
     "output_type": "error",
     "traceback": [
      "\u001b[1;31m---------------------------------------------------------------------------\u001b[0m",
      "\u001b[1;31mNameError\u001b[0m                                 Traceback (most recent call last)",
      "\u001b[1;32mc:\\Users\\qmspc\\Documents\\MATLAB\\DMD-pattern-generator\\DMD_pattern_generation.ipynb Cell 22\u001b[0m line \u001b[0;36m1\n\u001b[0;32m      <a href='vscode-notebook-cell:/c%3A/Users/qmspc/Documents/MATLAB/DMD-pattern-generator/DMD_pattern_generation.ipynb#X30sZmlsZQ%3D%3D?line=5'>6</a>\u001b[0m filename \u001b[39m=\u001b[39m \u001b[39mf\u001b[39m\u001b[39m'\u001b[39m\u001b[39mpattern_bright_cross_offset=\u001b[39m\u001b[39m{\u001b[39;00mrow_offset\u001b[39m}\u001b[39;00m\u001b[39mx\u001b[39m\u001b[39m{\u001b[39;00mcol_offset\u001b[39m}\u001b[39;00m\u001b[39m_linewidth=\u001b[39m\u001b[39m{\u001b[39;00mwidth\u001b[39m}\u001b[39;00m\u001b[39m.bmp\u001b[39m\u001b[39m'\u001b[39m\n\u001b[0;32m      <a href='vscode-notebook-cell:/c%3A/Users/qmspc/Documents/MATLAB/DMD-pattern-generator/DMD_pattern_generation.ipynb#X30sZmlsZQ%3D%3D?line=7'>8</a>\u001b[0m dmd\u001b[39m.\u001b[39msetTemplate(color\u001b[39m=\u001b[39m\u001b[39m0\u001b[39m)\n\u001b[0;32m      <a href='vscode-notebook-cell:/c%3A/Users/qmspc/Documents/MATLAB/DMD-pattern-generator/DMD_pattern_generation.ipynb#X30sZmlsZQ%3D%3D?line=8'>9</a>\u001b[0m dmd\u001b[39m.\u001b[39mdrawPattern(painter\u001b[39m.\u001b[39mdrawCross(row_offset\u001b[39m=\u001b[39mrow_offset,\n\u001b[0;32m     <a href='vscode-notebook-cell:/c%3A/Users/qmspc/Documents/MATLAB/DMD-pattern-generator/DMD_pattern_generation.ipynb#X30sZmlsZQ%3D%3D?line=9'>10</a>\u001b[0m                                 col_offset\u001b[39m=\u001b[39mcol_offset,\n\u001b[1;32m---> <a href='vscode-notebook-cell:/c%3A/Users/qmspc/Documents/MATLAB/DMD-pattern-generator/DMD_pattern_generation.ipynb#X30sZmlsZQ%3D%3D?line=10'>11</a>\u001b[0m                                 line_width\u001b[39m=\u001b[39mwi), color\u001b[39m=\u001b[39m\u001b[39m1\u001b[39m)\n\u001b[0;32m     <a href='vscode-notebook-cell:/c%3A/Users/qmspc/Documents/MATLAB/DMD-pattern-generator/DMD_pattern_generation.ipynb#X30sZmlsZQ%3D%3D?line=11'>12</a>\u001b[0m dmd\u001b[39m.\u001b[39msaveDMDArray(save_dir \u001b[39m+\u001b[39m \u001b[39mf\u001b[39m\u001b[39m'\u001b[39m\u001b[39mpattern/cross_line/\u001b[39m\u001b[39m'\u001b[39m, filename)\n",
      "\u001b[1;31mNameError\u001b[0m: name 'wi' is not defined"
     ]
    }
   ],
   "source": [
    "row_offset = 0\n",
    "col_offset = 0\n",
    "line_width = [1, 2, 5, 10, 20]\n",
    "\n",
    "for width in line_width:\n",
    "    filename = f'pattern_bright_cross_offset={row_offset}x{col_offset}_linewidth={width}.bmp'\n",
    "\n",
    "    dmd.setTemplate(color=0)\n",
    "    dmd.drawPattern(painter.drawCross(row_offset=row_offset,\n",
    "                                      col_offset=col_offset,\n",
    "                                      line_width=width), color=1)\n",
    "    dmd.saveDMDArray(save_dir + f'pattern/cross_line/', filename)\n",
    "\n",
    "# dmd.getTemplateImage()"
   ]
  }
 ],
 "metadata": {
  "kernelspec": {
   "display_name": "base",
   "language": "python",
   "name": "python3"
  },
  "language_info": {
   "codemirror_mode": {
    "name": "ipython",
    "version": 3
   },
   "file_extension": ".py",
   "mimetype": "text/x-python",
   "name": "python",
   "nbconvert_exporter": "python",
   "pygments_lexer": "ipython3",
   "version": "3.10.12"
  },
  "orig_nbformat": 4
 },
 "nbformat": 4,
 "nbformat_minor": 2
}
