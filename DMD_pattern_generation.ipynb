{
 "cells": [
  {
   "cell_type": "markdown",
   "metadata": {},
   "source": [
    "### Setup"
   ]
  },
  {
   "cell_type": "code",
   "execution_count": 1,
   "metadata": {},
   "outputs": [],
   "source": [
    "from utils import DMDImage, PatternPainter\n",
    "\n",
    "save_dir = 'resources/'\n",
    "\n",
    "dmd = DMDImage()\n",
    "painter = PatternPainter(nrows=dmd.real_nrows, ncols=dmd.real_ncols)"
   ]
  },
  {
   "cell_type": "markdown",
   "metadata": {},
   "source": [
    "### Generate and save solid color template image in real space\n",
    "Solid color test pattern"
   ]
  },
  {
   "cell_type": "code",
   "execution_count": 2,
   "metadata": {},
   "outputs": [
    {
     "name": "stdout",
     "output_type": "stream",
     "text": [
      "DMD pattern saved as resources/solid/pattern_white_1140x912.bmp\n",
      "Template image saved as resources/solid/template_white_1140x912.bmp\n",
      "DMD pattern saved as resources/solid/pattern_black_1140x912.bmp\n",
      "Template image saved as resources/solid/template_black_1140x912.bmp\n"
     ]
    }
   ],
   "source": [
    "filename = f'white_{dmd.nrows}x{dmd.ncols}.bmp'\n",
    "dmd.setTemplate(color=1)\n",
    "dmd.saveDMDArray(save_dir + 'solid/', filename)\n",
    "\n",
    "filename = f'black_{dmd.nrows}x{dmd.ncols}.bmp'\n",
    "dmd.setTemplate(color=0)\n",
    "dmd.saveDMDArray(save_dir + 'solid/', filename)"
   ]
  },
  {
   "cell_type": "code",
   "execution_count": 3,
   "metadata": {},
   "outputs": [
    {
     "name": "stdout",
     "output_type": "stream",
     "text": [
      "DMD pattern saved as resources/solid/pattern_red_1140x912.bmp\n",
      "Template image saved as resources/solid/template_red_1140x912.bmp\n"
     ]
    }
   ],
   "source": [
    "filename = f'red_{dmd.nrows}x{dmd.ncols}.bmp'\n",
    "dmd.setTemplate(color=[255, 0, 0])\n",
    "dmd.saveDMDArray(save_dir + 'solid/', filename)"
   ]
  },
  {
   "cell_type": "code",
   "execution_count": 4,
   "metadata": {},
   "outputs": [
    {
     "name": "stdout",
     "output_type": "stream",
     "text": [
      "DMD pattern saved as resources/solid/pattern_green_1140x912.bmp\n",
      "Template image saved as resources/solid/template_green_1140x912.bmp\n"
     ]
    }
   ],
   "source": [
    "filename = f'green_{dmd.nrows}x{dmd.ncols}.bmp'\n",
    "dmd.setTemplate(color=[0, 255, 0])\n",
    "dmd.saveDMDArray(save_dir + 'solid/', filename)"
   ]
  },
  {
   "cell_type": "code",
   "execution_count": 5,
   "metadata": {},
   "outputs": [
    {
     "name": "stdout",
     "output_type": "stream",
     "text": [
      "DMD pattern saved as resources/solid/pattern_blue_1140x912.bmp\n",
      "Template image saved as resources/solid/template_blue_1140x912.bmp\n"
     ]
    }
   ],
   "source": [
    "filename = f'blue_{dmd.nrows}x{dmd.ncols}.bmp'\n",
    "dmd.setTemplate(color=[0, 0, 255])\n",
    "dmd.saveDMDArray(save_dir + 'solid/', filename)"
   ]
  },
  {
   "cell_type": "code",
   "execution_count": 6,
   "metadata": {},
   "outputs": [
    {
     "name": "stdout",
     "output_type": "stream",
     "text": [
      "DMD pattern saved as resources/solid/pattern_gray_10101010_1140x912.bmp\n",
      "Template image saved as resources/solid/template_gray_10101010_1140x912.bmp\n"
     ]
    }
   ],
   "source": [
    "filename = f'gray_10101010_{dmd.nrows}x{dmd.ncols}.bmp'\n",
    "dmd.setTemplate(color=[0b10101010, 0b10101010, 0b10101010])\n",
    "dmd.saveDMDArray(save_dir + 'solid/', filename)"
   ]
  },
  {
   "cell_type": "code",
   "execution_count": 7,
   "metadata": {},
   "outputs": [
    {
     "name": "stdout",
     "output_type": "stream",
     "text": [
      "DMD pattern saved as resources/solid/pattern_gray_01010101_1140x912.bmp\n",
      "Template image saved as resources/solid/template_gray_01010101_1140x912.bmp\n"
     ]
    }
   ],
   "source": [
    "filename = f'gray_01010101_{dmd.nrows}x{dmd.ncols}.bmp'\n",
    "dmd.setTemplate(color=[0b10101010, 0b10101010, 0b10101010])\n",
    "dmd.saveDMDArray(save_dir + 'solid/', filename)"
   ]
  },
  {
   "cell_type": "code",
   "execution_count": 8,
   "metadata": {},
   "outputs": [
    {
     "name": "stdout",
     "output_type": "stream",
     "text": [
      "DMD pattern saved as resources/solid/pattern_gray_00110011_1140x912.bmp\n",
      "Template image saved as resources/solid/template_gray_00110011_1140x912.bmp\n"
     ]
    }
   ],
   "source": [
    "filename = f'gray_00110011_{dmd.nrows}x{dmd.ncols}.bmp'\n",
    "dmd.setTemplate(color=[0b00110011] * 3)\n",
    "dmd.saveDMDArray(save_dir + 'solid/', filename)"
   ]
  },
  {
   "cell_type": "code",
   "execution_count": 9,
   "metadata": {},
   "outputs": [
    {
     "name": "stdout",
     "output_type": "stream",
     "text": [
      "DMD pattern saved as resources/solid/pattern_gray_00010001_1140x912.bmp\n",
      "Template image saved as resources/solid/template_gray_00010001_1140x912.bmp\n"
     ]
    }
   ],
   "source": [
    "filename = f'gray_00010001_{dmd.nrows}x{dmd.ncols}.bmp'\n",
    "dmd.setTemplate(color=[0b00010001] * 3)\n",
    "dmd.saveDMDArray(save_dir + 'solid/', filename)"
   ]
  },
  {
   "cell_type": "markdown",
   "metadata": {},
   "source": [
    "### Generate various patterns"
   ]
  },
  {
   "cell_type": "markdown",
   "metadata": {},
   "source": [
    "#### Generate bright circle patterns on a dark background"
   ]
  },
  {
   "cell_type": "code",
   "execution_count": 10,
   "metadata": {},
   "outputs": [
    {
     "name": "stdout",
     "output_type": "stream",
     "text": [
      "DMD pattern saved as resources/pattern/bright_circle/pattern_bright_circle_r=0.5_offset=0x0.bmp\n",
      "Template image saved as resources/pattern/bright_circle/template_bright_circle_r=0.5_offset=0x0.bmp\n",
      "DMD pattern saved as resources/pattern/bright_circle/pattern_bright_circle_r=2_offset=0x0.bmp\n",
      "Template image saved as resources/pattern/bright_circle/template_bright_circle_r=2_offset=0x0.bmp\n",
      "DMD pattern saved as resources/pattern/bright_circle/pattern_bright_circle_r=5_offset=0x0.bmp\n",
      "Template image saved as resources/pattern/bright_circle/template_bright_circle_r=5_offset=0x0.bmp\n",
      "DMD pattern saved as resources/pattern/bright_circle/pattern_bright_circle_r=10_offset=0x0.bmp\n",
      "Template image saved as resources/pattern/bright_circle/template_bright_circle_r=10_offset=0x0.bmp\n",
      "DMD pattern saved as resources/pattern/bright_circle/pattern_bright_circle_r=20_offset=0x0.bmp\n",
      "Template image saved as resources/pattern/bright_circle/template_bright_circle_r=20_offset=0x0.bmp\n",
      "DMD pattern saved as resources/pattern/bright_circle/pattern_bright_circle_r=50_offset=0x0.bmp\n",
      "Template image saved as resources/pattern/bright_circle/template_bright_circle_r=50_offset=0x0.bmp\n",
      "DMD pattern saved as resources/pattern/bright_circle/pattern_bright_circle_r=100_offset=0x0.bmp\n",
      "Template image saved as resources/pattern/bright_circle/template_bright_circle_r=100_offset=0x0.bmp\n",
      "DMD pattern saved as resources/pattern/bright_circle/pattern_bright_circle_r=200_offset=0x0.bmp\n",
      "Template image saved as resources/pattern/bright_circle/template_bright_circle_r=200_offset=0x0.bmp\n",
      "DMD pattern saved as resources/pattern/bright_circle/pattern_bright_circle_r=400_offset=0x0.bmp\n",
      "Template image saved as resources/pattern/bright_circle/template_bright_circle_r=400_offset=0x0.bmp\n"
     ]
    }
   ],
   "source": [
    "radius = [0.5, 2, 5, 10, 20, 50, 100, 200, 400]\n",
    "\n",
    "for r in radius:\n",
    "    filename = f'bright_circle_r={r}_offset=0x0.bmp'\n",
    "\n",
    "    dmd.drawPattern(painter.drawCircle(radius=r), color=1)\n",
    "    dmd.saveDMDArray(save_dir + 'pattern/bright_circle/', filename)\n",
    "# dmd.getTemplateImage()"
   ]
  },
  {
   "cell_type": "markdown",
   "metadata": {},
   "source": [
    "#### Generate dark circle patterns on a bright background"
   ]
  },
  {
   "cell_type": "code",
   "execution_count": 11,
   "metadata": {},
   "outputs": [
    {
     "name": "stdout",
     "output_type": "stream",
     "text": [
      "DMD pattern saved as resources/pattern/dark_circle/pattern_dark_circle_r=0.5_offset=0x0.bmp\n",
      "Template image saved as resources/pattern/dark_circle/template_dark_circle_r=0.5_offset=0x0.bmp\n",
      "DMD pattern saved as resources/pattern/dark_circle/pattern_dark_circle_r=2_offset=0x0.bmp\n",
      "Template image saved as resources/pattern/dark_circle/template_dark_circle_r=2_offset=0x0.bmp\n",
      "DMD pattern saved as resources/pattern/dark_circle/pattern_dark_circle_r=5_offset=0x0.bmp\n",
      "Template image saved as resources/pattern/dark_circle/template_dark_circle_r=5_offset=0x0.bmp\n",
      "DMD pattern saved as resources/pattern/dark_circle/pattern_dark_circle_r=10_offset=0x0.bmp\n",
      "Template image saved as resources/pattern/dark_circle/template_dark_circle_r=10_offset=0x0.bmp\n",
      "DMD pattern saved as resources/pattern/dark_circle/pattern_dark_circle_r=20_offset=0x0.bmp\n",
      "Template image saved as resources/pattern/dark_circle/template_dark_circle_r=20_offset=0x0.bmp\n",
      "DMD pattern saved as resources/pattern/dark_circle/pattern_dark_circle_r=50_offset=0x0.bmp\n",
      "Template image saved as resources/pattern/dark_circle/template_dark_circle_r=50_offset=0x0.bmp\n",
      "DMD pattern saved as resources/pattern/dark_circle/pattern_dark_circle_r=100_offset=0x0.bmp\n",
      "Template image saved as resources/pattern/dark_circle/template_dark_circle_r=100_offset=0x0.bmp\n",
      "DMD pattern saved as resources/pattern/dark_circle/pattern_dark_circle_r=200_offset=0x0.bmp\n",
      "Template image saved as resources/pattern/dark_circle/template_dark_circle_r=200_offset=0x0.bmp\n",
      "DMD pattern saved as resources/pattern/dark_circle/pattern_dark_circle_r=400_offset=0x0.bmp\n",
      "Template image saved as resources/pattern/dark_circle/template_dark_circle_r=400_offset=0x0.bmp\n"
     ]
    }
   ],
   "source": [
    "radius = [0.5, 2, 5, 10, 20, 50, 100, 200, 400]\n",
    "\n",
    "for r in radius:\n",
    "    filename = f'dark_circle_r={r}_offset=0x0.bmp'\n",
    "\n",
    "    dmd.drawPattern(painter.drawCircle(radius=r), color=0)\n",
    "    dmd.saveDMDArray(save_dir + 'pattern/dark_circle/', filename)\n",
    "# dmd.getTemplateImage()"
   ]
  },
  {
   "cell_type": "markdown",
   "metadata": {},
   "source": [
    "#### Generate gray circle patterns on a dark background"
   ]
  },
  {
   "cell_type": "code",
   "execution_count": 3,
   "metadata": {},
   "outputs": [
    {
     "name": "stdout",
     "output_type": "stream",
     "text": [
      "DMD pattern saved as resources/pattern/gray_circle/pattern_gray_circle_r=0.5.bmp\n",
      "Template image saved as resources/pattern/gray_circle/template_gray_circle_r=0.5.bmp\n",
      "DMD pattern saved as resources/pattern/gray_circle/pattern_gray_circle_r=2.bmp\n",
      "Template image saved as resources/pattern/gray_circle/template_gray_circle_r=2.bmp\n",
      "DMD pattern saved as resources/pattern/gray_circle/pattern_gray_circle_r=5.bmp\n",
      "Template image saved as resources/pattern/gray_circle/template_gray_circle_r=5.bmp\n",
      "DMD pattern saved as resources/pattern/gray_circle/pattern_gray_circle_r=10.bmp\n",
      "Template image saved as resources/pattern/gray_circle/template_gray_circle_r=10.bmp\n",
      "DMD pattern saved as resources/pattern/gray_circle/pattern_gray_circle_r=20.bmp\n",
      "Template image saved as resources/pattern/gray_circle/template_gray_circle_r=20.bmp\n",
      "DMD pattern saved as resources/pattern/gray_circle/pattern_gray_circle_r=50.bmp\n",
      "Template image saved as resources/pattern/gray_circle/template_gray_circle_r=50.bmp\n",
      "DMD pattern saved as resources/pattern/gray_circle/pattern_gray_circle_r=100.bmp\n",
      "Template image saved as resources/pattern/gray_circle/template_gray_circle_r=100.bmp\n",
      "DMD pattern saved as resources/pattern/gray_circle/pattern_gray_circle_r=200.bmp\n",
      "Template image saved as resources/pattern/gray_circle/template_gray_circle_r=200.bmp\n",
      "DMD pattern saved as resources/pattern/gray_circle/pattern_gray_circle_r=400.bmp\n",
      "Template image saved as resources/pattern/gray_circle/template_gray_circle_r=400.bmp\n"
     ]
    }
   ],
   "source": [
    "radius = [0.5, 2, 5, 10, 20, 50, 100, 200, 400]\n",
    "\n",
    "for r in radius:\n",
    "    filename = f'gray_circle_r={r}.bmp'\n",
    "\n",
    "    dmd.drawPattern(painter.drawCircle(radius=r), color=0b10101010, template_color=0)\n",
    "    dmd.saveDMDArray(save_dir + 'pattern/gray_circle/', filename)"
   ]
  },
  {
   "cell_type": "markdown",
   "metadata": {},
   "source": [
    "#### Generate dark circle patterns on a gray background"
   ]
  },
  {
   "cell_type": "code",
   "execution_count": 4,
   "metadata": {},
   "outputs": [
    {
     "name": "stdout",
     "output_type": "stream",
     "text": [
      "DMD pattern saved as resources/pattern/dark_circle_gray/pattern_dark_circle_gray_r=0.5.bmp\n",
      "Template image saved as resources/pattern/dark_circle_gray/template_dark_circle_gray_r=0.5.bmp\n",
      "DMD pattern saved as resources/pattern/dark_circle_gray/pattern_dark_circle_gray_r=2.bmp\n",
      "Template image saved as resources/pattern/dark_circle_gray/template_dark_circle_gray_r=2.bmp\n",
      "DMD pattern saved as resources/pattern/dark_circle_gray/pattern_dark_circle_gray_r=5.bmp\n",
      "Template image saved as resources/pattern/dark_circle_gray/template_dark_circle_gray_r=5.bmp\n",
      "DMD pattern saved as resources/pattern/dark_circle_gray/pattern_dark_circle_gray_r=10.bmp\n",
      "Template image saved as resources/pattern/dark_circle_gray/template_dark_circle_gray_r=10.bmp\n",
      "DMD pattern saved as resources/pattern/dark_circle_gray/pattern_dark_circle_gray_r=20.bmp\n",
      "Template image saved as resources/pattern/dark_circle_gray/template_dark_circle_gray_r=20.bmp\n",
      "DMD pattern saved as resources/pattern/dark_circle_gray/pattern_dark_circle_gray_r=50.bmp\n",
      "Template image saved as resources/pattern/dark_circle_gray/template_dark_circle_gray_r=50.bmp\n",
      "DMD pattern saved as resources/pattern/dark_circle_gray/pattern_dark_circle_gray_r=100.bmp\n",
      "Template image saved as resources/pattern/dark_circle_gray/template_dark_circle_gray_r=100.bmp\n",
      "DMD pattern saved as resources/pattern/dark_circle_gray/pattern_dark_circle_gray_r=200.bmp\n",
      "Template image saved as resources/pattern/dark_circle_gray/template_dark_circle_gray_r=200.bmp\n",
      "DMD pattern saved as resources/pattern/dark_circle_gray/pattern_dark_circle_gray_r=400.bmp\n",
      "Template image saved as resources/pattern/dark_circle_gray/template_dark_circle_gray_r=400.bmp\n"
     ]
    }
   ],
   "source": [
    "radius = [0.5, 2, 5, 10, 20, 50, 100, 200, 400]\n",
    "\n",
    "for r in radius:\n",
    "    filename = f'dark_circle_gray_r={r}.bmp'\n",
    "\n",
    "    dmd.drawPattern(painter.drawCircle(radius=r), color=0, template_color=0b10101010)\n",
    "    dmd.saveDMDArray(save_dir + 'pattern/dark_circle_gray/', filename)"
   ]
  },
  {
   "cell_type": "markdown",
   "metadata": {},
   "source": [
    "#### Generate bright arrays of circles on a dark background"
   ]
  },
  {
   "cell_type": "code",
   "execution_count": 12,
   "metadata": {},
   "outputs": [
    {
     "name": "stdout",
     "output_type": "stream",
     "text": [
      "DMD pattern saved as resources/pattern/bright_array_7x9/spacing=10/pattern_bright_arrayOfCircle_r=0.5_spacing=10_n=range(-3, 4)xrange(-4, 5).bmp\n",
      "Template image saved as resources/pattern/bright_array_7x9/spacing=10/template_bright_arrayOfCircle_r=0.5_spacing=10_n=range(-3, 4)xrange(-4, 5).bmp\n",
      "DMD pattern saved as resources/pattern/bright_array_7x9/spacing=10/pattern_bright_arrayOfCircle_r=1_spacing=10_n=range(-3, 4)xrange(-4, 5).bmp\n",
      "Template image saved as resources/pattern/bright_array_7x9/spacing=10/template_bright_arrayOfCircle_r=1_spacing=10_n=range(-3, 4)xrange(-4, 5).bmp\n",
      "DMD pattern saved as resources/pattern/bright_array_7x9/spacing=10/pattern_bright_arrayOfCircle_r=2_spacing=10_n=range(-3, 4)xrange(-4, 5).bmp\n",
      "Template image saved as resources/pattern/bright_array_7x9/spacing=10/template_bright_arrayOfCircle_r=2_spacing=10_n=range(-3, 4)xrange(-4, 5).bmp\n",
      "DMD pattern saved as resources/pattern/bright_array_7x9/spacing=10/pattern_bright_arrayOfCircle_r=3_spacing=10_n=range(-3, 4)xrange(-4, 5).bmp\n",
      "Template image saved as resources/pattern/bright_array_7x9/spacing=10/template_bright_arrayOfCircle_r=3_spacing=10_n=range(-3, 4)xrange(-4, 5).bmp\n",
      "DMD pattern saved as resources/pattern/bright_array_7x9/spacing=10/pattern_bright_arrayOfCircle_r=4_spacing=10_n=range(-3, 4)xrange(-4, 5).bmp\n",
      "Template image saved as resources/pattern/bright_array_7x9/spacing=10/template_bright_arrayOfCircle_r=4_spacing=10_n=range(-3, 4)xrange(-4, 5).bmp\n",
      "DMD pattern saved as resources/pattern/bright_array_7x9/spacing=10/pattern_bright_arrayOfCircle_r=5_spacing=10_n=range(-3, 4)xrange(-4, 5).bmp\n",
      "Template image saved as resources/pattern/bright_array_7x9/spacing=10/template_bright_arrayOfCircle_r=5_spacing=10_n=range(-3, 4)xrange(-4, 5).bmp\n",
      "DMD pattern saved as resources/pattern/bright_array_7x9/spacing=10/pattern_bright_arrayOfCircle_r=10_spacing=10_n=range(-3, 4)xrange(-4, 5).bmp\n",
      "Template image saved as resources/pattern/bright_array_7x9/spacing=10/template_bright_arrayOfCircle_r=10_spacing=10_n=range(-3, 4)xrange(-4, 5).bmp\n",
      "DMD pattern saved as resources/pattern/bright_array_7x9/spacing=10/pattern_bright_arrayOfCircle_r=20_spacing=10_n=range(-3, 4)xrange(-4, 5).bmp\n",
      "Template image saved as resources/pattern/bright_array_7x9/spacing=10/template_bright_arrayOfCircle_r=20_spacing=10_n=range(-3, 4)xrange(-4, 5).bmp\n",
      "DMD pattern saved as resources/pattern/bright_array_7x9/spacing=20/pattern_bright_arrayOfCircle_r=0.5_spacing=20_n=range(-3, 4)xrange(-4, 5).bmp\n",
      "Template image saved as resources/pattern/bright_array_7x9/spacing=20/template_bright_arrayOfCircle_r=0.5_spacing=20_n=range(-3, 4)xrange(-4, 5).bmp\n",
      "DMD pattern saved as resources/pattern/bright_array_7x9/spacing=20/pattern_bright_arrayOfCircle_r=1_spacing=20_n=range(-3, 4)xrange(-4, 5).bmp\n",
      "Template image saved as resources/pattern/bright_array_7x9/spacing=20/template_bright_arrayOfCircle_r=1_spacing=20_n=range(-3, 4)xrange(-4, 5).bmp\n",
      "DMD pattern saved as resources/pattern/bright_array_7x9/spacing=20/pattern_bright_arrayOfCircle_r=2_spacing=20_n=range(-3, 4)xrange(-4, 5).bmp\n",
      "Template image saved as resources/pattern/bright_array_7x9/spacing=20/template_bright_arrayOfCircle_r=2_spacing=20_n=range(-3, 4)xrange(-4, 5).bmp\n",
      "DMD pattern saved as resources/pattern/bright_array_7x9/spacing=20/pattern_bright_arrayOfCircle_r=3_spacing=20_n=range(-3, 4)xrange(-4, 5).bmp\n",
      "Template image saved as resources/pattern/bright_array_7x9/spacing=20/template_bright_arrayOfCircle_r=3_spacing=20_n=range(-3, 4)xrange(-4, 5).bmp\n",
      "DMD pattern saved as resources/pattern/bright_array_7x9/spacing=20/pattern_bright_arrayOfCircle_r=4_spacing=20_n=range(-3, 4)xrange(-4, 5).bmp\n",
      "Template image saved as resources/pattern/bright_array_7x9/spacing=20/template_bright_arrayOfCircle_r=4_spacing=20_n=range(-3, 4)xrange(-4, 5).bmp\n",
      "DMD pattern saved as resources/pattern/bright_array_7x9/spacing=20/pattern_bright_arrayOfCircle_r=5_spacing=20_n=range(-3, 4)xrange(-4, 5).bmp\n",
      "Template image saved as resources/pattern/bright_array_7x9/spacing=20/template_bright_arrayOfCircle_r=5_spacing=20_n=range(-3, 4)xrange(-4, 5).bmp\n",
      "DMD pattern saved as resources/pattern/bright_array_7x9/spacing=20/pattern_bright_arrayOfCircle_r=10_spacing=20_n=range(-3, 4)xrange(-4, 5).bmp\n",
      "Template image saved as resources/pattern/bright_array_7x9/spacing=20/template_bright_arrayOfCircle_r=10_spacing=20_n=range(-3, 4)xrange(-4, 5).bmp\n",
      "DMD pattern saved as resources/pattern/bright_array_7x9/spacing=20/pattern_bright_arrayOfCircle_r=20_spacing=20_n=range(-3, 4)xrange(-4, 5).bmp\n",
      "Template image saved as resources/pattern/bright_array_7x9/spacing=20/template_bright_arrayOfCircle_r=20_spacing=20_n=range(-3, 4)xrange(-4, 5).bmp\n",
      "DMD pattern saved as resources/pattern/bright_array_7x9/spacing=50/pattern_bright_arrayOfCircle_r=0.5_spacing=50_n=range(-3, 4)xrange(-4, 5).bmp\n",
      "Template image saved as resources/pattern/bright_array_7x9/spacing=50/template_bright_arrayOfCircle_r=0.5_spacing=50_n=range(-3, 4)xrange(-4, 5).bmp\n",
      "DMD pattern saved as resources/pattern/bright_array_7x9/spacing=50/pattern_bright_arrayOfCircle_r=1_spacing=50_n=range(-3, 4)xrange(-4, 5).bmp\n",
      "Template image saved as resources/pattern/bright_array_7x9/spacing=50/template_bright_arrayOfCircle_r=1_spacing=50_n=range(-3, 4)xrange(-4, 5).bmp\n",
      "DMD pattern saved as resources/pattern/bright_array_7x9/spacing=50/pattern_bright_arrayOfCircle_r=2_spacing=50_n=range(-3, 4)xrange(-4, 5).bmp\n",
      "Template image saved as resources/pattern/bright_array_7x9/spacing=50/template_bright_arrayOfCircle_r=2_spacing=50_n=range(-3, 4)xrange(-4, 5).bmp\n",
      "DMD pattern saved as resources/pattern/bright_array_7x9/spacing=50/pattern_bright_arrayOfCircle_r=3_spacing=50_n=range(-3, 4)xrange(-4, 5).bmp\n",
      "Template image saved as resources/pattern/bright_array_7x9/spacing=50/template_bright_arrayOfCircle_r=3_spacing=50_n=range(-3, 4)xrange(-4, 5).bmp\n",
      "DMD pattern saved as resources/pattern/bright_array_7x9/spacing=50/pattern_bright_arrayOfCircle_r=4_spacing=50_n=range(-3, 4)xrange(-4, 5).bmp\n",
      "Template image saved as resources/pattern/bright_array_7x9/spacing=50/template_bright_arrayOfCircle_r=4_spacing=50_n=range(-3, 4)xrange(-4, 5).bmp\n",
      "DMD pattern saved as resources/pattern/bright_array_7x9/spacing=50/pattern_bright_arrayOfCircle_r=5_spacing=50_n=range(-3, 4)xrange(-4, 5).bmp\n",
      "Template image saved as resources/pattern/bright_array_7x9/spacing=50/template_bright_arrayOfCircle_r=5_spacing=50_n=range(-3, 4)xrange(-4, 5).bmp\n",
      "DMD pattern saved as resources/pattern/bright_array_7x9/spacing=50/pattern_bright_arrayOfCircle_r=10_spacing=50_n=range(-3, 4)xrange(-4, 5).bmp\n",
      "Template image saved as resources/pattern/bright_array_7x9/spacing=50/template_bright_arrayOfCircle_r=10_spacing=50_n=range(-3, 4)xrange(-4, 5).bmp\n",
      "DMD pattern saved as resources/pattern/bright_array_7x9/spacing=50/pattern_bright_arrayOfCircle_r=20_spacing=50_n=range(-3, 4)xrange(-4, 5).bmp\n",
      "Template image saved as resources/pattern/bright_array_7x9/spacing=50/template_bright_arrayOfCircle_r=20_spacing=50_n=range(-3, 4)xrange(-4, 5).bmp\n",
      "DMD pattern saved as resources/pattern/bright_array_7x9/spacing=100/pattern_bright_arrayOfCircle_r=0.5_spacing=100_n=range(-3, 4)xrange(-4, 5).bmp\n",
      "Template image saved as resources/pattern/bright_array_7x9/spacing=100/template_bright_arrayOfCircle_r=0.5_spacing=100_n=range(-3, 4)xrange(-4, 5).bmp\n",
      "DMD pattern saved as resources/pattern/bright_array_7x9/spacing=100/pattern_bright_arrayOfCircle_r=1_spacing=100_n=range(-3, 4)xrange(-4, 5).bmp\n",
      "Template image saved as resources/pattern/bright_array_7x9/spacing=100/template_bright_arrayOfCircle_r=1_spacing=100_n=range(-3, 4)xrange(-4, 5).bmp\n",
      "DMD pattern saved as resources/pattern/bright_array_7x9/spacing=100/pattern_bright_arrayOfCircle_r=2_spacing=100_n=range(-3, 4)xrange(-4, 5).bmp\n",
      "Template image saved as resources/pattern/bright_array_7x9/spacing=100/template_bright_arrayOfCircle_r=2_spacing=100_n=range(-3, 4)xrange(-4, 5).bmp\n",
      "DMD pattern saved as resources/pattern/bright_array_7x9/spacing=100/pattern_bright_arrayOfCircle_r=3_spacing=100_n=range(-3, 4)xrange(-4, 5).bmp\n",
      "Template image saved as resources/pattern/bright_array_7x9/spacing=100/template_bright_arrayOfCircle_r=3_spacing=100_n=range(-3, 4)xrange(-4, 5).bmp\n",
      "DMD pattern saved as resources/pattern/bright_array_7x9/spacing=100/pattern_bright_arrayOfCircle_r=4_spacing=100_n=range(-3, 4)xrange(-4, 5).bmp\n",
      "Template image saved as resources/pattern/bright_array_7x9/spacing=100/template_bright_arrayOfCircle_r=4_spacing=100_n=range(-3, 4)xrange(-4, 5).bmp\n",
      "DMD pattern saved as resources/pattern/bright_array_7x9/spacing=100/pattern_bright_arrayOfCircle_r=5_spacing=100_n=range(-3, 4)xrange(-4, 5).bmp\n",
      "Template image saved as resources/pattern/bright_array_7x9/spacing=100/template_bright_arrayOfCircle_r=5_spacing=100_n=range(-3, 4)xrange(-4, 5).bmp\n",
      "DMD pattern saved as resources/pattern/bright_array_7x9/spacing=100/pattern_bright_arrayOfCircle_r=10_spacing=100_n=range(-3, 4)xrange(-4, 5).bmp\n",
      "Template image saved as resources/pattern/bright_array_7x9/spacing=100/template_bright_arrayOfCircle_r=10_spacing=100_n=range(-3, 4)xrange(-4, 5).bmp\n",
      "DMD pattern saved as resources/pattern/bright_array_7x9/spacing=100/pattern_bright_arrayOfCircle_r=20_spacing=100_n=range(-3, 4)xrange(-4, 5).bmp\n",
      "Template image saved as resources/pattern/bright_array_7x9/spacing=100/template_bright_arrayOfCircle_r=20_spacing=100_n=range(-3, 4)xrange(-4, 5).bmp\n"
     ]
    }
   ],
   "source": [
    "radius = [0.5, 1, 2, 3, 4, 5, 10, 20]\n",
    "spacing = [10, 20, 50, 100]\n",
    "nx = range(-3, 4)\n",
    "ny = range(-4, 5)\n",
    "\n",
    "for s in spacing:\n",
    "    for r in radius:\n",
    "        filename = f'bright_arrayOfCircle_r={r}_spacing={s}_n={nx}x{ny}.bmp'\n",
    "\n",
    "        dmd.drawPattern(painter.drawArrayOfCircles(row_spacing=s, \n",
    "                                                   col_spacing=s,\n",
    "                                                   nx=nx,\n",
    "                                                   ny=ny,\n",
    "                                                   radius=r,), color=1)\n",
    "        dmd.saveDMDArray(save_dir + f'pattern/bright_array_7x9/spacing={s}/', filename)\n",
    "# dmd.getTemplateImage()"
   ]
  },
  {
   "cell_type": "code",
   "execution_count": 13,
   "metadata": {},
   "outputs": [
    {
     "name": "stdout",
     "output_type": "stream",
     "text": [
      "DMD pattern saved as resources/pattern/bright_array_full/spacing=10/pattern_bright_arrayOfCircle_r=0.5_spacing=10_n=range(-100, 100)xrange(-100, 100).bmp\n",
      "Template image saved as resources/pattern/bright_array_full/spacing=10/template_bright_arrayOfCircle_r=0.5_spacing=10_n=range(-100, 100)xrange(-100, 100).bmp\n",
      "DMD pattern saved as resources/pattern/bright_array_full/spacing=10/pattern_bright_arrayOfCircle_r=1_spacing=10_n=range(-100, 100)xrange(-100, 100).bmp\n",
      "Template image saved as resources/pattern/bright_array_full/spacing=10/template_bright_arrayOfCircle_r=1_spacing=10_n=range(-100, 100)xrange(-100, 100).bmp\n",
      "DMD pattern saved as resources/pattern/bright_array_full/spacing=10/pattern_bright_arrayOfCircle_r=2_spacing=10_n=range(-100, 100)xrange(-100, 100).bmp\n",
      "Template image saved as resources/pattern/bright_array_full/spacing=10/template_bright_arrayOfCircle_r=2_spacing=10_n=range(-100, 100)xrange(-100, 100).bmp\n",
      "DMD pattern saved as resources/pattern/bright_array_full/spacing=10/pattern_bright_arrayOfCircle_r=3_spacing=10_n=range(-100, 100)xrange(-100, 100).bmp\n",
      "Template image saved as resources/pattern/bright_array_full/spacing=10/template_bright_arrayOfCircle_r=3_spacing=10_n=range(-100, 100)xrange(-100, 100).bmp\n",
      "DMD pattern saved as resources/pattern/bright_array_full/spacing=10/pattern_bright_arrayOfCircle_r=4_spacing=10_n=range(-100, 100)xrange(-100, 100).bmp\n",
      "Template image saved as resources/pattern/bright_array_full/spacing=10/template_bright_arrayOfCircle_r=4_spacing=10_n=range(-100, 100)xrange(-100, 100).bmp\n",
      "DMD pattern saved as resources/pattern/bright_array_full/spacing=10/pattern_bright_arrayOfCircle_r=5_spacing=10_n=range(-100, 100)xrange(-100, 100).bmp\n",
      "Template image saved as resources/pattern/bright_array_full/spacing=10/template_bright_arrayOfCircle_r=5_spacing=10_n=range(-100, 100)xrange(-100, 100).bmp\n",
      "DMD pattern saved as resources/pattern/bright_array_full/spacing=20/pattern_bright_arrayOfCircle_r=0.5_spacing=20_n=range(-100, 100)xrange(-100, 100).bmp\n",
      "Template image saved as resources/pattern/bright_array_full/spacing=20/template_bright_arrayOfCircle_r=0.5_spacing=20_n=range(-100, 100)xrange(-100, 100).bmp\n",
      "DMD pattern saved as resources/pattern/bright_array_full/spacing=20/pattern_bright_arrayOfCircle_r=1_spacing=20_n=range(-100, 100)xrange(-100, 100).bmp\n",
      "Template image saved as resources/pattern/bright_array_full/spacing=20/template_bright_arrayOfCircle_r=1_spacing=20_n=range(-100, 100)xrange(-100, 100).bmp\n",
      "DMD pattern saved as resources/pattern/bright_array_full/spacing=20/pattern_bright_arrayOfCircle_r=2_spacing=20_n=range(-100, 100)xrange(-100, 100).bmp\n",
      "Template image saved as resources/pattern/bright_array_full/spacing=20/template_bright_arrayOfCircle_r=2_spacing=20_n=range(-100, 100)xrange(-100, 100).bmp\n",
      "DMD pattern saved as resources/pattern/bright_array_full/spacing=20/pattern_bright_arrayOfCircle_r=3_spacing=20_n=range(-100, 100)xrange(-100, 100).bmp\n",
      "Template image saved as resources/pattern/bright_array_full/spacing=20/template_bright_arrayOfCircle_r=3_spacing=20_n=range(-100, 100)xrange(-100, 100).bmp\n",
      "DMD pattern saved as resources/pattern/bright_array_full/spacing=20/pattern_bright_arrayOfCircle_r=4_spacing=20_n=range(-100, 100)xrange(-100, 100).bmp\n",
      "Template image saved as resources/pattern/bright_array_full/spacing=20/template_bright_arrayOfCircle_r=4_spacing=20_n=range(-100, 100)xrange(-100, 100).bmp\n",
      "DMD pattern saved as resources/pattern/bright_array_full/spacing=20/pattern_bright_arrayOfCircle_r=5_spacing=20_n=range(-100, 100)xrange(-100, 100).bmp\n",
      "Template image saved as resources/pattern/bright_array_full/spacing=20/template_bright_arrayOfCircle_r=5_spacing=20_n=range(-100, 100)xrange(-100, 100).bmp\n",
      "DMD pattern saved as resources/pattern/bright_array_full/spacing=20/pattern_bright_arrayOfCircle_r=10_spacing=20_n=range(-100, 100)xrange(-100, 100).bmp\n",
      "Template image saved as resources/pattern/bright_array_full/spacing=20/template_bright_arrayOfCircle_r=10_spacing=20_n=range(-100, 100)xrange(-100, 100).bmp\n",
      "DMD pattern saved as resources/pattern/bright_array_full/spacing=50/pattern_bright_arrayOfCircle_r=0.5_spacing=50_n=range(-100, 100)xrange(-100, 100).bmp\n",
      "Template image saved as resources/pattern/bright_array_full/spacing=50/template_bright_arrayOfCircle_r=0.5_spacing=50_n=range(-100, 100)xrange(-100, 100).bmp\n",
      "DMD pattern saved as resources/pattern/bright_array_full/spacing=50/pattern_bright_arrayOfCircle_r=1_spacing=50_n=range(-100, 100)xrange(-100, 100).bmp\n",
      "Template image saved as resources/pattern/bright_array_full/spacing=50/template_bright_arrayOfCircle_r=1_spacing=50_n=range(-100, 100)xrange(-100, 100).bmp\n",
      "DMD pattern saved as resources/pattern/bright_array_full/spacing=50/pattern_bright_arrayOfCircle_r=2_spacing=50_n=range(-100, 100)xrange(-100, 100).bmp\n",
      "Template image saved as resources/pattern/bright_array_full/spacing=50/template_bright_arrayOfCircle_r=2_spacing=50_n=range(-100, 100)xrange(-100, 100).bmp\n",
      "DMD pattern saved as resources/pattern/bright_array_full/spacing=50/pattern_bright_arrayOfCircle_r=3_spacing=50_n=range(-100, 100)xrange(-100, 100).bmp\n",
      "Template image saved as resources/pattern/bright_array_full/spacing=50/template_bright_arrayOfCircle_r=3_spacing=50_n=range(-100, 100)xrange(-100, 100).bmp\n",
      "DMD pattern saved as resources/pattern/bright_array_full/spacing=50/pattern_bright_arrayOfCircle_r=4_spacing=50_n=range(-100, 100)xrange(-100, 100).bmp\n",
      "Template image saved as resources/pattern/bright_array_full/spacing=50/template_bright_arrayOfCircle_r=4_spacing=50_n=range(-100, 100)xrange(-100, 100).bmp\n",
      "DMD pattern saved as resources/pattern/bright_array_full/spacing=50/pattern_bright_arrayOfCircle_r=5_spacing=50_n=range(-100, 100)xrange(-100, 100).bmp\n",
      "Template image saved as resources/pattern/bright_array_full/spacing=50/template_bright_arrayOfCircle_r=5_spacing=50_n=range(-100, 100)xrange(-100, 100).bmp\n",
      "DMD pattern saved as resources/pattern/bright_array_full/spacing=50/pattern_bright_arrayOfCircle_r=10_spacing=50_n=range(-100, 100)xrange(-100, 100).bmp\n",
      "Template image saved as resources/pattern/bright_array_full/spacing=50/template_bright_arrayOfCircle_r=10_spacing=50_n=range(-100, 100)xrange(-100, 100).bmp\n",
      "DMD pattern saved as resources/pattern/bright_array_full/spacing=50/pattern_bright_arrayOfCircle_r=20_spacing=50_n=range(-100, 100)xrange(-100, 100).bmp\n",
      "Template image saved as resources/pattern/bright_array_full/spacing=50/template_bright_arrayOfCircle_r=20_spacing=50_n=range(-100, 100)xrange(-100, 100).bmp\n",
      "DMD pattern saved as resources/pattern/bright_array_full/spacing=100/pattern_bright_arrayOfCircle_r=0.5_spacing=100_n=range(-100, 100)xrange(-100, 100).bmp\n",
      "Template image saved as resources/pattern/bright_array_full/spacing=100/template_bright_arrayOfCircle_r=0.5_spacing=100_n=range(-100, 100)xrange(-100, 100).bmp\n",
      "DMD pattern saved as resources/pattern/bright_array_full/spacing=100/pattern_bright_arrayOfCircle_r=1_spacing=100_n=range(-100, 100)xrange(-100, 100).bmp\n",
      "Template image saved as resources/pattern/bright_array_full/spacing=100/template_bright_arrayOfCircle_r=1_spacing=100_n=range(-100, 100)xrange(-100, 100).bmp\n",
      "DMD pattern saved as resources/pattern/bright_array_full/spacing=100/pattern_bright_arrayOfCircle_r=2_spacing=100_n=range(-100, 100)xrange(-100, 100).bmp\n",
      "Template image saved as resources/pattern/bright_array_full/spacing=100/template_bright_arrayOfCircle_r=2_spacing=100_n=range(-100, 100)xrange(-100, 100).bmp\n",
      "DMD pattern saved as resources/pattern/bright_array_full/spacing=100/pattern_bright_arrayOfCircle_r=3_spacing=100_n=range(-100, 100)xrange(-100, 100).bmp\n",
      "Template image saved as resources/pattern/bright_array_full/spacing=100/template_bright_arrayOfCircle_r=3_spacing=100_n=range(-100, 100)xrange(-100, 100).bmp\n",
      "DMD pattern saved as resources/pattern/bright_array_full/spacing=100/pattern_bright_arrayOfCircle_r=4_spacing=100_n=range(-100, 100)xrange(-100, 100).bmp\n",
      "Template image saved as resources/pattern/bright_array_full/spacing=100/template_bright_arrayOfCircle_r=4_spacing=100_n=range(-100, 100)xrange(-100, 100).bmp\n",
      "DMD pattern saved as resources/pattern/bright_array_full/spacing=100/pattern_bright_arrayOfCircle_r=5_spacing=100_n=range(-100, 100)xrange(-100, 100).bmp\n",
      "Template image saved as resources/pattern/bright_array_full/spacing=100/template_bright_arrayOfCircle_r=5_spacing=100_n=range(-100, 100)xrange(-100, 100).bmp\n",
      "DMD pattern saved as resources/pattern/bright_array_full/spacing=100/pattern_bright_arrayOfCircle_r=10_spacing=100_n=range(-100, 100)xrange(-100, 100).bmp\n",
      "Template image saved as resources/pattern/bright_array_full/spacing=100/template_bright_arrayOfCircle_r=10_spacing=100_n=range(-100, 100)xrange(-100, 100).bmp\n",
      "DMD pattern saved as resources/pattern/bright_array_full/spacing=100/pattern_bright_arrayOfCircle_r=20_spacing=100_n=range(-100, 100)xrange(-100, 100).bmp\n",
      "Template image saved as resources/pattern/bright_array_full/spacing=100/template_bright_arrayOfCircle_r=20_spacing=100_n=range(-100, 100)xrange(-100, 100).bmp\n"
     ]
    }
   ],
   "source": [
    "radius = [0.5, 1, 2, 3, 4, 5, 10, 20]\n",
    "spacing = [10, 20, 50, 100]\n",
    "nx = range(-100, 100)\n",
    "ny = range(-100, 100)\n",
    "\n",
    "for s in spacing:\n",
    "    for r in radius:\n",
    "        if 2 * r <= s:\n",
    "            filename = f'bright_arrayOfCircle_r={r}_spacing={s}_n={nx}x{ny}.bmp'\n",
    "\n",
    "            dmd.drawPattern(painter.drawArrayOfCircles(row_spacing=s, \n",
    "                                                       col_spacing=s, \n",
    "                                                       nx=nx,\n",
    "                                                       ny=ny,\n",
    "                                                       radius=r,), color=1)\n",
    "            dmd.saveDMDArray(save_dir + f'pattern/bright_array_full/spacing={s}/', filename)\n",
    "    # dmd.getTemplateImage()"
   ]
  },
  {
   "cell_type": "markdown",
   "metadata": {},
   "source": [
    "#### Generate dark arrays of circles on a bright background"
   ]
  },
  {
   "cell_type": "code",
   "execution_count": 14,
   "metadata": {},
   "outputs": [
    {
     "name": "stdout",
     "output_type": "stream",
     "text": [
      "DMD pattern saved as resources/pattern/dark_array_7x9/spacing=10/pattern_dark_arrayOfCircle_r=0.5_spacing=10_n=range(-3, 4)xrange(-4, 5).bmp\n",
      "Template image saved as resources/pattern/dark_array_7x9/spacing=10/template_dark_arrayOfCircle_r=0.5_spacing=10_n=range(-3, 4)xrange(-4, 5).bmp\n",
      "DMD pattern saved as resources/pattern/dark_array_7x9/spacing=10/pattern_dark_arrayOfCircle_r=1_spacing=10_n=range(-3, 4)xrange(-4, 5).bmp\n",
      "Template image saved as resources/pattern/dark_array_7x9/spacing=10/template_dark_arrayOfCircle_r=1_spacing=10_n=range(-3, 4)xrange(-4, 5).bmp\n",
      "DMD pattern saved as resources/pattern/dark_array_7x9/spacing=10/pattern_dark_arrayOfCircle_r=2_spacing=10_n=range(-3, 4)xrange(-4, 5).bmp\n",
      "Template image saved as resources/pattern/dark_array_7x9/spacing=10/template_dark_arrayOfCircle_r=2_spacing=10_n=range(-3, 4)xrange(-4, 5).bmp\n",
      "DMD pattern saved as resources/pattern/dark_array_7x9/spacing=10/pattern_dark_arrayOfCircle_r=5_spacing=10_n=range(-3, 4)xrange(-4, 5).bmp\n",
      "Template image saved as resources/pattern/dark_array_7x9/spacing=10/template_dark_arrayOfCircle_r=5_spacing=10_n=range(-3, 4)xrange(-4, 5).bmp\n",
      "DMD pattern saved as resources/pattern/dark_array_7x9/spacing=10/pattern_dark_arrayOfCircle_r=10_spacing=10_n=range(-3, 4)xrange(-4, 5).bmp\n",
      "Template image saved as resources/pattern/dark_array_7x9/spacing=10/template_dark_arrayOfCircle_r=10_spacing=10_n=range(-3, 4)xrange(-4, 5).bmp\n",
      "DMD pattern saved as resources/pattern/dark_array_7x9/spacing=10/pattern_dark_arrayOfCircle_r=20_spacing=10_n=range(-3, 4)xrange(-4, 5).bmp\n",
      "Template image saved as resources/pattern/dark_array_7x9/spacing=10/template_dark_arrayOfCircle_r=20_spacing=10_n=range(-3, 4)xrange(-4, 5).bmp\n",
      "DMD pattern saved as resources/pattern/dark_array_7x9/spacing=20/pattern_dark_arrayOfCircle_r=0.5_spacing=20_n=range(-3, 4)xrange(-4, 5).bmp\n",
      "Template image saved as resources/pattern/dark_array_7x9/spacing=20/template_dark_arrayOfCircle_r=0.5_spacing=20_n=range(-3, 4)xrange(-4, 5).bmp\n",
      "DMD pattern saved as resources/pattern/dark_array_7x9/spacing=20/pattern_dark_arrayOfCircle_r=1_spacing=20_n=range(-3, 4)xrange(-4, 5).bmp\n",
      "Template image saved as resources/pattern/dark_array_7x9/spacing=20/template_dark_arrayOfCircle_r=1_spacing=20_n=range(-3, 4)xrange(-4, 5).bmp\n",
      "DMD pattern saved as resources/pattern/dark_array_7x9/spacing=20/pattern_dark_arrayOfCircle_r=2_spacing=20_n=range(-3, 4)xrange(-4, 5).bmp\n",
      "Template image saved as resources/pattern/dark_array_7x9/spacing=20/template_dark_arrayOfCircle_r=2_spacing=20_n=range(-3, 4)xrange(-4, 5).bmp\n",
      "DMD pattern saved as resources/pattern/dark_array_7x9/spacing=20/pattern_dark_arrayOfCircle_r=5_spacing=20_n=range(-3, 4)xrange(-4, 5).bmp\n",
      "Template image saved as resources/pattern/dark_array_7x9/spacing=20/template_dark_arrayOfCircle_r=5_spacing=20_n=range(-3, 4)xrange(-4, 5).bmp\n",
      "DMD pattern saved as resources/pattern/dark_array_7x9/spacing=20/pattern_dark_arrayOfCircle_r=10_spacing=20_n=range(-3, 4)xrange(-4, 5).bmp\n",
      "Template image saved as resources/pattern/dark_array_7x9/spacing=20/template_dark_arrayOfCircle_r=10_spacing=20_n=range(-3, 4)xrange(-4, 5).bmp\n",
      "DMD pattern saved as resources/pattern/dark_array_7x9/spacing=20/pattern_dark_arrayOfCircle_r=20_spacing=20_n=range(-3, 4)xrange(-4, 5).bmp\n",
      "Template image saved as resources/pattern/dark_array_7x9/spacing=20/template_dark_arrayOfCircle_r=20_spacing=20_n=range(-3, 4)xrange(-4, 5).bmp\n",
      "DMD pattern saved as resources/pattern/dark_array_7x9/spacing=50/pattern_dark_arrayOfCircle_r=0.5_spacing=50_n=range(-3, 4)xrange(-4, 5).bmp\n",
      "Template image saved as resources/pattern/dark_array_7x9/spacing=50/template_dark_arrayOfCircle_r=0.5_spacing=50_n=range(-3, 4)xrange(-4, 5).bmp\n",
      "DMD pattern saved as resources/pattern/dark_array_7x9/spacing=50/pattern_dark_arrayOfCircle_r=1_spacing=50_n=range(-3, 4)xrange(-4, 5).bmp\n",
      "Template image saved as resources/pattern/dark_array_7x9/spacing=50/template_dark_arrayOfCircle_r=1_spacing=50_n=range(-3, 4)xrange(-4, 5).bmp\n",
      "DMD pattern saved as resources/pattern/dark_array_7x9/spacing=50/pattern_dark_arrayOfCircle_r=2_spacing=50_n=range(-3, 4)xrange(-4, 5).bmp\n",
      "Template image saved as resources/pattern/dark_array_7x9/spacing=50/template_dark_arrayOfCircle_r=2_spacing=50_n=range(-3, 4)xrange(-4, 5).bmp\n",
      "DMD pattern saved as resources/pattern/dark_array_7x9/spacing=50/pattern_dark_arrayOfCircle_r=5_spacing=50_n=range(-3, 4)xrange(-4, 5).bmp\n",
      "Template image saved as resources/pattern/dark_array_7x9/spacing=50/template_dark_arrayOfCircle_r=5_spacing=50_n=range(-3, 4)xrange(-4, 5).bmp\n",
      "DMD pattern saved as resources/pattern/dark_array_7x9/spacing=50/pattern_dark_arrayOfCircle_r=10_spacing=50_n=range(-3, 4)xrange(-4, 5).bmp\n",
      "Template image saved as resources/pattern/dark_array_7x9/spacing=50/template_dark_arrayOfCircle_r=10_spacing=50_n=range(-3, 4)xrange(-4, 5).bmp\n",
      "DMD pattern saved as resources/pattern/dark_array_7x9/spacing=50/pattern_dark_arrayOfCircle_r=20_spacing=50_n=range(-3, 4)xrange(-4, 5).bmp\n",
      "Template image saved as resources/pattern/dark_array_7x9/spacing=50/template_dark_arrayOfCircle_r=20_spacing=50_n=range(-3, 4)xrange(-4, 5).bmp\n",
      "DMD pattern saved as resources/pattern/dark_array_7x9/spacing=100/pattern_dark_arrayOfCircle_r=0.5_spacing=100_n=range(-3, 4)xrange(-4, 5).bmp\n",
      "Template image saved as resources/pattern/dark_array_7x9/spacing=100/template_dark_arrayOfCircle_r=0.5_spacing=100_n=range(-3, 4)xrange(-4, 5).bmp\n",
      "DMD pattern saved as resources/pattern/dark_array_7x9/spacing=100/pattern_dark_arrayOfCircle_r=1_spacing=100_n=range(-3, 4)xrange(-4, 5).bmp\n",
      "Template image saved as resources/pattern/dark_array_7x9/spacing=100/template_dark_arrayOfCircle_r=1_spacing=100_n=range(-3, 4)xrange(-4, 5).bmp\n",
      "DMD pattern saved as resources/pattern/dark_array_7x9/spacing=100/pattern_dark_arrayOfCircle_r=2_spacing=100_n=range(-3, 4)xrange(-4, 5).bmp\n",
      "Template image saved as resources/pattern/dark_array_7x9/spacing=100/template_dark_arrayOfCircle_r=2_spacing=100_n=range(-3, 4)xrange(-4, 5).bmp\n",
      "DMD pattern saved as resources/pattern/dark_array_7x9/spacing=100/pattern_dark_arrayOfCircle_r=5_spacing=100_n=range(-3, 4)xrange(-4, 5).bmp\n",
      "Template image saved as resources/pattern/dark_array_7x9/spacing=100/template_dark_arrayOfCircle_r=5_spacing=100_n=range(-3, 4)xrange(-4, 5).bmp\n",
      "DMD pattern saved as resources/pattern/dark_array_7x9/spacing=100/pattern_dark_arrayOfCircle_r=10_spacing=100_n=range(-3, 4)xrange(-4, 5).bmp\n",
      "Template image saved as resources/pattern/dark_array_7x9/spacing=100/template_dark_arrayOfCircle_r=10_spacing=100_n=range(-3, 4)xrange(-4, 5).bmp\n",
      "DMD pattern saved as resources/pattern/dark_array_7x9/spacing=100/pattern_dark_arrayOfCircle_r=20_spacing=100_n=range(-3, 4)xrange(-4, 5).bmp\n",
      "Template image saved as resources/pattern/dark_array_7x9/spacing=100/template_dark_arrayOfCircle_r=20_spacing=100_n=range(-3, 4)xrange(-4, 5).bmp\n"
     ]
    }
   ],
   "source": [
    "radius = [0.5, 1, 2, 5, 10, 20]\n",
    "spacing = [10, 20, 50, 100]\n",
    "nx = range(-3, 4)\n",
    "ny = range(-4, 5)\n",
    "\n",
    "for s in spacing:\n",
    "    for r in radius:\n",
    "        filename = f'dark_arrayOfCircle_r={r}_spacing={s}_n={nx}x{ny}.bmp'\n",
    "\n",
    "        dmd.drawPattern(painter.drawArrayOfCircles(row_spacing=s, \n",
    "                                                   col_spacing=s,\n",
    "                                                   nx=nx,\n",
    "                                                   ny=ny,\n",
    "                                                   radius=r,), color=0)\n",
    "        dmd.saveDMDArray(save_dir + f'pattern/dark_array_7x9/spacing={s}/', filename)\n",
    "    # dmd.getTemplateImage()"
   ]
  },
  {
   "cell_type": "code",
   "execution_count": 16,
   "metadata": {},
   "outputs": [
    {
     "name": "stdout",
     "output_type": "stream",
     "text": [
      "DMD pattern saved as resources/pattern/dark_array_full/spacing=10/pattern_dark_arrayOfCircle_r=0.5_spacing=10_n=range(-100, 100)xrange(-100, 100).bmp\n",
      "Template image saved as resources/pattern/dark_array_full/spacing=10/template_dark_arrayOfCircle_r=0.5_spacing=10_n=range(-100, 100)xrange(-100, 100).bmp\n",
      "DMD pattern saved as resources/pattern/dark_array_full/spacing=10/pattern_dark_arrayOfCircle_r=1_spacing=10_n=range(-100, 100)xrange(-100, 100).bmp\n",
      "Template image saved as resources/pattern/dark_array_full/spacing=10/template_dark_arrayOfCircle_r=1_spacing=10_n=range(-100, 100)xrange(-100, 100).bmp\n",
      "DMD pattern saved as resources/pattern/dark_array_full/spacing=10/pattern_dark_arrayOfCircle_r=2_spacing=10_n=range(-100, 100)xrange(-100, 100).bmp\n",
      "Template image saved as resources/pattern/dark_array_full/spacing=10/template_dark_arrayOfCircle_r=2_spacing=10_n=range(-100, 100)xrange(-100, 100).bmp\n",
      "DMD pattern saved as resources/pattern/dark_array_full/spacing=10/pattern_dark_arrayOfCircle_r=3_spacing=10_n=range(-100, 100)xrange(-100, 100).bmp\n",
      "Template image saved as resources/pattern/dark_array_full/spacing=10/template_dark_arrayOfCircle_r=3_spacing=10_n=range(-100, 100)xrange(-100, 100).bmp\n",
      "DMD pattern saved as resources/pattern/dark_array_full/spacing=10/pattern_dark_arrayOfCircle_r=4_spacing=10_n=range(-100, 100)xrange(-100, 100).bmp\n",
      "Template image saved as resources/pattern/dark_array_full/spacing=10/template_dark_arrayOfCircle_r=4_spacing=10_n=range(-100, 100)xrange(-100, 100).bmp\n",
      "DMD pattern saved as resources/pattern/dark_array_full/spacing=10/pattern_dark_arrayOfCircle_r=5_spacing=10_n=range(-100, 100)xrange(-100, 100).bmp\n",
      "Template image saved as resources/pattern/dark_array_full/spacing=10/template_dark_arrayOfCircle_r=5_spacing=10_n=range(-100, 100)xrange(-100, 100).bmp\n",
      "DMD pattern saved as resources/pattern/dark_array_full/spacing=20/pattern_dark_arrayOfCircle_r=0.5_spacing=20_n=range(-100, 100)xrange(-100, 100).bmp\n",
      "Template image saved as resources/pattern/dark_array_full/spacing=20/template_dark_arrayOfCircle_r=0.5_spacing=20_n=range(-100, 100)xrange(-100, 100).bmp\n",
      "DMD pattern saved as resources/pattern/dark_array_full/spacing=20/pattern_dark_arrayOfCircle_r=1_spacing=20_n=range(-100, 100)xrange(-100, 100).bmp\n",
      "Template image saved as resources/pattern/dark_array_full/spacing=20/template_dark_arrayOfCircle_r=1_spacing=20_n=range(-100, 100)xrange(-100, 100).bmp\n",
      "DMD pattern saved as resources/pattern/dark_array_full/spacing=20/pattern_dark_arrayOfCircle_r=2_spacing=20_n=range(-100, 100)xrange(-100, 100).bmp\n",
      "Template image saved as resources/pattern/dark_array_full/spacing=20/template_dark_arrayOfCircle_r=2_spacing=20_n=range(-100, 100)xrange(-100, 100).bmp\n",
      "DMD pattern saved as resources/pattern/dark_array_full/spacing=20/pattern_dark_arrayOfCircle_r=3_spacing=20_n=range(-100, 100)xrange(-100, 100).bmp\n",
      "Template image saved as resources/pattern/dark_array_full/spacing=20/template_dark_arrayOfCircle_r=3_spacing=20_n=range(-100, 100)xrange(-100, 100).bmp\n",
      "DMD pattern saved as resources/pattern/dark_array_full/spacing=20/pattern_dark_arrayOfCircle_r=4_spacing=20_n=range(-100, 100)xrange(-100, 100).bmp\n",
      "Template image saved as resources/pattern/dark_array_full/spacing=20/template_dark_arrayOfCircle_r=4_spacing=20_n=range(-100, 100)xrange(-100, 100).bmp\n",
      "DMD pattern saved as resources/pattern/dark_array_full/spacing=20/pattern_dark_arrayOfCircle_r=5_spacing=20_n=range(-100, 100)xrange(-100, 100).bmp\n",
      "Template image saved as resources/pattern/dark_array_full/spacing=20/template_dark_arrayOfCircle_r=5_spacing=20_n=range(-100, 100)xrange(-100, 100).bmp\n",
      "DMD pattern saved as resources/pattern/dark_array_full/spacing=20/pattern_dark_arrayOfCircle_r=10_spacing=20_n=range(-100, 100)xrange(-100, 100).bmp\n",
      "Template image saved as resources/pattern/dark_array_full/spacing=20/template_dark_arrayOfCircle_r=10_spacing=20_n=range(-100, 100)xrange(-100, 100).bmp\n",
      "DMD pattern saved as resources/pattern/dark_array_full/spacing=50/pattern_dark_arrayOfCircle_r=0.5_spacing=50_n=range(-100, 100)xrange(-100, 100).bmp\n",
      "Template image saved as resources/pattern/dark_array_full/spacing=50/template_dark_arrayOfCircle_r=0.5_spacing=50_n=range(-100, 100)xrange(-100, 100).bmp\n",
      "DMD pattern saved as resources/pattern/dark_array_full/spacing=50/pattern_dark_arrayOfCircle_r=1_spacing=50_n=range(-100, 100)xrange(-100, 100).bmp\n",
      "Template image saved as resources/pattern/dark_array_full/spacing=50/template_dark_arrayOfCircle_r=1_spacing=50_n=range(-100, 100)xrange(-100, 100).bmp\n",
      "DMD pattern saved as resources/pattern/dark_array_full/spacing=50/pattern_dark_arrayOfCircle_r=2_spacing=50_n=range(-100, 100)xrange(-100, 100).bmp\n",
      "Template image saved as resources/pattern/dark_array_full/spacing=50/template_dark_arrayOfCircle_r=2_spacing=50_n=range(-100, 100)xrange(-100, 100).bmp\n",
      "DMD pattern saved as resources/pattern/dark_array_full/spacing=50/pattern_dark_arrayOfCircle_r=3_spacing=50_n=range(-100, 100)xrange(-100, 100).bmp\n",
      "Template image saved as resources/pattern/dark_array_full/spacing=50/template_dark_arrayOfCircle_r=3_spacing=50_n=range(-100, 100)xrange(-100, 100).bmp\n",
      "DMD pattern saved as resources/pattern/dark_array_full/spacing=50/pattern_dark_arrayOfCircle_r=4_spacing=50_n=range(-100, 100)xrange(-100, 100).bmp\n",
      "Template image saved as resources/pattern/dark_array_full/spacing=50/template_dark_arrayOfCircle_r=4_spacing=50_n=range(-100, 100)xrange(-100, 100).bmp\n",
      "DMD pattern saved as resources/pattern/dark_array_full/spacing=50/pattern_dark_arrayOfCircle_r=5_spacing=50_n=range(-100, 100)xrange(-100, 100).bmp\n",
      "Template image saved as resources/pattern/dark_array_full/spacing=50/template_dark_arrayOfCircle_r=5_spacing=50_n=range(-100, 100)xrange(-100, 100).bmp\n",
      "DMD pattern saved as resources/pattern/dark_array_full/spacing=50/pattern_dark_arrayOfCircle_r=10_spacing=50_n=range(-100, 100)xrange(-100, 100).bmp\n",
      "Template image saved as resources/pattern/dark_array_full/spacing=50/template_dark_arrayOfCircle_r=10_spacing=50_n=range(-100, 100)xrange(-100, 100).bmp\n",
      "DMD pattern saved as resources/pattern/dark_array_full/spacing=50/pattern_dark_arrayOfCircle_r=20_spacing=50_n=range(-100, 100)xrange(-100, 100).bmp\n",
      "Template image saved as resources/pattern/dark_array_full/spacing=50/template_dark_arrayOfCircle_r=20_spacing=50_n=range(-100, 100)xrange(-100, 100).bmp\n",
      "DMD pattern saved as resources/pattern/dark_array_full/spacing=100/pattern_dark_arrayOfCircle_r=0.5_spacing=100_n=range(-100, 100)xrange(-100, 100).bmp\n",
      "Template image saved as resources/pattern/dark_array_full/spacing=100/template_dark_arrayOfCircle_r=0.5_spacing=100_n=range(-100, 100)xrange(-100, 100).bmp\n",
      "DMD pattern saved as resources/pattern/dark_array_full/spacing=100/pattern_dark_arrayOfCircle_r=1_spacing=100_n=range(-100, 100)xrange(-100, 100).bmp\n",
      "Template image saved as resources/pattern/dark_array_full/spacing=100/template_dark_arrayOfCircle_r=1_spacing=100_n=range(-100, 100)xrange(-100, 100).bmp\n",
      "DMD pattern saved as resources/pattern/dark_array_full/spacing=100/pattern_dark_arrayOfCircle_r=2_spacing=100_n=range(-100, 100)xrange(-100, 100).bmp\n",
      "Template image saved as resources/pattern/dark_array_full/spacing=100/template_dark_arrayOfCircle_r=2_spacing=100_n=range(-100, 100)xrange(-100, 100).bmp\n",
      "DMD pattern saved as resources/pattern/dark_array_full/spacing=100/pattern_dark_arrayOfCircle_r=3_spacing=100_n=range(-100, 100)xrange(-100, 100).bmp\n",
      "Template image saved as resources/pattern/dark_array_full/spacing=100/template_dark_arrayOfCircle_r=3_spacing=100_n=range(-100, 100)xrange(-100, 100).bmp\n",
      "DMD pattern saved as resources/pattern/dark_array_full/spacing=100/pattern_dark_arrayOfCircle_r=4_spacing=100_n=range(-100, 100)xrange(-100, 100).bmp\n",
      "Template image saved as resources/pattern/dark_array_full/spacing=100/template_dark_arrayOfCircle_r=4_spacing=100_n=range(-100, 100)xrange(-100, 100).bmp\n",
      "DMD pattern saved as resources/pattern/dark_array_full/spacing=100/pattern_dark_arrayOfCircle_r=5_spacing=100_n=range(-100, 100)xrange(-100, 100).bmp\n",
      "Template image saved as resources/pattern/dark_array_full/spacing=100/template_dark_arrayOfCircle_r=5_spacing=100_n=range(-100, 100)xrange(-100, 100).bmp\n",
      "DMD pattern saved as resources/pattern/dark_array_full/spacing=100/pattern_dark_arrayOfCircle_r=10_spacing=100_n=range(-100, 100)xrange(-100, 100).bmp\n",
      "Template image saved as resources/pattern/dark_array_full/spacing=100/template_dark_arrayOfCircle_r=10_spacing=100_n=range(-100, 100)xrange(-100, 100).bmp\n",
      "DMD pattern saved as resources/pattern/dark_array_full/spacing=100/pattern_dark_arrayOfCircle_r=20_spacing=100_n=range(-100, 100)xrange(-100, 100).bmp\n",
      "Template image saved as resources/pattern/dark_array_full/spacing=100/template_dark_arrayOfCircle_r=20_spacing=100_n=range(-100, 100)xrange(-100, 100).bmp\n"
     ]
    }
   ],
   "source": [
    "radius = [0.5, 1, 2, 3, 4, 5, 10, 20]\n",
    "spacing = [10, 20, 50, 100]\n",
    "nx = range(-100, 100)\n",
    "ny = range(-100, 100)\n",
    "\n",
    "for s in spacing:\n",
    "    for r in radius:\n",
    "        if 2 * r <= s:\n",
    "            filename = f'dark_arrayOfCircle_r={r}_spacing={s}_n={nx}x{ny}.bmp'\n",
    "\n",
    "            dmd.drawPattern(painter.drawArrayOfCircles(row_spacing=s, \n",
    "                                                       col_spacing=s, \n",
    "                                                       nx=nx,\n",
    "                                                       ny=ny,\n",
    "                                                       radius=r,), color=0)\n",
    "            dmd.saveDMDArray(save_dir + f'pattern/dark_array_full/spacing={s}/', filename)\n",
    "    # dmd.getTemplateImage()"
   ]
  },
  {
   "cell_type": "markdown",
   "metadata": {},
   "source": [
    "#### Generate cross on a dark background"
   ]
  },
  {
   "cell_type": "code",
   "execution_count": 17,
   "metadata": {},
   "outputs": [
    {
     "name": "stdout",
     "output_type": "stream",
     "text": [
      "DMD pattern saved as resources/pattern/bright_cross_line/pattern_pattern_bright_cross_offset=0x0_linewidth=1.bmp\n",
      "Template image saved as resources/pattern/bright_cross_line/template_pattern_bright_cross_offset=0x0_linewidth=1.bmp\n",
      "DMD pattern saved as resources/pattern/bright_cross_line/pattern_pattern_bright_cross_offset=0x0_linewidth=2.bmp\n",
      "Template image saved as resources/pattern/bright_cross_line/template_pattern_bright_cross_offset=0x0_linewidth=2.bmp\n",
      "DMD pattern saved as resources/pattern/bright_cross_line/pattern_pattern_bright_cross_offset=0x0_linewidth=5.bmp\n",
      "Template image saved as resources/pattern/bright_cross_line/template_pattern_bright_cross_offset=0x0_linewidth=5.bmp\n",
      "DMD pattern saved as resources/pattern/bright_cross_line/pattern_pattern_bright_cross_offset=0x0_linewidth=10.bmp\n",
      "Template image saved as resources/pattern/bright_cross_line/template_pattern_bright_cross_offset=0x0_linewidth=10.bmp\n",
      "DMD pattern saved as resources/pattern/bright_cross_line/pattern_pattern_bright_cross_offset=0x0_linewidth=20.bmp\n",
      "Template image saved as resources/pattern/bright_cross_line/template_pattern_bright_cross_offset=0x0_linewidth=20.bmp\n"
     ]
    }
   ],
   "source": [
    "line_width = [1, 2, 5, 10, 20]\n",
    "row_offset = 0\n",
    "col_offset = 0\n",
    "\n",
    "for width in line_width:\n",
    "    filename = f'pattern_bright_cross_offset={row_offset}x{col_offset}_linewidth={width}.bmp'\n",
    "\n",
    "    dmd.drawPattern(painter.drawCross(row_offset=row_offset,\n",
    "                                      col_offset=col_offset,\n",
    "                                      line_width=width), color=1)\n",
    "    dmd.saveDMDArray(save_dir + f'pattern/bright_cross_line/', filename)\n",
    "\n",
    "# dmd.getTemplateImage()"
   ]
  },
  {
   "cell_type": "markdown",
   "metadata": {},
   "source": [
    "#### Generate crosses on a dark background"
   ]
  },
  {
   "cell_type": "code",
   "execution_count": 18,
   "metadata": {},
   "outputs": [
    {
     "name": "stdout",
     "output_type": "stream",
     "text": [
      "DMD pattern saved as resources/pattern/crosses_n=4x5/pattern_pattern_bright_crosses_n=4x5_linewidth=1.bmp\n",
      "Template image saved as resources/pattern/crosses_n=4x5/template_pattern_bright_crosses_n=4x5_linewidth=1.bmp\n",
      "DMD pattern saved as resources/pattern/crosses_n=4x5/pattern_pattern_bright_crosses_n=4x5_linewidth=2.bmp\n",
      "Template image saved as resources/pattern/crosses_n=4x5/template_pattern_bright_crosses_n=4x5_linewidth=2.bmp\n",
      "DMD pattern saved as resources/pattern/crosses_n=4x5/pattern_pattern_bright_crosses_n=4x5_linewidth=5.bmp\n",
      "Template image saved as resources/pattern/crosses_n=4x5/template_pattern_bright_crosses_n=4x5_linewidth=5.bmp\n",
      "DMD pattern saved as resources/pattern/crosses_n=4x5/pattern_pattern_bright_crosses_n=4x5_linewidth=10.bmp\n",
      "Template image saved as resources/pattern/crosses_n=4x5/template_pattern_bright_crosses_n=4x5_linewidth=10.bmp\n",
      "DMD pattern saved as resources/pattern/crosses_n=4x5/pattern_pattern_bright_crosses_n=4x5_linewidth=20.bmp\n",
      "Template image saved as resources/pattern/crosses_n=4x5/template_pattern_bright_crosses_n=4x5_linewidth=20.bmp\n"
     ]
    }
   ],
   "source": [
    "line_width = [1, 2, 5, 10, 20]\n",
    "nx = 4\n",
    "ny = 5\n",
    "\n",
    "for width in line_width:\n",
    "    filename = f'pattern_bright_crosses_n={nx}x{ny}_linewidth={width}.bmp'\n",
    "\n",
    "    dmd.drawPattern(painter.drawCrosses(nx=nx,\n",
    "                                        ny=ny,\n",
    "                                        line_width=width), color=1)\n",
    "    dmd.saveDMDArray(save_dir + f'pattern/crosses_n={nx}x{ny}/', filename)\n",
    "\n",
    "# dmd.getTemplateImage()"
   ]
  },
  {
   "cell_type": "code",
   "execution_count": 19,
   "metadata": {},
   "outputs": [
    {
     "name": "stdout",
     "output_type": "stream",
     "text": [
      "DMD pattern saved as resources/pattern/crosses_full/pattern_pattern_bright_crosses_n=range(-100, 100)xrange(-100, 100)_linewidth=1.bmp\n",
      "Template image saved as resources/pattern/crosses_full/template_pattern_bright_crosses_n=range(-100, 100)xrange(-100, 100)_linewidth=1.bmp\n",
      "DMD pattern saved as resources/pattern/crosses_full/pattern_pattern_bright_crosses_n=range(-100, 100)xrange(-100, 100)_linewidth=2.bmp\n",
      "Template image saved as resources/pattern/crosses_full/template_pattern_bright_crosses_n=range(-100, 100)xrange(-100, 100)_linewidth=2.bmp\n",
      "DMD pattern saved as resources/pattern/crosses_full/pattern_pattern_bright_crosses_n=range(-100, 100)xrange(-100, 100)_linewidth=5.bmp\n",
      "Template image saved as resources/pattern/crosses_full/template_pattern_bright_crosses_n=range(-100, 100)xrange(-100, 100)_linewidth=5.bmp\n",
      "DMD pattern saved as resources/pattern/crosses_full/pattern_pattern_bright_crosses_n=range(-100, 100)xrange(-100, 100)_linewidth=10.bmp\n",
      "Template image saved as resources/pattern/crosses_full/template_pattern_bright_crosses_n=range(-100, 100)xrange(-100, 100)_linewidth=10.bmp\n",
      "DMD pattern saved as resources/pattern/crosses_full/pattern_pattern_bright_crosses_n=range(-100, 100)xrange(-100, 100)_linewidth=20.bmp\n",
      "Template image saved as resources/pattern/crosses_full/template_pattern_bright_crosses_n=range(-100, 100)xrange(-100, 100)_linewidth=20.bmp\n"
     ]
    }
   ],
   "source": [
    "line_width = [1, 2, 5, 10, 20]\n",
    "nx = range(-100, 100)\n",
    "ny = range(-100, 100)\n",
    "\n",
    "for width in line_width:\n",
    "    filename = f'pattern_bright_crosses_n={nx}x{ny}_linewidth={width}.bmp'\n",
    "\n",
    "    dmd.drawPattern(painter.drawCrosses(nx=nx,\n",
    "                                        ny=ny,\n",
    "                                        line_width=width), color=1)\n",
    "    dmd.saveDMDArray(save_dir + f'pattern/crosses_full/', filename)\n",
    "\n",
    "# dmd.getTemplateImage()"
   ]
  },
  {
   "cell_type": "markdown",
   "metadata": {},
   "source": [
    "#### Generate star pattern for MTF measurement"
   ]
  },
  {
   "cell_type": "code",
   "execution_count": 20,
   "metadata": {},
   "outputs": [
    {
     "name": "stdout",
     "output_type": "stream",
     "text": [
      "DMD pattern saved as resources/pattern/star/pattern_pattern_star_n=4.bmp\n",
      "Template image saved as resources/pattern/star/template_pattern_star_n=4.bmp\n",
      "DMD pattern saved as resources/pattern/star/pattern_pattern_star_n=10.bmp\n",
      "Template image saved as resources/pattern/star/template_pattern_star_n=10.bmp\n",
      "DMD pattern saved as resources/pattern/star/pattern_pattern_star_n=20.bmp\n",
      "Template image saved as resources/pattern/star/template_pattern_star_n=20.bmp\n",
      "DMD pattern saved as resources/pattern/star/pattern_pattern_star_n=40.bmp\n",
      "Template image saved as resources/pattern/star/template_pattern_star_n=40.bmp\n",
      "DMD pattern saved as resources/pattern/star/pattern_pattern_star_n=60.bmp\n",
      "Template image saved as resources/pattern/star/template_pattern_star_n=60.bmp\n"
     ]
    }
   ],
   "source": [
    "nums = [4, 10, 20, 40, 60]\n",
    "\n",
    "for n in nums:\n",
    "    filename = f'pattern_star_n={n}.bmp'\n",
    "\n",
    "    dmd.drawPattern(painter.drawStar(num=n), color=1)\n",
    "    dmd.saveDMDArray(save_dir + f'pattern/star/', filename)\n",
    "# dmd.getTemplateImage()"
   ]
  },
  {
   "cell_type": "markdown",
   "metadata": {},
   "source": [
    "#### Generate checkerboard pattern"
   ]
  },
  {
   "cell_type": "code",
   "execution_count": 21,
   "metadata": {},
   "outputs": [
    {
     "name": "stdout",
     "output_type": "stream",
     "text": [
      "DMD pattern saved as resources/pattern/checkerboard/pattern_pattern_checkerboard_size=5.bmp\n",
      "Template image saved as resources/pattern/checkerboard/template_pattern_checkerboard_size=5.bmp\n",
      "DMD pattern saved as resources/pattern/checkerboard/pattern_pattern_checkerboard_size=10.bmp\n",
      "Template image saved as resources/pattern/checkerboard/template_pattern_checkerboard_size=10.bmp\n",
      "DMD pattern saved as resources/pattern/checkerboard/pattern_pattern_checkerboard_size=20.bmp\n",
      "Template image saved as resources/pattern/checkerboard/template_pattern_checkerboard_size=20.bmp\n",
      "DMD pattern saved as resources/pattern/checkerboard/pattern_pattern_checkerboard_size=50.bmp\n",
      "Template image saved as resources/pattern/checkerboard/template_pattern_checkerboard_size=50.bmp\n",
      "DMD pattern saved as resources/pattern/checkerboard/pattern_pattern_checkerboard_size=100.bmp\n",
      "Template image saved as resources/pattern/checkerboard/template_pattern_checkerboard_size=100.bmp\n",
      "DMD pattern saved as resources/pattern/checkerboard/pattern_pattern_checkerboard_size=200.bmp\n",
      "Template image saved as resources/pattern/checkerboard/template_pattern_checkerboard_size=200.bmp\n"
     ]
    }
   ],
   "source": [
    "size = [5, 10, 20, 50, 100, 200]\n",
    "\n",
    "for s in size:\n",
    "    filename = f'pattern_checkerboard_size={s}.bmp'\n",
    "\n",
    "    dmd.drawPattern(painter.drawCheckerBoard(size=s), color=1)\n",
    "    dmd.saveDMDArray(save_dir + f'pattern/checkerboard/', filename)\n",
    "# dmd.getTemplateImage()"
   ]
  },
  {
   "cell_type": "markdown",
   "metadata": {},
   "source": [
    "#### Generate arrays of squares"
   ]
  },
  {
   "cell_type": "code",
   "execution_count": 22,
   "metadata": {},
   "outputs": [
    {
     "name": "stdout",
     "output_type": "stream",
     "text": [
      "DMD pattern saved as resources/pattern/bright_array_square_full/spacing=10/pattern_pattern_arrayOfSquares_radius=0_spacing=10.bmp\n",
      "Template image saved as resources/pattern/bright_array_square_full/spacing=10/template_pattern_arrayOfSquares_radius=0_spacing=10.bmp\n",
      "DMD pattern saved as resources/pattern/bright_array_square_full/spacing=10/pattern_pattern_arrayOfSquares_radius=1_spacing=10.bmp\n",
      "Template image saved as resources/pattern/bright_array_square_full/spacing=10/template_pattern_arrayOfSquares_radius=1_spacing=10.bmp\n",
      "DMD pattern saved as resources/pattern/bright_array_square_full/spacing=10/pattern_pattern_arrayOfSquares_radius=2_spacing=10.bmp\n",
      "Template image saved as resources/pattern/bright_array_square_full/spacing=10/template_pattern_arrayOfSquares_radius=2_spacing=10.bmp\n",
      "DMD pattern saved as resources/pattern/bright_array_square_full/spacing=10/pattern_pattern_arrayOfSquares_radius=5_spacing=10.bmp\n",
      "Template image saved as resources/pattern/bright_array_square_full/spacing=10/template_pattern_arrayOfSquares_radius=5_spacing=10.bmp\n",
      "DMD pattern saved as resources/pattern/bright_array_square_full/spacing=20/pattern_pattern_arrayOfSquares_radius=0_spacing=20.bmp\n",
      "Template image saved as resources/pattern/bright_array_square_full/spacing=20/template_pattern_arrayOfSquares_radius=0_spacing=20.bmp\n",
      "DMD pattern saved as resources/pattern/bright_array_square_full/spacing=20/pattern_pattern_arrayOfSquares_radius=1_spacing=20.bmp\n",
      "Template image saved as resources/pattern/bright_array_square_full/spacing=20/template_pattern_arrayOfSquares_radius=1_spacing=20.bmp\n",
      "DMD pattern saved as resources/pattern/bright_array_square_full/spacing=20/pattern_pattern_arrayOfSquares_radius=2_spacing=20.bmp\n",
      "Template image saved as resources/pattern/bright_array_square_full/spacing=20/template_pattern_arrayOfSquares_radius=2_spacing=20.bmp\n",
      "DMD pattern saved as resources/pattern/bright_array_square_full/spacing=20/pattern_pattern_arrayOfSquares_radius=5_spacing=20.bmp\n",
      "Template image saved as resources/pattern/bright_array_square_full/spacing=20/template_pattern_arrayOfSquares_radius=5_spacing=20.bmp\n",
      "DMD pattern saved as resources/pattern/bright_array_square_full/spacing=20/pattern_pattern_arrayOfSquares_radius=10_spacing=20.bmp\n",
      "Template image saved as resources/pattern/bright_array_square_full/spacing=20/template_pattern_arrayOfSquares_radius=10_spacing=20.bmp\n",
      "DMD pattern saved as resources/pattern/bright_array_square_full/spacing=50/pattern_pattern_arrayOfSquares_radius=0_spacing=50.bmp\n",
      "Template image saved as resources/pattern/bright_array_square_full/spacing=50/template_pattern_arrayOfSquares_radius=0_spacing=50.bmp\n",
      "DMD pattern saved as resources/pattern/bright_array_square_full/spacing=50/pattern_pattern_arrayOfSquares_radius=1_spacing=50.bmp\n",
      "Template image saved as resources/pattern/bright_array_square_full/spacing=50/template_pattern_arrayOfSquares_radius=1_spacing=50.bmp\n",
      "DMD pattern saved as resources/pattern/bright_array_square_full/spacing=50/pattern_pattern_arrayOfSquares_radius=2_spacing=50.bmp\n",
      "Template image saved as resources/pattern/bright_array_square_full/spacing=50/template_pattern_arrayOfSquares_radius=2_spacing=50.bmp\n",
      "DMD pattern saved as resources/pattern/bright_array_square_full/spacing=50/pattern_pattern_arrayOfSquares_radius=5_spacing=50.bmp\n",
      "Template image saved as resources/pattern/bright_array_square_full/spacing=50/template_pattern_arrayOfSquares_radius=5_spacing=50.bmp\n",
      "DMD pattern saved as resources/pattern/bright_array_square_full/spacing=50/pattern_pattern_arrayOfSquares_radius=10_spacing=50.bmp\n",
      "Template image saved as resources/pattern/bright_array_square_full/spacing=50/template_pattern_arrayOfSquares_radius=10_spacing=50.bmp\n",
      "DMD pattern saved as resources/pattern/bright_array_square_full/spacing=50/pattern_pattern_arrayOfSquares_radius=20_spacing=50.bmp\n",
      "Template image saved as resources/pattern/bright_array_square_full/spacing=50/template_pattern_arrayOfSquares_radius=20_spacing=50.bmp\n",
      "DMD pattern saved as resources/pattern/bright_array_square_full/spacing=100/pattern_pattern_arrayOfSquares_radius=0_spacing=100.bmp\n",
      "Template image saved as resources/pattern/bright_array_square_full/spacing=100/template_pattern_arrayOfSquares_radius=0_spacing=100.bmp\n",
      "DMD pattern saved as resources/pattern/bright_array_square_full/spacing=100/pattern_pattern_arrayOfSquares_radius=1_spacing=100.bmp\n",
      "Template image saved as resources/pattern/bright_array_square_full/spacing=100/template_pattern_arrayOfSquares_radius=1_spacing=100.bmp\n",
      "DMD pattern saved as resources/pattern/bright_array_square_full/spacing=100/pattern_pattern_arrayOfSquares_radius=2_spacing=100.bmp\n",
      "Template image saved as resources/pattern/bright_array_square_full/spacing=100/template_pattern_arrayOfSquares_radius=2_spacing=100.bmp\n",
      "DMD pattern saved as resources/pattern/bright_array_square_full/spacing=100/pattern_pattern_arrayOfSquares_radius=5_spacing=100.bmp\n",
      "Template image saved as resources/pattern/bright_array_square_full/spacing=100/template_pattern_arrayOfSquares_radius=5_spacing=100.bmp\n",
      "DMD pattern saved as resources/pattern/bright_array_square_full/spacing=100/pattern_pattern_arrayOfSquares_radius=10_spacing=100.bmp\n",
      "Template image saved as resources/pattern/bright_array_square_full/spacing=100/template_pattern_arrayOfSquares_radius=10_spacing=100.bmp\n",
      "DMD pattern saved as resources/pattern/bright_array_square_full/spacing=100/pattern_pattern_arrayOfSquares_radius=20_spacing=100.bmp\n",
      "Template image saved as resources/pattern/bright_array_square_full/spacing=100/template_pattern_arrayOfSquares_radius=20_spacing=100.bmp\n",
      "DMD pattern saved as resources/pattern/bright_array_square_full/spacing=100/pattern_pattern_arrayOfSquares_radius=50_spacing=100.bmp\n",
      "Template image saved as resources/pattern/bright_array_square_full/spacing=100/template_pattern_arrayOfSquares_radius=50_spacing=100.bmp\n"
     ]
    }
   ],
   "source": [
    "spacing = [10, 20, 50, 100]\n",
    "radius = [0, 1, 2, 5, 10, 20, 50, 100]\n",
    "nx = range(-100, 100)\n",
    "ny = range(-100, 100)\n",
    "\n",
    "for s in spacing:\n",
    "    for r in radius:\n",
    "        if 2 * r <= s:\n",
    "            filename = f'pattern_arrayOfSquares_radius={r}_spacing={s}.bmp'\n",
    "\n",
    "            dmd.drawPattern(painter.drawArrayOfSquares(radius=r,\n",
    "                                                       row_spacing=s,\n",
    "                                                       col_spacing=s,\n",
    "                                                       nx=nx,\n",
    "                                                       ny=ny), color=1)\n",
    "            dmd.saveDMDArray(save_dir + f'pattern/bright_array_square_full/spacing={s}/', filename)"
   ]
  },
  {
   "cell_type": "markdown",
   "metadata": {},
   "source": [
    "#### Generate horizontal strips"
   ]
  },
  {
   "cell_type": "code",
   "execution_count": 23,
   "metadata": {},
   "outputs": [
    {
     "name": "stdout",
     "output_type": "stream",
     "text": [
      "DMD pattern saved as resources/pattern/horizontal_strips/pattern_pattern_horizontal_strips_width=5.bmp\n",
      "Template image saved as resources/pattern/horizontal_strips/template_pattern_horizontal_strips_width=5.bmp\n",
      "DMD pattern saved as resources/pattern/horizontal_strips/pattern_pattern_horizontal_strips_width=10.bmp\n",
      "Template image saved as resources/pattern/horizontal_strips/template_pattern_horizontal_strips_width=10.bmp\n",
      "DMD pattern saved as resources/pattern/horizontal_strips/pattern_pattern_horizontal_strips_width=20.bmp\n",
      "Template image saved as resources/pattern/horizontal_strips/template_pattern_horizontal_strips_width=20.bmp\n",
      "DMD pattern saved as resources/pattern/horizontal_strips/pattern_pattern_horizontal_strips_width=50.bmp\n",
      "Template image saved as resources/pattern/horizontal_strips/template_pattern_horizontal_strips_width=50.bmp\n",
      "DMD pattern saved as resources/pattern/horizontal_strips/pattern_pattern_horizontal_strips_width=100.bmp\n",
      "Template image saved as resources/pattern/horizontal_strips/template_pattern_horizontal_strips_width=100.bmp\n",
      "DMD pattern saved as resources/pattern/horizontal_strips/pattern_pattern_horizontal_strips_width=200.bmp\n",
      "Template image saved as resources/pattern/horizontal_strips/template_pattern_horizontal_strips_width=200.bmp\n"
     ]
    }
   ],
   "source": [
    "width = [5, 10, 20, 50, 100, 200]\n",
    "\n",
    "for w in width:\n",
    "    filename = f'pattern_horizontal_strips_width={w}.bmp'\n",
    "\n",
    "    dmd.drawPattern(painter.drawHorizontalStrips(width=w), color=1)\n",
    "    dmd.saveDMDArray(save_dir + f'pattern/horizontal_strips/', filename)"
   ]
  },
  {
   "cell_type": "markdown",
   "metadata": {},
   "source": [
    "#### Generate vertical strips"
   ]
  },
  {
   "cell_type": "code",
   "execution_count": 24,
   "metadata": {},
   "outputs": [
    {
     "name": "stdout",
     "output_type": "stream",
     "text": [
      "DMD pattern saved as resources/pattern/vertical_strips/pattern_pattern_vertical_strips_width=5.bmp\n",
      "Template image saved as resources/pattern/vertical_strips/template_pattern_vertical_strips_width=5.bmp\n",
      "DMD pattern saved as resources/pattern/vertical_strips/pattern_pattern_vertical_strips_width=10.bmp\n",
      "Template image saved as resources/pattern/vertical_strips/template_pattern_vertical_strips_width=10.bmp\n",
      "DMD pattern saved as resources/pattern/vertical_strips/pattern_pattern_vertical_strips_width=20.bmp\n",
      "Template image saved as resources/pattern/vertical_strips/template_pattern_vertical_strips_width=20.bmp\n",
      "DMD pattern saved as resources/pattern/vertical_strips/pattern_pattern_vertical_strips_width=50.bmp\n",
      "Template image saved as resources/pattern/vertical_strips/template_pattern_vertical_strips_width=50.bmp\n",
      "DMD pattern saved as resources/pattern/vertical_strips/pattern_pattern_vertical_strips_width=100.bmp\n",
      "Template image saved as resources/pattern/vertical_strips/template_pattern_vertical_strips_width=100.bmp\n"
     ]
    }
   ],
   "source": [
    "width = [5, 10, 20, 50, 100]\n",
    "\n",
    "for w in width:\n",
    "    filename = f'pattern_vertical_strips_width={w}.bmp'\n",
    "\n",
    "    dmd.drawPattern(painter.drawVerticalStrips(width=w), color=1)\n",
    "    dmd.saveDMDArray(save_dir + f'pattern/vertical_strips/', filename)"
   ]
  },
  {
   "cell_type": "markdown",
   "metadata": {},
   "source": [
    "#### Generate horizontal half plane"
   ]
  },
  {
   "cell_type": "code",
   "execution_count": 25,
   "metadata": {},
   "outputs": [
    {
     "name": "stdout",
     "output_type": "stream",
     "text": [
      "DMD pattern saved as resources/pattern/half_plane/pattern_pattern_horizontal_half_plane.bmp\n",
      "Template image saved as resources/pattern/half_plane/template_pattern_horizontal_half_plane.bmp\n"
     ]
    }
   ],
   "source": [
    "filename = f'pattern_horizontal_half_plane.bmp'\n",
    "\n",
    "dmd.drawPattern(painter.drawHorizontalHalfPlane(), color=1)\n",
    "dmd.saveDMDArray(save_dir + f'pattern/half_plane/', filename)"
   ]
  },
  {
   "cell_type": "markdown",
   "metadata": {},
   "source": [
    "### Generate patterns for calibration of coordinate transformation"
   ]
  },
  {
   "cell_type": "markdown",
   "metadata": {},
   "source": [
    "Calibration pattern 1: a grid of circles with radius r1 and the center circle with radius r2."
   ]
  },
  {
   "cell_type": "code",
   "execution_count": 26,
   "metadata": {},
   "outputs": [
    {
     "name": "stdout",
     "output_type": "stream",
     "text": [
      "DMD pattern saved as resources/calibration/spacing=50_anchor=((0,0),(200,0),(0,250))/pattern_calibration_spacing=50_r1=0.5_r2=0.5_anchor=((0,0),(200,0),(0,250)).bmp\n",
      "Template image saved as resources/calibration/spacing=50_anchor=((0,0),(200,0),(0,250))/template_calibration_spacing=50_r1=0.5_r2=0.5_anchor=((0,0),(200,0),(0,250)).bmp\n",
      "DMD pattern saved as resources/calibration/spacing=50_anchor=((0,0),(200,0),(0,250))/pattern_calibration_spacing=50_r1=0.5_r2=1_anchor=((0,0),(200,0),(0,250)).bmp\n",
      "Template image saved as resources/calibration/spacing=50_anchor=((0,0),(200,0),(0,250))/template_calibration_spacing=50_r1=0.5_r2=1_anchor=((0,0),(200,0),(0,250)).bmp\n",
      "DMD pattern saved as resources/calibration/spacing=50_anchor=((0,0),(200,0),(0,250))/pattern_calibration_spacing=50_r1=0.5_r2=2_anchor=((0,0),(200,0),(0,250)).bmp\n",
      "Template image saved as resources/calibration/spacing=50_anchor=((0,0),(200,0),(0,250))/template_calibration_spacing=50_r1=0.5_r2=2_anchor=((0,0),(200,0),(0,250)).bmp\n",
      "DMD pattern saved as resources/calibration/spacing=50_anchor=((0,0),(200,0),(0,250))/pattern_calibration_spacing=50_r1=0.5_r2=5_anchor=((0,0),(200,0),(0,250)).bmp\n",
      "Template image saved as resources/calibration/spacing=50_anchor=((0,0),(200,0),(0,250))/template_calibration_spacing=50_r1=0.5_r2=5_anchor=((0,0),(200,0),(0,250)).bmp\n",
      "DMD pattern saved as resources/calibration/spacing=50_anchor=((0,0),(200,0),(0,250))/pattern_calibration_spacing=50_r1=0.5_r2=10_anchor=((0,0),(200,0),(0,250)).bmp\n",
      "Template image saved as resources/calibration/spacing=50_anchor=((0,0),(200,0),(0,250))/template_calibration_spacing=50_r1=0.5_r2=10_anchor=((0,0),(200,0),(0,250)).bmp\n",
      "DMD pattern saved as resources/calibration/spacing=50_anchor=((0,0),(200,0),(0,250))/pattern_calibration_spacing=50_r1=1_r2=0.5_anchor=((0,0),(200,0),(0,250)).bmp\n",
      "Template image saved as resources/calibration/spacing=50_anchor=((0,0),(200,0),(0,250))/template_calibration_spacing=50_r1=1_r2=0.5_anchor=((0,0),(200,0),(0,250)).bmp\n",
      "DMD pattern saved as resources/calibration/spacing=50_anchor=((0,0),(200,0),(0,250))/pattern_calibration_spacing=50_r1=1_r2=1_anchor=((0,0),(200,0),(0,250)).bmp\n",
      "Template image saved as resources/calibration/spacing=50_anchor=((0,0),(200,0),(0,250))/template_calibration_spacing=50_r1=1_r2=1_anchor=((0,0),(200,0),(0,250)).bmp\n",
      "DMD pattern saved as resources/calibration/spacing=50_anchor=((0,0),(200,0),(0,250))/pattern_calibration_spacing=50_r1=1_r2=2_anchor=((0,0),(200,0),(0,250)).bmp\n",
      "Template image saved as resources/calibration/spacing=50_anchor=((0,0),(200,0),(0,250))/template_calibration_spacing=50_r1=1_r2=2_anchor=((0,0),(200,0),(0,250)).bmp\n",
      "DMD pattern saved as resources/calibration/spacing=50_anchor=((0,0),(200,0),(0,250))/pattern_calibration_spacing=50_r1=1_r2=5_anchor=((0,0),(200,0),(0,250)).bmp\n",
      "Template image saved as resources/calibration/spacing=50_anchor=((0,0),(200,0),(0,250))/template_calibration_spacing=50_r1=1_r2=5_anchor=((0,0),(200,0),(0,250)).bmp\n",
      "DMD pattern saved as resources/calibration/spacing=50_anchor=((0,0),(200,0),(0,250))/pattern_calibration_spacing=50_r1=1_r2=10_anchor=((0,0),(200,0),(0,250)).bmp\n",
      "Template image saved as resources/calibration/spacing=50_anchor=((0,0),(200,0),(0,250))/template_calibration_spacing=50_r1=1_r2=10_anchor=((0,0),(200,0),(0,250)).bmp\n",
      "DMD pattern saved as resources/calibration/spacing=50_anchor=((0,0),(200,0),(0,250))/pattern_calibration_spacing=50_r1=2_r2=0.5_anchor=((0,0),(200,0),(0,250)).bmp\n",
      "Template image saved as resources/calibration/spacing=50_anchor=((0,0),(200,0),(0,250))/template_calibration_spacing=50_r1=2_r2=0.5_anchor=((0,0),(200,0),(0,250)).bmp\n",
      "DMD pattern saved as resources/calibration/spacing=50_anchor=((0,0),(200,0),(0,250))/pattern_calibration_spacing=50_r1=2_r2=1_anchor=((0,0),(200,0),(0,250)).bmp\n",
      "Template image saved as resources/calibration/spacing=50_anchor=((0,0),(200,0),(0,250))/template_calibration_spacing=50_r1=2_r2=1_anchor=((0,0),(200,0),(0,250)).bmp\n",
      "DMD pattern saved as resources/calibration/spacing=50_anchor=((0,0),(200,0),(0,250))/pattern_calibration_spacing=50_r1=2_r2=2_anchor=((0,0),(200,0),(0,250)).bmp\n",
      "Template image saved as resources/calibration/spacing=50_anchor=((0,0),(200,0),(0,250))/template_calibration_spacing=50_r1=2_r2=2_anchor=((0,0),(200,0),(0,250)).bmp\n",
      "DMD pattern saved as resources/calibration/spacing=50_anchor=((0,0),(200,0),(0,250))/pattern_calibration_spacing=50_r1=2_r2=5_anchor=((0,0),(200,0),(0,250)).bmp\n",
      "Template image saved as resources/calibration/spacing=50_anchor=((0,0),(200,0),(0,250))/template_calibration_spacing=50_r1=2_r2=5_anchor=((0,0),(200,0),(0,250)).bmp\n",
      "DMD pattern saved as resources/calibration/spacing=50_anchor=((0,0),(200,0),(0,250))/pattern_calibration_spacing=50_r1=2_r2=10_anchor=((0,0),(200,0),(0,250)).bmp\n",
      "Template image saved as resources/calibration/spacing=50_anchor=((0,0),(200,0),(0,250))/template_calibration_spacing=50_r1=2_r2=10_anchor=((0,0),(200,0),(0,250)).bmp\n"
     ]
    }
   ],
   "source": [
    "radius1 = [0.5, 1, 2]\n",
    "radius2 = [0.5, 1, 2, 5, 10]\n",
    "\n",
    "for r1 in radius1:\n",
    "    for r2 in radius2:\n",
    "        filename = f'calibration_spacing=50_r1={r1}_r2={r2}_anchor=((0,0),(200,0),(0,250)).bmp'\n",
    "        dmd.drawPattern(painter.drawCalibrationPattern1(\n",
    "            radius1=r1, radius2=r2), color=1)\n",
    "        dmd.saveDMDArray(save_dir + f'calibration/spacing=50_anchor=((0,0),(200,0),(0,250))/', filename)"
   ]
  }
 ],
 "metadata": {
  "kernelspec": {
   "display_name": "base",
   "language": "python",
   "name": "python3"
  },
  "language_info": {
   "codemirror_mode": {
    "name": "ipython",
    "version": 3
   },
   "file_extension": ".py",
   "mimetype": "text/x-python",
   "name": "python",
   "nbconvert_exporter": "python",
   "pygments_lexer": "ipython3",
   "version": "3.10.12"
  },
  "orig_nbformat": 4
 },
 "nbformat": 4,
 "nbformat_minor": 2
}
